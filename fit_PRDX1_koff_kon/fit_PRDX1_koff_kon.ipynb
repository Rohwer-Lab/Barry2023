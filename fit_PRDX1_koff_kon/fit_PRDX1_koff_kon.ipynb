{
 "cells": [
  {
   "cell_type": "markdown",
   "id": "1586eccb",
   "metadata": {},
   "source": [
    "# Fit PRDX1 koffs and kons"
   ]
  },
  {
   "cell_type": "markdown",
   "id": "225e119f",
   "metadata": {},
   "source": [
    "This notebook performs analyses described in the "
   ]
  },
  {
   "cell_type": "markdown",
   "id": "ba3ada09",
   "metadata": {},
   "source": [
    "**Manuscript:**\n",
    "\n",
    "Modelling the decamerisation cycle of PRDX1 and the inhibition-like effect on its peroxidase activity"
   ]
  },
  {
   "cell_type": "markdown",
   "id": "e446758a",
   "metadata": {},
   "source": [
    "**Authors:**\n",
    "\n",
    "C. Barry, C. Pillay, J. Rohwer"
   ]
  },
  {
   "cell_type": "markdown",
   "id": "3eb056fb",
   "metadata": {},
   "source": [
    "**Purpose:**\n",
    "\n",
    "Writes Barranco-Medina 2008 Fig. 1c PRDX1 injection parameters (filename: `ITC_PRDX1_inject_params.csv`)\n",
    "\n",
    "Performs regression on ITC data digitized from Barranco-Medina et al. 2008 to fit the kon and koff of Prx decamer formation.\n",
    "\n",
    "Writes fitted koff and kon (filename: `fitted_koff_kon_PRDX1_params.csv`)\n"
   ]
  },
  {
   "cell_type": "markdown",
   "id": "126944ec",
   "metadata": {},
   "source": [
    "**Requirements:**\n",
    "\n",
    "Python libraries (see **Imports** below)\n",
    "\n",
    "ITC Prx model (filename:`ITC_Prx_dim-dec.psc`)\n",
    "\n",
    "ITC model parameters (filename: `ITC_data_PRDX1_processed.csv`)"
   ]
  },
  {
   "cell_type": "markdown",
   "id": "150aeb80",
   "metadata": {},
   "source": [
    "##### Imports"
   ]
  },
  {
   "cell_type": "code",
   "execution_count": null,
   "id": "96c3f3c9",
   "metadata": {
    "ExecuteTime": {
     "end_time": "2023-06-23T11:17:09.007348Z",
     "start_time": "2023-06-23T11:17:07.513906Z"
    }
   },
   "outputs": [],
   "source": [
    "import os\n",
    "import math\n",
    "import copy\n",
    "import gc\n",
    "\n",
    "import dill as pickle\n",
    "import scipy as sp\n",
    "import numpy as np\n",
    "from lmfit import Minimizer, minimize, Parameters, Parameter, report_fit\n",
    "from matplotlib import pyplot as plt\n",
    "import pandas as pd\n",
    "from sklearn.metrics import auc\n",
    "from scipy.interpolate import interp1d\n",
    "\n",
    "import pysces"
   ]
  },
  {
   "cell_type": "markdown",
   "id": "3642952e",
   "metadata": {},
   "source": [
    "###### Save directories"
   ]
  },
  {
   "cell_type": "code",
   "execution_count": null,
   "id": "7d47b1a9",
   "metadata": {
    "ExecuteTime": {
     "end_time": "2023-06-23T11:17:09.014539Z",
     "start_time": "2023-06-23T11:17:09.009284Z"
    }
   },
   "outputs": [],
   "source": [
    "prev_dir = os.path.split(os.getcwd())[0]\n",
    "\n",
    "mod_dir = os.path.join(prev_dir,\"models\")\n",
    "if not os.path.isdir(mod_dir): os.mkdir(mod_dir) # ensure dir exists\n",
    "\n",
    "par_dir = os.path.join(prev_dir,\"params\")\n",
    "if not os.path.isdir(par_dir): os.mkdir(par_dir) # ensure dir exists\n",
    "    \n",
    "fig_dir = os.path.join(os.getcwd(),\"Figures\")\n",
    "if not os.path.isdir(fig_dir): os.mkdir(fig_dir) # ensure dir exists\n"
   ]
  },
  {
   "cell_type": "markdown",
   "id": "cc31eec9",
   "metadata": {},
   "source": [
    "###### Matplotlib stuff"
   ]
  },
  {
   "cell_type": "code",
   "execution_count": null,
   "id": "2474e99b",
   "metadata": {
    "ExecuteTime": {
     "end_time": "2023-06-23T11:17:09.024528Z",
     "start_time": "2023-06-23T11:17:09.016452Z"
    }
   },
   "outputs": [],
   "source": [
    "%matplotlib inline\n",
    "\n",
    "multiplier = 1\n",
    "mpl_width = 4.5*multiplier\n",
    "mpl_height = 3.5*multiplier\n",
    "mpl_dpi = 600\n",
    "mpl_xlabel_fontsize = \"large\"\n",
    "mpl_ylabel_fontsize = \"large\"\n",
    "mu = \"\\u03bc\""
   ]
  },
  {
   "cell_type": "markdown",
   "id": "a1a64b57",
   "metadata": {},
   "source": [
    "###### Fitting methods"
   ]
  },
  {
   "cell_type": "code",
   "execution_count": null,
   "id": "e81cf7a6",
   "metadata": {
    "ExecuteTime": {
     "end_time": "2023-06-23T11:17:09.033880Z",
     "start_time": "2023-06-23T11:17:09.028350Z"
    }
   },
   "outputs": [],
   "source": [
    "# fitting_method = \"nelder\"\n",
    "fitting_method = \"leastsq\""
   ]
  },
  {
   "cell_type": "markdown",
   "id": "3141a236",
   "metadata": {},
   "source": [
    "## Barranco-Medina et al. 2008 PRDX1 "
   ]
  },
  {
   "cell_type": "markdown",
   "id": "5235ec58",
   "metadata": {},
   "source": [
    "### data"
   ]
  },
  {
   "cell_type": "code",
   "execution_count": null,
   "id": "8c2c4da4",
   "metadata": {
    "ExecuteTime": {
     "end_time": "2023-06-23T11:17:09.044403Z",
     "start_time": "2023-06-23T11:17:09.036392Z"
    }
   },
   "outputs": [],
   "source": [
    "df_PRDX1 = pd.read_csv(\n",
    "        os.path.join(prev_dir,\"ITC_data\",\"ITC_data_PRDX1_processed.csv\")\n",
    "    ).set_index('Time (sec)')"
   ]
  },
  {
   "cell_type": "markdown",
   "id": "e8a71518",
   "metadata": {},
   "source": [
    "### Inject params"
   ]
  },
  {
   "cell_type": "code",
   "execution_count": null,
   "id": "c0d86cdc",
   "metadata": {
    "ExecuteTime": {
     "end_time": "2023-06-23T11:17:09.049739Z",
     "start_time": "2023-06-23T11:17:09.046978Z"
    }
   },
   "outputs": [],
   "source": [
    "# Values from Barranco-Medina 2008\n",
    "inj_enthalpy_PRDX1 = 156\n",
    "inj_volume_PRDX1 = 1.6 # ul\n",
    "inj_mon_PRDX1 = 102 # uM MONOMERS\n",
    "inj_dim_est_PRDX1 = 0.8\n",
    "inj_dec_est_PRDX1 = (inj_mon_PRDX1/2 - 0.8)/5\n",
    "inj_interval_PRDX1 = 200 # sec\n"
   ]
  },
  {
   "cell_type": "code",
   "execution_count": null,
   "id": "58df32c1",
   "metadata": {
    "ExecuteTime": {
     "end_time": "2023-06-23T11:17:09.070184Z",
     "start_time": "2023-06-23T11:17:09.051499Z"
    }
   },
   "outputs": [],
   "source": [
    "# Create df used to update models later\n",
    "entry = {\"Parameter\": [ \"injection_enthalpy\",\n",
    "                        \"injection_volume\",\n",
    "                        \"injection_Prx_mon\",\n",
    "                        \"injection_dimer\",\n",
    "                        \"injection_decamer\",\n",
    "                        \"injection_interval\",\n",
    "                        \"first_inject_ratio\"],\n",
    "         \n",
    "       \"Value\":[inj_enthalpy_PRDX1,\n",
    "                inj_volume_PRDX1,\n",
    "                inj_mon_PRDX1,\n",
    "                inj_dim_est_PRDX1, \n",
    "                inj_dec_est_PRDX1,\n",
    "                inj_interval_PRDX1,\n",
    "                1]}\n",
    "\n",
    "df_ITC_PRDX1_inject_params = pd.DataFrame(entry)\n",
    "df_ITC_PRDX1_inject_params.set_index(\"Parameter\",inplace=True)\n",
    "df_ITC_PRDX1_inject_params\n"
   ]
  },
  {
   "cell_type": "code",
   "execution_count": null,
   "id": "b38ec4ac",
   "metadata": {
    "ExecuteTime": {
     "end_time": "2023-06-23T11:17:09.081720Z",
     "start_time": "2023-06-23T11:17:09.071748Z"
    }
   },
   "outputs": [],
   "source": [
    "# Write inject params to file\n",
    "df_ITC_PRDX1_inject_params.to_csv(os.path.join(os.getcwd(),\"ITC_PRDX1_inject_params.csv\"),\n",
    "                                  sep=',',\n",
    "                                  encoding='utf-8')\n",
    "df_ITC_PRDX1_inject_params.to_csv(os.path.join(par_dir, \"ITC_PRDX1_inject_params.csv\"),\n",
    "                                  sep=',',\n",
    "                                  encoding='utf-8')\n"
   ]
  },
  {
   "cell_type": "markdown",
   "id": "7405ad6c",
   "metadata": {},
   "source": [
    "## Fit functions"
   ]
  },
  {
   "cell_type": "code",
   "execution_count": null,
   "id": "0376c64b",
   "metadata": {
    "ExecuteTime": {
     "end_time": "2023-06-23T11:17:09.102768Z",
     "start_time": "2023-06-23T11:17:09.083334Z"
    }
   },
   "outputs": [],
   "source": [
    "def load_ITC_model(inj_params):\n",
    "    \"\"\"\n",
    "    Loads the ITC model and updates it with injection parameters.\n",
    "    \"\"\"\n",
    "    # Load model\n",
    "    mod_ITC_Prx_dim_dec = pysces.model(\"ITC_Prx_dim-dec.psc\",dir = mod_dir)\n",
    "    mod_ITC_Prx_dim_dec.mode_integrate_all_odes = True # As recommented by pysces\n",
    "    mod_ITC_Prx_dim_dec.__settings__[\"cvode_access_solver\"] = False\n",
    "    mod_ITC_Prx_dim_dec.__settings__[\"cvode_return_event_timepoints\"] = False\n",
    "    mod_ITC_Prx_dim_dec.SetQuiet()\n",
    "\n",
    "    # Note: exponent and Kd_app are set by the residual function\n",
    "    \n",
    "    # Set injection params\n",
    "    for parameter in inj_params.index:\n",
    "        value = inj_params.loc[parameter][\"Value\"]\n",
    "        setattr(mod_ITC_Prx_dim_dec,parameter,value)\n",
    "    \n",
    "    return mod_ITC_Prx_dim_dec\n",
    "\n",
    "def update_syringe_equis(mod_ITC_Prx_dim_dec):\n",
    "    \"\"\"\n",
    "    Updates the ITC model with the equilibrium values of the dimers and decamers in the injection syringe.\n",
    "    \"\"\"\n",
    "    # Load syringe model\n",
    "    mod_Prx_dec_onestep = pysces.model(\"Prx_dim-dec.psc\", dir = mod_dir)\n",
    "    mod_Prx_dec_onestep.mode_integrate_all_odes = True # As recommented by pysces\n",
    "    mod_Prx_dec_onestep.SetQuiet()\n",
    "\n",
    "    # Set exponent and Kd_app equal to ITC model\n",
    "    mod_Prx_dec_onestep.exponent = mod_ITC_Prx_dim_dec.exponent\n",
    "    mod_Prx_dec_onestep.Kd_app = mod_ITC_Prx_dim_dec.Kd_app\n",
    "    \n",
    "    # Set injection concentrations\n",
    "    mod_Prx_dec_onestep.dimers_init = mod_ITC_Prx_dim_dec.injection_dimer\n",
    "    mod_Prx_dec_onestep.decamers_init =  mod_ITC_Prx_dim_dec.injection_decamer\n",
    "\n",
    "    mod_Prx_dec_onestep.doState()\n",
    "    print(f\"dimers: {mod_Prx_dec_onestep.dimers_ss}\")\n",
    "    print(f\"decamers: {mod_Prx_dec_onestep.decamers_ss}\")\n",
    "\n",
    "    # Populate ITC model syringe with equilibrium values\n",
    "    mod_ITC_Prx_dim_dec.injection_dimer = mod_Prx_dec_onestep.dimers_ss\n",
    "    mod_ITC_Prx_dim_dec.injection_decamer = mod_Prx_dec_onestep.decamers_ss\n",
    "    \n",
    "    return mod_ITC_Prx_dim_dec\n",
    "\n",
    "\n",
    "def do_ITC_assay(mod, association_enthalpy, end = 3600):\n",
    "    \"\"\"\n",
    "    Simulates and ITC trace and calculates the heat reading.\n",
    "    Processes the heat reading data by correcting for baseline and normalizing to area under curve.\n",
    "    \"\"\"\n",
    "    # Scan model\n",
    "    mod.doSim(points = end+1,end = end)\n",
    "    data, lbls = mod.data_sim.getAllSimData(lbls = True)\n",
    "    \n",
    "    # Calculate enthalpy\n",
    "    lbls[0] = 'Time (sec)'\n",
    "    df_sim = pd.DataFrame(data, columns = lbls)\n",
    "    df_sim['Time (sec)'] = np.rint(df_sim['Time (sec)']).astype(int)\n",
    "    df_sim = df_sim.set_index('Time (sec)')\n",
    "    df_sim[\"Rate μcal/sec\"] = (-df_sim[\"Disassociation\"])*association_enthalpy*1/5*1/1000*60\n",
    "    \n",
    "    # Baseline correction\n",
    "    df_sim = baseline_correction(df_sim, mod)\n",
    "    \n",
    "    df_sim.drop(0,inplace=True) \n",
    "\n",
    "    # Normalise to AUC\n",
    "    df_sim = normalise_to_AUC(df_sim,mod)\n",
    "    \n",
    "    return df_sim\n",
    "\n",
    "def baseline_correction(df_sim, mod):\n",
    "    \"\"\"\n",
    "    Processes the heat reading data by correcting for baseline.\n",
    "    \"\"\"\n",
    "    num_disso_injections = math.floor(df_sim[\"Rate μcal/sec\"].index[-1]/mod.injection_interval)\n",
    "\n",
    "    start = 1\n",
    "    end = mod.injection_interval\n",
    "\n",
    "    df_temp = pd.DataFrame(df_sim[\"Rate μcal/sec\"].loc[start: end])\n",
    "\n",
    "    next_baseline = df_temp[-10:-5]\n",
    "\n",
    "    x2 = next_baseline.index.values.mean()\n",
    "    y2 = next_baseline[\"Rate μcal/sec\"].mean()\n",
    "\n",
    "    x1 = 0.0\n",
    "    y1 = next_baseline[\"Rate μcal/sec\"].mean()\n",
    "\n",
    "    baseline_interp = interp1d([x1,x2], [y1,y2],fill_value=\"extrapolate\")(df_temp.index)\n",
    "\n",
    "    current_baseline = next_baseline\n",
    "    \n",
    "    df_temp[\"Rate μcal/sec\"] = df_temp[\"Rate μcal/sec\"] - baseline_interp\n",
    "\n",
    "    df_sim_baseline = pd.DataFrame(df_temp)\n",
    "\n",
    "    count = 1\n",
    "    while count < num_disso_injections:\n",
    "        start = count*mod.injection_interval+1\n",
    "        end = count*mod.injection_interval + mod.injection_interval\n",
    "\n",
    "        df_temp = pd.DataFrame(df_sim[\"Rate μcal/sec\"].loc[start: end])\n",
    "\n",
    "        next_baseline = df_temp[-10:-5]\n",
    "\n",
    "        x2 = next_baseline.index.values.mean()\n",
    "        y2 = next_baseline[\"Rate μcal/sec\"].mean()\n",
    "\n",
    "        x1 = current_baseline.index.values.mean()\n",
    "        y1 = current_baseline[\"Rate μcal/sec\"].mean()\n",
    "\n",
    "        baseline_interp = interp1d([x1,x2], [y1,y2],fill_value=\"extrapolate\")(df_temp.index)\n",
    "\n",
    "        df_temp[\"Rate μcal/sec\"] = df_temp[\"Rate μcal/sec\"] - baseline_interp\n",
    "\n",
    "        current_baseline = next_baseline\n",
    "\n",
    "        df_sim_baseline = pd.concat([df_sim_baseline,df_temp])\n",
    "\n",
    "        count += 1\n",
    "\n",
    "    df_sim[\"Rate μcal/sec no baseline corr.\"] = df_sim[\"Rate μcal/sec\"].copy(deep=True)\n",
    "    df_sim[\"Rate μcal/sec\"] = df_sim_baseline[\"Rate μcal/sec\"].copy(deep=True)\n",
    "\n",
    "    return df_sim\n",
    "\n",
    "def normalise_to_AUC(df_sim,mod):\n",
    "    \"\"\"\n",
    "    Processes the heat reading data by normalizing for area under the curve.\n",
    "    \"\"\"\n",
    "    num_disso_injections = math.floor(df_sim[\"Rate μcal/sec\"].index[-1]/mod.injection_interval)\n",
    "\n",
    "    start = 0\n",
    "    end = mod.injection_interval\n",
    "    df_temp = pd.DataFrame(df_sim[\"Rate μcal/sec\"].loc[start: end])\n",
    "\n",
    "    area = np.abs(np.trapz(df_temp.values.flatten(),df_temp.index))\n",
    "    print(area)\n",
    "    df_sim_AUCnorm = df_temp/area\n",
    "\n",
    "    count = 1\n",
    "    while count < num_disso_injections:\n",
    "        start = count*mod.injection_interval\n",
    "        end = start + mod.injection_interval\n",
    "        df_temp = pd.DataFrame(df_sim[\"Rate μcal/sec\"].loc[start: end])\n",
    "        area = np.abs(np.trapz(df_temp.values.flatten(),df_temp.index))\n",
    "        print(f\"Area: {area}\")\n",
    "        df_temp = df_temp/area\n",
    "        df_sim_AUCnorm = pd.concat([df_sim_AUCnorm,df_temp])\n",
    "        count += 1\n",
    "\n",
    "    df_sim_AUCnorm = df_sim_AUCnorm.reset_index().drop_duplicates(subset='Time (sec)', \n",
    "                                                                  keep='last').set_index('Time (sec)').sort_index()\n",
    "\n",
    "    df_sim[\"Rate μcal/sec baseline no AUC\"] = df_sim[\"Rate μcal/sec\"].copy(deep=True)\n",
    "    df_sim[\"Rate μcal/sec\"] = df_sim_AUCnorm\n",
    "    \n",
    "    return df_sim\n",
    "\n",
    "def fit_koff_kon_res(params, mod, enthalpy, df_data):\n",
    "    \"\"\"\n",
    "    This is where the residuals which will be minimized are generated.\n",
    "    Must contain the following:\n",
    "    Update model params\n",
    "    Scan model\n",
    "    Calculate and return residuals\n",
    "    \"\"\"\n",
    "    \n",
    "    # Update model\n",
    "    mod.koff = params['koff'].value\n",
    "    mod.Kd_app = params['Kd_app'].value\n",
    "    mod.kon = mod.koff/mod.Kd_app\n",
    "\n",
    "    # Store kon in params\n",
    "    params['kon'].value = mod.kon\n",
    "    \n",
    "    # Update initial dimers and decamers per syringe equilibrium\n",
    "    update_syringe_equis(mod)\n",
    "    \n",
    "    # Scan model\n",
    "    df_sim = do_ITC_assay(mod, enthalpy)\n",
    "    \n",
    "    # Calculate residuals\n",
    "    residuals = (df_data[\"Rate μcal/sec\"].values - df_sim.loc[df_data.index][\"Rate μcal/sec\"].values)**2\n",
    "    \n",
    "    return residuals\n"
   ]
  },
  {
   "cell_type": "markdown",
   "id": "4c40d633",
   "metadata": {},
   "source": [
    "## Fit koff kon (figures 4a and 4b)"
   ]
  },
  {
   "cell_type": "markdown",
   "id": "f96d810f",
   "metadata": {},
   "source": [
    "Fit the koff (and also kon) using the Barranco-Medina et al. 2008 PRDX1 data and ITC model."
   ]
  },
  {
   "cell_type": "code",
   "execution_count": null,
   "id": "a552da43",
   "metadata": {
    "ExecuteTime": {
     "end_time": "2023-06-23T11:17:09.109272Z",
     "start_time": "2023-06-23T11:17:09.104764Z"
    }
   },
   "outputs": [],
   "source": [
    "# Kd_app and exponent\n",
    "exponent = 5\n",
    "Kd_app_vil = 1.1 # Villar"
   ]
  },
  {
   "cell_type": "code",
   "execution_count": null,
   "id": "5cf09c74",
   "metadata": {
    "ExecuteTime": {
     "end_time": "2023-06-23T11:17:09.152437Z",
     "start_time": "2023-06-23T11:17:09.110727Z"
    }
   },
   "outputs": [],
   "source": [
    "# Load model\n",
    "mod_ITC_Prx_dim_dec = load_ITC_model(df_ITC_PRDX1_inject_params)\n",
    "Kd_app = 1.1 # Villar\n",
    "PRDX1_enthalpy = mod_ITC_Prx_dim_dec.injection_enthalpy\n",
    "\n",
    "setattr(mod_ITC_Prx_dim_dec,\"exponent\",exponent)\n",
    "setattr(mod_ITC_Prx_dim_dec,\"Kd_app\",Kd_app_vil)\n",
    "    \n",
    "# Store injection enthalpy\n",
    "PRDX1_enthalpy = mod_ITC_Prx_dim_dec.injection_enthalpy"
   ]
  },
  {
   "cell_type": "code",
   "execution_count": null,
   "id": "d33e0c7c",
   "metadata": {
    "ExecuteTime": {
     "end_time": "2023-06-23T11:17:13.018282Z",
     "start_time": "2023-06-23T11:17:09.153916Z"
    }
   },
   "outputs": [],
   "source": [
    "# Set up lmfit parameter library object with each parameter to be fitted\n",
    "param_lib = Parameters()\n",
    "param_lib.add('koff',value=100.0,min=1e-12)\n",
    "param_lib.add('kon',value=100.0,min=1e-12,vary=False)\n",
    "param_lib.add('Kd_app',value=Kd_app_vil,vary=False,min=1e-12)\n",
    "\n",
    "# Perform fit\n",
    "fit_koff_kon = minimize(fit_koff_kon_res, \n",
    "                         param_lib, \n",
    "                         method=fitting_method,\n",
    "                         args=(mod_ITC_Prx_dim_dec,\n",
    "                               mod_ITC_Prx_dim_dec.injection_enthalpy,\n",
    "                               df_PRDX1),\n",
    "                         epsfcn=0.0001)"
   ]
  },
  {
   "cell_type": "code",
   "execution_count": null,
   "id": "0525bf46",
   "metadata": {
    "ExecuteTime": {
     "end_time": "2023-06-23T11:17:13.024227Z",
     "start_time": "2023-06-23T11:17:13.019963Z"
    }
   },
   "outputs": [],
   "source": [
    "# Display fit report\n",
    "fit_koff_kon "
   ]
  },
  {
   "cell_type": "code",
   "execution_count": null,
   "id": "a2224edb",
   "metadata": {
    "ExecuteTime": {
     "end_time": "2023-06-23T11:17:13.217269Z",
     "start_time": "2023-06-23T11:17:13.026201Z"
    }
   },
   "outputs": [],
   "source": [
    "# Simulate ITC with fitted parameters\n",
    "df_sim = do_ITC_assay(mod_ITC_Prx_dim_dec,PRDX1_enthalpy)\n",
    "residuals = (df_PRDX1[\"Rate μcal/sec\"].values - df_sim.loc[df_PRDX1.index][\"Rate μcal/sec\"].values)**2"
   ]
  },
  {
   "cell_type": "code",
   "execution_count": null,
   "id": "22d59ef5",
   "metadata": {
    "ExecuteTime": {
     "end_time": "2023-06-23T11:17:13.421630Z",
     "start_time": "2023-06-23T11:17:13.219050Z"
    }
   },
   "outputs": [],
   "source": [
    "# Plot all fitted peaks\n",
    "rows = 1\n",
    "cols = 1\n",
    "\n",
    "f,axarr = plt.subplots(rows,cols)\n",
    "f.set_size_inches(w=mpl_width*cols, h=mpl_height*rows)\n",
    "\n",
    "axarr.plot(df_sim.loc[df_PRDX1.index].index, \n",
    "           df_sim.loc[df_PRDX1.index][\"Rate μcal/sec\"],\n",
    "           \"b-\", \n",
    "           label = \"mod sim\")\n",
    "axarr.plot(df_PRDX1.index, df_PRDX1[\"Rate μcal/sec\"],\"k--\", label = \"exp data\")\n",
    "\n",
    "axarr.set_xlabel(f'Time (sec)',fontsize = mpl_xlabel_fontsize)\n",
    "axarr.set_ylabel(f'{mu}cal/sec',fontsize = mpl_ylabel_fontsize)\n",
    "\n",
    "f.tight_layout()\n",
    "f.savefig(os.path.join(fig_dir,\"fit_koff_ITC_heat_vs_time.pdf\"),dpi= mpl_dpi)"
   ]
  },
  {
   "cell_type": "code",
   "execution_count": null,
   "id": "eb3c6bc0",
   "metadata": {
    "ExecuteTime": {
     "end_time": "2023-06-23T11:17:13.585629Z",
     "start_time": "2023-06-23T11:17:13.423340Z"
    }
   },
   "outputs": [],
   "source": [
    "# Plot single peak\n",
    "inject_num = 2\n",
    "injection_interval = 200\n",
    "\n",
    "start = inject_num*injection_interval\n",
    "end = start + injection_interval\n",
    "\n",
    "rows = 1\n",
    "cols = 1\n",
    "\n",
    "f,axarr = plt.subplots(rows,cols)\n",
    "f.set_size_inches(w=mpl_width*cols, h=mpl_height*rows)\n",
    "\n",
    "axarr.plot(df_sim.loc[df_PRDX1.index].loc[start: end].index, \n",
    "           df_sim.loc[df_PRDX1.index].loc[start: end][\"Rate μcal/sec\"],\n",
    "           \"b-\", \n",
    "           label = \"mod sim\")\n",
    "axarr.plot(df_PRDX1.loc[start: end].index, \n",
    "           df_PRDX1.loc[start: end][\"Rate μcal/sec\"],\n",
    "           \"k--\", \n",
    "           label = \"exp data\")\n",
    "\n",
    "axarr.set_xlabel(f'Time (sec)',fontsize = mpl_xlabel_fontsize)\n",
    "axarr.set_ylabel(f'{mu}cal/sec',fontsize = mpl_ylabel_fontsize)\n",
    "\n",
    "f.tight_layout()\n",
    "f.savefig(os.path.join(fig_dir,\"fit_koff_ITC_heat_peak_vs_time.pdf\"),dpi= mpl_dpi)\n",
    "          "
   ]
  },
  {
   "cell_type": "markdown",
   "id": "359c5138",
   "metadata": {},
   "source": [
    "## Write fitted koff and kon to file"
   ]
  },
  {
   "cell_type": "code",
   "execution_count": null,
   "id": "ccaee835",
   "metadata": {
    "ExecuteTime": {
     "end_time": "2023-06-23T11:17:13.593653Z",
     "start_time": "2023-06-23T11:17:13.587187Z"
    }
   },
   "outputs": [],
   "source": [
    "# Set up df\n",
    "data = {\"Parameter\": [\"koff\",\n",
    "                     \"kon\",\n",
    "                     \"Kd_app\"],\n",
    "        \"Value\":[fit_koff_kon.params[\"koff\"].value,\n",
    "                fit_koff_kon.params[\"kon\"].value,\n",
    "                fit_koff_kon.params[\"Kd_app\"].value]}\n",
    "df_fitted_koff_kon_params = pd.DataFrame(data)\n",
    "df_fitted_koff_kon_params.set_index(\"Parameter\",inplace=True)\n",
    "df_fitted_koff_kon_params"
   ]
  },
  {
   "cell_type": "code",
   "execution_count": null,
   "id": "33d79a06",
   "metadata": {
    "ExecuteTime": {
     "end_time": "2023-06-23T11:17:13.599854Z",
     "start_time": "2023-06-23T11:17:13.594963Z"
    }
   },
   "outputs": [],
   "source": [
    "# Write to file\n",
    "df_fitted_koff_kon_params.to_csv(os.path.join(os.getcwd(),\"fitted_koff_kon_PRDX1_params.csv\"),\n",
    "                                 sep=',',\n",
    "                                 encoding='utf-8')\n",
    "df_fitted_koff_kon_params.to_csv(os.path.join(par_dir,\"fitted_koff_kon_PRDX1_params.csv\"),\n",
    "                                 sep=',',\n",
    "                                 encoding='utf-8')\n"
   ]
  }
 ],
 "metadata": {
  "kernelspec": {
   "display_name": "Python 3 (ipykernel)",
   "language": "python",
   "name": "python3"
  },
  "language_info": {
   "codemirror_mode": {
    "name": "ipython",
    "version": 3
   },
   "file_extension": ".py",
   "mimetype": "text/x-python",
   "name": "python",
   "nbconvert_exporter": "python",
   "pygments_lexer": "ipython3",
   "version": "3.10.11"
  },
  "toc": {
   "base_numbering": 1,
   "nav_menu": {},
   "number_sections": true,
   "sideBar": true,
   "skip_h1_title": false,
   "title_cell": "Table of Contents",
   "title_sidebar": "Contents",
   "toc_cell": false,
   "toc_position": {
    "height": "calc(100% - 180px)",
    "left": "10px",
    "top": "150px",
    "width": "340.633px"
   },
   "toc_section_display": true,
   "toc_window_display": true
  }
 },
 "nbformat": 4,
 "nbformat_minor": 5
}
