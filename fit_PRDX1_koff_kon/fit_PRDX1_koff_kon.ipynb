{
 "cells": [
  {
   "cell_type": "markdown",
   "id": "1586eccb",
   "metadata": {},
   "source": [
    "# Fit PRDX1 koffs and kons"
   ]
  },
  {
   "cell_type": "markdown",
   "id": "225e119f",
   "metadata": {},
   "source": [
    "This notebook performs analyses described in the "
   ]
  },
  {
   "cell_type": "markdown",
   "id": "ba3ada09",
   "metadata": {},
   "source": [
    "**Manuscript:**\n",
    "\n",
    "Modelling the decamerisation cycle of PRDX1 and the inhibition-like effect on its peroxidase activity"
   ]
  },
  {
   "cell_type": "markdown",
   "id": "e446758a",
   "metadata": {},
   "source": [
    "**Authors:**\n",
    "\n",
    "C. Barry, C. Pillay, J. Rohwer"
   ]
  },
  {
   "cell_type": "markdown",
   "id": "3eb056fb",
   "metadata": {},
   "source": [
    "**Purpose:**\n",
    "\n",
    "Writes Barranco-Medina 2008 Fig. 1c PRDX1 injection parameters (filename: `ITC_PRDX1_inject_params.csv`)\n",
    "\n",
    "Performs regression on ITC data digitized from Barranco-Medina et al. 2008 to fit the kon and koff of Prx decamer formation.\n",
    "\n",
    "Writes fitted koff and kon (filename: `fitted_koff_kon_PRDX1_params.csv`)\n"
   ]
  },
  {
   "cell_type": "markdown",
   "id": "126944ec",
   "metadata": {},
   "source": [
    "**Requirements:**\n",
    "\n",
    "Python libraries (see **Imports** below)\n",
    "\n",
    "ITC Prx model (filename:`ITC_Prx_dim-dec.psc`)\n",
    "\n",
    "ITC model parameters (filename: `ITC_data_PRDX1_processed.csv`)"
   ]
  },
  {
   "cell_type": "markdown",
   "id": "150aeb80",
   "metadata": {},
   "source": [
    "##### Imports"
   ]
  },
  {
   "cell_type": "code",
   "execution_count": null,
   "id": "96c3f3c9",
   "metadata": {
    "ExecuteTime": {
     "end_time": "2023-07-27T08:44:08.626352Z",
     "start_time": "2023-07-27T08:44:08.618916Z"
    }
   },
   "outputs": [],
   "source": [
    "import os\n",
    "import math\n",
    "import copy\n",
    "import gc\n",
    "\n",
    "import dill as pickle\n",
    "import scipy as sp\n",
    "import numpy as np\n",
    "from lmfit import Minimizer, minimize, Parameters, Parameter, report_fit\n",
    "from matplotlib import pyplot as plt\n",
    "import pandas as pd\n",
    "from sklearn.metrics import auc\n",
    "from scipy.interpolate import interp1d\n",
    "\n",
    "import pysces\n"
   ]
  },
  {
   "cell_type": "markdown",
   "id": "3642952e",
   "metadata": {},
   "source": [
    "###### Save directories"
   ]
  },
  {
   "cell_type": "code",
   "execution_count": null,
   "id": "7d47b1a9",
   "metadata": {
    "ExecuteTime": {
     "end_time": "2023-07-27T08:44:08.656188Z",
     "start_time": "2023-07-27T08:44:08.651644Z"
    }
   },
   "outputs": [],
   "source": [
    "prev_dir = os.path.split(os.getcwd())[0]\n",
    "\n",
    "mod_dir = os.path.join(prev_dir,\"models\")\n",
    "if not os.path.isdir(mod_dir): os.mkdir(mod_dir) # ensure dir exists\n",
    "\n",
    "par_dir = os.path.join(prev_dir,\"params\")\n",
    "if not os.path.isdir(par_dir): os.mkdir(par_dir) # ensure dir exists\n",
    "    \n",
    "fig_dir = os.path.join(os.getcwd(),\"Figures\")\n",
    "if not os.path.isdir(fig_dir): os.mkdir(fig_dir) # ensure dir exists\n"
   ]
  },
  {
   "cell_type": "markdown",
   "id": "cc31eec9",
   "metadata": {},
   "source": [
    "###### Matplotlib stuff"
   ]
  },
  {
   "cell_type": "code",
   "execution_count": null,
   "id": "2474e99b",
   "metadata": {
    "ExecuteTime": {
     "end_time": "2023-07-27T08:44:08.675765Z",
     "start_time": "2023-07-27T08:44:08.671827Z"
    }
   },
   "outputs": [],
   "source": [
    "%matplotlib inline\n",
    "\n",
    "multiplier = 1\n",
    "mpl_width = 4.5*multiplier\n",
    "mpl_height = 3.5*multiplier\n",
    "mpl_dpi = 600\n",
    "mpl_xlabel_fontsize = \"large\"\n",
    "mpl_ylabel_fontsize = \"large\"\n",
    "mu = \"\\u03bc\""
   ]
  },
  {
   "cell_type": "markdown",
   "id": "a1a64b57",
   "metadata": {},
   "source": [
    "###### Fitting methods"
   ]
  },
  {
   "cell_type": "code",
   "execution_count": null,
   "id": "e81cf7a6",
   "metadata": {
    "ExecuteTime": {
     "end_time": "2023-07-27T08:44:08.694807Z",
     "start_time": "2023-07-27T08:44:08.692052Z"
    }
   },
   "outputs": [],
   "source": [
    "# fitting_method = \"nelder\"\n",
    "fitting_method = \"leastsq\""
   ]
  },
  {
   "cell_type": "markdown",
   "id": "3141a236",
   "metadata": {},
   "source": [
    "## Barranco-Medina et al. 2008 PRDX1 "
   ]
  },
  {
   "cell_type": "markdown",
   "id": "5235ec58",
   "metadata": {},
   "source": [
    "### data"
   ]
  },
  {
   "cell_type": "code",
   "execution_count": null,
   "id": "8c2c4da4",
   "metadata": {
    "ExecuteTime": {
     "end_time": "2023-07-27T08:44:08.809061Z",
     "start_time": "2023-07-27T08:44:08.728452Z"
    }
   },
   "outputs": [],
   "source": [
    "df_PRDX1 = pd.read_csv(\n",
    "    os.path.join(prev_dir,\"ITC_data\",\"ITC_data_PRDX1_processed.csv\")\n",
    "    ).set_index('Time (sec)')"
   ]
  },
  {
   "cell_type": "markdown",
   "id": "e8a71518",
   "metadata": {},
   "source": [
    "### Inject params"
   ]
  },
  {
   "cell_type": "code",
   "execution_count": null,
   "id": "e03e855b",
   "metadata": {
    "ExecuteTime": {
     "end_time": "2023-07-27T08:44:08.815465Z",
     "start_time": "2023-07-27T08:44:08.811590Z"
    }
   },
   "outputs": [],
   "source": [
    "# Values from Barranco-Medina 2008 PRDX1\n",
    "inj_enthalpy_PRDX1 = 156*5 # kcal/mol = ucal/nmol of decamer(x5)\n",
    "inj_volume_PRDX1 = 1.6*10**(-3) # µl to ml\n",
    "cell_volume_init = 1400*10**(-3) # µl to ml\n",
    "inj_mon_PRDX1 = 102 # µM MONOMERS\n",
    "inj_dim_est_PRDX1 = 0.8*inj_volume_PRDX1 # µM to nmol\n",
    "inj_dec_est_PRDX1 = (inj_mon_PRDX1/2 - 0.8)/5*inj_volume_PRDX1 # µM to nmol\n",
    "inj_interval_PRDX1 = 200 # s\n"
   ]
  },
  {
   "cell_type": "code",
   "execution_count": null,
   "id": "96dbdd71",
   "metadata": {
    "ExecuteTime": {
     "end_time": "2023-07-27T08:44:08.828013Z",
     "start_time": "2023-07-27T08:44:08.817112Z"
    }
   },
   "outputs": [],
   "source": [
    "# Create df used to update models later\n",
    "ITC_PRDX1_inject_params = {\"Parameter\": [\"injection_enthalpy\",\n",
    "                                         \"injection_volume\",\n",
    "                                         \"injection_Prx_mon\",\n",
    "                                         \"injection_dimer\",\n",
    "                                         \"injection_decamer\",\n",
    "                                         \"injection_interval\",\n",
    "                                         \"first_inject_ratio\",\n",
    "                                         \"cell_volume_init\"],\n",
    "         \n",
    "                           \"Value\":[inj_enthalpy_PRDX1,\n",
    "                                    inj_volume_PRDX1,\n",
    "                                    inj_mon_PRDX1,\n",
    "                                    inj_dim_est_PRDX1, \n",
    "                                    inj_dec_est_PRDX1,\n",
    "                                    inj_interval_PRDX1,\n",
    "                                    1,\n",
    "                                    cell_volume_init]}\n",
    "\n",
    "df_ITC_PRDX1_inject_params = pd.DataFrame(ITC_PRDX1_inject_params)\n",
    "df_ITC_PRDX1_inject_params.set_index(\"Parameter\",inplace=True)\n",
    "df_ITC_PRDX1_inject_params\n"
   ]
  },
  {
   "cell_type": "code",
   "execution_count": null,
   "id": "6c8e8ced",
   "metadata": {
    "ExecuteTime": {
     "end_time": "2023-07-27T08:44:08.833490Z",
     "start_time": "2023-07-27T08:44:08.830879Z"
    }
   },
   "outputs": [],
   "source": [
    "ITC_PRDX1_inject_params = dict(zip(ITC_PRDX1_inject_params[\"Parameter\"],ITC_PRDX1_inject_params[\"Value\"]))"
   ]
  },
  {
   "cell_type": "code",
   "execution_count": null,
   "id": "b38ec4ac",
   "metadata": {
    "ExecuteTime": {
     "end_time": "2023-07-27T08:44:08.843374Z",
     "start_time": "2023-07-27T08:44:08.834795Z"
    }
   },
   "outputs": [],
   "source": [
    "# Write inject params to file\n",
    "df_ITC_PRDX1_inject_params.to_csv(os.path.join(os.getcwd(),\"ITC_PRDX1_inject_params.csv\"),\n",
    "                                  sep=',',\n",
    "                                  encoding='utf-8')\n",
    "df_ITC_PRDX1_inject_params.to_csv(os.path.join(par_dir, \"ITC_PRDX1_inject_params.csv\"),\n",
    "                                  sep=',',\n",
    "                                  encoding='utf-8')\n"
   ]
  },
  {
   "cell_type": "markdown",
   "id": "7405ad6c",
   "metadata": {},
   "source": [
    "## Fit functions"
   ]
  },
  {
   "cell_type": "code",
   "execution_count": null,
   "id": "f37f7437",
   "metadata": {
    "ExecuteTime": {
     "end_time": "2023-07-27T08:44:08.867373Z",
     "start_time": "2023-07-27T08:44:08.845619Z"
    }
   },
   "outputs": [],
   "source": [
    "def do_ITC_assay(mod, association_enthalpy, end = 3600):\n",
    "    \"\"\"\n",
    "    Simulates and ITC trace and calculates the heat reading.\n",
    "    Processes the heat reading data by correcting for baseline and normalizing to area under curve.\n",
    "    \"\"\"\n",
    "    # Scan model\n",
    "    mod.doSim(points=end+1, end=end)\n",
    "    \n",
    "    # Create pandas df from sim\n",
    "    df_sim = pd.DataFrame(mod.sim)\n",
    "    df_sim.rename(columns={'Time': 'Time (sec)'},inplace=True)\n",
    "    df_sim['Time (sec)'] = np.rint(df_sim['Time (sec)']).astype(int)\n",
    "    df_sim.set_index('Time (sec)',drop=True,inplace=True)\n",
    "    \n",
    "    # Calculate enthalpy\n",
    "    df_sim[\"Rate μcal/sec\"] = (-df_sim[\"Disassociation\"])*association_enthalpy\n",
    "\n",
    "    # Baseline correction\n",
    "    df_sim = baseline_correction(df_sim, mod)\n",
    "    \n",
    "    df_sim.drop(0,inplace=True) \n",
    "\n",
    "    # Normalise to AUC\n",
    "    df_sim = normalise_to_AUC(df_sim,mod)\n",
    "    \n",
    "    return df_sim\n",
    "\n",
    "def baseline_correction(df_sim, mod):\n",
    "    \"\"\"\n",
    "    Processes the heat reading data by correcting for baseline.\n",
    "    \"\"\"\n",
    "    num_disso_injections = math.floor(df_sim[\"Rate μcal/sec\"].index[-1]/mod.injection_interval)\n",
    "\n",
    "    start = 1\n",
    "    end = mod.injection_interval\n",
    "\n",
    "    df_temp = pd.DataFrame(df_sim[\"Rate μcal/sec\"].loc[start: end])\n",
    "\n",
    "    next_baseline = df_temp[-10:-5]\n",
    "\n",
    "    x2 = next_baseline.index.values.mean()\n",
    "    y2 = next_baseline[\"Rate μcal/sec\"].mean()\n",
    "\n",
    "    x1 = 0.0\n",
    "    y1 = next_baseline[\"Rate μcal/sec\"].mean()\n",
    "\n",
    "    baseline_interp = interp1d([x1,x2], [y1,y2],fill_value=\"extrapolate\")(df_temp.index)\n",
    "\n",
    "    current_baseline = next_baseline\n",
    "    \n",
    "    df_temp[\"Rate μcal/sec\"] = df_temp[\"Rate μcal/sec\"] - baseline_interp\n",
    "\n",
    "    df_sim_baseline = pd.DataFrame(df_temp)\n",
    "\n",
    "    count = 1\n",
    "    while count < num_disso_injections:\n",
    "        start = count*mod.injection_interval+1\n",
    "        end = count*mod.injection_interval + mod.injection_interval\n",
    "\n",
    "        df_temp = pd.DataFrame(df_sim[\"Rate μcal/sec\"].loc[start: end])\n",
    "\n",
    "        next_baseline = df_temp[-10:-5]\n",
    "\n",
    "        x2 = next_baseline.index.values.mean()\n",
    "        y2 = next_baseline[\"Rate μcal/sec\"].mean()\n",
    "\n",
    "        x1 = current_baseline.index.values.mean()\n",
    "        y1 = current_baseline[\"Rate μcal/sec\"].mean()\n",
    "\n",
    "        baseline_interp = interp1d([x1,x2], [y1,y2],fill_value=\"extrapolate\")(df_temp.index)\n",
    "\n",
    "        df_temp[\"Rate μcal/sec\"] = df_temp[\"Rate μcal/sec\"] - baseline_interp\n",
    "\n",
    "        current_baseline = next_baseline\n",
    "\n",
    "        df_sim_baseline = pd.concat([df_sim_baseline,df_temp])\n",
    "\n",
    "        count += 1\n",
    "\n",
    "    df_sim[\"Rate μcal/sec no baseline corr.\"] = df_sim[\"Rate μcal/sec\"].copy(deep=True)\n",
    "    df_sim[\"Rate μcal/sec\"] = df_sim_baseline[\"Rate μcal/sec\"].copy(deep=True)\n",
    "\n",
    "    return df_sim\n",
    "\n",
    "def normalise_to_AUC(df_sim,mod):\n",
    "    \"\"\"\n",
    "    Processes the heat reading data by normalizing for area under the curve.\n",
    "    \"\"\"\n",
    "    num_disso_injections = math.floor(df_sim[\"Rate μcal/sec\"].index[-1]/mod.injection_interval)\n",
    "\n",
    "    start = 0\n",
    "    end = mod.injection_interval\n",
    "    df_temp = pd.DataFrame(df_sim[\"Rate μcal/sec\"].loc[start: end])\n",
    "\n",
    "    area = np.abs(np.trapz(df_temp.values.flatten(),df_temp.index))\n",
    "    df_sim_AUCnorm = df_temp/area\n",
    "\n",
    "    count = 1\n",
    "    while count < num_disso_injections:\n",
    "        start = count*mod.injection_interval\n",
    "        end = start + mod.injection_interval\n",
    "        df_temp = pd.DataFrame(df_sim[\"Rate μcal/sec\"].loc[start: end])\n",
    "        area = np.abs(np.trapz(df_temp.values.flatten(),df_temp.index))\n",
    "        print(f\"Area: {area}\")\n",
    "        df_temp = df_temp/area\n",
    "        df_sim_AUCnorm = pd.concat([df_sim_AUCnorm,df_temp])\n",
    "        count += 1\n",
    "\n",
    "    df_sim_AUCnorm = df_sim_AUCnorm.reset_index().drop_duplicates(subset='Time (sec)', \n",
    "                                                                  keep='last').set_index('Time (sec)').sort_index()\n",
    "\n",
    "    df_sim[\"Rate μcal/sec baseline no AUC\"] = df_sim[\"Rate μcal/sec\"].copy(deep=True)\n",
    "    df_sim[\"Rate μcal/sec\"] = df_sim_AUCnorm\n",
    "    \n",
    "    return df_sim\n",
    "\n",
    "def update_syringe(mod_ITC,mod_syr,params):\n",
    "    \"\"\"\n",
    "    Updates the ITC model with the injection dimers and decamers.\n",
    "    \"\"\"\n",
    "    # Update model\n",
    "    mod_syr.koff = params['koff'].value\n",
    "    mod_syr.kon = params['koff'].value/params['Kd_app'].value\n",
    "    mod_syr.exponent = params['exponent']\n",
    "\n",
    "    # Find equilibrium\n",
    "    mod_syr.doState()\n",
    "\n",
    "    # Update ITC mod syringe params (dimers and decamers in injection in AMOUNT)\n",
    "    setattr(mod_ITC, \"injection_dimer\", getattr(mod_syr,\"dimers_ss\")*getattr(mod_ITC,\"injection_volume\"))\n",
    "    setattr(mod_ITC, \"injection_decamer\", getattr(mod_syr,\"decamers_ss\")*getattr(mod_ITC,\"injection_volume\"))\n",
    "\n",
    "def do_first_inj(mod_ITC,mod_first_inj,params):\n",
    "    \"\"\"\n",
    "    Updates the ITC model with the dimers and decamers of the first injection at equilibrium.\n",
    "    \"\"\"\n",
    "    # Update model\n",
    "    mod_first_inj.koff = params['koff'].value\n",
    "    mod_first_inj.kon = params['koff'].value/params['Kd_app'].value\n",
    "    mod_first_inj.exponent = params['exponent']\n",
    "\n",
    "    # Find equilibrium\n",
    "    mod_first_inj.doState()\n",
    "\n",
    "    # Update ITC mod initial params (dimers and decamers in AMOUNT)\n",
    "    setattr(mod_ITC, \"dimers_init\", getattr(mod_first_inj,\"dimers_ss\")*getattr(mod_ITC,\"cell_volume_init\"))\n",
    "    setattr(mod_ITC, \"decamers_init\", getattr(mod_first_inj,\"decamers_ss\")*getattr(mod_ITC,\"cell_volume_init\"))\n",
    "\n",
    "def fit_koff_kon_res(params, mod_ITC, mod_syr, mod_FI, inj_params, exp_data):\n",
    "    \"\"\"\n",
    "    This is where the residuals which will be minimized are generated.\n",
    "    Must contain the following:\n",
    "    Update model params\n",
    "    Scan model\n",
    "    Calculate and return residuals\n",
    "    \"\"\"\n",
    "    \n",
    "    # Update ITC model\n",
    "    mod_ITC.koff = params['koff'].value\n",
    "    mod_ITC.kon = params['koff'].value/params['Kd_app'].value\n",
    "    mod_ITC.exponent = params[\"exponent\"]\n",
    "    \n",
    "    # Store kon in params\n",
    "    params['kon'].value = params['koff'].value/params['Kd_app'].value\n",
    "    \n",
    "    # Update \"syringe\" dimers and decamers\n",
    "    update_syringe(mod_ITC, mod_syr, params)\n",
    "    \n",
    "    # Update dimers and decamers per first injection\n",
    "    mod_ITC.cell_volume = inj_params[\"cell_volume_init\"]+inj_params[\"injection_volume\"]\n",
    "    do_first_inj(mod_ITC, mod_FI, params)\n",
    "    \n",
    "    # Scan model\n",
    "    sim_data = do_ITC_assay(mod_ITC, inj_params[\"injection_enthalpy\"])\n",
    "    \n",
    "    # Calculate residuals\n",
    "    residuals = abs(exp_data[\"Rate μcal/sec\"].values - sim_data.loc[exp_data.index][\"Rate μcal/sec\"].values)\n",
    "    print(residuals)\n",
    "    \n",
    "    return residuals\n"
   ]
  },
  {
   "cell_type": "markdown",
   "id": "2c0468ca",
   "metadata": {},
   "source": [
    "## Load models"
   ]
  },
  {
   "cell_type": "code",
   "execution_count": null,
   "id": "276abc87",
   "metadata": {
    "ExecuteTime": {
     "end_time": "2023-07-27T08:44:08.873550Z",
     "start_time": "2023-07-27T08:44:08.869502Z"
    }
   },
   "outputs": [],
   "source": [
    "# Assign injection parameters\n",
    "inj_params = ITC_PRDX1_inject_params\n"
   ]
  },
  {
   "cell_type": "code",
   "execution_count": null,
   "id": "84b43354",
   "metadata": {
    "ExecuteTime": {
     "end_time": "2023-07-27T08:44:08.948229Z",
     "start_time": "2023-07-27T08:44:08.874988Z"
    }
   },
   "outputs": [],
   "source": [
    "# ITC load model\n",
    "mod_ITC_Prx_dim_dec = pysces.model(\"ITC_Prx_dim-dec.psc\",dir = mod_dir)\n",
    "mod_ITC_Prx_dim_dec.mode_integrate_all_odes = True # As recommented by pysces\n",
    "mod_ITC_Prx_dim_dec.__settings__[\"cvode_access_solver\"] = False\n",
    "mod_ITC_Prx_dim_dec.__settings__[\"cvode_return_event_timepoints\"] = False\n",
    "mod_ITC_Prx_dim_dec.SetQuiet()\n",
    "# Set injection params\n",
    "for parameter in inj_params.keys():\n",
    "    value = inj_params[parameter]\n",
    "    setattr(mod_ITC_Prx_dim_dec,parameter,value)\n",
    "\n",
    "# Load syringe model\n",
    "mod_syringe = pysces.model(\"Prx_dim-dec.psc\", dir = mod_dir)\n",
    "mod_syringe.mode_integrate_all_odes = True # As recommented by pysces\n",
    "mod_syringe.SetQuiet()\n",
    "setattr(mod_syringe,\n",
    "        \"dimers_init\", \n",
    "        inj_params[\"injection_dimer\"]/inj_params[\"injection_volume\"])\n",
    "setattr(mod_syringe,\n",
    "        \"decamers_init\", \n",
    "        inj_params[\"injection_decamer\"]/inj_params[\"injection_volume\"])\n",
    "\n",
    "# Load first inject model\n",
    "mod_first_inj = pysces.model(\"Prx_dim-dec.psc\", dir = mod_dir)\n",
    "mod_first_inj.mode_integrate_all_odes = True # As recommented by pysces\n",
    "mod_first_inj.SetQuiet()\n",
    "setattr(mod_first_inj, \n",
    "        \"dimers_init\", \n",
    "        inj_params[\"injection_dimer\"]/(inj_params[\"injection_volume\"]+inj_params[\"cell_volume_init\"]))\n",
    "setattr(mod_first_inj, \n",
    "        \"decamers_init\", \n",
    "        inj_params[\"injection_decamer\"]/(inj_params[\"injection_volume\"]+inj_params[\"cell_volume_init\"]))\n",
    "\n"
   ]
  },
  {
   "cell_type": "markdown",
   "id": "4c40d633",
   "metadata": {},
   "source": [
    "## Fit koff kon (figures 4a and 4b)"
   ]
  },
  {
   "cell_type": "markdown",
   "id": "f96d810f",
   "metadata": {},
   "source": [
    "Fit the koff (and also kon) using the Barranco-Medina et al. 2008 PRDX1 data and ITC model."
   ]
  },
  {
   "cell_type": "code",
   "execution_count": null,
   "id": "8eaa2ba3",
   "metadata": {
    "ExecuteTime": {
     "end_time": "2023-07-27T08:44:08.953368Z",
     "start_time": "2023-07-27T08:44:08.950871Z"
    }
   },
   "outputs": [],
   "source": [
    "# Kd_app and exponent\n",
    "exponent = 5\n",
    "Kd_app_vil = 1.1 # Villar"
   ]
  },
  {
   "cell_type": "code",
   "execution_count": null,
   "id": "a552da43",
   "metadata": {
    "ExecuteTime": {
     "end_time": "2023-07-27T08:44:08.958365Z",
     "start_time": "2023-07-27T08:44:08.954695Z"
    }
   },
   "outputs": [],
   "source": [
    "koff_min = 0.001\n",
    "koff_max = 0.5"
   ]
  },
  {
   "cell_type": "code",
   "execution_count": null,
   "id": "3d8418f3",
   "metadata": {
    "ExecuteTime": {
     "end_time": "2023-07-27T08:44:14.811594Z",
     "start_time": "2023-07-27T08:44:08.960236Z"
    },
    "scrolled": true
   },
   "outputs": [],
   "source": [
    "# Copy models\n",
    "mod_ITC = copy.deepcopy(mod_ITC_Prx_dim_dec)\n",
    "mod_syr = copy.deepcopy(mod_syringe)\n",
    "mod_FI = copy.deepcopy(mod_first_inj)\n",
    "\n",
    "# Set up lmfit parameter library object with each parameter to be fitted\n",
    "param_lib = Parameters()\n",
    "param_lib.add('koff',value=0.01,min=koff_min,max=koff_max)\n",
    "param_lib.add('kon',value=0.01,vary=False)\n",
    "param_lib.add('Kd_app', value = Kd_app_vil,vary=False, min = 1e-12)\n",
    "param_lib.add('exponent', value = exponent,vary=False, min = 1e-12)\n",
    "\n",
    "# Perform fit\n",
    "fit_koff_kon = minimize(fit_koff_kon_res, \n",
    "                         param_lib,\n",
    "                         method=fitting_method,\n",
    "                         args=(mod_ITC,\n",
    "                               mod_syr,\n",
    "                               mod_FI,\n",
    "                               ITC_PRDX1_inject_params,\n",
    "                               df_PRDX1),\n",
    "                         epsfcn=0.0001)"
   ]
  },
  {
   "cell_type": "code",
   "execution_count": null,
   "id": "a03a4dd8",
   "metadata": {
    "ExecuteTime": {
     "end_time": "2023-07-27T08:44:14.817493Z",
     "start_time": "2023-07-27T08:44:14.813207Z"
    }
   },
   "outputs": [],
   "source": [
    "# Display fit report\n",
    "fit_koff_kon "
   ]
  },
  {
   "cell_type": "code",
   "execution_count": null,
   "id": "ed6b85d1",
   "metadata": {
    "ExecuteTime": {
     "end_time": "2023-07-27T08:44:15.080943Z",
     "start_time": "2023-07-27T08:44:14.819093Z"
    },
    "scrolled": true
   },
   "outputs": [],
   "source": [
    "# Copy models\n",
    "mod_ITC = copy.deepcopy(mod_ITC_Prx_dim_dec)\n",
    "for param_name in fit_koff_kon.params.keys():\n",
    "    setattr(mod_ITC,param_name,fit_koff_kon.params[param_name].value )\n",
    "mod_syr = copy.deepcopy(mod_syringe)\n",
    "mod_FI = copy.deepcopy(mod_first_inj)\n",
    "\n",
    "# Update \"syringe\" dimers and decamers\n",
    "update_syringe(mod_ITC, mod_syr, fit_koff_kon.params)\n",
    "\n",
    "# Update dimers and decamers per first injection\n",
    "mod_ITC.cell_volume = inj_params[\"cell_volume_init\"]+inj_params[\"injection_volume\"]\n",
    "do_first_inj(mod_ITC, mod_FI, fit_koff_kon.params)\n",
    "    \n",
    "# Simulate ITC with fitted parameters\n",
    "df_sim = do_ITC_assay(mod_ITC,ITC_PRDX1_inject_params[\"injection_enthalpy\"])\n"
   ]
  },
  {
   "cell_type": "code",
   "execution_count": null,
   "id": "72b84083",
   "metadata": {
    "ExecuteTime": {
     "end_time": "2023-07-27T08:44:15.316886Z",
     "start_time": "2023-07-27T08:44:15.082533Z"
    }
   },
   "outputs": [],
   "source": [
    "# Plot all fitted peaks\n",
    "rows = 1\n",
    "cols = 1\n",
    "\n",
    "f,axarr = plt.subplots(rows,cols)\n",
    "f.set_size_inches(w=mpl_width*cols, h=mpl_height*rows)\n",
    "\n",
    "axarr.plot(df_sim.loc[df_PRDX1.index].index, \n",
    "           df_sim.loc[df_PRDX1.index][\"Rate μcal/sec\"],\n",
    "           \"b-\", \n",
    "           label = \"mod sim\")\n",
    "axarr.plot(df_PRDX1.index, df_PRDX1[\"Rate μcal/sec\"],\"k--\", label = \"exp data\")\n",
    "\n",
    "axarr.set_xlabel(f'Time (sec)',fontsize = mpl_xlabel_fontsize)\n",
    "axarr.set_ylabel(f'{mu}cal/sec',fontsize = mpl_ylabel_fontsize)\n",
    "\n",
    "f.tight_layout()\n",
    "f.savefig(os.path.join(fig_dir,f\"fit_koff_ITC_heat_vs_time.pdf\"),dpi= mpl_dpi)"
   ]
  },
  {
   "cell_type": "code",
   "execution_count": null,
   "id": "eb3c6bc0",
   "metadata": {
    "ExecuteTime": {
     "end_time": "2023-07-27T08:44:15.557242Z",
     "start_time": "2023-07-27T08:44:15.318839Z"
    }
   },
   "outputs": [],
   "source": [
    "# Plot single peak\n",
    "inject_num = 2\n",
    "injection_interval = 200\n",
    "\n",
    "start = inject_num*injection_interval\n",
    "end = start + injection_interval\n",
    "\n",
    "rows = 1\n",
    "cols = 1\n",
    "\n",
    "f,axarr = plt.subplots(rows,cols)\n",
    "f.set_size_inches(w=mpl_width*cols, h=mpl_height*rows)\n",
    "\n",
    "axarr.plot(df_sim.loc[df_PRDX1.index].loc[start: end].index, \n",
    "           df_sim.loc[df_PRDX1.index].loc[start: end][\"Rate μcal/sec\"],\n",
    "           \"b-\", \n",
    "           label = \"mod sim\")\n",
    "axarr.plot(df_PRDX1.loc[start: end].index, \n",
    "           df_PRDX1.loc[start: end][\"Rate μcal/sec\"],\n",
    "           \"k--\", \n",
    "           label = \"exp data\")\n",
    "\n",
    "axarr.set_xlabel(f'Time (sec)',fontsize = mpl_xlabel_fontsize)\n",
    "axarr.set_ylabel(f'{mu}cal/sec',fontsize = mpl_ylabel_fontsize)\n",
    "\n",
    "f.tight_layout()\n",
    "f.savefig(os.path.join(fig_dir,f\"fit_koff_ITC_heat_peak_vs_time.pdf\"),dpi= mpl_dpi)\n",
    "          "
   ]
  },
  {
   "cell_type": "markdown",
   "id": "359c5138",
   "metadata": {},
   "source": [
    "## Write fitted koff and kon to file"
   ]
  },
  {
   "cell_type": "code",
   "execution_count": null,
   "id": "ccaee835",
   "metadata": {
    "ExecuteTime": {
     "end_time": "2023-07-27T08:44:15.569442Z",
     "start_time": "2023-07-27T08:44:15.559825Z"
    }
   },
   "outputs": [],
   "source": [
    "# Set up df\n",
    "data = {\"Parameter\": [\"koff\",\n",
    "                     \"kon\",\n",
    "                     \"Kd_app\"],\n",
    "        \"Value\":[fit_koff_kon.params[\"koff\"].value,\n",
    "                fit_koff_kon.params[\"kon\"].value,\n",
    "                fit_koff_kon.params[\"Kd_app\"].value]}\n",
    "df_fitted_koff_kon_params = pd.DataFrame(data)\n",
    "df_fitted_koff_kon_params.set_index(\"Parameter\",inplace=True)\n",
    "df_fitted_koff_kon_params"
   ]
  },
  {
   "cell_type": "code",
   "execution_count": null,
   "id": "33d79a06",
   "metadata": {
    "ExecuteTime": {
     "end_time": "2023-07-27T08:44:15.580708Z",
     "start_time": "2023-07-27T08:44:15.571853Z"
    }
   },
   "outputs": [],
   "source": [
    "# Write to file\n",
    "df_fitted_koff_kon_params.to_csv(os.path.join(os.getcwd(),\"fitted_koff_kon_PRDX1_params.csv\"),\n",
    "                                 sep=',',\n",
    "                                 encoding='utf-8')\n",
    "df_fitted_koff_kon_params.to_csv(os.path.join(par_dir,\"fitted_koff_kon_PRDX1_params.csv\"),\n",
    "                                 sep=',',\n",
    "                                 encoding='utf-8')\n"
   ]
  }
 ],
 "metadata": {
  "kernelspec": {
   "display_name": "Python 3 (ipykernel)",
   "language": "python",
   "name": "python3"
  },
  "language_info": {
   "codemirror_mode": {
    "name": "ipython",
    "version": 3
   },
   "file_extension": ".py",
   "mimetype": "text/x-python",
   "name": "python",
   "nbconvert_exporter": "python",
   "pygments_lexer": "ipython3",
   "version": "3.11.3"
  },
  "scenes_data": {
   "active_scene": "Default Scene",
   "init_scene": "",
   "scenes": [
    "Default Scene"
   ]
  },
  "toc": {
   "base_numbering": 1,
   "nav_menu": {},
   "number_sections": true,
   "sideBar": true,
   "skip_h1_title": false,
   "title_cell": "Table of Contents",
   "title_sidebar": "Contents",
   "toc_cell": false,
   "toc_position": {},
   "toc_section_display": true,
   "toc_window_display": true
  }
 },
 "nbformat": 4,
 "nbformat_minor": 5
}
