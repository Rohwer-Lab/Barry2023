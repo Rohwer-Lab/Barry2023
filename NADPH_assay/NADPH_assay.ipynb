{
 "cells": [
  {
   "cell_type": "markdown",
   "id": "821a7d55",
   "metadata": {},
   "source": [
    "# NADPH experiments with whole Prx system"
   ]
  },
  {
   "cell_type": "markdown",
   "id": "9b47f98a",
   "metadata": {},
   "source": [
    "This notebook performs analyses described in the "
   ]
  },
  {
   "cell_type": "markdown",
   "id": "4dbbb5f2",
   "metadata": {},
   "source": [
    "**Manuscript:**\n",
    "\n",
    "Modelling the decamerisation cycle of PRDX1 and the inhibition-like effect on its peroxidase activity"
   ]
  },
  {
   "cell_type": "markdown",
   "id": "696fe7f8",
   "metadata": {},
   "source": [
    "**Authors:**\n",
    "\n",
    "C. Barry, C. Pillay, J. Rohwer"
   ]
  },
  {
   "cell_type": "markdown",
   "id": "c64c7ff9",
   "metadata": {},
   "source": [
    "**Purpose:**\n",
    "\n",
    "Analysis: simulations of NADPH reduction assays in a system containing Prx, Trx, TRR, and $H_2O_2$\n",
    "\n",
    "Plot: Figure 7c and 7d"
   ]
  },
  {
   "cell_type": "markdown",
   "id": "5f5063ec",
   "metadata": {},
   "source": [
    "**Requirements:**\n",
    "\n",
    "Python libraries (see **Imports** below)\n",
    "\n",
    "Prx parameters (filename:`fitted_koff_kon_PRDX1_params.csv`)\n",
    "\n",
    "Prx PRDX2 system model (filename: `PRDX2_sys.psc`)\n",
    "\n",
    "Prx PRDX2 system model with decamer reactions (filename: `PRDX2_sys_decfull.psc`)"
   ]
  },
  {
   "cell_type": "markdown",
   "id": "d825fc05",
   "metadata": {},
   "source": [
    "##### Imports"
   ]
  },
  {
   "cell_type": "code",
   "execution_count": 1,
   "id": "f1b1efe4",
   "metadata": {
    "ExecuteTime": {
     "end_time": "2023-06-23T08:06:21.272045Z",
     "start_time": "2023-06-23T08:06:19.418316Z"
    }
   },
   "outputs": [
    {
     "name": "stdout",
     "output_type": "stream",
     "text": [
      "Matplotlib backend set to: \"nbAgg\"\n",
      "Matplotlib interface loaded (pysces.plt.m)\n",
      "Pitcon routines available\n",
      "NLEQ2 routines available\n",
      "SBML support available\n",
      "You are using NumPy (1.23.5) with SciPy (1.9.3)\n",
      "Assimulo CVode available\n",
      "RateChar is available\n",
      "Parallel scanner is available\n",
      "\n",
      "PySCeS environment\n",
      "******************\n",
      "pysces.model_dir = /home/chris/Pysces/psc\n",
      "pysces.output_dir = /home/chris/Pysces\n",
      "\n",
      "\n",
      "***********************************************************************\n",
      "* Welcome to PySCeS (1.0.3) - Python Simulator for Cellular Systems   *\n",
      "*                http://pysces.sourceforge.net                        *\n",
      "* Copyright(C) B.G. Olivier, J.M. Rohwer, J.-H.S. Hofmeyr, 2004-2022  *\n",
      "* Triple-J Group for Molecular Cell Physiology                        *\n",
      "* Stellenbosch University, ZA and VU University Amsterdam, NL         *\n",
      "* PySCeS is distributed under the PySCeS (BSD style) licence, see     *\n",
      "* LICENCE.txt (supplied with this release) for details                *\n",
      "* Please cite PySCeS with: doi:10.1093/bioinformatics/bti046          *\n",
      "***********************************************************************\n"
     ]
    }
   ],
   "source": [
    "import os\n",
    "import copy\n",
    "\n",
    "import numpy as np\n",
    "from matplotlib import pyplot as plt\n",
    "import matplotlib.patches as mpatches\n",
    "import pandas as pd\n",
    "from sklearn.linear_model import LinearRegression\n",
    "\n",
    "import pysces\n"
   ]
  },
  {
   "cell_type": "markdown",
   "id": "14c55dd9",
   "metadata": {},
   "source": [
    "###### Save directories"
   ]
  },
  {
   "cell_type": "code",
   "execution_count": 2,
   "id": "2f79cd54",
   "metadata": {
    "ExecuteTime": {
     "end_time": "2023-06-23T08:06:21.277771Z",
     "start_time": "2023-06-23T08:06:21.273931Z"
    }
   },
   "outputs": [],
   "source": [
    "prev_dir = os.path.split(os.getcwd())[0]\n",
    "\n",
    "mod_dir = os.path.join(prev_dir,\"models\")\n",
    "if not os.path.isdir(mod_dir): os.mkdir(mod_dir) # ensure dir exists\n",
    "\n",
    "par_dir = os.path.join(prev_dir,\"params\")\n",
    "if not os.path.isdir(par_dir): os.mkdir(par_dir) # ensure dir exists\n",
    "    \n",
    "fig_dir = os.path.join(os.getcwd(),\"Figures\")\n",
    "if not os.path.isdir(fig_dir): os.mkdir(fig_dir) # ensure dir exists\n"
   ]
  },
  {
   "cell_type": "markdown",
   "id": "26349861",
   "metadata": {},
   "source": [
    "###### Matplotlib stuff"
   ]
  },
  {
   "cell_type": "code",
   "execution_count": 3,
   "id": "3296b822",
   "metadata": {
    "ExecuteTime": {
     "end_time": "2023-06-23T08:06:21.294125Z",
     "start_time": "2023-06-23T08:06:21.279837Z"
    }
   },
   "outputs": [],
   "source": [
    "%matplotlib inline\n",
    "\n",
    "mpl_width = 4.5\n",
    "mpl_height = 3.5\n",
    "mpl_dpi = 600\n",
    "mpl_xlabel_fontsize = \"large\"\n",
    "mpl_ylabel_fontsize = \"large\"\n",
    "mu = \"\\u03bc\"\n"
   ]
  },
  {
   "cell_type": "code",
   "execution_count": 4,
   "id": "77cdad18",
   "metadata": {
    "ExecuteTime": {
     "end_time": "2023-06-23T08:06:21.299517Z",
     "start_time": "2023-06-23T08:06:21.296622Z"
    }
   },
   "outputs": [],
   "source": [
    "# Marker symbols\n",
    "WSA_no_dec_marker = \"^\"\n",
    "WSA_dec_marker = \"s\"\n",
    "# WSA_dec_dil = \"o\"\n",
    "mpl_marker_size = 6"
   ]
  },
  {
   "cell_type": "code",
   "execution_count": 5,
   "id": "2f0a1903",
   "metadata": {
    "ExecuteTime": {
     "end_time": "2023-06-23T08:06:21.306395Z",
     "start_time": "2023-06-23T08:06:21.302720Z"
    }
   },
   "outputs": [],
   "source": [
    "color_wheel = [\"tab:blue\",\"tab:green\",\"tab:red\",\"tab:cyan\",\"tab:purple\"]"
   ]
  },
  {
   "cell_type": "markdown",
   "id": "ca2b884b",
   "metadata": {},
   "source": [
    "##### fitted params"
   ]
  },
  {
   "cell_type": "code",
   "execution_count": 6,
   "id": "43705db9",
   "metadata": {
    "ExecuteTime": {
     "end_time": "2023-06-23T08:06:21.318091Z",
     "start_time": "2023-06-23T08:06:21.307614Z"
    }
   },
   "outputs": [],
   "source": [
    "fitted_dim_dec_rates_file = \"fitted_koff_kon_PRDX1_params.csv\"\n",
    "df_dim_dec_rates = pd.read_csv(os.path.join(par_dir,fitted_dim_dec_rates_file))\n",
    "df_dim_dec_rates.set_index(\"Parameter\",inplace=True)"
   ]
  },
  {
   "cell_type": "code",
   "execution_count": 7,
   "id": "50128495",
   "metadata": {
    "ExecuteTime": {
     "end_time": "2023-06-23T08:06:21.328567Z",
     "start_time": "2023-06-23T08:06:21.320854Z"
    }
   },
   "outputs": [],
   "source": [
    "def update_params_BenfeitasModels(mod,params,hyp=False):\n",
    "    \"\"\"\n",
    "    Updates the parameters of a model which has been augmented with Prx decamer reactions.\n",
    "    Adding the decamer reactions introduces several new parameter names which need to be populated with their \n",
    "    corrosponding values in the original model as well as the fitted dimer-decamer transition koff and kon.\n",
    "    As a special case: The decamer sulfenilation rate is set to the original model dimer sulfenilation rate \n",
    "    (i.e full activity) and the dimer sulfenilation rate is set to 100-fold less than the original model.\n",
    "    \"\"\"\n",
    "    # Dimer-decamer transition params\n",
    "    mod.exponent = 5\n",
    "    mod.k_Prx_asso = params.loc[\"kon\"][0]\n",
    "    mod.k_Prx_dec_disasso = params.loc[\"koff\"][0]\n",
    "    \n",
    "    ## Prx oxidation params\n",
    "    mod.k_Prx_sulfe_SH_dec = mod.kprx\n",
    "    mod.k_Prx_sulfe_SOH_dec = mod.kprx\n",
    "    mod.k_Prx_disulf_form_SH_dec = mod.kcond\n",
    "    mod.k_Prx_disulf_form_SOH_dec = mod.kcond\n",
    "    mod.k_Prx_disso_SH_dec = 10000 # Arbitrary \n",
    "    mod.k_Prx_disso_SOH_dec = 10000 # Arbitrary\n",
    "    \n",
    "    if hyp == True:\n",
    "        mod.k_Prx_sulfe_SOOH_dec = mod.kprx\n",
    "        mod.k_Prx_sulfi_SOOH_dec = mod.ksulf\n",
    "        mod.k_Prx_disulf_form_SOOH_dec = mod.kcond\n",
    "        mod.k_Prx_srx_SOOH_dec = mod.ksrx \n",
    "        mod.k_Prx_disso_SOOH_dec = 10000 # Arbitrary\n",
    "        \n",
    "    # Adust dimer sulfenilation to be 100 slower than decamer\n",
    "    mod.kprx = mod.kprx/100\n",
    "#     mod.two_times_kprx = mod.two_times_kprx/100\n",
    "    \n",
    "    return mod\n"
   ]
  },
  {
   "cell_type": "markdown",
   "id": "1cfa8324",
   "metadata": {},
   "source": [
    "## NADPH assay functions"
   ]
  },
  {
   "cell_type": "code",
   "execution_count": 8,
   "id": "d416e7dc",
   "metadata": {
    "ExecuteTime": {
     "end_time": "2023-06-23T08:06:21.354361Z",
     "start_time": "2023-06-23T08:06:21.333633Z"
    }
   },
   "outputs": [],
   "source": [
    "def do_NADPH_exp_double_vary(mod,\n",
    "                             vary,\n",
    "                             vary_init_range,\n",
    "                             vary2,\n",
    "                             vary2_init,\n",
    "                             assay_end=1000, # time in s\n",
    "                             assay_points=1000,\n",
    "                             i_rate_start=3, # data point idx\n",
    "                             i_rate_end=10): # data point idx\n",
    "    \"\"\"\n",
    "    Performs an NADPH experiment varying two parameters to get the rate constant vs second parameter.\n",
    "    \"\"\"\n",
    "    # Update model with new second param\n",
    "    vary2_orig = getattr(mod,vary2)\n",
    "    setattr(mod,vary2,vary2_init)\n",
    "    \n",
    "    # Simulate NADPH initial rates experiment\n",
    "    NADPH_exp = do_NADPH_exp(mod,\n",
    "                             vary,\n",
    "                             vary_init_range,\n",
    "                             assay_end=assay_end,\n",
    "                             i_rate_start=i_rate_start,\n",
    "                             i_rate_end=i_rate_end)\n",
    "    \n",
    "    # Restore model\n",
    "    setattr(mod,vary2,vary2_orig)\n",
    "    \n",
    "    # Grab data\n",
    "    rate_constant = (vary2_init,NADPH_exp[3])\n",
    "    \n",
    "    return rate_constant\n",
    "\n",
    "def do_NADPH_exp(mod,\n",
    "                 vary,\n",
    "                 vary_init_range,\n",
    "                 assay_end=600, # time in s\n",
    "                 assay_points=1000,\n",
    "                 i_rate_start=3, # data point idx\n",
    "                 i_rate_end=10): # data point idx\n",
    "    \"\"\"\n",
    "    Performs an NADPH experiment of several assay runs.\n",
    "    Fits initial rates on each run.\n",
    "    Determines the rate constant.\n",
    "    \"\"\"\n",
    "    \n",
    "    # Do assay runs\n",
    "    traces = list(map(lambda vary_init: do_NADPH_assay(mod, \n",
    "                                                       vary,\n",
    "                                                       vary_init,\n",
    "                                                       end_time=assay_end,\n",
    "                                                      points=assay_points), \n",
    "                      vary_init_range))\n",
    "    \n",
    "    # Fit initial rates of assays\n",
    "    start_point = 3\n",
    "    end_point = 10\n",
    "    initial_rates = fit_initial_rates(traces,vary_init_range,i_rate_start,i_rate_end)\n",
    "    \n",
    "    # Fit rate constant to initial rates\n",
    "    initial_rate_lm = LinearRegression().fit(initial_rates[:,0].reshape(-1,1), \n",
    "                                       np.abs(initial_rates[:,1]).reshape(-1,1))\n",
    "    \n",
    "    rate_constant = initial_rate_lm.coef_[0][0]\n",
    "    \n",
    "    return (traces,initial_rates,initial_rate_lm,rate_constant)\n",
    "\n",
    "def do_NADPH_assay(mod,\n",
    "                   vary,\n",
    "                    vary_init,\n",
    "                    end_time=15,\n",
    "                    points=1000):\n",
    "    \"\"\"\n",
    "    Performs an NADPH assay time course assay using a model containing H2O2 and NADPH.\n",
    "    \"\"\"\n",
    "    # Update model with assay params\n",
    "    vary_orig = getattr(mod,vary)\n",
    "    setattr(mod,vary,vary_init)    \n",
    "\n",
    "    # Get equilibrium at H2O2_init = 0\n",
    "    H2O2_orig = getattr(mod,\"H2O2_init\")\n",
    "    setattr(mod,\"H2O2_init\",0.0)\n",
    "    mod.doSim(end=1000000,points=2)\n",
    "\n",
    "    # Update model with equilibrium species concentrations\n",
    "    for species in mod.species:\n",
    "        setattr(mod, f\"{species}_init\",mod.sim[species][-1])\n",
    "        \n",
    "    # Restore H2O2_init\n",
    "    if vary == \"H2O2_init\":\n",
    "        setattr(mod,\"H2O2_init\",vary_init)\n",
    "    else:\n",
    "        setattr(mod,\"H2O2_init\",H2O2_orig)\n",
    "\n",
    "    # Simulate\n",
    "    mod.sim_end = end_time\n",
    "    mod.sim_points = points\n",
    "    mod.Simulate()\n",
    "\n",
    "    # Grab data\n",
    "    result = np.array((mod.sim[\"Time\"],mod.sim[\"NADPH\"]))\n",
    "\n",
    "    # Restore model\n",
    "    setattr(mod,vary,vary_orig)\n",
    "        \n",
    "    return result\n",
    "\n",
    "def fit_initial_rates(data,vary_init_range,start_point,end_point):\n",
    "    \"\"\"\n",
    "    Fits the initial rates of an NADPH assay\n",
    "    \"\"\"\n",
    "    initial_rates = list(map(lambda data_trace: get_initial_rate(data_trace,start_point,end_point,), data))\n",
    "    \n",
    "    initial_rate_data = np.array((vary_init_range,initial_rates)).transpose()\n",
    "    \n",
    "    return initial_rate_data\n",
    "\n",
    "def get_initial_rate(trace_data,start_point,end_point):\n",
    "    \"\"\"\n",
    "    Gets the initial rate of a time course.\n",
    "    \"\"\"\n",
    "    x_initial = trace_data[0][start_point:end_point].reshape(-1,1)\n",
    "    y_initial = trace_data[1][start_point:end_point].reshape(-1,1)\n",
    "    model = LinearRegression().fit(x_initial, y_initial)\n",
    "    r_sq = model.score(x_initial, y_initial)\n",
    "    if r_sq < 0.95:\n",
    "        print(f\"WARNING, non-linear data range:\\n r_sq = {r_sq:.4}\")\n",
    "    return model.coef_[0][0]\n",
    "\n"
   ]
  },
  {
   "cell_type": "markdown",
   "id": "c95e806f",
   "metadata": {},
   "source": [
    "## Parameter set 1 (in paper)"
   ]
  },
  {
   "cell_type": "markdown",
   "id": "d99b99ad",
   "metadata": {},
   "source": [
    "Assay species concentrations based on Melinda thesis fig 4.14 "
   ]
  },
  {
   "cell_type": "code",
   "execution_count": 9,
   "id": "313d9ddf",
   "metadata": {
    "ExecuteTime": {
     "end_time": "2023-06-23T08:06:21.364501Z",
     "start_time": "2023-06-23T08:06:21.359033Z"
    }
   },
   "outputs": [],
   "source": [
    "# Set assay conditions\n",
    "exp_Prx_p1 = 0.05 # µM\n",
    "exp_Trx_p1 = 10 # µM\n",
    "kcatTRR = 73\n",
    "exp_TRR_p1 = 0.5 # µM\n",
    "exp_H2O2_p1 = 5 # H2O2 0 to 10 µM\n",
    "exp_NADPH_p1 = 150 # µM\n",
    "# ammonium sulfate, 100 mM; EDTA, 1 mM; potassium phosphate, 25 mM \n",
    "# (pH 7)"
   ]
  },
  {
   "cell_type": "markdown",
   "id": "7e734b28",
   "metadata": {},
   "source": [
    "### Vary H2O2"
   ]
  },
  {
   "cell_type": "code",
   "execution_count": 10,
   "id": "961a4e5f",
   "metadata": {
    "ExecuteTime": {
     "end_time": "2023-06-23T08:06:23.018087Z",
     "start_time": "2023-06-23T08:06:21.372525Z"
    }
   },
   "outputs": [
    {
     "name": "stdout",
     "output_type": "stream",
     "text": [
      "Using model directory: /home/chris/Dropbox/Studies/6. PhD/Papers [Chris B]/Decamerisation_cycle_of_PRDX1/Data/models\n",
      "/home/chris/Dropbox/Studies/6. PhD/Papers [Chris B]/Decamerisation_cycle_of_PRDX1/Data/models/PRDX2_sys.psc loading ..... \n",
      "Parsing file: /home/chris/Dropbox/Studies/6. PhD/Papers [Chris B]/Decamerisation_cycle_of_PRDX1/Data/models/PRDX2_sys.psc\n",
      "Info: No reagents have been fixed\n",
      " \n",
      "Calculating L matrix . . . . . . . . .  done.\n",
      "Calculating K matrix . . . . . . . . . . .  done.\n",
      " \n",
      "Using model directory: /home/chris/Dropbox/Studies/6. PhD/Papers [Chris B]/Decamerisation_cycle_of_PRDX1/Data/models\n",
      "/home/chris/Dropbox/Studies/6. PhD/Papers [Chris B]/Decamerisation_cycle_of_PRDX1/Data/models/PRDX2_sys_decfull.psc loading ..... \n",
      "Parsing file: /home/chris/Dropbox/Studies/6. PhD/Papers [Chris B]/Decamerisation_cycle_of_PRDX1/Data/models/PRDX2_sys_decfull.psc\n",
      "Info: No reagents have been fixed\n",
      " \n",
      "Calculating L matrix . . . . . . . . . . .  done.\n",
      "Calculating K matrix . . . . . . . . . . . . . . . . .  done.\n",
      " \n"
     ]
    }
   ],
   "source": [
    "# Load models\n",
    "\n",
    "# Prx cycle with decamers\n",
    "mod_Prx_cycle_no_dec_p1 = pysces.model(\"PRDX2_sys.psc\", dir=mod_dir)\n",
    "mod_Prx_cycle_no_dec_p1.mode_integrator = 'CVODE'\n",
    "\n",
    "# Prx cycle with decamers\n",
    "mod_Prx_cycle_with_dec_p1 = pysces.model(\"PRDX2_sys_decfull.psc\", dir=mod_dir)\n",
    "mod_Prx_cycle_with_dec_p1.mode_integrator = 'CVODE'\n",
    "mod_Prx_cycle_with_dec_p1 = update_params_BenfeitasModels(mod_Prx_cycle_with_dec_p1,df_dim_dec_rates)\n",
    "\n",
    "# Adjust Prx cycle no decamer\n",
    "setattr(mod_Prx_cycle_no_dec_p1, \"SH_SH_init\", exp_Prx_p1)\n",
    "setattr(mod_Prx_cycle_no_dec_p1, \"TrxSH_init\", exp_Trx_p1)\n",
    "setattr(mod_Prx_cycle_no_dec_p1, \"VMaxTrxR\", exp_TRR_p1*kcatTRR)\n",
    "setattr(mod_Prx_cycle_no_dec_p1, \"H2O2_init\", exp_H2O2_p1)\n",
    "setattr(mod_Prx_cycle_no_dec_p1, \"NADPH_init\", exp_NADPH_p1)\n",
    "\n",
    "# Adjust Prx cycle with decamer\n",
    "setattr(mod_Prx_cycle_with_dec_p1, \"SH_SH_init\", exp_Prx_p1)\n",
    "setattr(mod_Prx_cycle_with_dec_p1, \"TrxSH_init\", exp_Trx_p1)\n",
    "setattr(mod_Prx_cycle_with_dec_p1, \"VMaxTrxR\", exp_TRR_p1*kcatTRR)\n",
    "setattr(mod_Prx_cycle_with_dec_p1, \"H2O2_init\", exp_H2O2_p1)\n",
    "setattr(mod_Prx_cycle_with_dec_p1, \"NADPH_init\", exp_NADPH_p1)"
   ]
  },
  {
   "cell_type": "code",
   "execution_count": 11,
   "id": "0af3bdc6",
   "metadata": {
    "ExecuteTime": {
     "end_time": "2023-06-23T08:06:23.027084Z",
     "start_time": "2023-06-23T08:06:23.022209Z"
    }
   },
   "outputs": [],
   "source": [
    "# Assay params\n",
    "vary_vh = \"H2O2_init\"\n",
    "vary_init_range_vh_p1 = np.array([0.1,2.5,7.5,10.0])"
   ]
  },
  {
   "cell_type": "markdown",
   "id": "141cffb8",
   "metadata": {},
   "source": [
    "#### Assay"
   ]
  },
  {
   "cell_type": "code",
   "execution_count": 12,
   "id": "d3577944",
   "metadata": {
    "ExecuteTime": {
     "end_time": "2023-06-23T08:06:28.374798Z",
     "start_time": "2023-06-23T08:06:23.030513Z"
    }
   },
   "outputs": [
    {
     "name": "stdout",
     "output_type": "stream",
     "text": [
      "CVODE time for 2 points: 0.0022046566009521484\n",
      "CVODE time for 1000 points: 0.13506650924682617\n",
      "CVODE time for 2 points: 0.002210855484008789\n",
      "CVODE time for 1000 points: 0.11559367179870605\n",
      "CVODE time for 2 points: 0.0015630722045898438\n",
      "CVODE time for 1000 points: 0.07479715347290039\n",
      "CVODE time for 2 points: 0.001394510269165039\n",
      "CVODE time for 1000 points: 0.07487750053405762\n",
      "CVODE time for 2 points: 0.16535186767578125\n",
      "CVODE time for 1000 points: 0.9663920402526855\n",
      "CVODE time for 2 points: 0.051816463470458984\n",
      "CVODE time for 1000 points: 1.2654643058776855\n",
      "CVODE time for 2 points: 0.05088615417480469\n",
      "CVODE time for 1000 points: 0.8577876091003418\n",
      "CVODE time for 2 points: 0.06464672088623047\n",
      "CVODE time for 1000 points: 1.2656834125518799\n"
     ]
    }
   ],
   "source": [
    "# Simulate NADPH initial rates experiments\n",
    "assay_end=150\n",
    "assay_points=assay_end+1\n",
    "i_rate_start=3\n",
    "i_rate_end=10\n",
    "\n",
    "mod = mod_Prx_cycle_no_dec_p1\n",
    "NADPH_exp_no_dec_p1_vh = do_NADPH_exp(mod,\n",
    "                                         vary_vh,\n",
    "                                         vary_init_range_vh_p1,\n",
    "                                         assay_end=assay_end,\n",
    "                                         i_rate_start=i_rate_start,\n",
    "                                         i_rate_end=i_rate_end)\n",
    "\n",
    "mod = mod_Prx_cycle_with_dec_p1\n",
    "NADPH_exp_with_dec_p1_vh = do_NADPH_exp(mod,\n",
    "                                         vary_vh,\n",
    "                                         vary_init_range_vh_p1,\n",
    "                                         assay_end=assay_end,\n",
    "                                         i_rate_start=i_rate_start,\n",
    "                                         i_rate_end=i_rate_end)\n"
   ]
  },
  {
   "cell_type": "code",
   "execution_count": 13,
   "id": "1adb2946",
   "metadata": {
    "ExecuteTime": {
     "end_time": "2023-06-23T08:06:28.668442Z",
     "start_time": "2023-06-23T08:06:28.376561Z"
    }
   },
   "outputs": [
    {
     "name": "stderr",
     "output_type": "stream",
     "text": [
      "/tmp/ipykernel_96387/3013046871.py:43: UserWarning: Matplotlib is currently using module://matplotlib_inline.backend_inline, which is a non-GUI backend, so cannot show the figure.\n",
      "  f.show()\n"
     ]
    },
    {
     "data": {
      "image/png": "[encoded data removed]",
      "text/plain": [
       "<Figure size 450x350 with 1 Axes>"
      ]
     },
     "metadata": {},
     "output_type": "display_data"
    }
   ],
   "source": [
    "# Plot time courses\n",
    "\n",
    "# Assay data for plot\n",
    "NADPH_assays_no_dec = NADPH_exp_no_dec_p1_vh[0]\n",
    "NADPH_assays_with_dec = NADPH_exp_with_dec_p1_vh[0]\n",
    "\n",
    "# Build figure\n",
    "cols = 1\n",
    "rows = 1\n",
    "\n",
    "f, axarr = plt.subplots(rows,cols)\n",
    "f.set_size_inches(w=mpl_width,h=mpl_height)\n",
    "\n",
    "handle_list= []\n",
    "\n",
    "for count,assay in enumerate(NADPH_assays_no_dec):\n",
    "    axarr.plot(assay[0,:], \n",
    "               assay[1,:], \n",
    "               f\"{color_wheel[count]}\",\n",
    "               marker=WSA_no_dec_marker,\n",
    "               markevery=200,\n",
    "               markersize = mpl_marker_size,\n",
    "               mec = 'k') \n",
    "    handle = mpatches.Patch(color=f\"{color_wheel[count]}\", label=f\"{vary_init_range_vh_p1[count]}\")\n",
    "    handle_list.append(handle)\n",
    "    \n",
    "for count,assay in enumerate(NADPH_assays_with_dec):\n",
    "    axarr.plot(assay[0,:], \n",
    "               assay[1,:], \n",
    "               f\"{color_wheel[count]}\",\n",
    "               linestyle=\"--\",\n",
    "               marker=WSA_dec_marker,\n",
    "               markevery=200,\n",
    "               markersize = mpl_marker_size,\n",
    "               mec = 'k')\n",
    "    \n",
    "axarr.set_xlabel(\"Time (sec)\", fontsize=mpl_xlabel_fontsize)\n",
    "axarr.set_ylabel(f\"NADPH ({mu}M)\",fontsize=mpl_ylabel_fontsize)\n",
    "\n",
    "title_species = vary_vh.split(\"_\")[0]\n",
    "axarr.legend(handles=handle_list,title=f\"{title_species} ({mu}M)\",loc=(0.75,0.5))\n",
    "f.tight_layout()\n",
    "f.show()\n"
   ]
  },
  {
   "cell_type": "markdown",
   "id": "302a87f5",
   "metadata": {},
   "source": [
    "### Vary Prx"
   ]
  },
  {
   "cell_type": "code",
   "execution_count": 14,
   "id": "99549adc",
   "metadata": {
    "ExecuteTime": {
     "end_time": "2023-06-23T08:06:31.488338Z",
     "start_time": "2023-06-23T08:06:28.670840Z"
    }
   },
   "outputs": [
    {
     "name": "stdout",
     "output_type": "stream",
     "text": [
      "Using model directory: /home/chris/Dropbox/Studies/6. PhD/Papers [Chris B]/Decamerisation_cycle_of_PRDX1/Data/models\n",
      "/home/chris/Dropbox/Studies/6. PhD/Papers [Chris B]/Decamerisation_cycle_of_PRDX1/Data/models/PRDX2_sys.psc loading ..... \n",
      "Parsing file: /home/chris/Dropbox/Studies/6. PhD/Papers [Chris B]/Decamerisation_cycle_of_PRDX1/Data/models/PRDX2_sys.psc\n",
      "Info: No reagents have been fixed\n",
      " \n",
      "Calculating L matrix . . . . . . . . .  done.\n",
      "Calculating K matrix . . . . . . . . . . .  done.\n",
      " \n",
      "Using model directory: /home/chris/Dropbox/Studies/6. PhD/Papers [Chris B]/Decamerisation_cycle_of_PRDX1/Data/models\n",
      "/home/chris/Dropbox/Studies/6. PhD/Papers [Chris B]/Decamerisation_cycle_of_PRDX1/Data/models/PRDX2_sys_decfull.psc loading ..... \n",
      "Parsing file: /home/chris/Dropbox/Studies/6. PhD/Papers [Chris B]/Decamerisation_cycle_of_PRDX1/Data/models/PRDX2_sys_decfull.psc\n",
      "Info: No reagents have been fixed\n",
      " \n",
      "Calculating L matrix . . . . . . . . . . .  done.\n",
      "Calculating K matrix . . . . . . . . . . . . . . . . .  done.\n",
      " \n"
     ]
    }
   ],
   "source": [
    "# Load models\n",
    "\n",
    "# Prx cycle with decamers\n",
    "mod_Prx_cycle_no_dec_p1 = pysces.model(\"PRDX2_sys.psc\", dir=mod_dir)\n",
    "mod_Prx_cycle_no_dec_p1.mode_integrator = 'CVODE'\n",
    "\n",
    "# Prx cycle with decamers\n",
    "mod_Prx_cycle_with_dec_p1 = pysces.model(\"PRDX2_sys_decfull.psc\", dir=mod_dir)\n",
    "mod_Prx_cycle_with_dec_p1.mode_integrator = 'CVODE'\n",
    "mod_Prx_cycle_with_dec_p1 = update_params_BenfeitasModels(mod_Prx_cycle_with_dec_p1,df_dim_dec_rates)\n",
    "\n",
    "# Adjust Prx cycle no decamer\n",
    "setattr(mod_Prx_cycle_no_dec_p1, \"SH_SH_init\", exp_Prx_p1)\n",
    "setattr(mod_Prx_cycle_no_dec_p1, \"TrxSH_init\", exp_Trx_p1)\n",
    "setattr(mod_Prx_cycle_no_dec_p1, \"VMaxTrxR\", exp_TRR_p1*kcatTRR)\n",
    "setattr(mod_Prx_cycle_no_dec_p1, \"H2O2_init\", exp_H2O2_p1)\n",
    "setattr(mod_Prx_cycle_no_dec_p1, \"NADPH_init\", exp_NADPH_p1)\n",
    "\n",
    "# Adjust Prx cycle with decamer\n",
    "setattr(mod_Prx_cycle_with_dec_p1, \"SH_SH_init\", exp_Prx_p1)\n",
    "setattr(mod_Prx_cycle_with_dec_p1, \"TrxSH_init\", exp_Trx_p1)\n",
    "setattr(mod_Prx_cycle_with_dec_p1, \"VMaxTrxR\", exp_TRR_p1*kcatTRR)\n",
    "setattr(mod_Prx_cycle_with_dec_p1, \"H2O2_init\", exp_H2O2_p1)\n",
    "setattr(mod_Prx_cycle_with_dec_p1, \"NADPH_init\", exp_NADPH_p1)"
   ]
  },
  {
   "cell_type": "code",
   "execution_count": 15,
   "id": "622cf5f5",
   "metadata": {
    "ExecuteTime": {
     "end_time": "2023-06-23T08:06:31.493722Z",
     "start_time": "2023-06-23T08:06:31.490101Z"
    }
   },
   "outputs": [],
   "source": [
    "# Assay params\n",
    "vary_vp = \"SH_SH_init\"\n",
    "vary_init_range_vp_p1 = np.array([0.01,0.05,0.1])"
   ]
  },
  {
   "cell_type": "markdown",
   "id": "e6ea5b12",
   "metadata": {},
   "source": [
    "#### Test rate limiting "
   ]
  },
  {
   "cell_type": "markdown",
   "id": "94a7796c",
   "metadata": {},
   "source": [
    "Confirm that species concentrations in reducing system are sufficient that assay is oxidation limited over the Prx range."
   ]
  },
  {
   "cell_type": "code",
   "execution_count": 16,
   "id": "55dcadd6",
   "metadata": {
    "ExecuteTime": {
     "end_time": "2023-06-23T08:09:25.213748Z",
     "start_time": "2023-06-23T08:06:31.498715Z"
    }
   },
   "outputs": [
    {
     "name": "stdout",
     "output_type": "stream",
     "text": [
      "CVODE time for 2 points: 0.0023643970489501953\n",
      "CVODE time for 1000 points: 0.1183929443359375\n",
      "CVODE time for 2 points: 0.0024003982543945312\n",
      "CVODE time for 1000 points: 0.19217634201049805\n",
      "CVODE time for 2 points: 0.0017795562744140625\n",
      "CVODE time for 1000 points: 0.24486565589904785\n",
      "CVODE time for 2 points: 0.002954721450805664\n",
      "CVODE time for 1000 points: 0.1524949073791504\n",
      "CVODE time for 2 points: 0.00188446044921875\n",
      "CVODE time for 1000 points: 0.19266629219055176\n",
      "CVODE time for 2 points: 0.002157449722290039\n",
      "CVODE time for 1000 points: 0.2221519947052002\n",
      "CVODE time for 2 points: 0.0036971569061279297\n",
      "CVODE time for 1000 points: 0.28441858291625977\n",
      "CVODE time for 2 points: 0.004419565200805664\n",
      "CVODE time for 1000 points: 0.33339595794677734\n",
      "CVODE time for 2 points: 0.003070831298828125\n",
      "CVODE time for 1000 points: 0.41193556785583496\n",
      "CVODE time for 2 points: 0.004227399826049805\n",
      "CVODE time for 1000 points: 0.1895449161529541\n",
      "CVODE time for 2 points: 0.0032324790954589844\n",
      "CVODE time for 1000 points: 0.23158955574035645\n",
      "CVODE time for 2 points: 0.00330352783203125\n",
      "CVODE time for 1000 points: 0.2419290542602539\n",
      "CVODE time for 2 points: 0.003697633743286133\n",
      "CVODE time for 1000 points: 0.14009499549865723\n",
      "CVODE time for 2 points: 0.0023832321166992188\n",
      "CVODE time for 1000 points: 0.16482830047607422\n",
      "CVODE time for 2 points: 0.001966714859008789\n",
      "CVODE time for 1000 points: 0.16830682754516602\n",
      "CVODE time for 2 points: 0.0019683837890625\n",
      "CVODE time for 1000 points: 0.13364076614379883\n",
      "CVODE time for 2 points: 0.002518892288208008\n",
      "CVODE time for 1000 points: 0.20308446884155273\n",
      "CVODE time for 2 points: 0.004514217376708984\n",
      "CVODE time for 1000 points: 0.21268081665039062\n",
      "CVODE time for 2 points: 0.0033385753631591797\n",
      "CVODE time for 1000 points: 0.1208653450012207\n",
      "CVODE time for 2 points: 0.0017399787902832031\n",
      "CVODE time for 1000 points: 0.15586161613464355\n",
      "CVODE time for 2 points: 0.0018396377563476562\n",
      "CVODE time for 1000 points: 0.13135552406311035\n",
      "CVODE time for 2 points: 0.002194643020629883\n",
      "CVODE time for 1000 points: 0.11281251907348633\n",
      "CVODE time for 2 points: 0.0017206668853759766\n",
      "CVODE time for 1000 points: 0.2038886547088623\n",
      "CVODE time for 2 points: 0.001581430435180664\n",
      "CVODE time for 1000 points: 0.13610076904296875\n",
      "CVODE time for 2 points: 0.1472780704498291\n",
      "CVODE time for 1000 points: 1.24934720993042\n",
      "CVODE time for 2 points: 0.16141104698181152\n",
      "CVODE time for 1000 points: 3.1331393718719482\n",
      "CVODE time for 2 points: 0.3179175853729248\n",
      "CVODE time for 1000 points: 2.2820653915405273\n",
      "CVODE time for 2 points: 0.18076109886169434\n",
      "CVODE time for 1000 points: 0.9324934482574463\n",
      "CVODE time for 2 points: 0.16049456596374512\n",
      "CVODE time for 1000 points: 1.923508882522583\n",
      "CVODE time for 2 points: 0.16490864753723145\n",
      "CVODE time for 1000 points: 1.868941068649292\n",
      "CVODE time for 2 points: 0.15952372550964355\n",
      "CVODE time for 1000 points: 0.9452505111694336\n",
      "CVODE time for 2 points: 0.16338729858398438\n",
      "CVODE time for 1000 points: 2.026766538619995\n",
      "CVODE time for 2 points: 0.1617584228515625\n",
      "CVODE time for 1000 points: 2.610457181930542\n",
      "CVODE time for 2 points: 0.19014787673950195\n",
      "CVODE time for 1000 points: 0.9036471843719482\n",
      "CVODE time for 2 points: 0.13225698471069336\n",
      "CVODE time for 1000 points: 1.848484992980957\n",
      "CVODE time for 2 points: 0.18214845657348633\n",
      "CVODE time for 1000 points: 2.663902997970581\n",
      "CVODE time for 2 points: 0.3006415367126465\n",
      "CVODE time for 1000 points: 1.3888142108917236\n",
      "CVODE time for 2 points: 0.16987371444702148\n",
      "CVODE time for 1000 points: 2.215024471282959\n",
      "CVODE time for 2 points: 0.26348280906677246\n",
      "CVODE time for 1000 points: 2.1773762702941895\n",
      "CVODE time for 2 points: 0.18472623825073242\n",
      "CVODE time for 1000 points: 0.9455516338348389\n",
      "CVODE time for 2 points: 0.17405152320861816\n",
      "CVODE time for 1000 points: 2.4237873554229736\n",
      "CVODE time for 2 points: 0.17954683303833008\n",
      "CVODE time for 1000 points: 1.791266679763794\n",
      "CVODE time for 2 points: 0.18352937698364258\n",
      "CVODE time for 1000 points: 0.9376599788665771\n",
      "CVODE time for 2 points: 0.09144830703735352\n",
      "CVODE time for 1000 points: 1.9502980709075928\n",
      "CVODE time for 2 points: 0.18039703369140625\n",
      "CVODE time for 1000 points: 1.7626962661743164\n",
      "CVODE time for 2 points: 0.1911942958831787\n",
      "CVODE time for 1000 points: 0.9774994850158691\n",
      "CVODE time for 2 points: 0.10356879234313965\n",
      "CVODE time for 1000 points: 2.238072395324707\n",
      "CVODE time for 2 points: 0.21776938438415527\n",
      "CVODE time for 1000 points: 1.8165769577026367\n",
      "CVODE time for 2 points: 0.0014407634735107422\n",
      "CVODE time for 1000 points: 0.08074760437011719\n",
      "CVODE time for 2 points: 0.0015332698822021484\n",
      "CVODE time for 1000 points: 0.11024618148803711\n",
      "CVODE time for 2 points: 0.0014116764068603516\n",
      "CVODE time for 1000 points: 0.10859990119934082\n",
      "CVODE time for 2 points: 0.0013408660888671875\n",
      "CVODE time for 1000 points: 0.08344841003417969\n",
      "CVODE time for 2 points: 0.0014793872833251953\n",
      "CVODE time for 1000 points: 0.10753679275512695\n",
      "CVODE time for 2 points: 0.0016269683837890625\n",
      "CVODE time for 1000 points: 0.11135363578796387\n",
      "CVODE time for 2 points: 0.0014874935150146484\n",
      "CVODE time for 1000 points: 0.08640789985656738\n",
      "CVODE time for 2 points: 0.001402139663696289\n",
      "CVODE time for 1000 points: 0.11859869956970215\n",
      "CVODE time for 2 points: 0.0014195442199707031\n",
      "CVODE time for 1000 points: 0.11128711700439453\n",
      "CVODE time for 2 points: 0.0015025138854980469\n",
      "CVODE time for 1000 points: 0.08423852920532227\n",
      "CVODE time for 2 points: 0.0016317367553710938\n",
      "CVODE time for 1000 points: 0.11122488975524902\n",
      "CVODE time for 2 points: 0.001392364501953125\n",
      "CVODE time for 1000 points: 0.10685229301452637\n",
      "CVODE time for 2 points: 0.0016064643859863281\n",
      "CVODE time for 1000 points: 0.0923924446105957\n",
      "CVODE time for 2 points: 0.001949310302734375\n",
      "CVODE time for 1000 points: 0.13537311553955078\n",
      "CVODE time for 2 points: 0.001495361328125\n",
      "CVODE time for 1000 points: 0.13057494163513184\n",
      "CVODE time for 2 points: 0.0030465126037597656\n",
      "CVODE time for 1000 points: 0.11233139038085938\n",
      "CVODE time for 2 points: 0.002105236053466797\n",
      "CVODE time for 1000 points: 0.1514275074005127\n",
      "CVODE time for 2 points: 0.002104043960571289\n",
      "CVODE time for 1000 points: 0.1444690227508545\n",
      "CVODE time for 2 points: 0.0016357898712158203\n",
      "CVODE time for 1000 points: 0.11436748504638672\n",
      "CVODE time for 2 points: 0.0018048286437988281\n",
      "CVODE time for 1000 points: 0.15213322639465332\n",
      "CVODE time for 2 points: 0.0022554397583007812\n",
      "CVODE time for 1000 points: 0.12645792961120605\n",
      "CVODE time for 2 points: 0.0016875267028808594\n",
      "CVODE time for 1000 points: 0.0957024097442627\n",
      "CVODE time for 2 points: 0.0018489360809326172\n",
      "CVODE time for 1000 points: 0.12703490257263184\n",
      "CVODE time for 2 points: 0.0016205310821533203\n",
      "CVODE time for 1000 points: 0.11419677734375\n",
      "CVODE time for 2 points: 0.16028761863708496\n",
      "CVODE time for 1000 points: 1.568669080734253\n",
      "CVODE time for 2 points: 0.23027634620666504\n",
      "CVODE time for 1000 points: 2.7387962341308594\n",
      "CVODE time for 2 points: 0.1876225471496582\n",
      "CVODE time for 1000 points: 2.242353677749634\n",
      "CVODE time for 2 points: 0.3053097724914551\n",
      "CVODE time for 1000 points: 1.3383347988128662\n",
      "CVODE time for 2 points: 0.23160624504089355\n",
      "CVODE time for 1000 points: 2.476329803466797\n",
      "CVODE time for 2 points: 0.19179320335388184\n",
      "CVODE time for 1000 points: 2.6312124729156494\n",
      "CVODE time for 2 points: 0.35852694511413574\n",
      "CVODE time for 1000 points: 2.199082374572754\n",
      "CVODE time for 2 points: 0.29486751556396484\n",
      "CVODE time for 1000 points: 3.120086669921875\n",
      "CVODE time for 2 points: 0.2863729000091553\n",
      "CVODE time for 1000 points: 2.4784533977508545\n",
      "CVODE time for 2 points: 0.23627686500549316\n",
      "CVODE time for 1000 points: 1.4367496967315674\n",
      "CVODE time for 2 points: 0.22360777854919434\n",
      "CVODE time for 1000 points: 2.38364577293396\n",
      "CVODE time for 2 points: 0.17734050750732422\n",
      "CVODE time for 1000 points: 1.865729808807373\n",
      "CVODE time for 2 points: 0.18286466598510742\n",
      "CVODE time for 1000 points: 1.6799490451812744\n",
      "CVODE time for 2 points: 0.18880200386047363\n",
      "CVODE time for 1000 points: 1.7815794944763184\n",
      "CVODE time for 2 points: 0.17641782760620117\n",
      "CVODE time for 1000 points: 1.8673367500305176\n",
      "CVODE time for 2 points: 0.20555973052978516\n",
      "CVODE time for 1000 points: 1.1024315357208252\n",
      "CVODE time for 2 points: 0.1658318042755127\n"
     ]
    },
    {
     "name": "stdout",
     "output_type": "stream",
     "text": [
      "CVODE time for 1000 points: 2.7415761947631836\n",
      "CVODE time for 2 points: 0.15015459060668945\n",
      "CVODE time for 1000 points: 1.7107946872711182\n",
      "CVODE time for 2 points: 0.1788647174835205\n",
      "CVODE time for 1000 points: 1.0156142711639404\n",
      "CVODE time for 2 points: 0.15104889869689941\n",
      "CVODE time for 1000 points: 1.8610296249389648\n",
      "CVODE time for 2 points: 0.18712186813354492\n",
      "CVODE time for 1000 points: 3.222654104232788\n",
      "CVODE time for 2 points: 0.19014787673950195\n",
      "CVODE time for 1000 points: 1.1622445583343506\n",
      "CVODE time for 2 points: 0.23640227317810059\n",
      "CVODE time for 1000 points: 2.0489344596862793\n",
      "CVODE time for 2 points: 0.18979167938232422\n",
      "CVODE time for 1000 points: 2.3590056896209717\n",
      "CVODE time for 2 points: 0.002259492874145508\n",
      "CVODE time for 1000 points: 0.10506749153137207\n",
      "CVODE time for 2 points: 0.0016102790832519531\n",
      "CVODE time for 1000 points: 0.13139653205871582\n",
      "CVODE time for 2 points: 0.0015382766723632812\n",
      "CVODE time for 1000 points: 0.12836050987243652\n",
      "CVODE time for 2 points: 0.0018486976623535156\n",
      "CVODE time for 1000 points: 0.08721685409545898\n",
      "CVODE time for 2 points: 0.0015263557434082031\n",
      "CVODE time for 1000 points: 0.1571650505065918\n",
      "CVODE time for 2 points: 0.001741170883178711\n",
      "CVODE time for 1000 points: 0.1510465145111084\n",
      "CVODE time for 2 points: 0.001825571060180664\n",
      "CVODE time for 1000 points: 0.09806275367736816\n",
      "CVODE time for 2 points: 0.001497030258178711\n",
      "CVODE time for 1000 points: 0.1192784309387207\n",
      "CVODE time for 2 points: 0.0015201568603515625\n",
      "CVODE time for 1000 points: 0.11482477188110352\n",
      "CVODE time for 2 points: 0.0014312267303466797\n",
      "CVODE time for 1000 points: 0.09272217750549316\n",
      "CVODE time for 2 points: 0.0013947486877441406\n",
      "CVODE time for 1000 points: 0.12344098091125488\n",
      "CVODE time for 2 points: 0.0014383792877197266\n",
      "CVODE time for 1000 points: 0.11881351470947266\n",
      "CVODE time for 2 points: 0.0023658275604248047\n",
      "CVODE time for 1000 points: 0.09348320960998535\n",
      "CVODE time for 2 points: 0.0016674995422363281\n",
      "CVODE time for 1000 points: 0.1253035068511963\n",
      "CVODE time for 2 points: 0.0017619132995605469\n",
      "CVODE time for 1000 points: 0.13698315620422363\n",
      "CVODE time for 2 points: 0.0023734569549560547\n",
      "CVODE time for 1000 points: 0.10593461990356445\n",
      "CVODE time for 2 points: 0.0016601085662841797\n",
      "CVODE time for 1000 points: 0.15714526176452637\n",
      "CVODE time for 2 points: 0.0017974376678466797\n",
      "CVODE time for 1000 points: 0.14568829536437988\n",
      "CVODE time for 2 points: 0.0017027854919433594\n",
      "CVODE time for 1000 points: 0.10212254524230957\n",
      "CVODE time for 2 points: 0.0014064311981201172\n",
      "CVODE time for 1000 points: 0.13118553161621094\n",
      "CVODE time for 2 points: 0.001386880874633789\n",
      "CVODE time for 1000 points: 0.11760354042053223\n",
      "CVODE time for 2 points: 0.0013287067413330078\n",
      "CVODE time for 1000 points: 0.09694194793701172\n",
      "CVODE time for 2 points: 0.0014328956604003906\n",
      "CVODE time for 1000 points: 0.1205759048461914\n",
      "CVODE time for 2 points: 0.0021774768829345703\n",
      "CVODE time for 1000 points: 0.1053917407989502\n",
      "CVODE time for 2 points: 0.1563272476196289\n",
      "CVODE time for 1000 points: 1.0780582427978516\n",
      "CVODE time for 2 points: 0.17313361167907715\n",
      "CVODE time for 1000 points: 2.6377665996551514\n",
      "CVODE time for 2 points: 0.3643660545349121\n",
      "CVODE time for 1000 points: 3.5299196243286133\n",
      "CVODE time for 2 points: 0.24347543716430664\n",
      "CVODE time for 1000 points: 1.9260435104370117\n",
      "CVODE time for 2 points: 0.24863648414611816\n",
      "CVODE time for 1000 points: 3.0423872470855713\n",
      "CVODE time for 2 points: 0.2561161518096924\n",
      "CVODE time for 1000 points: 2.688278913497925\n",
      "CVODE time for 2 points: 0.24141287803649902\n",
      "CVODE time for 1000 points: 2.1071269512176514\n",
      "CVODE time for 2 points: 0.27581119537353516\n",
      "CVODE time for 1000 points: 3.3799502849578857\n",
      "CVODE time for 2 points: 0.19928932189941406\n",
      "CVODE time for 1000 points: 2.384243965148926\n",
      "CVODE time for 2 points: 0.2136547565460205\n",
      "CVODE time for 1000 points: 1.3573598861694336\n",
      "CVODE time for 2 points: 0.17142772674560547\n",
      "CVODE time for 1000 points: 2.4565248489379883\n",
      "CVODE time for 2 points: 0.3556509017944336\n",
      "CVODE time for 1000 points: 2.083820343017578\n",
      "CVODE time for 2 points: 0.1645340919494629\n",
      "CVODE time for 1000 points: 1.1919209957122803\n",
      "CVODE time for 2 points: 0.15498876571655273\n",
      "CVODE time for 1000 points: 2.968733310699463\n",
      "CVODE time for 2 points: 0.2833986282348633\n",
      "CVODE time for 1000 points: 2.418966293334961\n",
      "CVODE time for 2 points: 0.1597607135772705\n",
      "CVODE time for 1000 points: 1.3716039657592773\n",
      "CVODE time for 2 points: 0.17292118072509766\n",
      "CVODE time for 1000 points: 2.253171443939209\n",
      "CVODE time for 2 points: 0.17877769470214844\n",
      "CVODE time for 1000 points: 1.911332607269287\n",
      "CVODE time for 2 points: 0.1638352870941162\n",
      "CVODE time for 1000 points: 1.0686023235321045\n",
      "CVODE time for 2 points: 0.16516995429992676\n",
      "CVODE time for 1000 points: 2.219604253768921\n",
      "CVODE time for 2 points: 0.1726703643798828\n",
      "CVODE time for 1000 points: 1.761927604675293\n",
      "CVODE time for 2 points: 0.20562529563903809\n",
      "CVODE time for 1000 points: 1.5234942436218262\n",
      "CVODE time for 2 points: 0.1996622085571289\n",
      "CVODE time for 1000 points: 2.3775980472564697\n",
      "CVODE time for 2 points: 0.17804360389709473\n",
      "CVODE time for 1000 points: 1.7893965244293213\n"
     ]
    }
   ],
   "source": [
    "# Simulate NADPH initial rates experiments\n",
    "\n",
    "# Standard NADPH exp params\n",
    "assay_end=1000\n",
    "assay_points=assay_end+1\n",
    "i_rate_start=3\n",
    "i_rate_end=10\n",
    "\n",
    "# Double vary params \n",
    "vary_vtrx = \"TrxSH_init\"\n",
    "vary_vtrr = \"VMaxTrxR\"# Vmax is already kcat*TRR so Vmax*multiplier == kcat*TRR*multiplier\n",
    "vary_vnadph = \"NADPH_init\"\n",
    "vary2_init_multipliers = np.array([1,2.5,5,7.5,10,15,20,50])\n",
    "\n",
    "# Vary Trx\n",
    "mod = mod_Prx_cycle_no_dec_p1\n",
    "vary2_init_range_vtrx_p1 = vary2_init_multipliers*getattr(mod, vary_vtrx)\n",
    "k_no_dec_p1_vtrx = np.array(list(map(lambda vary2_init: do_NADPH_exp_double_vary(mod, \n",
    "                                                                                  vary_vp, \n",
    "                                                                                  vary_init_range_vp_p1, \n",
    "                                                                                  vary_vtrx,\n",
    "                                                                                  vary2_init)\n",
    "                                  ,vary2_init_range_vtrx_p1)))\n",
    "\n",
    "mod = mod_Prx_cycle_with_dec_p1\n",
    "k_with_dec_p1_vtrx = np.array(list(map(lambda vary2_init: do_NADPH_exp_double_vary(mod, \n",
    "                                                                                  vary_vp, \n",
    "                                                                                  vary_init_range_vp_p1, \n",
    "                                                                                  vary_vtrx,\n",
    "                                                                                  vary2_init)\n",
    "                                  ,vary2_init_range_vtrx_p1)))\n",
    "\n",
    "# Vary TRR\n",
    "mod = mod_Prx_cycle_no_dec_p1\n",
    "vary2_init_range_vtrr_p1 = vary2_init_multipliers*getattr(mod, vary_vtrr)\n",
    "k_no_dec_p1_vtrr = np.array(list(map(lambda vary2_init: do_NADPH_exp_double_vary(mod, \n",
    "                                                                                  vary_vp, \n",
    "                                                                                  vary_init_range_vp_p1, \n",
    "                                                                                  vary_vtrr,\n",
    "                                                                                  vary2_init)\n",
    "                                  ,vary2_init_range_vtrr_p1)))\n",
    "\n",
    "mod = mod_Prx_cycle_with_dec_p1\n",
    "k_with_dec_p1_vtrr = np.array(list(map(lambda vary2_init: do_NADPH_exp_double_vary(mod, \n",
    "                                                                                  vary_vp, \n",
    "                                                                                  vary_init_range_vp_p1, \n",
    "                                                                                  vary_vtrr,\n",
    "                                                                                  vary2_init)\n",
    "                                  ,vary2_init_range_vtrr_p1)))\n",
    "\n",
    "# Vary NADPH \n",
    "mod = mod_Prx_cycle_no_dec_p1\n",
    "vary2_init_range_vnadph_p1 = vary2_init_multipliers*getattr(mod, vary_vnadph)\n",
    "k_no_dec_p1_vnadph = np.array(list(map(lambda vary2_init: do_NADPH_exp_double_vary(mod, \n",
    "                                                                                  vary_vp, \n",
    "                                                                                  vary_init_range_vp_p1, \n",
    "                                                                                  vary_vnadph,\n",
    "                                                                                  vary2_init)\n",
    "                                  ,vary2_init_range_vnadph_p1)))\n",
    "\n",
    "mod = mod_Prx_cycle_with_dec_p1\n",
    "k_with_dec_p1_vnadph = np.array(list(map(lambda vary2_init: do_NADPH_exp_double_vary(mod, \n",
    "                                                                                  vary_vp, \n",
    "                                                                                  vary_init_range_vp_p1, \n",
    "                                                                                  vary_vnadph,\n",
    "                                                                                  vary2_init)\n",
    "                                  ,vary2_init_range_vnadph_p1)))\n",
    "\n"
   ]
  },
  {
   "cell_type": "code",
   "execution_count": 17,
   "id": "c8f4248d",
   "metadata": {
    "ExecuteTime": {
     "end_time": "2023-06-23T08:09:25.854652Z",
     "start_time": "2023-06-23T08:09:25.215878Z"
    }
   },
   "outputs": [
    {
     "name": "stderr",
     "output_type": "stream",
     "text": [
      "/tmp/ipykernel_96387/1240657136.py:28: UserWarning: Matplotlib is currently using module://matplotlib_inline.backend_inline, which is a non-GUI backend, so cannot show the figure.\n",
      "  f.show()\n"
     ]
    },
    {
     "data": {
      "image/png": "[encoded data removed]",
      "text/plain": [
       "<Figure size 450x1050 with 3 Axes>"
      ]
     },
     "metadata": {},
     "output_type": "display_data"
    }
   ],
   "source": [
    "# Plot results\n",
    "cols = 1\n",
    "rows = 3\n",
    "\n",
    "f, axarr = plt.subplots(rows, cols)\n",
    "f.set_size_inches(w=mpl_width*cols, h=mpl_height*rows)\n",
    "\n",
    "ax = axarr.flat[0]\n",
    "ax.plot(k_no_dec_p1_vtrx[:,0], k_no_dec_p1_vtrx[:,1],label=\"Max-act. dim.-only\")\n",
    "ax.plot(k_with_dec_p1_vtrx[:,0], k_with_dec_p1_vtrx[:,1],label=\"Mix-act. with dec\")\n",
    "ax.set_xlabel(f'Trx ({mu}M)',fontsize = mpl_xlabel_fontsize)\n",
    "ax.set_ylabel(f\"v ({mu}M$\\cdot \\mathrm{{s^{{-1}}}}$)\",fontsize = mpl_ylabel_fontsize)\n",
    "\n",
    "ax = axarr.flat[1]\n",
    "ax.plot(k_no_dec_p1_vtrr[:,0], k_no_dec_p1_vtrr[:,1])\n",
    "ax.plot(k_with_dec_p1_vtrr[:,0], k_with_dec_p1_vtrr[:,1])\n",
    "ax.set_xlabel(f'TRR Vmax ({mu}M$\\cdot \\mathrm{{s^{{-1}}}}$',fontsize = mpl_xlabel_fontsize)\n",
    "ax.set_ylabel(f\"v ({mu}M$\\cdot \\mathrm{{s^{{-1}}}}$)\",fontsize = mpl_ylabel_fontsize)\n",
    "\n",
    "ax = axarr.flat[2]\n",
    "ax.plot(k_no_dec_p1_vnadph[:,0], k_no_dec_p1_vnadph[:,1])\n",
    "ax.plot(k_with_dec_p1_vnadph[:,0], k_with_dec_p1_vnadph[:,1])\n",
    "ax.set_xlabel(f'NADPH ({mu}M)',fontsize = mpl_xlabel_fontsize)\n",
    "ax.set_ylabel(f\"v ({mu}M$\\cdot \\mathrm{{s^{{-1}}}}$)\",fontsize = mpl_ylabel_fontsize)\n",
    "\n",
    "f.legend()\n",
    "f.tight_layout()\n",
    "f.show()\n"
   ]
  },
  {
   "cell_type": "markdown",
   "id": "71c85dd7",
   "metadata": {},
   "source": [
    "##### Adjust models "
   ]
  },
  {
   "cell_type": "markdown",
   "id": "add85f21",
   "metadata": {},
   "source": [
    "As shown above, Trx needs to be increased so that reduction is no longer rate limiting."
   ]
  },
  {
   "cell_type": "code",
   "execution_count": 18,
   "id": "45603a59",
   "metadata": {
    "ExecuteTime": {
     "end_time": "2023-06-23T08:09:25.859681Z",
     "start_time": "2023-06-23T08:09:25.856565Z"
    }
   },
   "outputs": [],
   "source": [
    "setattr(mod_Prx_cycle_no_dec_p1, \"TrxSH_init\", exp_Trx_p1*5)\n",
    "\n",
    "setattr(mod_Prx_cycle_with_dec_p1, \"TrxSH_init\", exp_Trx_p1*5)\n"
   ]
  },
  {
   "cell_type": "markdown",
   "id": "d662901a",
   "metadata": {},
   "source": [
    "#### Assay (figure 7c and 7d)"
   ]
  },
  {
   "cell_type": "code",
   "execution_count": 19,
   "id": "2bcc28c4",
   "metadata": {
    "ExecuteTime": {
     "end_time": "2023-06-23T08:09:32.553825Z",
     "start_time": "2023-06-23T08:09:25.861181Z"
    }
   },
   "outputs": [
    {
     "name": "stdout",
     "output_type": "stream",
     "text": [
      "CVODE time for 2 points: 0.0029904842376708984\n",
      "CVODE time for 1000 points: 0.09428739547729492\n",
      "CVODE time for 2 points: 0.002582550048828125\n",
      "CVODE time for 1000 points: 0.13671016693115234\n",
      "CVODE time for 2 points: 0.0016722679138183594\n",
      "CVODE time for 1000 points: 0.12505412101745605\n",
      "CVODE time for 2 points: 0.17432379722595215\n",
      "CVODE time for 1000 points: 0.993880033493042\n",
      "CVODE time for 2 points: 0.28618693351745605\n",
      "CVODE time for 1000 points: 2.417670249938965\n",
      "CVODE time for 2 points: 0.171403169631958\n",
      "CVODE time for 1000 points: 2.077180862426758\n"
     ]
    }
   ],
   "source": [
    "# Simulate NADPH initial rates experiments\n",
    "vary_vp = \"SH_SH_init\"\n",
    "vary_init_range_vp_p1 = np.array([0.01,0.05,0.1])\n",
    "assay_end=300\n",
    "assay_points=assay_end+1\n",
    "i_rate_start=3\n",
    "i_rate_end=10\n",
    "\n",
    "mod = mod_Prx_cycle_no_dec_p1\n",
    "NADPH_exp_no_dec_p1_vp = do_NADPH_exp(mod,\n",
    "                                 vary_vp,\n",
    "                                 vary_init_range_vp_p1,\n",
    "                                 assay_end=assay_end,\n",
    "                                 i_rate_start=i_rate_start,\n",
    "                                 i_rate_end=i_rate_end)\n",
    "\n",
    "mod = mod_Prx_cycle_with_dec_p1\n",
    "NADPH_exp_with_dec_p1_vp = do_NADPH_exp(mod,\n",
    "                                 vary_vp,\n",
    "                                 vary_init_range_vp_p1,\n",
    "                                 assay_end=assay_end,\n",
    "                                 i_rate_start=i_rate_start,\n",
    "                                 i_rate_end=i_rate_end)\n"
   ]
  },
  {
   "cell_type": "code",
   "execution_count": 20,
   "id": "75a5e8f2",
   "metadata": {
    "ExecuteTime": {
     "end_time": "2023-06-23T08:09:33.145359Z",
     "start_time": "2023-06-23T08:09:32.555316Z"
    }
   },
   "outputs": [
    {
     "name": "stderr",
     "output_type": "stream",
     "text": [
      "/tmp/ipykernel_96387/3841212152.py:43: UserWarning: Matplotlib is currently using module://matplotlib_inline.backend_inline, which is a non-GUI backend, so cannot show the figure.\n",
      "  f.show()\n"
     ]
    },
    {
     "data": {
      "image/png": "[encoded data removed]",
      "text/plain": [
       "<Figure size 450x350 with 1 Axes>"
      ]
     },
     "metadata": {},
     "output_type": "display_data"
    }
   ],
   "source": [
    "# Plot time courses\n",
    "\n",
    "# Assay data for plot\n",
    "NADPH_assays_no_dec = NADPH_exp_no_dec_p1_vp[0]\n",
    "NADPH_assays_with_dec = NADPH_exp_with_dec_p1_vp[0]\n",
    "\n",
    "# Build figure\n",
    "cols = 1\n",
    "rows = 1\n",
    "\n",
    "f, axarr = plt.subplots(rows,cols)\n",
    "f.set_size_inches(w=mpl_width,h=mpl_height)\n",
    "\n",
    "handle_list= []\n",
    "\n",
    "for count,assay in enumerate(NADPH_assays_no_dec):\n",
    "    axarr.plot(assay[0,:], \n",
    "               assay[1,:], \n",
    "               f\"{color_wheel[count]}\",\n",
    "               marker=WSA_no_dec_marker,\n",
    "               markevery=200,\n",
    "               markersize = mpl_marker_size,\n",
    "               mec = 'k') \n",
    "    handle = mpatches.Patch(color=f\"{color_wheel[count]}\", label=f\"{vary_init_range_vp_p1[count]}\")\n",
    "    handle_list.append(handle)\n",
    "    \n",
    "for count,assay in enumerate(NADPH_assays_with_dec):\n",
    "    axarr.plot(assay[0,:], \n",
    "               assay[1,:], \n",
    "               f\"{color_wheel[count]}\",\n",
    "               linestyle=\"--\",\n",
    "               marker=WSA_dec_marker,\n",
    "               markevery=200,\n",
    "               markersize = mpl_marker_size,\n",
    "               mec = 'k')\n",
    "    \n",
    "axarr.set_xlabel(\"Time (sec)\", fontsize=mpl_xlabel_fontsize)\n",
    "axarr.set_ylabel(f\"NADPH ({mu}M)\",fontsize=mpl_ylabel_fontsize)\n",
    "\n",
    "title_species = vary_vp.split(\"_\")[0]\n",
    "axarr.legend(handles=handle_list,title=f\"{title_species} ({mu}M)\",loc=(0.75,0.5))\n",
    "f.tight_layout()\n",
    "f.show()\n",
    "f.savefig(os.path.join(fig_dir, \"nadph_NADPH_v_time_vary_Prx.pdf\"),dpi= mpl_dpi)"
   ]
  },
  {
   "cell_type": "code",
   "execution_count": 21,
   "id": "a8199bae",
   "metadata": {
    "ExecuteTime": {
     "end_time": "2023-06-23T08:09:33.960645Z",
     "start_time": "2023-06-23T08:09:33.149380Z"
    }
   },
   "outputs": [
    {
     "name": "stderr",
     "output_type": "stream",
     "text": [
      "/tmp/ipykernel_96387/3244654116.py:51: UserWarning: Matplotlib is currently using module://matplotlib_inline.backend_inline, which is a non-GUI backend, so cannot show the figure.\n",
      "  f.show()\n"
     ]
    },
    {
     "data": {
      "image/png": "[encoded data removed]",
      "text/plain": [
       "<Figure size 450x350 with 1 Axes>"
      ]
     },
     "metadata": {},
     "output_type": "display_data"
    }
   ],
   "source": [
    "# Plot initial rates\n",
    "\n",
    "# Assign data\n",
    "NADPH_exp_no_dec = NADPH_exp_no_dec_p1_vp \n",
    "NADPH_exp_with_dec = NADPH_exp_with_dec_p1_vp\n",
    "\n",
    "i_rates_no_dec = NADPH_exp_no_dec[1]\n",
    "ir_lm_no_dec = NADPH_exp_no_dec[2]\n",
    "k_no_dec = NADPH_exp_no_dec[3]\n",
    "\n",
    "i_rates_with_dec = NADPH_exp_with_dec[1]\n",
    "ir_lm_with_dec = NADPH_exp_with_dec[2]\n",
    "k_with_dec = NADPH_exp_with_dec[3]\n",
    "\n",
    "# Build figure\n",
    "cols = 1\n",
    "rows = 1\n",
    "\n",
    "f, axarr = plt.subplots(rows, cols)\n",
    "f.set_size_inches(w=mpl_width, h=mpl_height)\n",
    "\n",
    "axarr.plot(i_rates_no_dec[:,0],\n",
    "           np.abs(i_rates_no_dec[:,1]),\n",
    "           color=f\"k\",\n",
    "           label=\"Max-act. dim.-only\",\n",
    "           marker=WSA_no_dec_marker,\n",
    "           markersize = mpl_marker_size,\n",
    "           linestyle=\"None\")\n",
    "axarr.plot(vary_init_range_vp_p1, \n",
    "           ir_lm_no_dec.predict(vary_init_range_vp_p1.reshape(-1,1)),\n",
    "           f\"k-\")\n",
    "axarr.text(0.03,0.15,f\"$k={k_no_dec:.3}\\ \\mathrm{{s^{{-1}}}}$\")\n",
    "\n",
    "axarr.plot(i_rates_with_dec[:,0],\n",
    "           np.abs(i_rates_with_dec[:,1]),\n",
    "           color=f\"k\",\n",
    "           label=f\"Mixed-act. with dec.\",\n",
    "           marker=WSA_dec_marker,\n",
    "           markersize = mpl_marker_size,\n",
    "          linestyle=\"None\")\n",
    "axarr.plot(vary_init_range_vp_p1, \n",
    "           ir_lm_with_dec.predict(vary_init_range_vp_p1.reshape(-1,1)),\n",
    "           f\"k-\")\n",
    "axarr.text(0.065,0.1,f\"$k={k_with_dec:.3}\\ \\mathrm{{s^{{-1}}}}$\")\n",
    "\n",
    "axarr.set_xlabel(f\"Prx ({mu}M)\", fontsize=mpl_xlabel_fontsize)\n",
    "axarr.set_ylabel(f\"v ({mu}M$\\cdot \\mathrm{{s^{{-1}}}}$)\",fontsize=mpl_ylabel_fontsize)\n",
    "\n",
    "axarr.legend(title = f\"Model\")\n",
    "f.tight_layout()\n",
    "f.show()\n",
    "f.savefig(os.path.join(fig_dir, \"nadph_Prx_v_rate.pdf\"),dpi= mpl_dpi)"
   ]
  },
  {
   "cell_type": "markdown",
   "id": "8f61d9a7",
   "metadata": {},
   "source": [
    "## Parameter set 2 (not in paper)"
   ]
  },
  {
   "cell_type": "markdown",
   "id": "bc1cd3a8",
   "metadata": {},
   "source": [
    "We tested a second set of assay parameters although they were not needed in the paper."
   ]
  },
  {
   "cell_type": "code",
   "execution_count": 22,
   "id": "f885a270",
   "metadata": {
    "ExecuteTime": {
     "end_time": "2023-06-23T08:09:33.971169Z",
     "start_time": "2023-06-23T08:09:33.962877Z"
    }
   },
   "outputs": [],
   "source": [
    "# Set assay conditions\n",
    "exp_Prx_p2 = 5\n",
    "exp_Trx_p2 = 5\n",
    "kcatTRR = 73\n",
    "exp_TRR_p2 = 5\n",
    "exp_H2O2_p2 = 5\n",
    "exp_NADPH_p2 = 150 # 5"
   ]
  },
  {
   "cell_type": "code",
   "execution_count": 23,
   "id": "fb406318",
   "metadata": {
    "ExecuteTime": {
     "end_time": "2023-06-23T08:09:37.519180Z",
     "start_time": "2023-06-23T08:09:33.975247Z"
    }
   },
   "outputs": [
    {
     "name": "stdout",
     "output_type": "stream",
     "text": [
      "Using model directory: /home/chris/Dropbox/Studies/6. PhD/Papers [Chris B]/Decamerisation_cycle_of_PRDX1/Data/models\n",
      "/home/chris/Dropbox/Studies/6. PhD/Papers [Chris B]/Decamerisation_cycle_of_PRDX1/Data/models/PRDX2_sys.psc loading ..... \n",
      "Parsing file: /home/chris/Dropbox/Studies/6. PhD/Papers [Chris B]/Decamerisation_cycle_of_PRDX1/Data/models/PRDX2_sys.psc\n",
      "Info: No reagents have been fixed\n",
      " \n",
      "Calculating L matrix . . . . . . . . .  done.\n",
      "Calculating K matrix . . . . . . . . . . .  done.\n",
      " \n",
      "Using model directory: /home/chris/Dropbox/Studies/6. PhD/Papers [Chris B]/Decamerisation_cycle_of_PRDX1/Data/models\n",
      "/home/chris/Dropbox/Studies/6. PhD/Papers [Chris B]/Decamerisation_cycle_of_PRDX1/Data/models/PRDX2_sys_decfull.psc loading ..... \n",
      "Parsing file: /home/chris/Dropbox/Studies/6. PhD/Papers [Chris B]/Decamerisation_cycle_of_PRDX1/Data/models/PRDX2_sys_decfull.psc\n",
      "Info: No reagents have been fixed\n",
      " \n",
      "Calculating L matrix . . . . . . . . . . .  done.\n",
      "Calculating K matrix . . . . . . . . . . . . . . . . .  done.\n",
      " \n"
     ]
    }
   ],
   "source": [
    "# Load models\n",
    "\n",
    "# Prx cycle with decamers\n",
    "mod_Prx_cycle_no_dec_p2 = pysces.model(\"PRDX2_sys.psc\", dir=mod_dir)\n",
    "mod_Prx_cycle_no_dec_p2.mode_integrator = 'CVODE'\n",
    "\n",
    "# Prx cycle with decamers\n",
    "mod_Prx_cycle_with_dec_p2 = pysces.model(\"PRDX2_sys_decfull.psc\", dir=mod_dir)\n",
    "mod_Prx_cycle_with_dec_p2.mode_integrator = 'CVODE'\n",
    "mod_Prx_cycle_with_dec_p2 = update_params_BenfeitasModels(mod_Prx_cycle_with_dec_p2,df_dim_dec_rates)\n",
    "\n",
    "# Adjust Prx cycle no decamer\n",
    "setattr(mod_Prx_cycle_no_dec_p2, \"SH_SH_init\", exp_Prx_p2)\n",
    "setattr(mod_Prx_cycle_no_dec_p2, \"TrxSH_init\", exp_Trx_p2)\n",
    "setattr(mod_Prx_cycle_no_dec_p2, \"VMaxTrxR\", exp_TRR_p2*kcatTRR)\n",
    "setattr(mod_Prx_cycle_no_dec_p2, \"H2O2_init\", exp_H2O2_p2)\n",
    "setattr(mod_Prx_cycle_no_dec_p2, \"NADPH_init\", exp_NADPH_p2)\n",
    "\n",
    "# Adjust Prx cycle with decamer\n",
    "setattr(mod_Prx_cycle_with_dec_p2, \"SH_SH_init\", exp_Prx_p2)\n",
    "setattr(mod_Prx_cycle_with_dec_p2, \"TrxSH_init\", exp_Trx_p2)\n",
    "setattr(mod_Prx_cycle_with_dec_p2, \"VMaxTrxR\", exp_TRR_p2*kcatTRR)\n",
    "setattr(mod_Prx_cycle_with_dec_p2, \"H2O2_init\", exp_H2O2_p2)\n",
    "setattr(mod_Prx_cycle_with_dec_p2, \"NADPH_init\", exp_NADPH_p2)\n"
   ]
  },
  {
   "cell_type": "markdown",
   "id": "0346d8f3",
   "metadata": {},
   "source": [
    "### Vary H2O2"
   ]
  },
  {
   "cell_type": "code",
   "execution_count": 24,
   "id": "ec19ae62",
   "metadata": {
    "ExecuteTime": {
     "end_time": "2023-06-23T08:09:56.254738Z",
     "start_time": "2023-06-23T08:09:37.521437Z"
    }
   },
   "outputs": [
    {
     "name": "stdout",
     "output_type": "stream",
     "text": [
      "CVODE time for 2 points: 0.004718780517578125\n",
      "CVODE time for 1000 points: 0.12399601936340332\n",
      "CVODE time for 2 points: 0.003314495086669922\n",
      "CVODE time for 1000 points: 0.16885995864868164\n",
      "CVODE time for 2 points: 0.0019102096557617188\n",
      "CVODE time for 1000 points: 0.18388009071350098\n",
      "CVODE time for 2 points: 0.0026242733001708984\n",
      "CVODE time for 1000 points: 0.18611717224121094\n",
      "CVODE time for 2 points: 0.003984212875366211\n",
      "CVODE time for 1000 points: 0.18081116676330566\n",
      "WARNING, non-linear data range:\n",
      " r_sq = 0.9434\n",
      "WARNING, non-linear data range:\n",
      " r_sq = 0.9444\n",
      "WARNING, non-linear data range:\n",
      " r_sq = 0.9442\n",
      "WARNING, non-linear data range:\n",
      " r_sq = 0.9461\n",
      "WARNING, non-linear data range:\n",
      " r_sq = 0.9467\n",
      "CVODE time for 2 points: 1.6260998249053955\n",
      "CVODE time for 1000 points: 1.8652114868164062\n",
      "CVODE time for 2 points: 0.08279252052307129\n",
      "CVODE time for 1000 points: 2.182999610900879\n",
      "CVODE time for 2 points: 0.06579732894897461\n",
      "CVODE time for 1000 points: 2.3779613971710205\n",
      "CVODE time for 2 points: 0.07101178169250488\n",
      "CVODE time for 1000 points: 3.3658978939056396\n",
      "CVODE time for 2 points: 0.0860905647277832\n",
      "CVODE time for 1000 points: 5.74764347076416\n",
      "WARNING, non-linear data range:\n",
      " r_sq = 0.943\n",
      "WARNING, non-linear data range:\n",
      " r_sq = 0.9437\n",
      "WARNING, non-linear data range:\n",
      " r_sq = 0.9435\n",
      "WARNING, non-linear data range:\n",
      " r_sq = 0.9446\n",
      "WARNING, non-linear data range:\n",
      " r_sq = 0.9447\n"
     ]
    }
   ],
   "source": [
    "# Simulate NADPH initial rates experiments\n",
    "vary_vh = \"H2O2_init\"\n",
    "vary_init_range_vh_p2 = np.linspace(1,20,5)\n",
    "assay_end=15\n",
    "assay_points=assay_end*10+1\n",
    "i_rate_start=3\n",
    "i_rate_end=10\n",
    "\n",
    "mod = mod_Prx_cycle_no_dec_p2\n",
    "NADPH_exp_no_dec_p2_vh = do_NADPH_exp(mod,\n",
    "                                 vary_vh,\n",
    "                                 vary_init_range_vh_p2,\n",
    "                                 assay_end=assay_end,\n",
    "                                 i_rate_start=i_rate_start,\n",
    "                                 i_rate_end=i_rate_end)\n",
    "\n",
    "mod = mod_Prx_cycle_with_dec_p2\n",
    "NADPH_exp_with_dec_p2_vh = do_NADPH_exp(mod,\n",
    "                                 vary_vh,\n",
    "                                 vary_init_range_vh_p2,\n",
    "                                 assay_end=assay_end,\n",
    "                                 i_rate_start=i_rate_start,\n",
    "                                 i_rate_end=i_rate_end)\n"
   ]
  },
  {
   "cell_type": "code",
   "execution_count": 25,
   "id": "99701a78",
   "metadata": {
    "ExecuteTime": {
     "end_time": "2023-06-23T08:09:56.575195Z",
     "start_time": "2023-06-23T08:09:56.256728Z"
    }
   },
   "outputs": [
    {
     "name": "stderr",
     "output_type": "stream",
     "text": [
      "/tmp/ipykernel_96387/1785681918.py:43: UserWarning: Matplotlib is currently using module://matplotlib_inline.backend_inline, which is a non-GUI backend, so cannot show the figure.\n",
      "  f.show()\n"
     ]
    },
    {
     "data": {
      "image/png": "[encoded data removed]",
      "text/plain": [
       "<Figure size 450x350 with 1 Axes>"
      ]
     },
     "metadata": {},
     "output_type": "display_data"
    }
   ],
   "source": [
    "# Plot time courses\n",
    "\n",
    "# Assay data for plot\n",
    "NADPH_assays_no_dec = NADPH_exp_no_dec_p2_vh[0]\n",
    "NADPH_assays_with_dec = NADPH_exp_with_dec_p2_vh[0]\n",
    "\n",
    "# Build figure\n",
    "cols = 1\n",
    "rows = 1\n",
    "\n",
    "f, axarr = plt.subplots(rows,cols)\n",
    "f.set_size_inches(w=mpl_width,h=mpl_height)\n",
    "\n",
    "handle_list= []\n",
    "\n",
    "for count,assay in enumerate(NADPH_assays_no_dec):\n",
    "    axarr.plot(assay[0,:], \n",
    "               assay[1,:], \n",
    "               f\"{color_wheel[count]}\",\n",
    "               marker=WSA_no_dec_marker,\n",
    "               markevery=200,\n",
    "               markersize = mpl_marker_size,\n",
    "               mec = 'k') \n",
    "    handle = mpatches.Patch(color=f\"{color_wheel[count]}\", label=f\"{vary_init_range_vh_p2[count]}\")\n",
    "    handle_list.append(handle)\n",
    "    \n",
    "for count,assay in enumerate(NADPH_assays_with_dec):\n",
    "    axarr.plot(assay[0,:], \n",
    "               assay[1,:], \n",
    "               f\"{color_wheel[count]}\",\n",
    "               linestyle=\"--\",\n",
    "               marker=WSA_dec_marker,\n",
    "               markevery=200,\n",
    "               markersize = mpl_marker_size,\n",
    "               mec = 'k')\n",
    "    \n",
    "axarr.set_xlabel(\"Time (sec)\", fontsize=mpl_xlabel_fontsize)\n",
    "axarr.set_ylabel(f\"NADPH ({mu}M)\",fontsize=mpl_ylabel_fontsize)\n",
    "\n",
    "title_species = vary_vh.split(\"_\")[0]\n",
    "axarr.legend(handles=handle_list,title=f\"{title_species} ({mu}M)\",loc=(0.75,0.5))\n",
    "f.tight_layout()\n",
    "f.show()"
   ]
  },
  {
   "cell_type": "markdown",
   "id": "ffdfe630",
   "metadata": {},
   "source": [
    "### Vary Prx"
   ]
  },
  {
   "cell_type": "code",
   "execution_count": 26,
   "id": "a7d0df9f",
   "metadata": {
    "ExecuteTime": {
     "end_time": "2023-06-23T08:10:04.386143Z",
     "start_time": "2023-06-23T08:09:56.580323Z"
    }
   },
   "outputs": [
    {
     "name": "stdout",
     "output_type": "stream",
     "text": [
      "CVODE time for 2 points: 0.0063953399658203125\n",
      "CVODE time for 1000 points: 0.14562773704528809\n",
      "CVODE time for 2 points: 0.0019102096557617188\n",
      "CVODE time for 1000 points: 0.18964600563049316\n",
      "CVODE time for 2 points: 0.0030107498168945312\n",
      "CVODE time for 1000 points: 0.15027427673339844\n",
      "WARNING, non-linear data range:\n",
      " r_sq = 0.9419\n",
      "WARNING, non-linear data range:\n",
      " r_sq = 0.942\n",
      "WARNING, non-linear data range:\n",
      " r_sq = 0.941\n",
      "CVODE time for 2 points: 0.3836371898651123\n",
      "CVODE time for 1000 points: 1.7229435443878174\n",
      "CVODE time for 2 points: 0.2987203598022461\n",
      "CVODE time for 1000 points: 1.618260145187378\n",
      "CVODE time for 2 points: 0.4670395851135254\n",
      "CVODE time for 1000 points: 2.5962741374969482\n",
      "WARNING, non-linear data range:\n",
      " r_sq = 0.9428\n",
      "WARNING, non-linear data range:\n",
      " r_sq = 0.9419\n",
      "WARNING, non-linear data range:\n",
      " r_sq = 0.9435\n"
     ]
    }
   ],
   "source": [
    "# Simulate NADPH initial rates experiments\n",
    "vary_vp = \"SH_SH_init\"\n",
    "vary_init_range_vp_p2 = np.array([0.1,0.5,2])\n",
    "assay_end=15\n",
    "assay_points=assay_end*10+1\n",
    "i_rate_start=3\n",
    "i_rate_end=10\n",
    "\n",
    "mod = mod_Prx_cycle_no_dec_p2\n",
    "NADPH_exp_no_dec_p2_vp = do_NADPH_exp(mod,\n",
    "                                 vary_vp,\n",
    "                                 vary_init_range_vp_p2,\n",
    "                                 assay_end=assay_end,\n",
    "                                 i_rate_start=i_rate_start,\n",
    "                                 i_rate_end=i_rate_end)\n",
    "\n",
    "mod = mod_Prx_cycle_with_dec_p2\n",
    "NADPH_exp_with_dec_p2_vp = do_NADPH_exp(mod,\n",
    "                                 vary_vp,\n",
    "                                 vary_init_range_vp_p2,\n",
    "                                 assay_end=assay_end,\n",
    "                                 i_rate_start=i_rate_start,\n",
    "                                 i_rate_end=i_rate_end)\n"
   ]
  },
  {
   "cell_type": "code",
   "execution_count": 27,
   "id": "fd0cb4e2",
   "metadata": {
    "ExecuteTime": {
     "end_time": "2023-06-23T08:10:04.663266Z",
     "start_time": "2023-06-23T08:10:04.390799Z"
    }
   },
   "outputs": [
    {
     "name": "stderr",
     "output_type": "stream",
     "text": [
      "/tmp/ipykernel_96387/3740005572.py:43: UserWarning: Matplotlib is currently using module://matplotlib_inline.backend_inline, which is a non-GUI backend, so cannot show the figure.\n",
      "  f.show()\n"
     ]
    },
    {
     "data": {
      "image/png": "[encoded data removed]",
      "text/plain": [
       "<Figure size 450x350 with 1 Axes>"
      ]
     },
     "metadata": {},
     "output_type": "display_data"
    }
   ],
   "source": [
    "# Plot time courses\n",
    "\n",
    "# Assay data for plot\n",
    "NADPH_assays_no_dec = NADPH_exp_no_dec_p2_vp[0]\n",
    "NADPH_assays_with_dec = NADPH_exp_with_dec_p2_vp[0]\n",
    "\n",
    "# Build figure\n",
    "cols = 1\n",
    "rows = 1\n",
    "\n",
    "f, axarr = plt.subplots(rows,cols)\n",
    "f.set_size_inches(w=mpl_width,h=mpl_height)\n",
    "\n",
    "handle_list= []\n",
    "\n",
    "for count,assay in enumerate(NADPH_assays_no_dec):\n",
    "    axarr.plot(assay[0,:], \n",
    "               assay[1,:], \n",
    "               f\"{color_wheel[count]}\",\n",
    "               marker=WSA_no_dec_marker,\n",
    "               markevery=200,\n",
    "               markersize = mpl_marker_size,\n",
    "               mec = 'k') \n",
    "    handle = mpatches.Patch(color=f\"{color_wheel[count]}\", label=f\"{vary_init_range_vp_p2[count]}\")\n",
    "    handle_list.append(handle)\n",
    "    \n",
    "for count,assay in enumerate(NADPH_assays_with_dec):\n",
    "    axarr.plot(assay[0,:], \n",
    "               assay[1,:], \n",
    "               f\"{color_wheel[count]}\",\n",
    "               linestyle=\"--\",\n",
    "               marker=WSA_dec_marker,\n",
    "               markevery=200,\n",
    "               markersize = mpl_marker_size,\n",
    "               mec = 'k')\n",
    "    \n",
    "axarr.set_xlabel(\"Time (sec)\", fontsize=mpl_xlabel_fontsize)\n",
    "axarr.set_ylabel(f\"NADPH ({mu}M)\",fontsize=mpl_ylabel_fontsize)\n",
    "\n",
    "title_species = vary_vp.split(\"_\")[0]\n",
    "axarr.legend(handles=handle_list,title=f\"{title_species} ({mu}M)\",loc=(0.75,0.5))\n",
    "f.tight_layout()\n",
    "f.show()"
   ]
  },
  {
   "cell_type": "code",
   "execution_count": 28,
   "id": "08255065",
   "metadata": {
    "ExecuteTime": {
     "end_time": "2023-06-23T08:10:04.929353Z",
     "start_time": "2023-06-23T08:10:04.669490Z"
    }
   },
   "outputs": [
    {
     "name": "stderr",
     "output_type": "stream",
     "text": [
      "/tmp/ipykernel_96387/3327943654.py:51: UserWarning: Matplotlib is currently using module://matplotlib_inline.backend_inline, which is a non-GUI backend, so cannot show the figure.\n",
      "  f.show()\n"
     ]
    },
    {
     "data": {
      "image/png": "[encoded data removed]",
      "text/plain": [
       "<Figure size 450x350 with 1 Axes>"
      ]
     },
     "metadata": {},
     "output_type": "display_data"
    }
   ],
   "source": [
    "# Plot initial rates\n",
    "\n",
    "# Assign data\n",
    "NADPH_exp_no_dec = NADPH_exp_no_dec_p2_vp \n",
    "NADPH_exp_with_dec = NADPH_exp_with_dec_p2_vp\n",
    "\n",
    "i_rates_no_dec = NADPH_exp_no_dec[1]\n",
    "ir_lm_no_dec = NADPH_exp_no_dec[2]\n",
    "k_no_dec = NADPH_exp_no_dec[3]\n",
    "\n",
    "i_rates_with_dec = NADPH_exp_with_dec[1]\n",
    "ir_lm_with_dec = NADPH_exp_with_dec[2]\n",
    "k_with_dec = NADPH_exp_with_dec[3]\n",
    "\n",
    "# Build figure\n",
    "cols = 1\n",
    "rows = 1\n",
    "\n",
    "f, axarr = plt.subplots(rows, cols)\n",
    "f.set_size_inches(w=mpl_width, h=mpl_height)\n",
    "\n",
    "axarr.plot(i_rates_no_dec[:,0],\n",
    "           np.abs(i_rates_no_dec[:,1]),\n",
    "           color=f\"k\",\n",
    "           label=\"Max-act. dim.-only\",\n",
    "           marker=WSA_no_dec_marker,\n",
    "           markersize = mpl_marker_size,\n",
    "           linestyle=\"None\")\n",
    "axarr.plot(vary_init_range_vp_p2, \n",
    "           ir_lm_no_dec.predict(vary_init_range_vp_p2.reshape(-1,1)),\n",
    "           f\"k-\")\n",
    "# axarr.text(0.068,0.16,f\"$k={k_no_dec:.3}\\ \\mathrm{{s^{{-1}}}}$\")\n",
    "\n",
    "axarr.plot(i_rates_with_dec[:,0],\n",
    "           np.abs(i_rates_with_dec[:,1]),\n",
    "           color=f\"k\",\n",
    "           label=f\"Mixed-act. with dec.\",\n",
    "           marker=WSA_dec_marker,\n",
    "           markersize = mpl_marker_size,\n",
    "          linestyle=\"None\")\n",
    "axarr.plot(vary_init_range_vp_p2, \n",
    "           ir_lm_with_dec.predict(vary_init_range_vp_p2.reshape(-1,1)),\n",
    "           f\"k-\")\n",
    "# axarr.text(0.065,0.037,f\"$k={k_with_dec:.3}\\ \\mathrm{{s^{{-1}}}}$\")\n",
    "\n",
    "axarr.set_xlabel(f\"Prx ({mu}M)\", fontsize=mpl_xlabel_fontsize)\n",
    "axarr.set_ylabel(f\"v ({mu}M$\\cdot \\mathrm{{s^{{-1}}}}$)\",fontsize=mpl_ylabel_fontsize)\n",
    "\n",
    "axarr.legend(title = f\"Model\")\n",
    "f.tight_layout()\n",
    "f.show()"
   ]
  },
  {
   "cell_type": "code",
   "execution_count": null,
   "id": "96a8bb7b",
   "metadata": {},
   "outputs": [],
   "source": []
  },
  {
   "cell_type": "code",
   "execution_count": null,
   "id": "d9ff18b3",
   "metadata": {},
   "outputs": [],
   "source": []
  }
 ],
 "metadata": {
  "kernelspec": {
   "display_name": "Python 3 (ipykernel)",
   "language": "python",
   "name": "python3"
  },
  "language_info": {
   "codemirror_mode": {
    "name": "ipython",
    "version": 3
   },
   "file_extension": ".py",
   "mimetype": "text/x-python",
   "name": "python",
   "nbconvert_exporter": "python",
   "pygments_lexer": "ipython3",
   "version": "3.9.16"
  },
  "toc": {
   "base_numbering": 1,
   "nav_menu": {},
   "number_sections": true,
   "sideBar": true,
   "skip_h1_title": false,
   "title_cell": "Table of Contents",
   "title_sidebar": "Contents",
   "toc_cell": false,
   "toc_position": {},
   "toc_section_display": true,
   "toc_window_display": true
  }
 },
 "nbformat": 4,
 "nbformat_minor": 5
}
