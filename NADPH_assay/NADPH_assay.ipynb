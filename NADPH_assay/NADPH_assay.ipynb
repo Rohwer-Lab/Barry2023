{
 "cells": [
  {
   "cell_type": "markdown",
   "id": "821a7d55",
   "metadata": {},
   "source": [
    "# NADPH experiments with whole Prx system"
   ]
  },
  {
   "cell_type": "markdown",
   "id": "9b47f98a",
   "metadata": {},
   "source": [
    "This notebook performs analyses described in the "
   ]
  },
  {
   "cell_type": "markdown",
   "id": "4dbbb5f2",
   "metadata": {},
   "source": [
    "**Manuscript:**\n",
    "\n",
    "Modelling the decamerisation cycle of PRDX1 and the inhibition-like effect on its peroxidase activity"
   ]
  },
  {
   "cell_type": "markdown",
   "id": "696fe7f8",
   "metadata": {},
   "source": [
    "**Authors:**\n",
    "\n",
    "C. Barry, C. Pillay, J. Rohwer"
   ]
  },
  {
   "cell_type": "markdown",
   "id": "c64c7ff9",
   "metadata": {},
   "source": [
    "**Purpose:**\n",
    "\n",
    "Analysis: simulations of NADPH reduction assays in a system containing Prx, Trx, TRR, and H<sub>2</sub>O<sub>2</sub>\n",
    "\n",
    "Plot: Figure 7c and 7d\n",
    "\n",
    "Plot: Figure S8c and S8d\n",
    "\n",
    "Plot: Figure S9e and S9f"
   ]
  },
  {
   "cell_type": "markdown",
   "id": "5f5063ec",
   "metadata": {},
   "source": [
    "**Requirements:**\n",
    "\n",
    "Python libraries (see **Imports** below)\n",
    "\n",
    "Prx parameters (filename:`fitted_koff_kon_PRDX1_params.csv`)\n",
    "\n",
    "Model file for Prx-PRDX2 system model (filename: `PRDX2_sys.psc`)\n",
    "\n",
    "Model file for Prx-PRDX2 system model with decamer reactions (filename: `PRDX2_sys_decfull.psc`)\n",
    "\n",
    "Model file for Prx-PRDX2 system model with decamer reactions and 5 disulphide-bridges (filename: `PRDX2_sys_decfull_5dsb.psc`)\n"
   ]
  },
  {
   "cell_type": "markdown",
   "id": "d825fc05",
   "metadata": {},
   "source": [
    "##### Imports"
   ]
  },
  {
   "cell_type": "code",
   "execution_count": null,
   "id": "f1b1efe4",
   "metadata": {
    "ExecuteTime": {
     "end_time": "2023-07-27T08:54:33.072836Z",
     "start_time": "2023-07-27T08:54:31.097895Z"
    }
   },
   "outputs": [],
   "source": [
    "import os\n",
    "import copy\n",
    "\n",
    "import numpy as np\n",
    "from matplotlib import pyplot as plt\n",
    "import matplotlib.patches as mpatches\n",
    "import pandas as pd\n",
    "from sklearn.linear_model import LinearRegression\n",
    "\n",
    "import pysces\n",
    "pysces.enablePandas()"
   ]
  },
  {
   "cell_type": "markdown",
   "id": "14c55dd9",
   "metadata": {},
   "source": [
    "###### Save directories"
   ]
  },
  {
   "cell_type": "code",
   "execution_count": null,
   "id": "2f79cd54",
   "metadata": {
    "ExecuteTime": {
     "end_time": "2023-07-27T08:54:33.079137Z",
     "start_time": "2023-07-27T08:54:33.075136Z"
    }
   },
   "outputs": [],
   "source": [
    "prev_dir = os.path.split(os.getcwd())[0]\n",
    "\n",
    "mod_dir = os.path.join(prev_dir,\"models\")\n",
    "if not os.path.isdir(mod_dir): os.mkdir(mod_dir) # ensure dir exists\n",
    "\n",
    "par_dir = os.path.join(prev_dir,\"params\")\n",
    "if not os.path.isdir(par_dir): os.mkdir(par_dir) # ensure dir exists\n",
    "    \n",
    "fig_dir = os.path.join(os.getcwd(),\"Figures\")\n",
    "if not os.path.isdir(fig_dir): os.mkdir(fig_dir) # ensure dir exists\n"
   ]
  },
  {
   "cell_type": "markdown",
   "id": "26349861",
   "metadata": {},
   "source": [
    "###### Matplotlib stuff"
   ]
  },
  {
   "cell_type": "code",
   "execution_count": null,
   "id": "3296b822",
   "metadata": {
    "ExecuteTime": {
     "end_time": "2023-07-27T08:54:33.091084Z",
     "start_time": "2023-07-27T08:54:33.080701Z"
    }
   },
   "outputs": [],
   "source": [
    "%matplotlib inline\n",
    "\n",
    "mpl_width = 4.5\n",
    "mpl_height = 3.5\n",
    "mpl_dpi = 600\n",
    "mpl_xlabel_fontsize = \"large\"\n",
    "mpl_ylabel_fontsize = \"large\"\n",
    "mu = \"\\u03bc\"\n"
   ]
  },
  {
   "cell_type": "code",
   "execution_count": null,
   "id": "77cdad18",
   "metadata": {
    "ExecuteTime": {
     "end_time": "2023-07-27T08:54:33.098048Z",
     "start_time": "2023-07-27T08:54:33.094336Z"
    }
   },
   "outputs": [],
   "source": [
    "# Marker symbols\n",
    "WSA_no_dec_marker = \"^\"\n",
    "WSA_dec_marker = \"s\"\n",
    "WSA_dec_dil_marker = \"o\"\n",
    "mpl_marker_size = 6"
   ]
  },
  {
   "cell_type": "code",
   "execution_count": null,
   "id": "2f0a1903",
   "metadata": {
    "ExecuteTime": {
     "end_time": "2023-07-27T08:54:33.103631Z",
     "start_time": "2023-07-27T08:54:33.100027Z"
    }
   },
   "outputs": [],
   "source": [
    "color_wheel = [\"tab:blue\",\"tab:green\",\"tab:red\",\"tab:cyan\",\"tab:purple\"]"
   ]
  },
  {
   "cell_type": "markdown",
   "id": "ca2b884b",
   "metadata": {},
   "source": [
    "##### fitted params"
   ]
  },
  {
   "cell_type": "code",
   "execution_count": null,
   "id": "43705db9",
   "metadata": {
    "ExecuteTime": {
     "end_time": "2023-07-27T08:54:33.119989Z",
     "start_time": "2023-07-27T08:54:33.105131Z"
    }
   },
   "outputs": [],
   "source": [
    "fitted_dim_dec_rates_file = \"fitted_koff_kon_PRDX1_params.csv\"\n",
    "df_dim_dec_rates = pd.read_csv(os.path.join(par_dir,fitted_dim_dec_rates_file))\n",
    "df_dim_dec_rates.set_index(\"Parameter\",inplace=True)"
   ]
  },
  {
   "cell_type": "code",
   "execution_count": null,
   "id": "50128495",
   "metadata": {
    "ExecuteTime": {
     "end_time": "2023-07-27T08:54:33.126449Z",
     "start_time": "2023-07-27T08:54:33.121031Z"
    }
   },
   "outputs": [],
   "source": [
    "def update_params_BenfeitasModels(mod,params,hyp=False):\n",
    "    \"\"\"\n",
    "    Updates the parameters of a model which has been augmented with Prx decamer reactions.\n",
    "    Adding the decamer reactions introduces several new parameter names, which need \n",
    "    to be populated with their corresponding values in the original model as well as \n",
    "    the fitted dimer-decamer transition koff and kon.\n",
    "    As a special case: The decamer sulfenilation rate is set to the original model \n",
    "    dimer sulfenilation rate (i.e full activity) and the dimer sulfenilation rate is \n",
    "    set to 100-fold less than the original model.\n",
    "    \"\"\"\n",
    "    # Dimer-decamer transition params\n",
    "    mod.exponent = 5\n",
    "    mod.k_Prx_asso = params.loc[\"kon\"][0]\n",
    "    mod.k_Prx_dec_disasso = params.loc[\"koff\"][0]\n",
    "    \n",
    "    ## Prx oxidation params\n",
    "    mod.k_Prx_sulfe_SH_dec = mod.kprx\n",
    "    mod.k_Prx_sulfe_SOH_dec = mod.kprx\n",
    "    mod.k_Prx_disulf_form_SH_dec = mod.kcond\n",
    "    mod.k_Prx_disulf_form_SOH_dec = mod.kcond\n",
    "    mod.k_Prx_disso_SH_dec = 10000 # Arbitrary \n",
    "    mod.k_Prx_disso_SOH_dec = 10000 # Arbitrary\n",
    "    \n",
    "    if hyp == True:\n",
    "        mod.k_Prx_sulfe_SOOH_dec = mod.kprx\n",
    "        mod.k_Prx_sulfi_SOOH_dec = mod.ksulf\n",
    "        mod.k_Prx_disulf_form_SOOH_dec = mod.kcond\n",
    "        mod.k_Prx_srx_SOOH_dec = mod.ksrx \n",
    "        mod.k_Prx_disso_SOOH_dec = 10000 # Arbitrary\n",
    "        \n",
    "    # Adust dimer sulfenilation to be 100 slower than decamer\n",
    "    mod.kprx = mod.kprx/100\n",
    "#     mod.two_times_kprx = mod.two_times_kprx/100\n",
    "    \n",
    "    return mod\n"
   ]
  },
  {
   "cell_type": "markdown",
   "id": "1cfa8324",
   "metadata": {},
   "source": [
    "## NADPH assay functions"
   ]
  },
  {
   "cell_type": "code",
   "execution_count": null,
   "id": "d416e7dc",
   "metadata": {
    "ExecuteTime": {
     "end_time": "2023-07-27T08:54:33.142483Z",
     "start_time": "2023-07-27T08:54:33.129291Z"
    }
   },
   "outputs": [],
   "source": [
    "def do_NADPH_exp_double_vary(mod,\n",
    "                             vary,\n",
    "                             vary_init_range,\n",
    "                             vary2,\n",
    "                             vary2_init,\n",
    "                             assay_end=1000, # time in s\n",
    "                             assay_points=1000,\n",
    "                             i_rate_start=3, # data point idx\n",
    "                             i_rate_end=10): # data point idx\n",
    "    \"\"\"\n",
    "    Performs an NADPH experiment varying two parameters to get the rate constant vs second parameter.\n",
    "    \"\"\"\n",
    "    # Update model with new second param\n",
    "    vary2_orig = getattr(mod,vary2)\n",
    "    setattr(mod,vary2,vary2_init)\n",
    "    \n",
    "    # Simulate NADPH initial rates experiment\n",
    "    NADPH_exp = do_NADPH_exp(mod,\n",
    "                             vary,\n",
    "                             vary_init_range,\n",
    "                             assay_end=assay_end,\n",
    "                             i_rate_start=i_rate_start,\n",
    "                             i_rate_end=i_rate_end)\n",
    "    \n",
    "    # Restore model\n",
    "    setattr(mod,vary2,vary2_orig)\n",
    "    \n",
    "    # Grab data\n",
    "    rate_constant = (vary2_init,NADPH_exp[3])\n",
    "    \n",
    "    return rate_constant\n",
    "\n",
    "def do_NADPH_exp(mod,\n",
    "                 vary,\n",
    "                 vary_init_range,\n",
    "                 assay_end=600, # time in s\n",
    "                 assay_points=1000,\n",
    "                 i_rate_start=3, # data point idx\n",
    "                 i_rate_end=10): # data point idx\n",
    "    \"\"\"\n",
    "    Performs an NADPH experiment of several assay runs.\n",
    "    Fits initial rates on each run.\n",
    "    Determines the rate constant.\n",
    "    \"\"\"\n",
    "    \n",
    "    # Do assay runs\n",
    "    traces = list(map(lambda vary_init: do_NADPH_assay(mod, \n",
    "                                                       vary,\n",
    "                                                       vary_init,\n",
    "                                                       end_time=assay_end,\n",
    "                                                      points=assay_points), \n",
    "                      vary_init_range))\n",
    "    \n",
    "    # Fit initial rates of assays\n",
    "    start_point = 3\n",
    "    end_point = 10\n",
    "    initial_rates = fit_initial_rates(traces,vary_init_range,i_rate_start,i_rate_end)\n",
    "    \n",
    "    # Fit rate constant to initial rates\n",
    "    initial_rate_lm = LinearRegression().fit(initial_rates[:,0].reshape(-1,1), \n",
    "                                       np.abs(initial_rates[:,1]).reshape(-1,1))\n",
    "    \n",
    "    rate_constant = initial_rate_lm.coef_[0][0]\n",
    "    \n",
    "    return (traces,initial_rates,initial_rate_lm,rate_constant)\n",
    "\n",
    "def do_NADPH_assay(mod,\n",
    "                   vary,\n",
    "                    vary_init,\n",
    "                    end_time=15,\n",
    "                    points=1000):\n",
    "    \"\"\"\n",
    "    Performs an NADPH assay time course assay using a model containing H2O2 and NADPH.\n",
    "    \"\"\"\n",
    "    # Update model with assay params\n",
    "    vary_orig = getattr(mod,vary)\n",
    "    setattr(mod,vary,vary_init)    \n",
    "\n",
    "    # Get equilibrium at H2O2_init = 0\n",
    "    H2O2_orig = getattr(mod,\"H2O2_init\")\n",
    "    setattr(mod,\"H2O2_init\",0.0)\n",
    "    mod.doSim(end=1000000,points=2)\n",
    "\n",
    "    # Update model with equilibrium species concentrations\n",
    "    for species in mod.species:\n",
    "        setattr(mod, f\"{species}_init\",mod.sim[species].iloc[-1])\n",
    "        \n",
    "    # Restore H2O2_init\n",
    "    if vary == \"H2O2_init\":\n",
    "        setattr(mod,\"H2O2_init\",vary_init)\n",
    "    else:\n",
    "        setattr(mod,\"H2O2_init\",H2O2_orig)\n",
    "\n",
    "    # Simulate\n",
    "    mod.sim_end = end_time\n",
    "    mod.sim_points = points\n",
    "    mod.Simulate()\n",
    "\n",
    "    # Grab data\n",
    "    result = np.array((mod.sim[\"Time\"],mod.sim[\"NADPH\"]))\n",
    "\n",
    "    # Restore model\n",
    "    setattr(mod,vary,vary_orig)\n",
    "        \n",
    "    return result\n",
    "\n",
    "def fit_initial_rates(data,vary_init_range,start_point,end_point):\n",
    "    \"\"\"\n",
    "    Fits the initial rates of an NADPH assay\n",
    "    \"\"\"\n",
    "    initial_rates = list(map(\n",
    "        lambda data_trace: get_initial_rate(data_trace,start_point,end_point,), data\n",
    "    ))\n",
    "    \n",
    "    initial_rate_data = np.array((vary_init_range,initial_rates)).transpose()\n",
    "    \n",
    "    return initial_rate_data\n",
    "\n",
    "def get_initial_rate(trace_data,start_point,end_point):\n",
    "    \"\"\"\n",
    "    Gets the initial rate of a time course.\n",
    "    \"\"\"\n",
    "    x_initial = trace_data[0][start_point:end_point].reshape(-1,1)\n",
    "    y_initial = trace_data[1][start_point:end_point].reshape(-1,1)\n",
    "    model = LinearRegression().fit(x_initial, y_initial)\n",
    "    r_sq = model.score(x_initial, y_initial)\n",
    "    if r_sq < 0.95:\n",
    "        print(f\"WARNING, non-linear data range:\\n r_sq = {r_sq:.4}\")\n",
    "    return model.coef_[0][0]\n",
    "\n"
   ]
  },
  {
   "cell_type": "markdown",
   "id": "c95e806f",
   "metadata": {},
   "source": [
    "## NADPH assay (figure 7c and 7d)"
   ]
  },
  {
   "cell_type": "markdown",
   "id": "d99b99ad",
   "metadata": {},
   "source": [
    "**Assay species concentrations based on:**    \n",
    "Badenhorst, M. Investigating the dynamics of hydrogen peroxide metabolism in the peroxiredoxin system of *Saccharomyces cerevisiae*, Master's Thesis, Stellenbosch University (2020).    \n",
    "cf. Figure 4.14 "
   ]
  },
  {
   "cell_type": "code",
   "execution_count": null,
   "id": "313d9ddf",
   "metadata": {
    "ExecuteTime": {
     "end_time": "2023-07-27T08:54:33.149650Z",
     "start_time": "2023-07-27T08:54:33.144950Z"
    }
   },
   "outputs": [],
   "source": [
    "# Set assay conditions\n",
    "exp_Prx_p1 = 0.05 # µM\n",
    "exp_Trx_p1 = 10 # µM\n",
    "kcatTRR = 73\n",
    "exp_TRR_p1 = 0.5 # µM\n",
    "exp_H2O2_p1 = 5 # H2O2 0 to 10 µM\n",
    "exp_NADPH_p1 = 150 # µM\n",
    "# ammonium sulfate, 100 mM; EDTA, 1 mM; potassium phosphate, 25 mM \n",
    "# (pH 7)"
   ]
  },
  {
   "cell_type": "code",
   "execution_count": null,
   "id": "99549adc",
   "metadata": {
    "ExecuteTime": {
     "end_time": "2023-07-27T08:54:34.396207Z",
     "start_time": "2023-07-27T08:54:33.152518Z"
    }
   },
   "outputs": [],
   "source": [
    "# Load models\n",
    "\n",
    "# Prx cycle with decamers\n",
    "mod_Prx_cycle_no_dec_p1 = pysces.model(\"PRDX2_sys.psc\", dir=mod_dir)\n",
    "mod_Prx_cycle_no_dec_p1.mode_integrator = 'CVODE'\n",
    "\n",
    "# Prx cycle with decamers\n",
    "mod_Prx_cycle_with_dec_p1 = pysces.model(\"PRDX2_sys_decfull.psc\", dir=mod_dir)\n",
    "mod_Prx_cycle_with_dec_p1.mode_integrator = 'CVODE'\n",
    "mod_Prx_cycle_with_dec_p1 = update_params_BenfeitasModels(mod_Prx_cycle_with_dec_p1,df_dim_dec_rates)\n",
    "\n",
    "# Adjust Prx cycle no decamer\n",
    "setattr(mod_Prx_cycle_no_dec_p1, \"SH_SH_init\", exp_Prx_p1)\n",
    "setattr(mod_Prx_cycle_no_dec_p1, \"TrxSH_init\", exp_Trx_p1*5) # 5x so that reduction is not rate limiting.\n",
    "setattr(mod_Prx_cycle_no_dec_p1, \"VMaxTrxR\", exp_TRR_p1*kcatTRR)\n",
    "setattr(mod_Prx_cycle_no_dec_p1, \"H2O2_init\", exp_H2O2_p1)\n",
    "setattr(mod_Prx_cycle_no_dec_p1, \"NADPH_init\", exp_NADPH_p1)\n",
    "\n",
    "# Adjust Prx cycle with decamer\n",
    "setattr(mod_Prx_cycle_with_dec_p1, \"SH_SH_init\", exp_Prx_p1)\n",
    "setattr(mod_Prx_cycle_with_dec_p1, \"TrxSH_init\", exp_Trx_p1*5) # 5x so that reduction is not rate limiting.\n",
    "setattr(mod_Prx_cycle_with_dec_p1, \"VMaxTrxR\", exp_TRR_p1*kcatTRR)\n",
    "setattr(mod_Prx_cycle_with_dec_p1, \"H2O2_init\", exp_H2O2_p1)\n",
    "setattr(mod_Prx_cycle_with_dec_p1, \"NADPH_init\", exp_NADPH_p1)\n",
    "\n"
   ]
  },
  {
   "cell_type": "code",
   "execution_count": null,
   "id": "622cf5f5",
   "metadata": {
    "ExecuteTime": {
     "end_time": "2023-07-27T08:54:34.400820Z",
     "start_time": "2023-07-27T08:54:34.398077Z"
    }
   },
   "outputs": [],
   "source": [
    "# Assay params\n",
    "vary_vp = \"SH_SH_init\"\n",
    "vary_init_range_vp_p1 = np.array([0.01,0.05,0.1])"
   ]
  },
  {
   "cell_type": "code",
   "execution_count": null,
   "id": "2bcc28c4",
   "metadata": {
    "ExecuteTime": {
     "end_time": "2023-07-27T08:54:38.154775Z",
     "start_time": "2023-07-27T08:54:34.402429Z"
    }
   },
   "outputs": [],
   "source": [
    "# Simulate NADPH initial rates experiments\n",
    "vary_vp = \"SH_SH_init\"\n",
    "vary_init_range_vp_p1 = np.array([0.01,0.05,0.1])\n",
    "assay_end=300\n",
    "assay_points=assay_end+1\n",
    "i_rate_start=3\n",
    "i_rate_end=10\n",
    "\n",
    "mod = mod_Prx_cycle_no_dec_p1\n",
    "NADPH_exp_no_dec_p1_vp = do_NADPH_exp(mod,\n",
    "                                 vary_vp,\n",
    "                                 vary_init_range_vp_p1,\n",
    "                                 assay_end=assay_end,\n",
    "                                 i_rate_start=i_rate_start,\n",
    "                                 i_rate_end=i_rate_end)\n",
    "\n",
    "mod = mod_Prx_cycle_with_dec_p1\n",
    "NADPH_exp_with_dec_p1_vp = do_NADPH_exp(mod,\n",
    "                                 vary_vp,\n",
    "                                 vary_init_range_vp_p1,\n",
    "                                 assay_end=assay_end,\n",
    "                                 i_rate_start=i_rate_start,\n",
    "                                 i_rate_end=i_rate_end)\n"
   ]
  },
  {
   "cell_type": "code",
   "execution_count": null,
   "id": "75a5e8f2",
   "metadata": {
    "ExecuteTime": {
     "end_time": "2023-07-27T08:54:38.679529Z",
     "start_time": "2023-07-27T08:54:38.156595Z"
    }
   },
   "outputs": [],
   "source": [
    "# Plot time courses\n",
    "\n",
    "# Assay data for plot\n",
    "NADPH_assays_no_dec = NADPH_exp_no_dec_p1_vp[0]\n",
    "NADPH_assays_with_dec = NADPH_exp_with_dec_p1_vp[0]\n",
    "\n",
    "# Build figure\n",
    "cols = 1\n",
    "rows = 1\n",
    "\n",
    "f, axarr = plt.subplots(rows,cols)\n",
    "f.set_size_inches(w=mpl_width,h=mpl_height)\n",
    "\n",
    "handle_list= []\n",
    "\n",
    "for count,assay in enumerate(NADPH_assays_no_dec):\n",
    "    axarr.plot(assay[0,:], \n",
    "               assay[1,:], \n",
    "               f\"{color_wheel[count]}\",\n",
    "               marker=WSA_no_dec_marker,\n",
    "               markevery=200,\n",
    "               markersize = mpl_marker_size,\n",
    "               mec = 'k') \n",
    "    handle = mpatches.Patch(color=f\"{color_wheel[count]}\", label=f\"{vary_init_range_vp_p1[count]}\")\n",
    "    handle_list.append(handle)\n",
    "    \n",
    "for count,assay in enumerate(NADPH_assays_with_dec):\n",
    "    axarr.plot(assay[0,:], \n",
    "               assay[1,:], \n",
    "               f\"{color_wheel[count]}\",\n",
    "               linestyle=\"--\",\n",
    "               marker=WSA_dec_marker,\n",
    "               markevery=200,\n",
    "               markersize = mpl_marker_size,\n",
    "               mec = 'k')\n",
    "    \n",
    "axarr.set_xlabel(\"Time (sec)\", fontsize=mpl_xlabel_fontsize)\n",
    "axarr.set_ylabel(f\"NADPH ({mu}M)\",fontsize=mpl_ylabel_fontsize)\n",
    "\n",
    "title_species = \"Prx\"\n",
    "axarr.legend(handles=handle_list,title=f\"{title_species} ({mu}M)\",loc=(0.75,0.5))\n",
    "f.tight_layout()\n",
    "f.savefig(os.path.join(fig_dir, \"nadph_NADPH_v_time_vary_Prx.pdf\"),dpi= mpl_dpi)"
   ]
  },
  {
   "cell_type": "code",
   "execution_count": null,
   "id": "a8199bae",
   "metadata": {
    "ExecuteTime": {
     "end_time": "2023-07-27T08:54:39.166626Z",
     "start_time": "2023-07-27T08:54:38.681272Z"
    }
   },
   "outputs": [],
   "source": [
    "# Plot initial rates\n",
    "\n",
    "# Assign data\n",
    "NADPH_exp_no_dec = NADPH_exp_no_dec_p1_vp \n",
    "NADPH_exp_with_dec = NADPH_exp_with_dec_p1_vp\n",
    "\n",
    "i_rates_no_dec = NADPH_exp_no_dec[1]\n",
    "ir_lm_no_dec = NADPH_exp_no_dec[2]\n",
    "k_no_dec = NADPH_exp_no_dec[3]\n",
    "\n",
    "i_rates_with_dec = NADPH_exp_with_dec[1]\n",
    "ir_lm_with_dec = NADPH_exp_with_dec[2]\n",
    "k_with_dec = NADPH_exp_with_dec[3]\n",
    "\n",
    "# Build figure\n",
    "cols = 1\n",
    "rows = 1\n",
    "\n",
    "f, axarr = plt.subplots(rows, cols)\n",
    "f.set_size_inches(w=mpl_width, h=mpl_height)\n",
    "\n",
    "axarr.plot(i_rates_no_dec[:,0],\n",
    "           np.abs(i_rates_no_dec[:,1]),\n",
    "           color=f\"k\",\n",
    "           label=\"full-act. dim.-only\",\n",
    "           marker=WSA_no_dec_marker,\n",
    "           markersize = mpl_marker_size,\n",
    "           linestyle=\"None\")\n",
    "axarr.plot(vary_init_range_vp_p1, \n",
    "           ir_lm_no_dec.predict(vary_init_range_vp_p1.reshape(-1,1)),\n",
    "           f\"k-\")\n",
    "axarr.text(0.03,0.15,f\"$k={k_no_dec:.3}\\ \\mathrm{{s^{{-1}}}}$\")\n",
    "\n",
    "axarr.plot(i_rates_with_dec[:,0],\n",
    "           np.abs(i_rates_with_dec[:,1]),\n",
    "           color=f\"k\",\n",
    "           label=f\"mixed-act. dim.-dec.\",\n",
    "           marker=WSA_dec_marker,\n",
    "           markersize = mpl_marker_size,\n",
    "          linestyle=\"None\")\n",
    "axarr.plot(vary_init_range_vp_p1, \n",
    "           ir_lm_with_dec.predict(vary_init_range_vp_p1.reshape(-1,1)),\n",
    "           f\"k-\")\n",
    "axarr.text(0.065,0.1,f\"$k={k_with_dec:.3}\\ \\mathrm{{s^{{-1}}}}$\")\n",
    "\n",
    "axarr.set_xlabel(f\"Prx ({mu}M)\", fontsize=mpl_xlabel_fontsize)\n",
    "axarr.set_ylabel(f\"v ({mu}M$\\cdot \\mathrm{{s^{{-1}}}}$)\",fontsize=mpl_ylabel_fontsize)\n",
    "\n",
    "axarr.legend(title = f\"Model\")\n",
    "f.tight_layout()\n",
    "f.savefig(os.path.join(fig_dir, \"nadph_Prx_v_rate.pdf\"),dpi= mpl_dpi)"
   ]
  },
  {
   "cell_type": "markdown",
   "id": "dc78d780-8fbf-4b4e-99c1-59b6162821d7",
   "metadata": {},
   "source": [
    "## fsite and Q/Kd analysis (figure S8c and S8d)"
   ]
  },
  {
   "cell_type": "code",
   "execution_count": null,
   "id": "61f03ac4-7473-4c1d-aaec-157624ff56bf",
   "metadata": {},
   "outputs": [],
   "source": [
    "def do_analysis(mod, sim_data, Prx_idx_in_cons, MOD_HAS_DEC=True):\n",
    "    \"\"\"\n",
    "    Calculates the fraction of reduced Prx sites in SH_SH and hetero-oxidised dimers from a trace.\n",
    "    Normalizes these to the total Prx sites.\n",
    "    Calculates disequilibrium ratio.\n",
    "    \"\"\"\n",
    "    # Supporting resources\n",
    "    H2O2_data = sim_data[\"H2O2\"]\n",
    "    x_points = len(sim_data[\"SH_SH\"])\n",
    "    Prx_moiety_species = [i.split(\"}\")[1].strip() for i in mod.conserved_sums.split(\"\\n\")[\\\n",
    "                          Prx_idx_in_cons].split(\"=\")[0].split(\" + \")[1:]]\n",
    "    species_to_site,site_names = generate_species_to_site_table(Prx_moiety_species)\n",
    "    t_sites = calculate_t_sites(mod, Prx_idx_in_cons,MOD_HAS_DEC=MOD_HAS_DEC)\n",
    "    \n",
    "    # Data\n",
    "    site_data = calculate_sites(mod, sim_data, species_to_site,site_names,x_points)\n",
    "    f_site_data = site_data/t_sites\n",
    "\n",
    "    # flux_data,flux_names = calculate_fluxes(mod, site_data, H2O2_data, site_names,x_points,MOD_HAS_DEC=MOD_HAS_DEC)\n",
    "    \n",
    "    if MOD_HAS_DEC == True:\n",
    "        reaction_p = calculate_dis_equi(mod,sim_data)\n",
    "    else:\n",
    "        reaction_p = np.full([x_points, 1], np.nan)\n",
    "        \n",
    "    # Collate\n",
    "    data = np.hstack([np.array(H2O2_data).reshape(-1,1),f_site_data, reaction_p])\n",
    "    data_names = [\"H2O2\"]+[f\"f_{i}\" for i in site_names] + [\"reaction_p\"]\n",
    "    \n",
    "    data_out = np.core.records.fromrecords(data,names=data_names)\n",
    "    \n",
    "    return data_out\n",
    "\n",
    "def generate_species_to_site_table(Prx_moiety_species):\n",
    "    \"\"\"\n",
    "    Generates a dictionary with species:site_breakdown pairs.\n",
    "    site_breakdown refers to the number of each type of site in a species.\n",
    "    \"\"\"\n",
    "    # site_names = [\"SH\", \"SOH\",\"SS\",\"SO2H\",\"SH_dim\",\"SH_dec\",\"SH_SH\",\"het_ox\"]\n",
    "    site_names = [\"SH_SH\",\"het_ox\"]\n",
    "    site_breakdown_by_species = dict()\n",
    "    \n",
    "    for speci in Prx_moiety_species:\n",
    "        site_counts = [0]*len(site_names)\n",
    "    \n",
    "        dimers = speci.split(\"__\")\n",
    "        \n",
    "        # Find quaternary structure\n",
    "        if len(dimers) == 5:\n",
    "            quaternary = \"decamer\"\n",
    "        elif len(dimers) == 1:\n",
    "            quaternary = \"dimer\"\n",
    "        else:\n",
    "            print(f\"Unlisted quaternary: {speci}\")\n",
    "    \n",
    "        # Count sites\n",
    "        for dimer in dimers:\n",
    "            # hetero ox dimers\n",
    "            if quaternary == \"dimer\" and dimer == \"SH_SH\":\n",
    "                site_counts[site_names.index(\"SH_SH\")] += 2 # this dimer has 2 SH sites\n",
    "            \n",
    "            elif quaternary == \"dimer\" and dimer[0:2] == \"SH\":\n",
    "                # This is a hetero oxidised dimer with a reduced site\n",
    "                site_counts[site_names.index(\"het_ox\")] += 1 # this dimer has 2 SH sites       \n",
    "    \n",
    "        site_breakdown_by_species[speci] = site_counts\n",
    "        \n",
    "    return (site_breakdown_by_species,site_names)\n",
    "\n",
    "def calculate_sites(mod, sim_data, site_breakdown_by_species, site_names,x_points):\n",
    "    \"\"\"\n",
    "    Calculates the total \n",
    "    \"\"\"\n",
    "    site_data = np.zeros((x_points,len(site_names)))\n",
    "\n",
    "    for species in site_breakdown_by_species.keys():\n",
    "        result = np.array(site_breakdown_by_species[species])[:, None] * sim_data[species]\n",
    "        site_data+=result.transpose()\n",
    "    \n",
    "    return site_data\n",
    "\n",
    "def calculate_t_sites(mod, Prx_idx_in_conserved,MOD_HAS_DEC=True):\n",
    "    \"\"\"\n",
    "    Calculates the total number of sites from mod.conserved_sums.\n",
    "    \"\"\"\n",
    "    t_dimers = (\n",
    "        float(\n",
    "            mod.conserved_sums.split('\\n')[\n",
    "                Prx_idx_in_conserved\n",
    "            ].split(' = ')[1]\n",
    "        )\n",
    "    )\n",
    "    \n",
    "    if MOD_HAS_DEC==True:\n",
    "        t_dimers=t_dimers*5\n",
    "        \n",
    "    t_sites = t_dimers*2\n",
    "\n",
    "    return t_sites\n",
    "\n",
    "def calculate_dis_equi(mod,sim_data):\n",
    "    \"\"\"\n",
    "    Calculates the disequilibrium ratio of the reduced dimer-decamer reaction\n",
    "    \"\"\"\n",
    "    ## Calculate roh-Kd\n",
    "    reaction_Kd = mod.k_Prx_dec_disasso/mod.k_Prx_asso\n",
    "    reaction_roh = np.power(sim_data[\"SH_SH\"],5)/sim_data[\"SH_SH__SH_SH__SH_SH__SH_SH__SH_SH\"]\n",
    "    reaction_p  = reaction_roh/reaction_Kd\n",
    "    \n",
    "    return reaction_p.reshape(-1,1)\n"
   ]
  },
  {
   "cell_type": "code",
   "execution_count": null,
   "id": "aee123dd-4240-4c56-9704-bce5c1a11034",
   "metadata": {},
   "outputs": [],
   "source": [
    "mod_Prx_cycle_no_dec_p1_Prx_pos_in_conserved = 1\n",
    "mod_Prx_cycle_with_dec_p1_Prx_pos_in_conserved = 1\n",
    "\n",
    "# H2O2\n",
    "## Mod A\n",
    "mod = mod_Prx_cycle_no_dec_p1\n",
    "sim_data = NADPH_exp_no_dec_p1_vp[4][-1]\n",
    "Prx_idx_in_cons = mod_Prx_cycle_no_dec_p1_Prx_pos_in_conserved\n",
    "mod_Prx_cycle_no_dec_extra = do_analysis(mod, sim_data.to_records(), Prx_idx_in_cons, MOD_HAS_DEC=False)\n",
    "\n",
    "## Mod A with dec\n",
    "mod = mod_Prx_cycle_with_dec_p1\n",
    "sim_data = NADPH_exp_with_dec_p1_vp[4][-1]\n",
    "Prx_idx_in_cons = mod_Prx_cycle_with_dec_p1_Prx_pos_in_conserved\n",
    "mod_Prx_cycle_with_dec_extra = do_analysis(mod, sim_data.to_records(), Prx_idx_in_cons, MOD_HAS_DEC=True)\n",
    "\n",
    "time = sim_data[\"Time\"]"
   ]
  },
  {
   "cell_type": "code",
   "execution_count": null,
   "id": "69e7291b-3775-4695-9764-0a155ece90c1",
   "metadata": {},
   "outputs": [],
   "source": [
    "rows = 1\n",
    "cols = 1\n",
    "f, axarr = plt.subplots(rows,cols)\n",
    "f.set_size_inches(w=cols*mpl_width, h=rows*mpl_height)\n",
    "\n",
    "axarr.semilogy(time,mod_Prx_cycle_with_dec_extra[\"reaction_p\"])\n",
    "\n",
    "axarr.set_ylabel(\"$Q/K_d$\", fontsize = mpl_ylabel_fontsize)\n",
    "axarr.set_xlabel('Time (sec)', fontsize = mpl_xlabel_fontsize)\n",
    "# axarr.legend()\n",
    "\n",
    "f.tight_layout()\n",
    "f.savefig(os.path.join(fig_dir,\"NADPH_Q_over_Kd_vs_time.pdf\"),dpi= mpl_dpi)\n"
   ]
  },
  {
   "cell_type": "code",
   "execution_count": null,
   "id": "b590e62c-9f65-4943-b66c-405a83163a82",
   "metadata": {},
   "outputs": [],
   "source": [
    "rows = 1\n",
    "cols = 1\n",
    "f, axarr = plt.subplots(rows,cols)\n",
    "f.set_size_inches(w=cols*mpl_width, h=rows*mpl_height)\n",
    "\n",
    "axarr.plot(time,mod_Prx_cycle_with_dec_extra[\"f_SH_SH\"], label=\"fully-reduced\")\n",
    "axarr.plot(time,mod_Prx_cycle_with_dec_extra[\"f_het_ox\"], label=\"hetero-oxidised\")\n",
    "axarr.set_ylabel(\"$f_{sites}$\", fontsize = mpl_ylabel_fontsize)\n",
    "axarr.set_xlabel('Time (sec)', fontsize = mpl_xlabel_fontsize)\n",
    "axarr.legend(title=\"SH in dimer\")\n",
    "\n",
    "f.tight_layout()\n",
    "f.savefig(os.path.join(fig_dir,\"NADPH_oxi_state_vs_time.pdf\"),dpi= mpl_dpi)"
   ]
  },
  {
   "cell_type": "markdown",
   "id": "8a48826b-ba17-423c-8171-a1eab217aac0",
   "metadata": {},
   "source": [
    "# NADPH assay extended disulphide-bridge model (S9e and S9f)"
   ]
  },
  {
   "cell_type": "markdown",
   "id": "c35c31a8-1b50-4b5c-9d8a-874c235383f6",
   "metadata": {},
   "source": [
    "**Note:** The following cells have been set to raw as the simulations are likely too computational straining for Binder. Set the cells to code to run the analysis.\n"
   ]
  },
  {
   "cell_type": "raw",
   "id": "26a3e67f-b734-4b32-aedc-a1b8778aa02e",
   "metadata": {},
   "source": [
    "# Load models\n",
    "\n",
    "# Prx cycle with decamers\n",
    "mod_Prx_cycle_no_dec_p1 = pysces.model(\"PRDX2_sys.psc\", dir=mod_dir)\n",
    "mod_Prx_cycle_no_dec_p1.mode_integrator = 'CVODE'\n",
    "\n",
    "# Prx cycle with decamers\n",
    "mod_Prx_cycle_with_dec_p1 = pysces.model(\"PRDX2_sys_decfull_5dsb.psc\", dir=mod_dir)\n",
    "mod_Prx_cycle_with_dec_p1.mode_integrator = 'CVODE'\n",
    "mod_Prx_cycle_with_dec_p1 = update_params_BenfeitasModels(mod_Prx_cycle_with_dec_p1,df_dim_dec_rates)\n",
    "\n",
    "# Adjust Prx cycle no decamer\n",
    "setattr(mod_Prx_cycle_no_dec_p1, \"SH_SH_init\", exp_Prx_p1)\n",
    "setattr(mod_Prx_cycle_no_dec_p1, \"TrxSH_init\", exp_Trx_p1*5) # 5x so that reduction is not rate limiting.\n",
    "setattr(mod_Prx_cycle_no_dec_p1, \"VMaxTrxR\", exp_TRR_p1*kcatTRR)\n",
    "setattr(mod_Prx_cycle_no_dec_p1, \"H2O2_init\", exp_H2O2_p1)\n",
    "setattr(mod_Prx_cycle_no_dec_p1, \"NADPH_init\", exp_NADPH_p1)\n",
    "\n",
    "# Adjust Prx cycle with decamer\n",
    "setattr(mod_Prx_cycle_with_dec_p1, \"SH_SH_init\", exp_Prx_p1)\n",
    "setattr(mod_Prx_cycle_with_dec_p1, \"TrxSH_init\", exp_Trx_p1*5) # 5x so that reduction is not rate limiting.\n",
    "setattr(mod_Prx_cycle_with_dec_p1, \"VMaxTrxR\", exp_TRR_p1*kcatTRR)\n",
    "setattr(mod_Prx_cycle_with_dec_p1, \"H2O2_init\", exp_H2O2_p1)\n",
    "setattr(mod_Prx_cycle_with_dec_p1, \"NADPH_init\", exp_NADPH_p1)\n",
    "\n"
   ]
  },
  {
   "cell_type": "raw",
   "id": "ba0a108b-d054-432c-a961-1a550f2fa11a",
   "metadata": {},
   "source": [
    "# Simulate NADPH initial rates experiments\n",
    "vary_vp = \"SH_SH_init\"\n",
    "vary_init_range_vp_p1 = np.array([0.01,0.05,0.1])\n",
    "assay_end=300\n",
    "assay_points=assay_end+1\n",
    "i_rate_start=3\n",
    "i_rate_end=10\n",
    "\n",
    "mod = mod_Prx_cycle_no_dec_p1\n",
    "NADPH_exp_no_dec_p1_vp = do_NADPH_exp(mod,\n",
    "                                 vary_vp,\n",
    "                                 vary_init_range_vp_p1,\n",
    "                                 assay_end=assay_end,\n",
    "                                 i_rate_start=i_rate_start,\n",
    "                                 i_rate_end=i_rate_end)\n",
    "\n",
    "mod = mod_Prx_cycle_with_dec_p1\n",
    "NADPH_exp_with_dec_p1_vp = do_NADPH_exp(mod,\n",
    "                                 vary_vp,\n",
    "                                 vary_init_range_vp_p1,\n",
    "                                 assay_end=assay_end,\n",
    "                                 i_rate_start=i_rate_start,\n",
    "                                 i_rate_end=i_rate_end)\n"
   ]
  },
  {
   "cell_type": "raw",
   "id": "d13bc332-c66a-4717-8cec-2b48ff464fc4",
   "metadata": {},
   "source": [
    "# Plot time courses\n",
    "\n",
    "# Assay data for plot\n",
    "NADPH_assays_no_dec = NADPH_exp_no_dec_p1_vp[0]\n",
    "NADPH_assays_with_dec = NADPH_exp_with_dec_p1_vp[0]\n",
    "\n",
    "# Build figure\n",
    "cols = 1\n",
    "rows = 1\n",
    "\n",
    "f, axarr = plt.subplots(rows,cols)\n",
    "f.set_size_inches(w=mpl_width,h=mpl_height)\n",
    "\n",
    "handle_list= []\n",
    "\n",
    "for count,assay in enumerate(NADPH_assays_no_dec):\n",
    "    axarr.plot(assay[0,:], \n",
    "               assay[1,:], \n",
    "               f\"{color_wheel[count]}\",\n",
    "               marker=WSA_no_dec_marker,\n",
    "               markevery=200,\n",
    "               markersize = mpl_marker_size,\n",
    "               mec = 'k') \n",
    "    handle = mpatches.Patch(color=f\"{color_wheel[count]}\", label=f\"{vary_init_range_vp_p1[count]}\")\n",
    "    handle_list.append(handle)\n",
    "    \n",
    "for count,assay in enumerate(NADPH_assays_with_dec):\n",
    "    axarr.plot(assay[0,:], \n",
    "               assay[1,:], \n",
    "               f\"{color_wheel[count]}\",\n",
    "               linestyle=\"--\",\n",
    "               marker=WSA_dec_marker,\n",
    "               markevery=200,\n",
    "               markersize = mpl_marker_size,\n",
    "               mec = 'k')\n",
    "    \n",
    "axarr.set_xlabel(\"Time (sec)\", fontsize=mpl_xlabel_fontsize)\n",
    "axarr.set_ylabel(f\"NADPH ({mu}M)\",fontsize=mpl_ylabel_fontsize)\n",
    "\n",
    "title_species = \"Prx\"\n",
    "axarr.legend(handles=handle_list,title=f\"{title_species} ({mu}M)\",loc=(0.75,0.5))\n",
    "f.tight_layout()\n",
    "f.savefig(os.path.join(fig_dir, \"nadph_NADPH_v_time_vary_Prx_5dsb.pdf\"),dpi= mpl_dpi)"
   ]
  },
  {
   "cell_type": "raw",
   "id": "ecaf9b9b-5e90-414e-8a15-05362c9ca52d",
   "metadata": {},
   "source": [
    "# Plot initial rates\n",
    "\n",
    "# Assign data\n",
    "NADPH_exp_no_dec = NADPH_exp_no_dec_p1_vp \n",
    "NADPH_exp_with_dec = NADPH_exp_with_dec_p1_vp\n",
    "\n",
    "i_rates_no_dec = NADPH_exp_no_dec[1]\n",
    "ir_lm_no_dec = NADPH_exp_no_dec[2]\n",
    "k_no_dec = NADPH_exp_no_dec[3]\n",
    "\n",
    "i_rates_with_dec = NADPH_exp_with_dec[1]\n",
    "ir_lm_with_dec = NADPH_exp_with_dec[2]\n",
    "k_with_dec = NADPH_exp_with_dec[3]\n",
    "\n",
    "# Build figure\n",
    "cols = 1\n",
    "rows = 1\n",
    "\n",
    "f, axarr = plt.subplots(rows, cols)\n",
    "f.set_size_inches(w=mpl_width, h=mpl_height)\n",
    "\n",
    "axarr.plot(i_rates_no_dec[:,0],\n",
    "           np.abs(i_rates_no_dec[:,1]),\n",
    "           color=f\"k\",\n",
    "           label=\"full-act. dim.-only\",\n",
    "           marker=WSA_no_dec_marker,\n",
    "           markersize = mpl_marker_size,\n",
    "           linestyle=\"None\")\n",
    "axarr.plot(vary_init_range_vp_p1, \n",
    "           ir_lm_no_dec.predict(vary_init_range_vp_p1.reshape(-1,1)),\n",
    "           f\"k-\")\n",
    "axarr.text(0.03,0.15,f\"$k={k_no_dec:.3}\\ \\mathrm{{s^{{-1}}}}$\")\n",
    "\n",
    "axarr.plot(i_rates_with_dec[:,0],\n",
    "           np.abs(i_rates_with_dec[:,1]),\n",
    "           color=f\"k\",\n",
    "           label=f\"mixed-act. dim.-dec.\",\n",
    "           marker=WSA_dec_marker,\n",
    "           markersize = mpl_marker_size,\n",
    "          linestyle=\"None\")\n",
    "axarr.plot(vary_init_range_vp_p1, \n",
    "           ir_lm_with_dec.predict(vary_init_range_vp_p1.reshape(-1,1)),\n",
    "           f\"k-\")\n",
    "axarr.text(0.065,0.1,f\"$k={k_with_dec:.3}\\ \\mathrm{{s^{{-1}}}}$\")\n",
    "\n",
    "axarr.set_xlabel(f\"Prx ({mu}M)\", fontsize=mpl_xlabel_fontsize)\n",
    "axarr.set_ylabel(f\"v ({mu}M$\\cdot \\mathrm{{s^{{-1}}}}$)\",fontsize=mpl_ylabel_fontsize)\n",
    "\n",
    "axarr.legend(title = f\"Model\")\n",
    "f.tight_layout()\n",
    "f.savefig(os.path.join(fig_dir, \"nadph_Prx_v_rate_5dsb.pdf\"),dpi= mpl_dpi)"
   ]
  },
  {
   "cell_type": "code",
   "execution_count": null,
   "id": "77c793ec-9839-49bf-b846-ad5260953d25",
   "metadata": {},
   "outputs": [],
   "source": []
  }
 ],
 "metadata": {
  "kernelspec": {
   "display_name": "Python 3 (ipykernel)",
   "language": "python",
   "name": "python3"
  },
  "language_info": {
   "codemirror_mode": {
    "name": "ipython",
    "version": 3
   },
   "file_extension": ".py",
   "mimetype": "text/x-python",
   "name": "python",
   "nbconvert_exporter": "python",
   "pygments_lexer": "ipython3",
   "version": "3.9.16"
  },
  "scenes_data": {
   "active_scene": "Default Scene",
   "init_scene": "",
   "scenes": [
    "Default Scene"
   ]
  },
  "toc": {
   "base_numbering": 1,
   "nav_menu": {},
   "number_sections": true,
   "sideBar": true,
   "skip_h1_title": false,
   "title_cell": "Table of Contents",
   "title_sidebar": "Contents",
   "toc_cell": false,
   "toc_position": {
    "height": "calc(100% - 180px)",
    "left": "10px",
    "top": "150px",
    "width": "350.867px"
   },
   "toc_section_display": true,
   "toc_window_display": true
  }
 },
 "nbformat": 4,
 "nbformat_minor": 5
}
