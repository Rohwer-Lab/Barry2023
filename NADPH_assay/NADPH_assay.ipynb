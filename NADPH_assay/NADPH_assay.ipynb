{
 "cells": [
  {
   "cell_type": "markdown",
   "id": "821a7d55",
   "metadata": {},
   "source": [
    "# NADPH experiments with whole Prx system"
   ]
  },
  {
   "cell_type": "markdown",
   "id": "9b47f98a",
   "metadata": {},
   "source": [
    "This notebook performs analyses described in the "
   ]
  },
  {
   "cell_type": "markdown",
   "id": "4dbbb5f2",
   "metadata": {},
   "source": [
    "**Manuscript:**\n",
    "\n",
    "Modelling the decamerisation cycle of PRDX1 and the inhibition-like effect on its peroxidase activity"
   ]
  },
  {
   "cell_type": "markdown",
   "id": "696fe7f8",
   "metadata": {},
   "source": [
    "**Authors:**\n",
    "\n",
    "C. Barry, C. Pillay, J. Rohwer"
   ]
  },
  {
   "cell_type": "markdown",
   "id": "c64c7ff9",
   "metadata": {},
   "source": [
    "**Purpose:**\n",
    "\n",
    "Analysis: simulations of NADPH reduction assays in a system containing Prx, Trx, TRR, and $H_2O_2$\n",
    "\n",
    "Plot: Figure 7c and 7d"
   ]
  },
  {
   "cell_type": "markdown",
   "id": "5f5063ec",
   "metadata": {},
   "source": [
    "**Requirements:**\n",
    "\n",
    "Python libraries (see **Imports** below)\n",
    "\n",
    "Prx parameters (filename:`fitted_koff_kon_PRDX1_params.csv`)\n",
    "\n",
    "Prx PRDX2 system model (filename: `PRDX2_sys.psc`)\n",
    "\n",
    "Prx PRDX2 system model with decamer reactions (filename: `PRDX2_sys_decfull.psc`)"
   ]
  },
  {
   "cell_type": "markdown",
   "id": "d825fc05",
   "metadata": {},
   "source": [
    "##### Imports"
   ]
  },
  {
   "cell_type": "code",
   "execution_count": 1,
   "id": "f1b1efe4",
   "metadata": {
    "ExecuteTime": {
     "end_time": "2023-06-23T11:32:07.020332Z",
     "start_time": "2023-06-23T11:32:04.995384Z"
    }
   },
   "outputs": [
    {
     "name": "stdout",
     "output_type": "stream",
     "text": [
      "Matplotlib backend set to: \"nbAgg\"\n",
      "Matplotlib interface loaded (pysces.plt.m)\n",
      "Pitcon routines available\n",
      "NLEQ2 routines available\n",
      "SBML support available\n",
      "You are using NumPy (1.23.5) with SciPy (1.9.3)\n",
      "Assimulo CVode available\n",
      "RateChar is available\n",
      "Parallel scanner is available\n",
      "\n",
      "PySCeS environment\n",
      "******************\n",
      "pysces.model_dir = /home/chris/Pysces/psc\n",
      "pysces.output_dir = /home/chris/Pysces\n",
      "\n",
      "\n",
      "***********************************************************************\n",
      "* Welcome to PySCeS (1.0.3) - Python Simulator for Cellular Systems   *\n",
      "*                http://pysces.sourceforge.net                        *\n",
      "* Copyright(C) B.G. Olivier, J.M. Rohwer, J.-H.S. Hofmeyr, 2004-2022  *\n",
      "* Triple-J Group for Molecular Cell Physiology                        *\n",
      "* Stellenbosch University, ZA and VU University Amsterdam, NL         *\n",
      "* PySCeS is distributed under the PySCeS (BSD style) licence, see     *\n",
      "* LICENCE.txt (supplied with this release) for details                *\n",
      "* Please cite PySCeS with: doi:10.1093/bioinformatics/bti046          *\n",
      "***********************************************************************\n"
     ]
    }
   ],
   "source": [
    "import os\n",
    "import copy\n",
    "\n",
    "import numpy as np\n",
    "from matplotlib import pyplot as plt\n",
    "import matplotlib.patches as mpatches\n",
    "import pandas as pd\n",
    "from sklearn.linear_model import LinearRegression\n",
    "\n",
    "import pysces\n"
   ]
  },
  {
   "cell_type": "markdown",
   "id": "14c55dd9",
   "metadata": {},
   "source": [
    "###### Save directories"
   ]
  },
  {
   "cell_type": "code",
   "execution_count": 2,
   "id": "2f79cd54",
   "metadata": {
    "ExecuteTime": {
     "end_time": "2023-06-23T11:32:07.026649Z",
     "start_time": "2023-06-23T11:32:07.022302Z"
    }
   },
   "outputs": [],
   "source": [
    "prev_dir = os.path.split(os.getcwd())[0]\n",
    "\n",
    "mod_dir = os.path.join(prev_dir,\"models\")\n",
    "if not os.path.isdir(mod_dir): os.mkdir(mod_dir) # ensure dir exists\n",
    "\n",
    "par_dir = os.path.join(prev_dir,\"params\")\n",
    "if not os.path.isdir(par_dir): os.mkdir(par_dir) # ensure dir exists\n",
    "    \n",
    "fig_dir = os.path.join(os.getcwd(),\"Figures\")\n",
    "if not os.path.isdir(fig_dir): os.mkdir(fig_dir) # ensure dir exists\n"
   ]
  },
  {
   "cell_type": "markdown",
   "id": "26349861",
   "metadata": {},
   "source": [
    "###### Matplotlib stuff"
   ]
  },
  {
   "cell_type": "code",
   "execution_count": 3,
   "id": "3296b822",
   "metadata": {
    "ExecuteTime": {
     "end_time": "2023-06-23T11:32:07.038148Z",
     "start_time": "2023-06-23T11:32:07.028329Z"
    }
   },
   "outputs": [],
   "source": [
    "%matplotlib inline\n",
    "\n",
    "mpl_width = 4.5\n",
    "mpl_height = 3.5\n",
    "mpl_dpi = 600\n",
    "mpl_xlabel_fontsize = \"large\"\n",
    "mpl_ylabel_fontsize = \"large\"\n",
    "mu = \"\\u03bc\"\n"
   ]
  },
  {
   "cell_type": "code",
   "execution_count": 4,
   "id": "77cdad18",
   "metadata": {
    "ExecuteTime": {
     "end_time": "2023-06-23T11:32:07.046641Z",
     "start_time": "2023-06-23T11:32:07.043028Z"
    }
   },
   "outputs": [],
   "source": [
    "# Marker symbols\n",
    "WSA_no_dec_marker = \"^\"\n",
    "WSA_dec_marker = \"s\"\n",
    "# WSA_dec_dil = \"o\"\n",
    "mpl_marker_size = 6"
   ]
  },
  {
   "cell_type": "code",
   "execution_count": 5,
   "id": "2f0a1903",
   "metadata": {
    "ExecuteTime": {
     "end_time": "2023-06-23T11:32:07.051670Z",
     "start_time": "2023-06-23T11:32:07.048369Z"
    }
   },
   "outputs": [],
   "source": [
    "color_wheel = [\"tab:blue\",\"tab:green\",\"tab:red\",\"tab:cyan\",\"tab:purple\"]"
   ]
  },
  {
   "cell_type": "markdown",
   "id": "ca2b884b",
   "metadata": {},
   "source": [
    "##### fitted params"
   ]
  },
  {
   "cell_type": "code",
   "execution_count": 6,
   "id": "43705db9",
   "metadata": {
    "ExecuteTime": {
     "end_time": "2023-06-23T11:32:07.073848Z",
     "start_time": "2023-06-23T11:32:07.053697Z"
    }
   },
   "outputs": [],
   "source": [
    "fitted_dim_dec_rates_file = \"fitted_koff_kon_PRDX1_params.csv\"\n",
    "df_dim_dec_rates = pd.read_csv(os.path.join(par_dir,fitted_dim_dec_rates_file))\n",
    "df_dim_dec_rates.set_index(\"Parameter\",inplace=True)"
   ]
  },
  {
   "cell_type": "code",
   "execution_count": 7,
   "id": "50128495",
   "metadata": {
    "ExecuteTime": {
     "end_time": "2023-06-23T11:32:07.079032Z",
     "start_time": "2023-06-23T11:32:07.075049Z"
    }
   },
   "outputs": [],
   "source": [
    "def update_params_BenfeitasModels(mod,params,hyp=False):\n",
    "    \"\"\"\n",
    "    Updates the parameters of a model which has been augmented with Prx decamer reactions.\n",
    "    Adding the decamer reactions introduces several new parameter names which need to be populated with their \n",
    "    corrosponding values in the original model as well as the fitted dimer-decamer transition koff and kon.\n",
    "    As a special case: The decamer sulfenilation rate is set to the original model dimer sulfenilation rate \n",
    "    (i.e full activity) and the dimer sulfenilation rate is set to 100-fold less than the original model.\n",
    "    \"\"\"\n",
    "    # Dimer-decamer transition params\n",
    "    mod.exponent = 5\n",
    "    mod.k_Prx_asso = params.loc[\"kon\"][0]\n",
    "    mod.k_Prx_dec_disasso = params.loc[\"koff\"][0]\n",
    "    \n",
    "    ## Prx oxidation params\n",
    "    mod.k_Prx_sulfe_SH_dec = mod.kprx\n",
    "    mod.k_Prx_sulfe_SOH_dec = mod.kprx\n",
    "    mod.k_Prx_disulf_form_SH_dec = mod.kcond\n",
    "    mod.k_Prx_disulf_form_SOH_dec = mod.kcond\n",
    "    mod.k_Prx_disso_SH_dec = 10000 # Arbitrary \n",
    "    mod.k_Prx_disso_SOH_dec = 10000 # Arbitrary\n",
    "    \n",
    "    if hyp == True:\n",
    "        mod.k_Prx_sulfe_SOOH_dec = mod.kprx\n",
    "        mod.k_Prx_sulfi_SOOH_dec = mod.ksulf\n",
    "        mod.k_Prx_disulf_form_SOOH_dec = mod.kcond\n",
    "        mod.k_Prx_srx_SOOH_dec = mod.ksrx \n",
    "        mod.k_Prx_disso_SOOH_dec = 10000 # Arbitrary\n",
    "        \n",
    "    # Adust dimer sulfenilation to be 100 slower than decamer\n",
    "    mod.kprx = mod.kprx/100\n",
    "#     mod.two_times_kprx = mod.two_times_kprx/100\n",
    "    \n",
    "    return mod\n"
   ]
  },
  {
   "cell_type": "markdown",
   "id": "1cfa8324",
   "metadata": {},
   "source": [
    "## NADPH assay functions"
   ]
  },
  {
   "cell_type": "code",
   "execution_count": 8,
   "id": "d416e7dc",
   "metadata": {
    "ExecuteTime": {
     "end_time": "2023-06-23T11:32:07.093450Z",
     "start_time": "2023-06-23T11:32:07.080119Z"
    }
   },
   "outputs": [],
   "source": [
    "def do_NADPH_exp_double_vary(mod,\n",
    "                             vary,\n",
    "                             vary_init_range,\n",
    "                             vary2,\n",
    "                             vary2_init,\n",
    "                             assay_end=1000, # time in s\n",
    "                             assay_points=1000,\n",
    "                             i_rate_start=3, # data point idx\n",
    "                             i_rate_end=10): # data point idx\n",
    "    \"\"\"\n",
    "    Performs an NADPH experiment varying two parameters to get the rate constant vs second parameter.\n",
    "    \"\"\"\n",
    "    # Update model with new second param\n",
    "    vary2_orig = getattr(mod,vary2)\n",
    "    setattr(mod,vary2,vary2_init)\n",
    "    \n",
    "    # Simulate NADPH initial rates experiment\n",
    "    NADPH_exp = do_NADPH_exp(mod,\n",
    "                             vary,\n",
    "                             vary_init_range,\n",
    "                             assay_end=assay_end,\n",
    "                             i_rate_start=i_rate_start,\n",
    "                             i_rate_end=i_rate_end)\n",
    "    \n",
    "    # Restore model\n",
    "    setattr(mod,vary2,vary2_orig)\n",
    "    \n",
    "    # Grab data\n",
    "    rate_constant = (vary2_init,NADPH_exp[3])\n",
    "    \n",
    "    return rate_constant\n",
    "\n",
    "def do_NADPH_exp(mod,\n",
    "                 vary,\n",
    "                 vary_init_range,\n",
    "                 assay_end=600, # time in s\n",
    "                 assay_points=1000,\n",
    "                 i_rate_start=3, # data point idx\n",
    "                 i_rate_end=10): # data point idx\n",
    "    \"\"\"\n",
    "    Performs an NADPH experiment of several assay runs.\n",
    "    Fits initial rates on each run.\n",
    "    Determines the rate constant.\n",
    "    \"\"\"\n",
    "    \n",
    "    # Do assay runs\n",
    "    traces = list(map(lambda vary_init: do_NADPH_assay(mod, \n",
    "                                                       vary,\n",
    "                                                       vary_init,\n",
    "                                                       end_time=assay_end,\n",
    "                                                      points=assay_points), \n",
    "                      vary_init_range))\n",
    "    \n",
    "    # Fit initial rates of assays\n",
    "    start_point = 3\n",
    "    end_point = 10\n",
    "    initial_rates = fit_initial_rates(traces,vary_init_range,i_rate_start,i_rate_end)\n",
    "    \n",
    "    # Fit rate constant to initial rates\n",
    "    initial_rate_lm = LinearRegression().fit(initial_rates[:,0].reshape(-1,1), \n",
    "                                       np.abs(initial_rates[:,1]).reshape(-1,1))\n",
    "    \n",
    "    rate_constant = initial_rate_lm.coef_[0][0]\n",
    "    \n",
    "    return (traces,initial_rates,initial_rate_lm,rate_constant)\n",
    "\n",
    "def do_NADPH_assay(mod,\n",
    "                   vary,\n",
    "                    vary_init,\n",
    "                    end_time=15,\n",
    "                    points=1000):\n",
    "    \"\"\"\n",
    "    Performs an NADPH assay time course assay using a model containing H2O2 and NADPH.\n",
    "    \"\"\"\n",
    "    # Update model with assay params\n",
    "    vary_orig = getattr(mod,vary)\n",
    "    setattr(mod,vary,vary_init)    \n",
    "\n",
    "    # Get equilibrium at H2O2_init = 0\n",
    "    H2O2_orig = getattr(mod,\"H2O2_init\")\n",
    "    setattr(mod,\"H2O2_init\",0.0)\n",
    "    mod.doSim(end=1000000,points=2)\n",
    "\n",
    "    # Update model with equilibrium species concentrations\n",
    "    for species in mod.species:\n",
    "        setattr(mod, f\"{species}_init\",mod.sim[species][-1])\n",
    "        \n",
    "    # Restore H2O2_init\n",
    "    if vary == \"H2O2_init\":\n",
    "        setattr(mod,\"H2O2_init\",vary_init)\n",
    "    else:\n",
    "        setattr(mod,\"H2O2_init\",H2O2_orig)\n",
    "\n",
    "    # Simulate\n",
    "    mod.sim_end = end_time\n",
    "    mod.sim_points = points\n",
    "    mod.Simulate()\n",
    "\n",
    "    # Grab data\n",
    "    result = np.array((mod.sim[\"Time\"],mod.sim[\"NADPH\"]))\n",
    "\n",
    "    # Restore model\n",
    "    setattr(mod,vary,vary_orig)\n",
    "        \n",
    "    return result\n",
    "\n",
    "def fit_initial_rates(data,vary_init_range,start_point,end_point):\n",
    "    \"\"\"\n",
    "    Fits the initial rates of an NADPH assay\n",
    "    \"\"\"\n",
    "    initial_rates = list(map(lambda data_trace: get_initial_rate(data_trace,start_point,end_point,), data))\n",
    "    \n",
    "    initial_rate_data = np.array((vary_init_range,initial_rates)).transpose()\n",
    "    \n",
    "    return initial_rate_data\n",
    "\n",
    "def get_initial_rate(trace_data,start_point,end_point):\n",
    "    \"\"\"\n",
    "    Gets the initial rate of a time course.\n",
    "    \"\"\"\n",
    "    x_initial = trace_data[0][start_point:end_point].reshape(-1,1)\n",
    "    y_initial = trace_data[1][start_point:end_point].reshape(-1,1)\n",
    "    model = LinearRegression().fit(x_initial, y_initial)\n",
    "    r_sq = model.score(x_initial, y_initial)\n",
    "    if r_sq < 0.95:\n",
    "        print(f\"WARNING, non-linear data range:\\n r_sq = {r_sq:.4}\")\n",
    "    return model.coef_[0][0]\n",
    "\n"
   ]
  },
  {
   "cell_type": "markdown",
   "id": "c95e806f",
   "metadata": {},
   "source": [
    "## NADPH assay (figure 7c and 7d)"
   ]
  },
  {
   "cell_type": "markdown",
   "id": "d99b99ad",
   "metadata": {},
   "source": [
    "Assay species concentrations based thesis: Investigating the dynamics of hydrogenperoxide metabolism in the peroxiredoxinsystem of Saccharomyces cerevisiae fig 4.14 "
   ]
  },
  {
   "cell_type": "code",
   "execution_count": 9,
   "id": "313d9ddf",
   "metadata": {
    "ExecuteTime": {
     "end_time": "2023-06-23T11:32:07.099623Z",
     "start_time": "2023-06-23T11:32:07.094632Z"
    }
   },
   "outputs": [],
   "source": [
    "# Set assay conditions\n",
    "exp_Prx_p1 = 0.05 # µM\n",
    "exp_Trx_p1 = 10 # µM\n",
    "kcatTRR = 73\n",
    "exp_TRR_p1 = 0.5 # µM\n",
    "exp_H2O2_p1 = 5 # H2O2 0 to 10 µM\n",
    "exp_NADPH_p1 = 150 # µM\n",
    "# ammonium sulfate, 100 mM; EDTA, 1 mM; potassium phosphate, 25 mM \n",
    "# (pH 7)"
   ]
  },
  {
   "cell_type": "code",
   "execution_count": 10,
   "id": "99549adc",
   "metadata": {
    "ExecuteTime": {
     "end_time": "2023-06-23T11:32:08.406812Z",
     "start_time": "2023-06-23T11:32:07.102586Z"
    }
   },
   "outputs": [
    {
     "name": "stdout",
     "output_type": "stream",
     "text": [
      "Using model directory: /home/chris/Dropbox/Studies/6. PhD/Papers [Chris B]/Decamerisation_cycle_of_PRDX1/Data/models\n",
      "/home/chris/Dropbox/Studies/6. PhD/Papers [Chris B]/Decamerisation_cycle_of_PRDX1/Data/models/PRDX2_sys.psc loading ..... \n",
      "Parsing file: /home/chris/Dropbox/Studies/6. PhD/Papers [Chris B]/Decamerisation_cycle_of_PRDX1/Data/models/PRDX2_sys.psc\n",
      "Info: No reagents have been fixed\n",
      " \n",
      "Calculating L matrix . . . . . . . . .  done.\n",
      "Calculating K matrix . . . . . . . . . . .  done.\n",
      " \n",
      "Using model directory: /home/chris/Dropbox/Studies/6. PhD/Papers [Chris B]/Decamerisation_cycle_of_PRDX1/Data/models\n",
      "/home/chris/Dropbox/Studies/6. PhD/Papers [Chris B]/Decamerisation_cycle_of_PRDX1/Data/models/PRDX2_sys_decfull.psc loading ..... \n",
      "Parsing file: /home/chris/Dropbox/Studies/6. PhD/Papers [Chris B]/Decamerisation_cycle_of_PRDX1/Data/models/PRDX2_sys_decfull.psc\n",
      "Info: No reagents have been fixed\n",
      " \n",
      "Calculating L matrix . . . . . . . . . . .  done.\n",
      "Calculating K matrix . . . . . . . . . . . . . . . . .  done.\n",
      " \n"
     ]
    }
   ],
   "source": [
    "# Load models\n",
    "\n",
    "# Prx cycle with decamers\n",
    "mod_Prx_cycle_no_dec_p1 = pysces.model(\"PRDX2_sys.psc\", dir=mod_dir)\n",
    "mod_Prx_cycle_no_dec_p1.mode_integrator = 'CVODE'\n",
    "\n",
    "# Prx cycle with decamers\n",
    "mod_Prx_cycle_with_dec_p1 = pysces.model(\"PRDX2_sys_decfull.psc\", dir=mod_dir)\n",
    "mod_Prx_cycle_with_dec_p1.mode_integrator = 'CVODE'\n",
    "mod_Prx_cycle_with_dec_p1 = update_params_BenfeitasModels(mod_Prx_cycle_with_dec_p1,df_dim_dec_rates)\n",
    "\n",
    "# Adjust Prx cycle no decamer\n",
    "setattr(mod_Prx_cycle_no_dec_p1, \"SH_SH_init\", exp_Prx_p1)\n",
    "setattr(mod_Prx_cycle_no_dec_p1, \"TrxSH_init\", exp_Trx_p1*5) # 5x so that reduction is not rate limiting.\n",
    "setattr(mod_Prx_cycle_no_dec_p1, \"VMaxTrxR\", exp_TRR_p1*kcatTRR)\n",
    "setattr(mod_Prx_cycle_no_dec_p1, \"H2O2_init\", exp_H2O2_p1)\n",
    "setattr(mod_Prx_cycle_no_dec_p1, \"NADPH_init\", exp_NADPH_p1)\n",
    "\n",
    "# Adjust Prx cycle with decamer\n",
    "setattr(mod_Prx_cycle_with_dec_p1, \"SH_SH_init\", exp_Prx_p1)\n",
    "setattr(mod_Prx_cycle_with_dec_p1, \"TrxSH_init\", exp_Trx_p1*5) # 5x so that reduction is not rate limiting.\n",
    "setattr(mod_Prx_cycle_with_dec_p1, \"VMaxTrxR\", exp_TRR_p1*kcatTRR)\n",
    "setattr(mod_Prx_cycle_with_dec_p1, \"H2O2_init\", exp_H2O2_p1)\n",
    "setattr(mod_Prx_cycle_with_dec_p1, \"NADPH_init\", exp_NADPH_p1)\n",
    "\n"
   ]
  },
  {
   "cell_type": "code",
   "execution_count": 11,
   "id": "622cf5f5",
   "metadata": {
    "ExecuteTime": {
     "end_time": "2023-06-23T11:32:08.411320Z",
     "start_time": "2023-06-23T11:32:08.408161Z"
    }
   },
   "outputs": [],
   "source": [
    "# Assay params\n",
    "vary_vp = \"SH_SH_init\"\n",
    "vary_init_range_vp_p1 = np.array([0.01,0.05,0.1])"
   ]
  },
  {
   "cell_type": "code",
   "execution_count": 12,
   "id": "2bcc28c4",
   "metadata": {
    "ExecuteTime": {
     "end_time": "2023-06-23T11:32:12.442659Z",
     "start_time": "2023-06-23T11:32:08.412992Z"
    }
   },
   "outputs": [
    {
     "name": "stdout",
     "output_type": "stream",
     "text": [
      "CVODE time for 2 points: 0.0012810230255126953\n",
      "CVODE time for 1000 points: 0.07147669792175293\n",
      "CVODE time for 2 points: 0.0012531280517578125\n",
      "CVODE time for 1000 points: 0.10266923904418945\n",
      "CVODE time for 2 points: 0.0022003650665283203\n",
      "CVODE time for 1000 points: 0.09808826446533203\n",
      "CVODE time for 2 points: 0.07253623008728027\n",
      "CVODE time for 1000 points: 0.7211570739746094\n",
      "CVODE time for 2 points: 0.12471437454223633\n",
      "CVODE time for 1000 points: 1.0938663482666016\n",
      "CVODE time for 2 points: 0.1556391716003418\n",
      "CVODE time for 1000 points: 1.4076013565063477\n"
     ]
    }
   ],
   "source": [
    "# Simulate NADPH initial rates experiments\n",
    "vary_vp = \"SH_SH_init\"\n",
    "vary_init_range_vp_p1 = np.array([0.01,0.05,0.1])\n",
    "assay_end=300\n",
    "assay_points=assay_end+1\n",
    "i_rate_start=3\n",
    "i_rate_end=10\n",
    "\n",
    "mod = mod_Prx_cycle_no_dec_p1\n",
    "NADPH_exp_no_dec_p1_vp = do_NADPH_exp(mod,\n",
    "                                 vary_vp,\n",
    "                                 vary_init_range_vp_p1,\n",
    "                                 assay_end=assay_end,\n",
    "                                 i_rate_start=i_rate_start,\n",
    "                                 i_rate_end=i_rate_end)\n",
    "\n",
    "mod = mod_Prx_cycle_with_dec_p1\n",
    "NADPH_exp_with_dec_p1_vp = do_NADPH_exp(mod,\n",
    "                                 vary_vp,\n",
    "                                 vary_init_range_vp_p1,\n",
    "                                 assay_end=assay_end,\n",
    "                                 i_rate_start=i_rate_start,\n",
    "                                 i_rate_end=i_rate_end)\n"
   ]
  },
  {
   "cell_type": "code",
   "execution_count": 13,
   "id": "75a5e8f2",
   "metadata": {
    "ExecuteTime": {
     "end_time": "2023-06-23T11:32:12.814273Z",
     "start_time": "2023-06-23T11:32:12.444223Z"
    }
   },
   "outputs": [
    {
     "name": "stderr",
     "output_type": "stream",
     "text": [
      "/tmp/ipykernel_9807/3841212152.py:43: UserWarning: Matplotlib is currently using module://matplotlib_inline.backend_inline, which is a non-GUI backend, so cannot show the figure.\n",
      "  f.show()\n"
     ]
    },
    {
     "data": {
      "image/png": "[encoded data removed]",
      "text/plain": [
       "<Figure size 450x350 with 1 Axes>"
      ]
     },
     "metadata": {},
     "output_type": "display_data"
    }
   ],
   "source": [
    "# Plot time courses\n",
    "\n",
    "# Assay data for plot\n",
    "NADPH_assays_no_dec = NADPH_exp_no_dec_p1_vp[0]\n",
    "NADPH_assays_with_dec = NADPH_exp_with_dec_p1_vp[0]\n",
    "\n",
    "# Build figure\n",
    "cols = 1\n",
    "rows = 1\n",
    "\n",
    "f, axarr = plt.subplots(rows,cols)\n",
    "f.set_size_inches(w=mpl_width,h=mpl_height)\n",
    "\n",
    "handle_list= []\n",
    "\n",
    "for count,assay in enumerate(NADPH_assays_no_dec):\n",
    "    axarr.plot(assay[0,:], \n",
    "               assay[1,:], \n",
    "               f\"{color_wheel[count]}\",\n",
    "               marker=WSA_no_dec_marker,\n",
    "               markevery=200,\n",
    "               markersize = mpl_marker_size,\n",
    "               mec = 'k') \n",
    "    handle = mpatches.Patch(color=f\"{color_wheel[count]}\", label=f\"{vary_init_range_vp_p1[count]}\")\n",
    "    handle_list.append(handle)\n",
    "    \n",
    "for count,assay in enumerate(NADPH_assays_with_dec):\n",
    "    axarr.plot(assay[0,:], \n",
    "               assay[1,:], \n",
    "               f\"{color_wheel[count]}\",\n",
    "               linestyle=\"--\",\n",
    "               marker=WSA_dec_marker,\n",
    "               markevery=200,\n",
    "               markersize = mpl_marker_size,\n",
    "               mec = 'k')\n",
    "    \n",
    "axarr.set_xlabel(\"Time (sec)\", fontsize=mpl_xlabel_fontsize)\n",
    "axarr.set_ylabel(f\"NADPH ({mu}M)\",fontsize=mpl_ylabel_fontsize)\n",
    "\n",
    "title_species = vary_vp.split(\"_\")[0]\n",
    "axarr.legend(handles=handle_list,title=f\"{title_species} ({mu}M)\",loc=(0.75,0.5))\n",
    "f.tight_layout()\n",
    "f.show()\n",
    "f.savefig(os.path.join(fig_dir, \"nadph_NADPH_v_time_vary_Prx.pdf\"),dpi= mpl_dpi)"
   ]
  },
  {
   "cell_type": "code",
   "execution_count": 14,
   "id": "a8199bae",
   "metadata": {
    "ExecuteTime": {
     "end_time": "2023-06-23T11:32:13.240854Z",
     "start_time": "2023-06-23T11:32:12.815881Z"
    }
   },
   "outputs": [
    {
     "name": "stderr",
     "output_type": "stream",
     "text": [
      "/tmp/ipykernel_9807/3244654116.py:51: UserWarning: Matplotlib is currently using module://matplotlib_inline.backend_inline, which is a non-GUI backend, so cannot show the figure.\n",
      "  f.show()\n"
     ]
    },
    {
     "data": {
      "image/png": "[encoded data removed]",
      "text/plain": [
       "<Figure size 450x350 with 1 Axes>"
      ]
     },
     "metadata": {},
     "output_type": "display_data"
    }
   ],
   "source": [
    "# Plot initial rates\n",
    "\n",
    "# Assign data\n",
    "NADPH_exp_no_dec = NADPH_exp_no_dec_p1_vp \n",
    "NADPH_exp_with_dec = NADPH_exp_with_dec_p1_vp\n",
    "\n",
    "i_rates_no_dec = NADPH_exp_no_dec[1]\n",
    "ir_lm_no_dec = NADPH_exp_no_dec[2]\n",
    "k_no_dec = NADPH_exp_no_dec[3]\n",
    "\n",
    "i_rates_with_dec = NADPH_exp_with_dec[1]\n",
    "ir_lm_with_dec = NADPH_exp_with_dec[2]\n",
    "k_with_dec = NADPH_exp_with_dec[3]\n",
    "\n",
    "# Build figure\n",
    "cols = 1\n",
    "rows = 1\n",
    "\n",
    "f, axarr = plt.subplots(rows, cols)\n",
    "f.set_size_inches(w=mpl_width, h=mpl_height)\n",
    "\n",
    "axarr.plot(i_rates_no_dec[:,0],\n",
    "           np.abs(i_rates_no_dec[:,1]),\n",
    "           color=f\"k\",\n",
    "           label=\"Max-act. dim.-only\",\n",
    "           marker=WSA_no_dec_marker,\n",
    "           markersize = mpl_marker_size,\n",
    "           linestyle=\"None\")\n",
    "axarr.plot(vary_init_range_vp_p1, \n",
    "           ir_lm_no_dec.predict(vary_init_range_vp_p1.reshape(-1,1)),\n",
    "           f\"k-\")\n",
    "axarr.text(0.03,0.15,f\"$k={k_no_dec:.3}\\ \\mathrm{{s^{{-1}}}}$\")\n",
    "\n",
    "axarr.plot(i_rates_with_dec[:,0],\n",
    "           np.abs(i_rates_with_dec[:,1]),\n",
    "           color=f\"k\",\n",
    "           label=f\"Mixed-act. with dec.\",\n",
    "           marker=WSA_dec_marker,\n",
    "           markersize = mpl_marker_size,\n",
    "          linestyle=\"None\")\n",
    "axarr.plot(vary_init_range_vp_p1, \n",
    "           ir_lm_with_dec.predict(vary_init_range_vp_p1.reshape(-1,1)),\n",
    "           f\"k-\")\n",
    "axarr.text(0.065,0.1,f\"$k={k_with_dec:.3}\\ \\mathrm{{s^{{-1}}}}$\")\n",
    "\n",
    "axarr.set_xlabel(f\"Prx ({mu}M)\", fontsize=mpl_xlabel_fontsize)\n",
    "axarr.set_ylabel(f\"v ({mu}M$\\cdot \\mathrm{{s^{{-1}}}}$)\",fontsize=mpl_ylabel_fontsize)\n",
    "\n",
    "axarr.legend(title = f\"Model\")\n",
    "f.tight_layout()\n",
    "f.show()\n",
    "f.savefig(os.path.join(fig_dir, \"nadph_Prx_v_rate.pdf\"),dpi= mpl_dpi)"
   ]
  }
 ],
 "metadata": {
  "kernelspec": {
   "display_name": "Python 3 (ipykernel)",
   "language": "python",
   "name": "python3"
  },
  "language_info": {
   "codemirror_mode": {
    "name": "ipython",
    "version": 3
   },
   "file_extension": ".py",
   "mimetype": "text/x-python",
   "name": "python",
   "nbconvert_exporter": "python",
   "pygments_lexer": "ipython3",
   "version": "3.9.16"
  },
  "toc": {
   "base_numbering": 1,
   "nav_menu": {},
   "number_sections": true,
   "sideBar": true,
   "skip_h1_title": false,
   "title_cell": "Table of Contents",
   "title_sidebar": "Contents",
   "toc_cell": false,
   "toc_position": {},
   "toc_section_display": true,
   "toc_window_display": true
  }
 },
 "nbformat": 4,
 "nbformat_minor": 5
}
