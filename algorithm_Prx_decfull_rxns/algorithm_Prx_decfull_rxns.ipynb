{
 "cells": [
  {
   "cell_type": "markdown",
   "id": "69d44b0f",
   "metadata": {},
   "source": [
    "# Algorithm for enumerating Prx decamer reactions"
   ]
  },
  {
   "cell_type": "markdown",
   "id": "225e119f",
   "metadata": {},
   "source": [
    "This notebook performs analyses described in the "
   ]
  },
  {
   "cell_type": "markdown",
   "id": "ba3ada09",
   "metadata": {},
   "source": [
    "**Manuscript:**\n",
    "\n",
    "Modelling the decamerisation cycle of PRDX1 and the inhibition-like effect on its peroxidase activity"
   ]
  },
  {
   "cell_type": "markdown",
   "id": "e446758a",
   "metadata": {},
   "source": [
    "**Authors:**\n",
    "\n",
    "C. Barry, C. Pillay, J. Rohwer"
   ]
  },
  {
   "cell_type": "markdown",
   "id": "3eb056fb",
   "metadata": {},
   "source": [
    "**Purpose:**\n",
    "\n",
    "Enumerates the peroxidase reactions of Prx decamers using the algorithm\n",
    "described in the manuscript.\n",
    "\n",
    "Writes the Prx decamer peroxidase reactions without hyperoxidation (filename:`Prx decamer reactions - no hyperoxidation.txt`).\n",
    "\n",
    "Writes the Prx decamer peroxidase reactions without hyperoxidation and 5 disulphide-bridges (filename:`Prx decamer reactions - no hyperoxidation.txt`).\n",
    "\n",
    "Writes the Prx decamer peroxidase reactions without hyperoxidation and 5 disulphide-bridges (filename:`Prx decamer reactions - no hyperoxidation 5dsb.txt`)."
   ]
  },
  {
   "cell_type": "markdown",
   "id": "126944ec",
   "metadata": {},
   "source": [
    "**Requirements:**\n",
    "\n",
    "Python libraries (see **Imports** below)\n"
   ]
  },
  {
   "cell_type": "markdown",
   "id": "150aeb80",
   "metadata": {},
   "source": [
    "##### Imports"
   ]
  },
  {
   "cell_type": "code",
   "execution_count": null,
   "id": "68e82918",
   "metadata": {
    "ExecuteTime": {
     "end_time": "2023-06-23T06:30:09.197370Z",
     "start_time": "2023-06-23T06:30:08.930401Z"
    }
   },
   "outputs": [],
   "source": [
    "import os\n",
    "\n",
    "import numpy as np\n",
    "from collections import Counter\n",
    "from sortedcontainers import SortedSet\n"
   ]
  },
  {
   "cell_type": "markdown",
   "id": "3642952e",
   "metadata": {},
   "source": [
    "##### Save directories"
   ]
  },
  {
   "cell_type": "code",
   "execution_count": null,
   "id": "7d47b1a9",
   "metadata": {
    "ExecuteTime": {
     "end_time": "2023-06-23T06:30:09.206574Z",
     "start_time": "2023-06-23T06:30:09.201991Z"
    }
   },
   "outputs": [],
   "source": [
    "prev_dir = os.path.split(os.getcwd())[0]\n",
    "\n",
    "mod_dir = os.path.join(prev_dir,\"models\")\n",
    "if not os.path.isdir(mod_dir): os.mkdir(mod_dir) # ensure dir exists\n"
   ]
  },
  {
   "cell_type": "markdown",
   "id": "744556b6",
   "metadata": {},
   "source": [
    "## Functions"
   ]
  },
  {
   "cell_type": "code",
   "execution_count": null,
   "id": "53442c1b",
   "metadata": {
    "ExecuteTime": {
     "end_time": "2023-06-23T06:30:09.266355Z",
     "start_time": "2023-06-23T06:30:09.209680Z"
    }
   },
   "outputs": [],
   "source": [
    "def find_leftmost_dimer(dimer):\n",
    "    \"\"\"\n",
    "    Reorients the input dimer according to priority as in \"site_in_dimer_priority\" using mirror symmetry.\n",
    "    \"\"\"\n",
    "    site_in_dimer_priority = {\"SH\":4,\n",
    "                     \"SOH\":3,\n",
    "                     \"SS\":2,\n",
    "                     \"SOOH\":1}\n",
    "\n",
    "    site_1 = dimer.split(\"_\")[0]\n",
    "    site_2 = dimer.split(\"_\")[1]\n",
    "    \n",
    "    site_1_priority = site_in_dimer_priority[site_1]\n",
    "    site_2_priority = site_in_dimer_priority[site_2]\n",
    "\n",
    "    if site_1_priority >= site_2_priority:\n",
    "        output_dimer = f\"{site_1}_{site_2}\"\n",
    "    elif site_1_priority < site_2_priority:\n",
    "        output_dimer = f\"{site_2}_{site_1}\"\n",
    "    return output_dimer\n",
    "\n",
    "def find_leftmost_oligomer(oligomer):\n",
    "    \"\"\"\n",
    "    Reorients the input oligomer according to a score calculated using rotational and planar symmetry.\n",
    "    \"\"\"\n",
    "    dimer_in_oligomer_priority = {\"SH_SH\":1,\n",
    "                                  \"SH_SOH\":2,\n",
    "                                  \"SH_SS\":3,\n",
    "                                  \"SH_SOOH\":4,\n",
    "                                  \"SOH_SOH\":5,\n",
    "                                  \"SOH_SS\":6,\n",
    "                                  \"SOH_SOOH\":7,\n",
    "                                  \"SS_SS\":8,\n",
    "                                  \"SS_SOOH\":9, # At this stage no SS_SS is being implimented\n",
    "                                  \"SOOH_SOOH\":10\n",
    "                                 }\n",
    "    \n",
    "    # Calculate left score of the current orientation\n",
    "    full_left_scores = list()\n",
    "    for i in oligomer:\n",
    "        # Rotate the oligmer by 1 subunit\n",
    "        oligomer.insert(0, oligomer.pop(-1))   \n",
    "        \n",
    "        # Calculate left score of the current orientation\n",
    "        species_leftscore = 0\n",
    "        for idx, dimer in enumerate(oligomer):\n",
    "            species_leftscore += (idx)*10**(dimer_in_oligomer_priority[dimer])\n",
    "    \n",
    "        # Store the left score of the current orientation\n",
    "        full_left_scores.append(species_leftscore)\n",
    "        \n",
    "    # Calculate left score of the flipped orientation\n",
    "    flipped_oligomer = oligomer[::-1]\n",
    "    \n",
    "    flipped_full_left_scores = list()\n",
    "    for i in flipped_oligomer:\n",
    "        # Rotate the flipped_oligmer by 1 subunit\n",
    "        flipped_oligomer.insert(0,flipped_oligomer.pop(-1))   \n",
    "        \n",
    "        # Calculate left score of the current orientation\n",
    "        flipped_species_leftscore = 0\n",
    "        for idx, dimer in enumerate(flipped_oligomer):\n",
    "            flipped_species_leftscore += (idx)*10**(dimer_in_oligomer_priority[dimer])\n",
    "            \n",
    "        # Store the left score of the current orientation\n",
    "        flipped_full_left_scores.append(flipped_species_leftscore)\n",
    "\n",
    "    if max(full_left_scores) >= max(flipped_full_left_scores):\n",
    "        # Using the left score list, rotate the oligomer to the highest left score orientation\n",
    "        for i in np.arange(full_left_scores.index(max(full_left_scores))+1):\n",
    "            oligomer.insert(0,oligomer.pop(-1))\n",
    "        return oligomer\n",
    "    \n",
    "    elif max(flipped_full_left_scores) > max(full_left_scores):\n",
    "        # Using the left score list, rotate the oligomer to the highest left score orientation\n",
    "        for i in np.arange(flipped_full_left_scores.index(max(flipped_full_left_scores))+1):\n",
    "            flipped_oligomer.insert(0,flipped_oligomer.pop(-1))  \n",
    "        return flipped_oligomer\n",
    "\n",
    "def find_unique_species(reaction_list):\n",
    "    \"\"\"\n",
    "    Generates a list of unique species in a reaction list for writing the species list in a *.psc model.\n",
    "    \"\"\"\n",
    "    species_list = list()\n",
    "    dimer_joiner = \"__\"\n",
    "\n",
    "    for substrate in reaction_list:\n",
    "            for product in substrate[1]:\n",
    "                \n",
    "                species_list.append(dimer_joiner.join(substrate[0]))\n",
    "                species_list.append(dimer_joiner.join(product[0]))\n",
    "            string_species_set = SortedSet(species_list)\n",
    "            species_set = [i.split(dimer_joiner) for i in string_species_set]\n",
    "    return species_set\n",
    "    \n",
    "def react_oligomer(substrate_oligomer, substrate, product, reaction_type, output_list, recursive=False):\n",
    "    \"\"\"\n",
    "    Generates a list of reactions and products from the input oligomer based on the substrate, product, reaction_type.\n",
    "    Reorientates products according to mirror, rotational, and planar symmetry.\n",
    "    Colates the reorientated products and stores statistical factors.\n",
    "    Can react these products recursively.\n",
    "    \"\"\"\n",
    "    product_species = list()\n",
    "    for site_idx, site in enumerate(substrate_oligomer):\n",
    "        if site == substrate: # True means a reaction will take place\n",
    "\n",
    "            # Find non-reacting site for cooperativity and determine reacted dimer config\n",
    "            if site_idx % 2 == 0: # Left side of a dimer is reacting\n",
    "                nonreacting_site = substrate_oligomer[site_idx+1] # Store non-reacting site for cooperativity\n",
    "                product_dimer = f\"{product}_{substrate_oligomer[site_idx+1]}\" # Build dimer\n",
    "                leftmost_product_dimer = find_leftmost_dimer(product_dimer)\n",
    "                \n",
    "                # Build reacted oligomer\n",
    "                product_oligomer = list(substrate_oligomer).copy()\n",
    "                product_oligomer[site_idx] = leftmost_product_dimer.split(\"_\")[0]\n",
    "                product_oligomer[site_idx+1] = leftmost_product_dimer.split(\"_\")[1]\n",
    "                \n",
    "            elif site_idx % 2 != 0: # Right side of a dimer is reacting\n",
    "                nonreacting_site = substrate_oligomer[site_idx-1] # Store non-reacting site for cooperativity\n",
    "                product_dimer = f\"{substrate_oligomer[site_idx-1]}_{product}\" # Build dimer\n",
    "                leftmost_product_dimer = find_leftmost_dimer(product_dimer)\n",
    "                \n",
    "                # Build reacted oligomer\n",
    "                product_oligomer = list(substrate_oligomer).copy()\n",
    "                product_oligomer[site_idx-1] = leftmost_product_dimer.split(\"_\")[0]\n",
    "                product_oligomer[site_idx] = leftmost_product_dimer.split(\"_\")[1]\n",
    "                \n",
    "            rate_constant_name = f\"k_Prx_{reaction_type}_{nonreacting_site}_dec\"\n",
    "\n",
    "            product_oligomer = [\"_\".join([product_oligomer[k],product_oligomer[k+1]]) for k in range(0,len(product_oligomer),2)]\n",
    "            product_species.append(\"&&\".join([\"__\".join(find_leftmost_oligomer(product_oligomer)),rate_constant_name])) #Counter in the next line needs a string\n",
    "\n",
    "    unique_products = Counter(product_species) # Finds the unique products and count of each one\n",
    "\n",
    "    # Organise the data for output\n",
    "    products = list()\n",
    "    for i in unique_products.keys():\n",
    "        product_only =  i.split(\"&&\")[0]\n",
    "        rate_constant_name = i.split(\"&&\")[1]\n",
    "        products.append((tuple(sum([k.split(\"_\") for k in product_only.split(\"__\")],[])),unique_products[i],rate_constant_name))# The \"sum\" call merges a list of lists\n",
    "    if bool(products) == True: # Don't append if list is empty i.e when all sites are reacted\n",
    "        output_list.append((tuple(substrate_oligomer),tuple(products)))\n",
    "    \n",
    "    if recursive == True:\n",
    "        for i in products:\n",
    "            if substrate in i[0]:\n",
    "                react_oligomer(i[0], substrate, product, reaction_type, output_list, recursive=True)\n",
    "\n",
    "def react_disso(cond_species_list):\n",
    "    \"\"\"\n",
    "    Generates a list of dissociation reactions and products from a list of disulphide species.\n",
    "    \"\"\"\n",
    "    disso_reactions = list()\n",
    "    product_list = list()\n",
    "    \n",
    "    for substrate_oligomer in cond_species_list:\n",
    "        if \"SS\" in substrate_oligomer:\n",
    "            product_list = list()\n",
    "            product_dimers = Counter([\"_\".join([substrate_oligomer[k],substrate_oligomer[k+1]]) for k in range(0,len(substrate_oligomer),2)])\n",
    "            \n",
    "            # Find rate constant name\n",
    "            site_idx = substrate_oligomer.index(\"SS\")\n",
    "            if site_idx % 2 == 0:\n",
    "                nonreacting_site = substrate_oligomer[site_idx+1]\n",
    "            elif site_idx % 2 != 0: # Right side of a dimer is reacting\n",
    "                nonreacting_site = substrate_oligomer[site_idx-1] # Store non-reacting site for cooperativity\n",
    "            rate_constant_name = f\"k_Prx_disso_{nonreacting_site}_dec\"\n",
    "            \n",
    "            for product in product_dimers.keys():\n",
    "                product_list.append([product_dimers[product],product])\n",
    "\n",
    "            disso_reactions.append([substrate_oligomer,product_list,rate_constant_name])\n",
    "    return disso_reactions       \n",
    "\n",
    "def react_disso(cond_species_list,min_SS=1):\n",
    "    \"\"\"\n",
    "    Generates a list of dissociation reactions and products from a list of disulphide species.\n",
    "    \"\"\"\n",
    "    disso_reactions = list()\n",
    "    product_list = list()\n",
    "    \n",
    "    for substrate_oligomer in cond_species_list:\n",
    "                \n",
    "        if substrate_oligomer.count(\"SS\") >= min_SS:\n",
    "            product_list = list()\n",
    "            product_dimers = Counter([\"_\".join([substrate_oligomer[k],substrate_oligomer[k+1]]) for k in range(0,len(substrate_oligomer),2)])\n",
    "            \n",
    "            # Find rate constant name\n",
    "            site_idx = substrate_oligomer.index(\"SS\")\n",
    "            if site_idx % 2 == 0:\n",
    "                nonreacting_site = substrate_oligomer[site_idx+1]\n",
    "            elif site_idx % 2 != 0: # Right side of a dimer is reacting\n",
    "                nonreacting_site = substrate_oligomer[site_idx-1] # Store non-reacting site for cooperativity\n",
    "            rate_constant_name = f\"k_Prx_disso_{nonreacting_site}_dec\"\n",
    "            \n",
    "            for product in product_dimers.keys():\n",
    "                product_list.append([product_dimers[product],product])\n",
    "\n",
    "            disso_reactions.append([substrate_oligomer,product_list,rate_constant_name])\n",
    "    return disso_reactions   \n",
    "    \n",
    "def write_dec_asso_reactions(f):\n",
    "    \"\"\"\n",
    "    Writes the rate and stoiciometic equation of Prx dimer-decamer dissociation-association reaction.\n",
    "    \"\"\"\n",
    "    f.write(\"Decamer_association:\\n\")\n",
    "    f.write(\"\\t{5}SH_SH = SH_SH__SH_SH__SH_SH__SH_SH__SH_SH\")\n",
    "    f.write(\"\\tk_Prx_asso*SH_SH**5 - k_Prx_dec_disasso*SH_SH__SH_SH__SH_SH__SH_SH__SH_SH\")\n",
    "    f.write(\"\\n\")\n",
    "\n",
    "def get_parameters(parameters_list, reaction_list):\n",
    "    \"\"\"\n",
    "    Grabs a list of reaction rate constants from a list of reactions.\n",
    "    \"\"\"\n",
    "    for reaction in reaction_list:\n",
    "        parameter = reaction[-1][-1][-1]\n",
    "        if parameter not in parameters_list:\n",
    "            parameters_list.append(parameter)\n",
    "    return SortedSet(parameters_list)\n",
    "\n",
    "def write_reactions(reaction_list, reaction_name, species_list, reaction_suffix, second_substrate = False):\n",
    "    \"\"\"\n",
    "    Writes a rate and stoiciometic equation for each reaction in the input list for use in a pysces *.psc file.\n",
    "    \"\"\"\n",
    "    f.write(f\"# {reaction_name} - decamer\\n\")\n",
    "    f.write(\"\\n\")\n",
    "    \n",
    "    secs_stoic = \"\"\n",
    "    secs_rate = \"\"\n",
    "    \n",
    "    if second_substrate:\n",
    "        secs_stoic = f\" + {second_substrate}\"\n",
    "        secs_rate = f\"*{second_substrate}\"\n",
    "        \n",
    "    for reaction in reaction_list:\n",
    "        substrate_string = dimer_joiner.join([\"_\".join([reaction[0][k],reaction[0][k+1]]) for k in range(0,len(reaction[0]),2)])\n",
    "        species_list.append(substrate_string)\n",
    "\n",
    "        for product in reaction[1]:\n",
    "            product_string = dimer_joiner.join([\"_\".join([product[0][k],product[0][k+1]]) for k in range(0,len(product[0]),2)])\n",
    "\n",
    "            species_list.append(product_string)\n",
    "            write_reactions.counter += 1\n",
    "            \n",
    "            f.write(f\"R{str(write_reactions.counter)}_{reaction_suffix}:\\n\")\n",
    "            f.write(f\"\\t{substrate_string}{secs_stoic} > {product_string}\\n\")\n",
    "            f.write(f\"\\t{product[1]}*{product[2]}*{substrate_string}{secs_rate}\\n\")\n",
    "            f.write(\"\\n\")\n",
    "    "
   ]
  },
  {
   "cell_type": "markdown",
   "id": "5832a8ab",
   "metadata": {},
   "source": [
    "## Find reactions (no hyperoxidation)"
   ]
  },
  {
   "cell_type": "code",
   "execution_count": null,
   "id": "c194512f",
   "metadata": {
    "ExecuteTime": {
     "end_time": "2023-06-23T06:30:09.275436Z",
     "start_time": "2023-06-23T06:30:09.271645Z"
    }
   },
   "outputs": [],
   "source": [
    "oligomer_length = 10\n",
    "subunit = \"SH\"\n",
    "original_oligomer = [subunit]*oligomer_length"
   ]
  },
  {
   "cell_type": "code",
   "execution_count": null,
   "id": "56e4bae6",
   "metadata": {
    "ExecuteTime": {
     "end_time": "2023-06-23T06:30:09.573763Z",
     "start_time": "2023-06-23T06:30:09.277306Z"
    }
   },
   "outputs": [],
   "source": [
    "# Sulfenilation reactions\n",
    "substrate = \"SH\"\n",
    "product = \"SOH\"\n",
    "reaction_type = \"sulfe\"\n",
    "sulfe_reactions = list()\n",
    "react_oligomer(original_oligomer, substrate, product, reaction_type, sulfe_reactions, recursive=True)\n",
    "set_sulfe_reactions = SortedSet(sulfe_reactions)\n",
    "unique_sulfe_species = find_unique_species(set_sulfe_reactions)"
   ]
  },
  {
   "cell_type": "code",
   "execution_count": null,
   "id": "c704e74d",
   "metadata": {
    "ExecuteTime": {
     "end_time": "2023-06-23T06:30:09.581802Z",
     "start_time": "2023-06-23T06:30:09.575853Z"
    }
   },
   "outputs": [],
   "source": [
    "print(\"len sulfe_reactions:\",len(sulfe_reactions))\n",
    "print(\"len unique_sulfe_species:\",len(unique_sulfe_species))"
   ]
  },
  {
   "cell_type": "code",
   "execution_count": null,
   "id": "65cc0770",
   "metadata": {
    "ExecuteTime": {
     "end_time": "2023-06-23T06:30:09.597580Z",
     "start_time": "2023-06-23T06:30:09.584016Z"
    }
   },
   "outputs": [],
   "source": [
    "# Disulfide bridge formation reactions\n",
    "substrate = \"SOH\"\n",
    "product = \"SS\"\n",
    "reaction_type = \"disulf_form\"\n",
    "disulph_form_reactions = list()\n",
    "\n",
    "# The unique_sulfi_species contains the unique sulfe species as substrates\n",
    "for oligomer in unique_sulfe_species: \n",
    "    react_oligomer(oligomer, substrate, product, reaction_type, disulph_form_reactions)\n",
    "set_disulph_form_reactions = SortedSet(disulph_form_reactions)\n",
    "unique_disulph_form_species = find_unique_species(set_disulph_form_reactions)"
   ]
  },
  {
   "cell_type": "code",
   "execution_count": null,
   "id": "1c244578",
   "metadata": {
    "ExecuteTime": {
     "end_time": "2023-06-23T06:30:09.603738Z",
     "start_time": "2023-06-23T06:30:09.598927Z"
    }
   },
   "outputs": [],
   "source": [
    "print(\"len disulph_form_reactions:\",len(disulph_form_reactions))\n",
    "print(\"len unique_disulph_form_species:\",len(unique_disulph_form_species))"
   ]
  },
  {
   "cell_type": "code",
   "execution_count": null,
   "id": "b7b37be2",
   "metadata": {
    "ExecuteTime": {
     "end_time": "2023-06-23T06:30:09.610338Z",
     "start_time": "2023-06-23T06:30:09.605900Z"
    }
   },
   "outputs": [],
   "source": [
    "# Dissociation reactions\n",
    "disso_reactions = react_disso(unique_disulph_form_species)"
   ]
  },
  {
   "cell_type": "markdown",
   "id": "f0bdbc08",
   "metadata": {},
   "source": [
    "##### Write output"
   ]
  },
  {
   "cell_type": "code",
   "execution_count": null,
   "id": "b5b165f1",
   "metadata": {
    "ExecuteTime": {
     "end_time": "2023-06-23T06:30:09.632153Z",
     "start_time": "2023-06-23T06:30:09.615203Z"
    }
   },
   "outputs": [],
   "source": [
    "file_name = \"Prx decamer reactions - no hyperoxidation\"\n",
    "\n",
    "with open(os.path.join(mod_dir,f\"{file_name}.txt\"), 'w') as f:\n",
    "\n",
    "    count = 0 # Keep track for pysces reaction name\n",
    "    species_list = list()\n",
    "    parameters_list = list()\n",
    "    dimer_joiner = \"__\"\n",
    "\n",
    "    ### Write reactions\n",
    "    write_reactions.counter = 0\n",
    "    \n",
    "    f.write(f\"### Reactions\\n\")\n",
    "    f.write(f\"\\n\")\n",
    "    \n",
    "    # Write decamer association reaction\n",
    "    f.write(\"Decamer_disassociation:\\n\")\n",
    "    f.write(\"\\tSH_SH__SH_SH__SH_SH__SH_SH__SH_SH = {5}SH_SH\\n\")\n",
    "    f.write(\"\\tk_Prx_dec_disasso*SH_SH__SH_SH__SH_SH__SH_SH__SH_SH - k_Prx_asso*SH_SH**exponent\\n\")\n",
    "    f.write(\"\\n\")\n",
    "    parameters_list.append(\"k_Prx_asso\")\n",
    "    parameters_list.append(\"k_Prx_dec_disasso\")\n",
    "    parameters_list.append(\"exponent\")\n",
    "    \n",
    "    # Write sulfe reactions\n",
    "    write_reactions(set_sulfe_reactions, \n",
    "                    \"Sulfenilation\", \n",
    "                    species_list, \n",
    "                    \"ox\", \n",
    "                    second_substrate = \"H2O2\")\n",
    "    sulfe_reactions_written = write_reactions.counter\n",
    "    print(f\"Sulfenilation reactions written: {sulfe_reactions_written}\")\n",
    "    get_parameters(parameters_list, set_sulfe_reactions)\n",
    "\n",
    "    # Write disulfide formation reactions\n",
    "    write_reactions(set_disulph_form_reactions, \n",
    "                    \"Disulfide bridge formation\", \n",
    "                    species_list, \n",
    "                    \"disulf_form\")\n",
    "    disulph_form_reactions_written = write_reactions.counter - sulfe_reactions_written\n",
    "    print(f\"Disulphide bridge formation reactions written: {disulph_form_reactions_written}\")\n",
    "    get_parameters(parameters_list, set_disulph_form_reactions)\n",
    "    \n",
    "    # Write dissociation reactions\n",
    "    reaction_name = \"Dissociation\"\n",
    "    f.write(f\"# {reaction_name} - decamer\\n\")\n",
    "    f.write(\"\\n\")\n",
    "    for disso_reaction in disso_reactions:\n",
    "        disso_substrate = dimer_joiner.join(\n",
    "            [\"_\".join([disso_reaction[0][k],disso_reaction[0][k+1]]) for k in \n",
    "                     range(0,len(disso_reaction[0]),2)]\n",
    "        )\n",
    "        product_string = \"\"\n",
    "        for prod_count,disso_product in enumerate(disso_reaction[1]):\n",
    "            if prod_count > 0:\n",
    "                product_string += \" + \"\n",
    "            product_string += f\"{{{disso_product[0]}}}{disso_product[1]}\"\n",
    "            species_list.append(disso_product[1])\n",
    "\n",
    "        write_reactions.counter += 1\n",
    "        f.write(f\"R{str(write_reactions.counter)}_disso:\\n\")\n",
    "        f.write(f\"\\t{disso_substrate} > {product_string}\\n\")\n",
    "        rate_constant_name = disso_reaction[-1] ###\n",
    "        if rate_constant_name not in parameters_list:\n",
    "            parameters_list.append(rate_constant_name)\n",
    "        f.write(f\"\\t{rate_constant_name}*{disso_substrate}\\n\")\n",
    "        f.write(\"\\n\")\n",
    "    \n",
    "    Dissociation_reactions_written = write_reactions.counter - \\\n",
    "                                     disulph_form_reactions_written - \\\n",
    "                                     sulfe_reactions_written\n",
    "    print(f\"Dissociation reactions written: {Dissociation_reactions_written}\")\n",
    "\n",
    "    ### Write parameters\n",
    "    f.write(f\"### Parameters\\n\")\n",
    "    f.write(f\"\\n\")\n",
    "    for parameter in parameters_list:\n",
    "        f.write(f\"{parameter} = 0 # add parameter\\n\")\n",
    "    f.write(\"\\n\")\n",
    "    \n",
    "    # Write species\n",
    "    f.write(f\"### Species\\n\")\n",
    "    f.write(\"\\n\")\n",
    "    for species in SortedSet(species_list):\n",
    "        # I only want to write decamer species\n",
    "        if len(species.split(\"__\")) >= len(original_oligomer)/2: \n",
    "            f.write(f\"{species} = 0\\n\")\n",
    "    print(f\"Species written: {len(SortedSet(species_list))}\")\n",
    "    \n",
    "    ### End\n",
    "    f.write(f\"### End\\n\")\n",
    "    f.write(f\"\\n\\n\")"
   ]
  },
  {
   "cell_type": "code",
   "execution_count": null,
   "id": "6e8b9d65",
   "metadata": {
    "ExecuteTime": {
     "end_time": "2023-06-23T06:30:09.638061Z",
     "start_time": "2023-06-23T06:30:09.634233Z"
    }
   },
   "outputs": [],
   "source": [
    "print(f\"Sulfe species written: {len(unique_sulfe_species)}\")\n",
    "print(f\"Disulph species written: {len(unique_disulph_form_species)}\")"
   ]
  },
  {
   "cell_type": "markdown",
   "id": "03c7203c-c332-4040-990b-bdbec38849ca",
   "metadata": {},
   "source": [
    "## Find reactions for 5 disulphide bridges"
   ]
  },
  {
   "cell_type": "code",
   "execution_count": null,
   "id": "74089cd8-ec7e-4f9a-9950-cf2e9d76da43",
   "metadata": {},
   "outputs": [],
   "source": [
    "def remove_SS_SS_oligomer(oligomer):\n",
    "    for dimer_no in range(int(len(oligomer)/2)):\n",
    "        if oligomer[dimer_no*2] == 'SS' and oligomer[dimer_no*2+1] == 'SS':\n",
    "            return \"None\"\n",
    "    return oligomer\n",
    "\n",
    "def remove_SS_SS_react(reaction):\n",
    "\n",
    "    product = reaction[1][0][0]\n",
    "    for dimer_no in range(int(len(product)/2)):\n",
    "        if product[dimer_no*2] == 'SS' and product[dimer_no*2+1] == 'SS':\n",
    "            return \"None\"\n",
    "    \n",
    "    return reaction\n"
   ]
  },
  {
   "cell_type": "code",
   "execution_count": null,
   "id": "216b12ac-5231-4814-b7d5-6287ff7dcdd4",
   "metadata": {},
   "outputs": [],
   "source": [
    "oligomer_length = 10\n",
    "subunit = \"SH\"\n",
    "original_oligomer = [subunit]*oligomer_length"
   ]
  },
  {
   "cell_type": "code",
   "execution_count": null,
   "id": "d9629f8b-19f7-40f7-b8de-62904bb3be3e",
   "metadata": {},
   "outputs": [],
   "source": [
    "# Sulfenilation reactions\n",
    "substrate = \"SH\"\n",
    "product = \"SOH\"\n",
    "reaction_type = \"sulfe\"\n",
    "sulfe_reactions = list()\n",
    "react_oligomer(original_oligomer, substrate, product, reaction_type, sulfe_reactions, recursive=True)\n",
    "set_sulfe_reactions = SortedSet(sulfe_reactions)\n",
    "unique_sulfe_species = find_unique_species(set_sulfe_reactions)"
   ]
  },
  {
   "cell_type": "code",
   "execution_count": null,
   "id": "51fb9427-e79e-4181-bd81-0309001a7614",
   "metadata": {},
   "outputs": [],
   "source": [
    "print(\"len sulfe_reactions:\",len(sulfe_reactions))\n",
    "print(\"len unique_sulfe_species:\",len(unique_sulfe_species))"
   ]
  },
  {
   "cell_type": "code",
   "execution_count": null,
   "id": "458f05c8-c061-457e-a760-df6d8f013ff8",
   "metadata": {},
   "outputs": [],
   "source": [
    "# Disulfide bridge formation reactions round 1\n",
    "substrate = \"SOH\"\n",
    "product = \"SS\"\n",
    "reaction_type = \"disulf_form\"\n",
    "disulph_form_reactions = list()\n",
    "for oligomer in unique_sulfe_species: # The unique_sulfi_species contains the unique sulfe species as substrates\n",
    "    react_oligomer(oligomer, substrate, product, reaction_type, disulph_form_reactions)\n",
    "set_disulph_form_reactions = SortedSet(disulph_form_reactions)\n",
    "unique_disulph_form_species = find_unique_species(set_disulph_form_reactions)"
   ]
  },
  {
   "cell_type": "code",
   "execution_count": null,
   "id": "3d55da0f-7bde-4697-a12c-c0bf36231e73",
   "metadata": {},
   "outputs": [],
   "source": [
    "print(\"len disulph_form_reactions:\",len(set_disulph_form_reactions))\n",
    "print(\"len unique_disulph_form_species:\",len(unique_disulph_form_species))"
   ]
  },
  {
   "cell_type": "code",
   "execution_count": null,
   "id": "04e541a0-4a6d-4122-8e3d-e684288e6789",
   "metadata": {},
   "outputs": [],
   "source": [
    "# Disulfide bridge formation reactions round 2\n",
    "substrate = \"SOH\"\n",
    "product = \"SS\"\n",
    "reaction_type = \"disulf_form\"\n",
    "\n",
    "for oligomer in unique_disulph_form_species: # The unique_sulfi_species contains the unique sulfe species as substrates\n",
    "    react_oligomer(oligomer, substrate, product, reaction_type, disulph_form_reactions)\n",
    "set_disulph_form_reactions = SortedSet(disulph_form_reactions)\n",
    "unique_disulph_form_species = find_unique_species(set_disulph_form_reactions)"
   ]
  },
  {
   "cell_type": "code",
   "execution_count": null,
   "id": "abcea0bf-35c3-416c-af87-02266bd15289",
   "metadata": {},
   "outputs": [],
   "source": [
    "print(\"len disulph_form_reactions:\",len(set_disulph_form_reactions))\n",
    "print(\"len unique_disulph_form_species:\",len(unique_disulph_form_species))"
   ]
  },
  {
   "cell_type": "code",
   "execution_count": null,
   "id": "43707f0a-efc0-457a-a2f7-24c3db95f87d",
   "metadata": {},
   "outputs": [],
   "source": [
    "# Disulfide bridge formation reactions round 3\n",
    "substrate = \"SOH\"\n",
    "product = \"SS\"\n",
    "reaction_type = \"disulf_form\"\n",
    "\n",
    "for oligomer in unique_disulph_form_species: # The unique_sulfi_species contains the unique sulfe species as substrates\n",
    "    react_oligomer(oligomer, substrate, product, reaction_type, disulph_form_reactions)\n",
    "set_disulph_form_reactions = SortedSet(disulph_form_reactions)\n",
    "unique_disulph_form_species = find_unique_species(set_disulph_form_reactions)"
   ]
  },
  {
   "cell_type": "code",
   "execution_count": null,
   "id": "ea1093c8-2fa3-472f-8e2b-008c73c78d54",
   "metadata": {},
   "outputs": [],
   "source": [
    "print(\"len disulph_form_reactions:\",len(set_disulph_form_reactions))\n",
    "print(\"len unique_disulph_form_species:\",len(unique_disulph_form_species))"
   ]
  },
  {
   "cell_type": "code",
   "execution_count": null,
   "id": "99ae7a40-e437-46d9-8e2a-c381ba7f368e",
   "metadata": {},
   "outputs": [],
   "source": [
    "# Disulfide bridge formation reactions round 4\n",
    "substrate = \"SOH\"\n",
    "product = \"SS\"\n",
    "reaction_type = \"disulf_form\"\n",
    "\n",
    "for oligomer in unique_disulph_form_species: # The unique_sulfi_species contains the unique sulfe species as substrates\n",
    "    react_oligomer(oligomer, substrate, product, reaction_type, disulph_form_reactions)\n",
    "set_disulph_form_reactions = SortedSet(disulph_form_reactions)\n",
    "unique_disulph_form_species = find_unique_species(set_disulph_form_reactions)"
   ]
  },
  {
   "cell_type": "code",
   "execution_count": null,
   "id": "fb744d80-d226-4f2d-bdb1-45591c329cd1",
   "metadata": {},
   "outputs": [],
   "source": [
    "print(\"len disulph_form_reactions:\",len(set_disulph_form_reactions))\n",
    "print(\"len unique_disulph_form_species:\",len(unique_disulph_form_species))"
   ]
  },
  {
   "cell_type": "code",
   "execution_count": null,
   "id": "97b95dc2-7213-4a35-bc37-bc07f0357c2c",
   "metadata": {},
   "outputs": [],
   "source": [
    "# Disulfide bridge formation reactions round 5\n",
    "substrate = \"SOH\"\n",
    "product = \"SS\"\n",
    "reaction_type = \"disulf_form\"\n",
    "\n",
    "for oligomer in unique_disulph_form_species: # The unique_sulfi_species contains the unique sulfe species as substrates\n",
    "    react_oligomer(oligomer, substrate, product, reaction_type, disulph_form_reactions)\n",
    "set_disulph_form_reactions = SortedSet(disulph_form_reactions)\n",
    "unique_disulph_form_species = find_unique_species(set_disulph_form_reactions)"
   ]
  },
  {
   "cell_type": "code",
   "execution_count": null,
   "id": "7dff7a27-d1a6-4ff6-91f7-c1ef4b7d60e4",
   "metadata": {},
   "outputs": [],
   "source": [
    "print(\"len disulph_form_reactions:\",len(set_disulph_form_reactions))\n",
    "print(\"len unique_disulph_form_species:\",len(unique_disulph_form_species))"
   ]
  },
  {
   "cell_type": "code",
   "execution_count": null,
   "id": "ae5fc77c-a671-4f7f-8487-3f9f77937c3a",
   "metadata": {},
   "outputs": [],
   "source": [
    "# Filter out SS_SS reactions and species\n",
    "set_disulph_form_reactions = [reaction for reaction in list(map(remove_SS_SS_react,set_disulph_form_reactions)) if reaction != \"None\"]\n",
    "unique_disulph_form_species = [oligomer for oligomer in list(map(remove_SS_SS_oligomer,unique_disulph_form_species)) if oligomer != \"None\"]\n"
   ]
  },
  {
   "cell_type": "code",
   "execution_count": null,
   "id": "4b2d05ed-73fd-4c1d-a4dc-312ccd05f2cb",
   "metadata": {},
   "outputs": [],
   "source": [
    "print(\"len disulph_form_reactions:\",len(set_disulph_form_reactions))\n",
    "print(\"len unique_disulph_form_species:\",len(unique_disulph_form_species))"
   ]
  },
  {
   "cell_type": "code",
   "execution_count": null,
   "id": "158ffa5c-171e-4fd1-830e-6d8e7a437a2b",
   "metadata": {},
   "outputs": [],
   "source": [
    "# Sulfenilation after disulfide bridge formation reactions\n",
    "substrate = \"SH\"\n",
    "product = \"SOH\"\n",
    "reaction_type = \"sulfe\"\n",
    "sulfe_after_disulph_form_reactions = list()\n",
    "for oligomer in unique_disulph_form_species: # The unique_sulfi_species contains the unique sulfe species as substrates\n",
    "    react_oligomer(oligomer, substrate, product, reaction_type, sulfe_after_disulph_form_reactions)\n",
    "set_sulfe_after_disulph_form_reactions = SortedSet(sulfe_after_disulph_form_reactions)\n",
    "unique_sulfe_after_disulph_form_species = find_unique_species(set_sulfe_after_disulph_form_reactions)"
   ]
  },
  {
   "cell_type": "code",
   "execution_count": null,
   "id": "3b806f10-fd29-417a-ae17-d70a3ee36d3b",
   "metadata": {},
   "outputs": [],
   "source": [
    "# Dissociation reactions\n",
    "min_SS=1\n",
    "disso_reactions = react_disso(unique_sulfe_after_disulph_form_species,min_SS=min_SS)"
   ]
  },
  {
   "cell_type": "code",
   "execution_count": null,
   "id": "7307b864-c401-4af5-b9f1-9e3c9f0954cd",
   "metadata": {},
   "outputs": [],
   "source": [
    "print(\"len disso_reactions:\",len(disso_reactions))"
   ]
  },
  {
   "cell_type": "code",
   "execution_count": null,
   "id": "59c1866e-c352-4d04-9edd-dc42a78d759a",
   "metadata": {},
   "outputs": [],
   "source": [
    "file_name = \"Prx decamer reactions - no hyperoxidation 5dsb\"\n",
    "\n",
    "with open(os.path.join(mod_dir,f\"{file_name}.txt\"), 'w') as f:\n",
    "\n",
    "    count = 0 # Keep track for pysces reaction name\n",
    "    species_list = list()\n",
    "    parameters_list = list()\n",
    "    dimer_joiner = \"__\"\n",
    "\n",
    "    ### Write reactions\n",
    "    write_reactions.counter = 0\n",
    "    \n",
    "    f.write(f\"### Reactions\\n\")\n",
    "    f.write(f\"\\n\")\n",
    "    \n",
    "    # Write decamer association reaction\n",
    "    f.write(\"Decamer_disassociation:\\n\")\n",
    "    f.write(\"\\tSH_SH__SH_SH__SH_SH__SH_SH__SH_SH = {5}SH_SH\\n\")\n",
    "    f.write(\"\\tk_Prx_dec_disasso*SH_SH__SH_SH__SH_SH__SH_SH__SH_SH - k_Prx_asso*SH_SH**exponent\\n\")\n",
    "    f.write(\"\\n\")\n",
    "    parameters_list.append(\"k_Prx_asso\")\n",
    "    parameters_list.append(\"k_Prx_dec_disasso\")\n",
    "    parameters_list.append(\"exponent\")\n",
    "    \n",
    "    # Write sulfe reactions\n",
    "    write_reactions(set_sulfe_reactions, \"Sulfenilation\", species_list, \"ox\", second_substrate = \"H2O2\")\n",
    "    sulfe_reactions_written = write_reactions.counter\n",
    "    print(f\"Sulfenilation reactions written: {sulfe_reactions_written}\")\n",
    "    get_parameters(parameters_list, set_sulfe_reactions)\n",
    "    \n",
    "    # Write sulfe after disulph reactions\n",
    "    write_reactions(set_sulfe_after_disulph_form_reactions, \"Sulfenilation\", species_list, \"ox\", second_substrate = \"H2O2\")\n",
    "    sulfe_reactions_after_dsb_written = write_reactions.counter-sulfe_reactions_written\n",
    "    print(f\"Sulfenilation reactions written: {sulfe_reactions_after_dsb_written}\")\n",
    "    get_parameters(parameters_list, set_sulfe_after_disulph_form_reactions)\n",
    "    \n",
    "    # Write disulfide formation reactions\n",
    "    write_reactions(set_disulph_form_reactions, \"Disulfide bridge formation\", species_list, \"disulf_form\")\n",
    "    disulph_form_reactions_written = write_reactions.counter - sulfe_reactions_written-sulfe_reactions_after_dsb_written\n",
    "    print(f\"Disulfide bridge formation reactions written: {disulph_form_reactions_written}\")\n",
    "    get_parameters(parameters_list, set_disulph_form_reactions)\n",
    "    \n",
    "    # Write dissociation reactions\n",
    "    reaction_name = \"Dissociation\"\n",
    "    f.write(f\"# {reaction_name} - decamer\\n\")\n",
    "    f.write(\"\\n\")\n",
    "    for disso_reaction in disso_reactions:\n",
    "        disso_substrate = dimer_joiner.join([\"_\".join([disso_reaction[0][k],disso_reaction[0][k+1]])\n",
    "                                             for k in range(0,len(disso_reaction[0]),2)])\n",
    "        product_string = \"\"\n",
    "        for prod_count,disso_product in enumerate(disso_reaction[1]):\n",
    "            if prod_count > 0:\n",
    "                product_string += \" + \"\n",
    "            product_string += f\"{{{disso_product[0]}}}{disso_product[1]}\"\n",
    "            species_list.append(disso_product[1])\n",
    "\n",
    "        write_reactions.counter += 1\n",
    "        f.write(f\"R{str(write_reactions.counter)}_disso:\\n\")\n",
    "        f.write(f\"\\t{disso_substrate} > {product_string}\\n\")\n",
    "        rate_constant_name = disso_reaction[-1] ###\n",
    "        if rate_constant_name not in parameters_list:\n",
    "            parameters_list.append(rate_constant_name)\n",
    "        f.write(f\"\\t{rate_constant_name}*{disso_substrate}\\n\")\n",
    "        f.write(\"\\n\")\n",
    "    \n",
    "    Dissociation_reactions_written = write_reactions.counter-disulph_form_reactions_written-sulfe_reactions_written-sulfe_reactions_after_dsb_written\n",
    "    print(f\"Dissociation reactions written: {Dissociation_reactions_written}\")\n",
    "\n",
    "    ### Write parameters\n",
    "    f.write(f\"### Parameters\\n\")\n",
    "    f.write(f\"\\n\")\n",
    "    for parameter in parameters_list:\n",
    "        f.write(f\"{parameter} = 0 # add parameter\\n\")\n",
    "    f.write(\"\\n\")\n",
    "    \n",
    "    # Write species\n",
    "    f.write(f\"### Species\\n\")\n",
    "    f.write(\"\\n\")\n",
    "    for species in SortedSet(species_list):\n",
    "        if len(species.split(\"__\")) >= len(original_oligomer)/2: # I only want to write decamer species\n",
    "            f.write(f\"{species} = 0\\n\")\n",
    "            \n",
    "    print(f\"Total reactions written: {write_reactions.counter}\")\n",
    "    print(f\"Species written: {len(SortedSet(species_list))}\")\n",
    "    \n",
    "    ### End\n",
    "    f.write(f\"### End\\n\")\n",
    "    f.write(f\"\\n\\n\")"
   ]
  },
  {
   "cell_type": "code",
   "execution_count": null,
   "id": "7fe5894d-d1b1-4a65-9f63-7dcb5f9c3951",
   "metadata": {},
   "outputs": [],
   "source": []
  },
  {
   "cell_type": "code",
   "execution_count": null,
   "id": "403badf5-6096-4567-b95c-ca8131cf9122",
   "metadata": {},
   "outputs": [],
   "source": []
  }
 ],
 "metadata": {
  "kernelspec": {
   "display_name": "Python 3 (ipykernel)",
   "language": "python",
   "name": "python3"
  },
  "language_info": {
   "codemirror_mode": {
    "name": "ipython",
    "version": 3
   },
   "file_extension": ".py",
   "mimetype": "text/x-python",
   "name": "python",
   "nbconvert_exporter": "python",
   "pygments_lexer": "ipython3",
   "version": "3.9.16"
  },
  "toc": {
   "base_numbering": 1,
   "nav_menu": {},
   "number_sections": true,
   "sideBar": true,
   "skip_h1_title": false,
   "title_cell": "Table of Contents",
   "title_sidebar": "Contents",
   "toc_cell": false,
   "toc_position": {
    "height": "calc(100% - 180px)",
    "left": "10px",
    "top": "150px",
    "width": "350.867px"
   },
   "toc_section_display": true,
   "toc_window_display": true
  }
 },
 "nbformat": 4,
 "nbformat_minor": 5
}
