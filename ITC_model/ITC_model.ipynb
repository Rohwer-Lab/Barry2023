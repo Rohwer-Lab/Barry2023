{
 "cells": [
  {
   "cell_type": "markdown",
   "id": "0678e29b",
   "metadata": {},
   "source": [
    "# ITC experiment simulation"
   ]
  },
  {
   "cell_type": "markdown",
   "id": "9fac7145",
   "metadata": {},
   "source": [
    "This notebook performs analyses described in the "
   ]
  },
  {
   "cell_type": "markdown",
   "id": "0aa7893b",
   "metadata": {},
   "source": [
    "**Manuscript:**\n",
    "\n",
    "Modelling the decamerisation cycle of PRDX1 and the inhibition-like effect on its peroxidase activity"
   ]
  },
  {
   "cell_type": "markdown",
   "id": "7ddc0651",
   "metadata": {},
   "source": [
    "**Authors:**\n",
    "\n",
    "C. Barry, C. Pillay, J. Rohwer"
   ]
  },
  {
   "cell_type": "markdown",
   "id": "462f601e",
   "metadata": {},
   "source": [
    "**Purpose:**\n",
    "\n",
    "Writes: Barranco-Medina 2008 Fig. 1a Arabidopsis thaliana injection parameters (filename: `ITC_At_inject_params.csv`)\n",
    "\n",
    "Analysis: Demonstrate ITC model using published parameters i.e. against Barranco-Medina 2008 Fig. 1a\n",
    "\n",
    "Analysis: Test different baseline correction methods\n",
    "\n",
    "Plot: Figure 3"
   ]
  },
  {
   "cell_type": "markdown",
   "id": "2227813c",
   "metadata": {},
   "source": [
    "**Requirements:**\n",
    "\n",
    "Python libraries (see **Imports** below)\n",
    "\n",
    "ITC Prx dimer-decamer equilibrium model (`ITC_Prx_dim-dec.psc`)"
   ]
  },
  {
   "cell_type": "markdown",
   "id": "73a63fee",
   "metadata": {},
   "source": [
    "##### Imports"
   ]
  },
  {
   "cell_type": "code",
   "execution_count": null,
   "id": "174f143f",
   "metadata": {
    "ExecuteTime": {
     "end_time": "2023-07-27T08:45:01.489480Z",
     "start_time": "2023-07-27T08:44:59.448872Z"
    }
   },
   "outputs": [],
   "source": [
    "import os\n",
    "import math\n",
    "\n",
    "import scipy as sp\n",
    "import numpy as np\n",
    "from matplotlib import pyplot as plt\n",
    "import pandas as pd\n",
    "from sklearn.metrics import auc\n",
    "from scipy.interpolate import interp1d\n",
    "\n",
    "import pysces\n",
    "pysces.enablePandas()\n"
   ]
  },
  {
   "cell_type": "markdown",
   "id": "3642952e",
   "metadata": {},
   "source": [
    "###### Get directory paths"
   ]
  },
  {
   "cell_type": "code",
   "execution_count": null,
   "id": "7d47b1a9",
   "metadata": {
    "ExecuteTime": {
     "end_time": "2023-07-27T08:45:01.495965Z",
     "start_time": "2023-07-27T08:45:01.491967Z"
    }
   },
   "outputs": [],
   "source": [
    "prev_dir = os.path.split(os.getcwd())[0]\n",
    "\n",
    "mod_dir = os.path.join(prev_dir,\"models\")\n",
    "if not os.path.isdir(mod_dir): os.mkdir(mod_dir) # ensure dir exists\n",
    "\n",
    "par_dir = os.path.join(prev_dir,\"params\")\n",
    "if not os.path.isdir(par_dir): os.mkdir(par_dir) # ensure dir exists\n",
    "    \n",
    "fig_dir = os.path.join(os.getcwd(),\"Figures\")\n",
    "if not os.path.isdir(fig_dir): os.mkdir(fig_dir) # ensure dir exists\n"
   ]
  },
  {
   "cell_type": "markdown",
   "id": "cc31eec9",
   "metadata": {},
   "source": [
    "##### Matplotlib stuff"
   ]
  },
  {
   "cell_type": "code",
   "execution_count": null,
   "id": "2474e99b",
   "metadata": {
    "ExecuteTime": {
     "end_time": "2023-07-27T08:45:01.514387Z",
     "start_time": "2023-07-27T08:45:01.497961Z"
    }
   },
   "outputs": [],
   "source": [
    "%matplotlib inline\n",
    "\n",
    "multiplier = 1\n",
    "mpl_width = 4.5*multiplier\n",
    "mpl_height = 3.5*multiplier\n",
    "mpl_dpi = 600\n",
    "mpl_xlabel_fontsize = \"large\"\n",
    "mpl_ylabel_fontsize = \"large\"\n",
    "mu = \"\\u03bc\""
   ]
  },
  {
   "cell_type": "markdown",
   "id": "8064ce53",
   "metadata": {},
   "source": [
    "##### Coswave"
   ]
  },
  {
   "cell_type": "code",
   "execution_count": null,
   "id": "2050ccc1",
   "metadata": {
    "ExecuteTime": {
     "end_time": "2023-07-27T08:45:01.724551Z",
     "start_time": "2023-07-27T08:45:01.518397Z"
    }
   },
   "outputs": [],
   "source": [
    "time_range = range(900)\n",
    "injection_interval = 200 # period\n",
    "coswave = np.array([np.cos(_TIME_*2*np.pi/(injection_interval)) for _TIME_ in time_range])\n",
    "plt.plot(time_range, coswave)\n"
   ]
  },
  {
   "cell_type": "markdown",
   "id": "d5d7c6f7",
   "metadata": {},
   "source": [
    "## Model"
   ]
  },
  {
   "cell_type": "markdown",
   "id": "8e9e9183",
   "metadata": {},
   "source": [
    "### Inject params"
   ]
  },
  {
   "cell_type": "code",
   "execution_count": null,
   "id": "85855638",
   "metadata": {
    "ExecuteTime": {
     "end_time": "2023-07-27T08:45:01.732234Z",
     "start_time": "2023-07-27T08:45:01.726815Z"
    }
   },
   "outputs": [],
   "source": [
    "inj_enthalpy_At = 142*5 # kcal/mol = µcal/nmol of decamer(x5)\n",
    "inj_volume_At = 1.6*10**(-3) # µl to ml\n",
    "cell_volume_init = 1400*10**(-3) # µl to ml\n",
    "inj_mon_At = 70 # µM MONOMERS\n",
    "inj_interval_At = 180 # sec\n"
   ]
  },
  {
   "cell_type": "markdown",
   "id": "d1c80d3e",
   "metadata": {},
   "source": [
    "Fig 1a of Barranco-Medina 2008 was the basis for injection parameters below.\n",
    "In this figure, the bottom x-axis does not correspond to the Prx concentration indicated by the annotation.\n",
    "The injection interval of the trace corresponds to the described methodology (180 s) but the measured enthalpy per mole of monomer is slightly higher than reported in their text (71 vs ~82 kcal/mol injectant).\n",
    "Therefore, we assume that the Fig 1a trace was produced with a higher Prx in the syringe than the 70 µM described in the methodology."
   ]
  },
  {
   "cell_type": "markdown",
   "id": "ae8fa6ab",
   "metadata": {},
   "source": [
    "The injected Prx concentration was calculated from the annotated Prx in the cell below."
   ]
  },
  {
   "cell_type": "code",
   "execution_count": null,
   "id": "f35e8223",
   "metadata": {
    "ExecuteTime": {
     "end_time": "2023-07-27T08:45:01.753300Z",
     "start_time": "2023-07-27T08:45:01.737093Z"
    }
   },
   "outputs": [],
   "source": [
    "inj_to_arrow = 16 # no. injections\n",
    "arrow_Prx = 1.52 # µM\n",
    "dPrx_inj = arrow_Prx/inj_to_arrow\n",
    "inj_mon_by_anno = dPrx_inj*cell_volume_init/inj_volume_At\n",
    "print(f\"Injected Prx monomer calculated by annotation: {inj_mon_by_anno:.3}\")"
   ]
  },
  {
   "cell_type": "markdown",
   "id": "fc4e326b",
   "metadata": {},
   "source": [
    "Alternatively, the injected Prx of trace was calculated from the injected Prx reported in the text the ratio of dHm from the text and dHm read from the plot. "
   ]
  },
  {
   "cell_type": "code",
   "execution_count": null,
   "id": "40d81d3e",
   "metadata": {
    "ExecuteTime": {
     "end_time": "2023-07-27T08:45:01.768155Z",
     "start_time": "2023-07-27T08:45:01.758185Z"
    }
   },
   "outputs": [],
   "source": [
    "dHm_plot = 82\n",
    "dHm_text = 71\n",
    "inj_mon_by_ratio = inj_mon_At*dHm_plot/dHm_text\n",
    "print(f\"Injected Prx monomer calculated by ratio: {inj_mon_by_ratio:.3}\")"
   ]
  },
  {
   "cell_type": "code",
   "execution_count": null,
   "id": "f007230a",
   "metadata": {
    "ExecuteTime": {
     "end_time": "2023-07-27T08:45:01.777500Z",
     "start_time": "2023-07-27T08:45:01.772862Z"
    }
   },
   "outputs": [],
   "source": [
    "# Update values for injected Prx monomer, dimer, and decamer\n",
    "inj_dim_est_At = 0.8*inj_volume_At # CTC and µM to nmol\n",
    "inj_dec_est_At = ((inj_mon_by_anno/2 - 0.8)/5)*inj_volume_At  # Total - CTC and µM to nmol"
   ]
  },
  {
   "cell_type": "code",
   "execution_count": null,
   "id": "1039c146",
   "metadata": {
    "ExecuteTime": {
     "end_time": "2023-07-27T08:45:01.804446Z",
     "start_time": "2023-07-27T08:45:01.783339Z"
    }
   },
   "outputs": [],
   "source": [
    "# Create df used to updAte models later\n",
    "ITC_At_inject_params = {\"Parameter\": [\"injection_enthalpy\",\n",
    "                                      \"injection_volume\",\n",
    "                                      \"injection_Prx_mon\",\n",
    "                                      \"injection_dimer\",\n",
    "                                      \"injection_decamer\",\n",
    "                                      \"injection_interval\",\n",
    "                                      \"first_inject_ratio\",\n",
    "                                      \"cell_volume_init\"],\n",
    "         \n",
    "                       \"Value\":[inj_enthalpy_At,\n",
    "                                inj_volume_At,\n",
    "                                inj_mon_At,\n",
    "                                inj_dim_est_At, \n",
    "                                inj_dec_est_At,\n",
    "                                inj_interval_At,\n",
    "                                1,\n",
    "                               cell_volume_init]}\n",
    "\n",
    "df_ITC_At_inject_params = pd.DataFrame(ITC_At_inject_params)\n",
    "df_ITC_At_inject_params.set_index(\"Parameter\",inplace=True)\n",
    "df_ITC_At_inject_params"
   ]
  },
  {
   "cell_type": "code",
   "execution_count": null,
   "id": "8709c777",
   "metadata": {
    "ExecuteTime": {
     "end_time": "2023-07-27T08:45:01.817620Z",
     "start_time": "2023-07-27T08:45:01.812840Z"
    }
   },
   "outputs": [],
   "source": [
    "ITC_At_inject_params = dict(zip(ITC_At_inject_params[\"Parameter\"],ITC_At_inject_params[\"Value\"]))"
   ]
  },
  {
   "cell_type": "code",
   "execution_count": null,
   "id": "f9bc0642",
   "metadata": {
    "ExecuteTime": {
     "end_time": "2023-07-27T08:45:01.831067Z",
     "start_time": "2023-07-27T08:45:01.820368Z"
    }
   },
   "outputs": [],
   "source": [
    "# Write to file\n",
    "df_ITC_At_inject_params.to_csv(\n",
    "    os.path.join(par_dir, \"ITC_At_inject_params.csv\"), sep=',', encoding='utf-8'\n",
    ")"
   ]
  },
  {
   "cell_type": "markdown",
   "id": "007e0de3",
   "metadata": {},
   "source": [
    "## ITC Prx dec model expo 130"
   ]
  },
  {
   "cell_type": "code",
   "execution_count": null,
   "id": "077c0239",
   "metadata": {
    "ExecuteTime": {
     "end_time": "2023-07-27T08:45:01.838424Z",
     "start_time": "2023-07-27T08:45:01.834289Z"
    }
   },
   "outputs": [],
   "source": [
    "# Assign injection parameters\n",
    "inj_params =  ITC_At_inject_params\n"
   ]
  },
  {
   "cell_type": "code",
   "execution_count": null,
   "id": "6ab89787",
   "metadata": {
    "ExecuteTime": {
     "end_time": "2023-07-27T08:45:01.950676Z",
     "start_time": "2023-07-27T08:45:01.840957Z"
    }
   },
   "outputs": [],
   "source": [
    "# ITC load model\n",
    "# mod_ITC_Prx_dim_dec = pysces.model(\"ITC_testing_amts_1event.psc\",dir = mod_dir)\n",
    "mod_ITC_Prx_dim_dec = pysces.model(\"ITC_Prx_dim-dec.psc\",dir = mod_dir)\n",
    "# mod_ITC_Prx_dim_dec.enableDataPandas()\n",
    "mod_ITC_Prx_dim_dec.mode_integrate_all_odes = True # As recommented by pysces\n",
    "mod_ITC_Prx_dim_dec.__settings__[\"cvode_access_solver\"] = False\n",
    "mod_ITC_Prx_dim_dec.__settings__[\"cvode_return_event_timepoints\"] = False\n",
    "mod_ITC_Prx_dim_dec.SetQuiet()\n",
    "\n",
    "# Set injection params\n",
    "for parameter in inj_params.keys():\n",
    "    value = inj_params[parameter]\n",
    "    setattr(mod_ITC_Prx_dim_dec,parameter,value)\n",
    "\n",
    "# Adjust to e=130\n",
    "setattr(mod_ITC_Prx_dim_dec, \"exponent\", 130)\n",
    "setattr(mod_ITC_Prx_dim_dec, \"Kd_app\", 2.4*10**(-10))\n",
    "\n",
    "# Update with arbitrary rates for pretty plots\n",
    "mod_ITC_Prx_dim_dec.koff = 0.005  # Arbitrary\n",
    "mod_ITC_Prx_dim_dec.kon = mod_ITC_Prx_dim_dec.koff/mod_ITC_Prx_dim_dec.Kd_app\n",
    "\n",
    "# Load syringe model\n",
    "mod_syr = pysces.model(\"Prx_dim-dec.psc\", dir = mod_dir)\n",
    "# mod_syr.enableDataPandas()\n",
    "mod_syr.mode_integrate_all_odes = True # As recommented by pysces\n",
    "mod_syr.SetQuiet()\n",
    "# C=n/V (species are µM in Prx_dim-dec)\n",
    "setattr(mod_syr,\n",
    "        \"dimers_init\", \n",
    "        inj_params[\"injection_dimer\"]/inj_params[\"injection_volume\"]) \n",
    "setattr(mod_syr, \n",
    "        \"decamers_init\", \n",
    "        inj_params[\"injection_decamer\"]/inj_params[\"injection_volume\"]) \n",
    "\n",
    "# Load first inject model\n",
    "mod_first_inj = pysces.model(\"Prx_dim-dec.psc\", dir = mod_dir)\n",
    "# mod_first_inj.enableDataPandas()\n",
    "mod_first_inj.mode_integrate_all_odes = True # As recommented by pysces\n",
    "mod_first_inj.SetQuiet()\n",
    "# C=n/V (species are µM in Prx_dim-dec)\n",
    "setattr(mod_first_inj, \n",
    "        \"dimers_init\", \n",
    "        inj_params[\"injection_dimer\"]/(inj_params[\"injection_volume\"]+inj_params[\"cell_volume_init\"]))\n",
    "setattr(mod_first_inj,\n",
    "        \"decamers_init\", \n",
    "        inj_params[\"injection_decamer\"]/(inj_params[\"injection_volume\"]+inj_params[\"cell_volume_init\"])) \n"
   ]
  },
  {
   "cell_type": "code",
   "execution_count": null,
   "id": "8863f5cd",
   "metadata": {
    "ExecuteTime": {
     "end_time": "2023-07-27T08:45:01.957534Z",
     "start_time": "2023-07-27T08:45:01.952339Z"
    }
   },
   "outputs": [],
   "source": [
    "# Update ITC model syringe\n",
    "setattr(mod_syr, \"koff\", getattr(mod_ITC_Prx_dim_dec,\"koff\"))\n",
    "setattr(mod_syr, \"kon\",  getattr(mod_ITC_Prx_dim_dec,\"kon\"))\n",
    "setattr(mod_syr, \"exponent\",  getattr(mod_ITC_Prx_dim_dec,\"exponent\"))\n",
    "\n",
    "# Find equilibrium\n",
    "mod_syr.doState()\n",
    "\n",
    "# Update ITC mod syringe params (dimers and decamers in injection in AMOUNT)\n",
    "# n=C*V (species are nmol in mod_ITC_Prx_dim_dec)\n",
    "setattr(mod_ITC_Prx_dim_dec,  \n",
    "        \"injection_dimer\", \n",
    "        getattr(mod_syr,\"dimers_ss\")*getattr(mod_ITC_Prx_dim_dec,\"injection_volume\"))\n",
    "setattr(mod_ITC_Prx_dim_dec,\n",
    "        \"injection_decamer\", \n",
    "        getattr(mod_syr,\"decamers_ss\")*getattr(mod_ITC_Prx_dim_dec,\"injection_volume\"))\n"
   ]
  },
  {
   "cell_type": "code",
   "execution_count": null,
   "id": "feaaa164",
   "metadata": {
    "ExecuteTime": {
     "end_time": "2023-07-27T08:45:01.968854Z",
     "start_time": "2023-07-27T08:45:01.959690Z"
    }
   },
   "outputs": [],
   "source": [
    "# Update ITC model with first injection\n",
    "setattr(mod_first_inj, \"koff\", getattr(mod_ITC_Prx_dim_dec,\"koff\"))\n",
    "setattr(mod_first_inj, \"kon\",  getattr(mod_ITC_Prx_dim_dec,\"kon\"))\n",
    "setattr(mod_first_inj, \"exponent\",  getattr(mod_ITC_Prx_dim_dec,\"exponent\"))\n",
    "\n",
    "# Find equilibrium\n",
    "mod_first_inj.doState()\n",
    "\n",
    "# Update ITC mod initial params (dimers and decamers in AMOUNT and cell volume)\n",
    "# n=C*V (species are nmol in mod_ITC_Prx_dim_dec)\n",
    "setattr(mod_ITC_Prx_dim_dec, \n",
    "        \"dimers_init\", \n",
    "        getattr(mod_first_inj,\"dimers_ss\")*getattr(mod_ITC_Prx_dim_dec,\"cell_volume_init\")) \n",
    "setattr(mod_ITC_Prx_dim_dec, \n",
    "        \"decamers_init\", \n",
    "        getattr(mod_first_inj,\"decamers_ss\")*getattr(mod_ITC_Prx_dim_dec,\"cell_volume_init\"))\n",
    "setattr(mod_ITC_Prx_dim_dec, \n",
    "        \"cell_volume_init\", \n",
    "        getattr(mod_ITC_Prx_dim_dec,\"injection_volume\")+getattr(mod_ITC_Prx_dim_dec,\"cell_volume_init\"))\n"
   ]
  },
  {
   "cell_type": "markdown",
   "id": "003df9a7",
   "metadata": {
    "ExecuteTime": {
     "end_time": "2022-10-20T18:59:01.208661Z",
     "start_time": "2022-10-20T18:59:01.067727Z"
    }
   },
   "source": [
    "### Simulate ITC (figure 3a and 3b)"
   ]
  },
  {
   "cell_type": "code",
   "execution_count": null,
   "id": "0d6a89be",
   "metadata": {
    "ExecuteTime": {
     "end_time": "2023-07-27T08:45:02.214471Z",
     "start_time": "2023-07-27T08:45:01.971060Z"
    },
    "scrolled": true
   },
   "outputs": [],
   "source": [
    "end = 60*60 # minutes to seconds\n",
    "mod_ITC_Prx_dim_dec.doSim(points = end+1,end = end)\n",
    "\n",
    "mod_ITC_Prx_dim_dec.sim[\"Time (sec)\"] = mod_ITC_Prx_dim_dec.sim[\"Time\"]\n",
    "\n",
    "df_sim = mod_ITC_Prx_dim_dec.sim\n",
    "df_sim['Time (sec)'] = df_sim['Time (sec)'] - 1\n",
    "df_sim = df_sim[df_sim['Time (sec)']>-0.00001]\n",
    "df_sim['Time (sec)'] = df_sim['Time (sec)'].astype(int)\n",
    "df_sim.set_index('Time (sec)',drop=True,inplace=True)\n",
    "df_sim.head()"
   ]
  },
  {
   "cell_type": "code",
   "execution_count": null,
   "id": "74555374",
   "metadata": {
    "ExecuteTime": {
     "end_time": "2023-07-27T08:45:02.609138Z",
     "start_time": "2023-07-27T08:45:02.217841Z"
    }
   },
   "outputs": [],
   "source": [
    "rows = 1\n",
    "cols =1\n",
    "\n",
    "f,axarr = plt.subplots(rows,cols)\n",
    "f.set_size_inches(w=mpl_width*cols, h=mpl_height*rows)\n",
    "\n",
    "axarr.plot(df_sim.index/60, df_sim[\"Cdim\"], label = \"dimers\")\n",
    "axarr.plot(df_sim.index/60,df_sim[\"Cdec\"], label = \"decamers\")\n",
    "\n",
    "axarr.set_xlabel(f'Time (min)',fontsize = mpl_xlabel_fontsize)\n",
    "axarr.set_ylabel(f'Species ({mu}M)',fontsize = mpl_ylabel_fontsize)\n",
    "axarr.legend()\n",
    "\n",
    "f.tight_layout()\n",
    "f.savefig(os.path.join(fig_dir,\"ITC_mod_species_vs_time.pdf\"),dpi= mpl_dpi)"
   ]
  },
  {
   "cell_type": "code",
   "execution_count": null,
   "id": "7022dc66",
   "metadata": {
    "ExecuteTime": {
     "end_time": "2023-07-27T08:45:02.821372Z",
     "start_time": "2023-07-27T08:45:02.610797Z"
    }
   },
   "outputs": [],
   "source": [
    "rows = 1\n",
    "cols = 1\n",
    "\n",
    "f,axarr = plt.subplots(rows,cols)\n",
    "f.set_size_inches(w=mpl_width*cols, h=mpl_height*rows)\n",
    "\n",
    "axarr.plot(df_sim.index/60,\n",
    "           df_sim[\"Cdec\"]*mod_ITC_Prx_dim_dec.koff, \n",
    "           label = \"Dissociation\")\n",
    "axarr.plot(df_sim.index/60,\n",
    "           df_sim[\"Cdim\"]**mod_ITC_Prx_dim_dec.exponent*mod_ITC_Prx_dim_dec.kon, \n",
    "           label = \"Association\")\n",
    "\n",
    "axarr.set_xlabel(f'Time (min)',fontsize = mpl_xlabel_fontsize)\n",
    "axarr.set_ylabel(f'Rate ({mu}M/s)',fontsize = mpl_ylabel_fontsize)\n",
    "axarr.legend()\n",
    "\n",
    "f.tight_layout()\n",
    "f.savefig(os.path.join(fig_dir,\"ITC_mod_rates_vs_time.pdf\"),dpi= mpl_dpi)"
   ]
  },
  {
   "cell_type": "markdown",
   "id": "c0d0d177",
   "metadata": {},
   "source": [
    "#### Heat generation vs time (figure 3c)"
   ]
  },
  {
   "cell_type": "code",
   "execution_count": null,
   "id": "d0b78adf",
   "metadata": {
    "ExecuteTime": {
     "end_time": "2023-07-27T08:45:02.826707Z",
     "start_time": "2023-07-27T08:45:02.822968Z"
    }
   },
   "outputs": [],
   "source": [
    "# Calculate enthalpy\n",
    "df_sim[\"Rate μcal/sec\"] = (-df_sim[\"Disassociation\"])*ITC_At_inject_params[\"injection_enthalpy\"]\n"
   ]
  },
  {
   "cell_type": "code",
   "execution_count": null,
   "id": "1a8fd709",
   "metadata": {
    "ExecuteTime": {
     "end_time": "2023-07-27T08:45:03.009449Z",
     "start_time": "2023-07-27T08:45:02.828233Z"
    }
   },
   "outputs": [],
   "source": [
    "rows = 1\n",
    "cols =1\n",
    "\n",
    "f,axarr = plt.subplots(rows,cols)\n",
    "f.set_size_inches(w=mpl_width*cols, h=mpl_height*rows)\n",
    "\n",
    "axarr.plot(df_sim.index/60,df_sim[\"Rate μcal/sec\"])\n",
    "\n",
    "axarr.set_xlabel(f'Time (min)',fontsize = mpl_xlabel_fontsize)\n",
    "axarr.set_ylabel(f'{mu}cal/sec',fontsize = mpl_ylabel_fontsize)\n",
    "\n",
    "f.tight_layout()\n",
    "f.savefig(os.path.join(fig_dir,\"ITC_mod_heat_vs_time.pdf\"),dpi= mpl_dpi)"
   ]
  },
  {
   "cell_type": "markdown",
   "id": "95ebd6ab",
   "metadata": {},
   "source": [
    "#### Heat AUC vs protein (figure 3d)"
   ]
  },
  {
   "cell_type": "code",
   "execution_count": null,
   "id": "bf10e7d3",
   "metadata": {
    "ExecuteTime": {
     "end_time": "2023-07-27T08:45:03.022101Z",
     "start_time": "2023-07-27T08:45:03.010808Z"
    }
   },
   "outputs": [],
   "source": [
    "# Calculate AUC for each injection\n",
    "points_per_inject = int(mod_ITC_Prx_dim_dec.injection_interval)\n",
    "num_injections = math.floor(df_sim.index[-1]/points_per_inject)\n",
    "\n",
    "inj_monomers =(mod_ITC_Prx_dim_dec.injection_decamer*10+mod_ITC_Prx_dim_dec.injection_dimer*2) # µmol monomers\n",
    "\n",
    "heat_AUC_prot = np.zeros((num_injections,2))\n",
    "start =1\n",
    "for i in range(num_injections):\n",
    "    x = df_sim.loc[start][\"Cdim\"]*2 + df_sim.loc[start][\"Cdec\"]*10 # µM monomers\n",
    "    \n",
    "    x_range = df_sim.loc[start:start+points_per_inject].index.values\n",
    "    y_range = df_sim.loc[start:start+points_per_inject][\"Rate μcal/sec\"].values\n",
    "    inj_ucal = auc(x_range,y_range) # µcal/s*s=µcal\n",
    "    y = inj_ucal/inj_monomers # µcal to µcal/µmol\n",
    "\n",
    "    heat_AUC_prot[i,0] = x\n",
    "    heat_AUC_prot[i,1] = y\n",
    "\n",
    "    start += points_per_inject\n"
   ]
  },
  {
   "cell_type": "code",
   "execution_count": null,
   "id": "d9202e6d",
   "metadata": {
    "ExecuteTime": {
     "end_time": "2023-07-27T08:45:03.188273Z",
     "start_time": "2023-07-27T08:45:03.023448Z"
    }
   },
   "outputs": [],
   "source": [
    "rows = 1\n",
    "cols = 1\n",
    "\n",
    "f,axarr = plt.subplots(rows,cols)\n",
    "f.set_size_inches(w=mpl_width*cols, h=mpl_height*rows)\n",
    "\n",
    "axarr.plot(heat_AUC_prot[:,0],heat_AUC_prot[:,1],\"o\")\n",
    "\n",
    "axarr.set_xlabel(f'Prx ({mu}M of monomer)',fontsize = mpl_xlabel_fontsize)\n",
    "axarr.set_ylabel(f'kcal/mol of injectant',fontsize = mpl_ylabel_fontsize)\n",
    "\n",
    "f.tight_layout()\n",
    "f.savefig(os.path.join(fig_dir,\"ITC_mod_heatAUC_vs_Prx.pdf\"),dpi= mpl_dpi)"
   ]
  },
  {
   "cell_type": "markdown",
   "id": "e63fed8f",
   "metadata": {},
   "source": [
    "### Baseline - Interpolated "
   ]
  },
  {
   "cell_type": "code",
   "execution_count": null,
   "id": "3ebaf11e",
   "metadata": {
    "ExecuteTime": {
     "end_time": "2023-07-27T08:45:03.193900Z",
     "start_time": "2023-07-27T08:45:03.189643Z"
    }
   },
   "outputs": [],
   "source": [
    "# Baseline correction function\n",
    "num_disso_injections = math.floor(df_sim[\"Rate μcal/sec\"].index[-1]/mod_ITC_Prx_dim_dec.injection_interval)\n",
    "\n",
    "start = 1\n",
    "end = mod_ITC_Prx_dim_dec.injection_interval\n",
    "\n",
    "df_temp = pd.DataFrame(df_sim[\"Rate μcal/sec\"].loc[start: end])\n",
    "\n",
    "next_baseline = df_temp.iloc[-10:-5]\n",
    "print(next_baseline.index.values.mean())"
   ]
  },
  {
   "cell_type": "code",
   "execution_count": null,
   "id": "613d35c8",
   "metadata": {
    "ExecuteTime": {
     "end_time": "2023-07-27T08:45:03.348376Z",
     "start_time": "2023-07-27T08:45:03.195604Z"
    }
   },
   "outputs": [],
   "source": [
    "# Baseline correction function\n",
    "num_disso_injections = math.floor(df_sim[\"Rate μcal/sec\"].index[-1]/mod_ITC_Prx_dim_dec.injection_interval)\n",
    "\n",
    "start = 1\n",
    "end = mod_ITC_Prx_dim_dec.injection_interval\n",
    "\n",
    "df_temp = pd.DataFrame(df_sim[\"Rate μcal/sec\"].loc[start: end])\n",
    "\n",
    "next_baseline = df_temp.iloc[-10:-5]\n",
    "\n",
    "x2 = next_baseline.index.values.mean()\n",
    "y2 = next_baseline[\"Rate μcal/sec\"].mean()\n",
    "\n",
    "x1 = 0.0\n",
    "y1 = next_baseline[\"Rate μcal/sec\"].mean()\n",
    "\n",
    "baseline_interp = interp1d([x1,x2], [y1,y2],fill_value=\"extrapolate\")(df_temp.index)\n",
    "plt.plot(df_temp.index,baseline_interp)\n",
    "\n",
    "current_baseline = next_baseline\n",
    "\n",
    "df_temp[\"Rate μcal/sec\"] = df_temp[\"Rate μcal/sec\"] - baseline_interp\n",
    "\n",
    "df_sim_baseline = pd.DataFrame(df_temp)\n",
    "\n",
    "count = 1\n",
    "while count < num_disso_injections:\n",
    "    start = count*mod_ITC_Prx_dim_dec.injection_interval+1\n",
    "    end = count*mod_ITC_Prx_dim_dec.injection_interval + mod_ITC_Prx_dim_dec.injection_interval\n",
    "\n",
    "    df_temp = pd.DataFrame(df_sim[\"Rate μcal/sec\"].loc[start: end])\n",
    "\n",
    "    next_baseline = df_temp.iloc[-10:-5]\n",
    "\n",
    "    x2 = next_baseline.index.values.mean()\n",
    "    y2 = next_baseline[\"Rate μcal/sec\"].mean()\n",
    "\n",
    "    x1 = current_baseline.index.values.mean()\n",
    "    y1 = current_baseline[\"Rate μcal/sec\"].mean()\n",
    "\n",
    "    baseline_interp = interp1d([x1,x2], [y1,y2],fill_value=\"extrapolate\")(df_temp.index)\n",
    "\n",
    "    df_temp[\"Rate μcal/sec\"] = df_temp[\"Rate μcal/sec\"] - baseline_interp\n",
    "    plt.plot(df_temp.index,baseline_interp)\n",
    "\n",
    "    current_baseline = next_baseline\n",
    "\n",
    "    df_sim_baseline = pd.concat([df_sim_baseline,df_temp])\n",
    "    \n",
    "    count += 1\n",
    "\n",
    "df_sim[\"Rate μcal/sec baseline\"] = df_sim_baseline[\"Rate μcal/sec\"]\n"
   ]
  },
  {
   "cell_type": "markdown",
   "id": "6cddcf03",
   "metadata": {},
   "source": [
    "#### Heat generation vs time (figure 3e)"
   ]
  },
  {
   "cell_type": "code",
   "execution_count": null,
   "id": "c0865d34",
   "metadata": {
    "ExecuteTime": {
     "end_time": "2023-07-27T08:45:03.528757Z",
     "start_time": "2023-07-27T08:45:03.350491Z"
    }
   },
   "outputs": [],
   "source": [
    "rows = 1\n",
    "cols =1\n",
    "\n",
    "f,axarr = plt.subplots(rows,cols)\n",
    "f.set_size_inches(w=mpl_width*cols, h=mpl_height*rows)\n",
    "\n",
    "axarr.plot(df_sim.index/60,df_sim[\"Rate μcal/sec baseline\"],label = \"Baseline corrected data\")\n",
    "axarr.plot(df_sim.index/60,df_sim[\"Rate μcal/sec\"],'k--',label = \"Non-corrected data\")\n",
    "\n",
    "axarr.set_xlabel(f'Time (min)',fontsize = mpl_xlabel_fontsize)\n",
    "axarr.set_ylabel(f'{mu}cal/sec',fontsize = mpl_ylabel_fontsize)\n",
    "axarr.set_title(\"Barranco-Medina Fig 1a top\")\n",
    "\n",
    "f.tight_layout()"
   ]
  },
  {
   "cell_type": "code",
   "execution_count": null,
   "id": "d2afbd92",
   "metadata": {
    "ExecuteTime": {
     "end_time": "2023-07-27T08:45:03.682971Z",
     "start_time": "2023-07-27T08:45:03.530716Z"
    }
   },
   "outputs": [],
   "source": [
    "rows = 1\n",
    "cols =1\n",
    "\n",
    "f,axarr = plt.subplots(rows,cols)\n",
    "f.set_size_inches(w=mpl_width*cols, h=mpl_height*rows)\n",
    "\n",
    "axarr.plot(df_sim.index/60,df_sim[\"Rate μcal/sec baseline\"],label = \"Baseline corrected data\")\n",
    "\n",
    "axarr.set_xlabel(f'Time (min)',fontsize = mpl_xlabel_fontsize)\n",
    "axarr.set_ylabel(f'{mu}cal/sec',fontsize = mpl_ylabel_fontsize)\n",
    "\n",
    "f.tight_layout()\n",
    "f.savefig(os.path.join(fig_dir,\"ITC_mod_baseline_corr_heat_vs_time.pdf\"),dpi= mpl_dpi)"
   ]
  },
  {
   "cell_type": "markdown",
   "id": "f36cf5dc",
   "metadata": {},
   "source": [
    "#### Heat AUC vs protein (figure 3f)"
   ]
  },
  {
   "cell_type": "code",
   "execution_count": null,
   "id": "179f2c13",
   "metadata": {
    "ExecuteTime": {
     "end_time": "2023-07-27T08:45:03.697750Z",
     "start_time": "2023-07-27T08:45:03.684916Z"
    }
   },
   "outputs": [],
   "source": [
    "# Calculate AUC for each injection\n",
    "points_per_inject = int(mod_ITC_Prx_dim_dec.injection_interval)\n",
    "num_injections = math.floor(df_sim.index[-1]/points_per_inject)\n",
    "\n",
    "inj_monomers =(mod_ITC_Prx_dim_dec.injection_decamer*10+mod_ITC_Prx_dim_dec.injection_dimer*2)\n",
    "\n",
    "heat_AUC_prot = np.zeros((num_injections,2))\n",
    "start =0\n",
    "for i in range(num_injections):\n",
    "    x = df_sim.loc[start][\"Cdim\"]*2 + df_sim.loc[start][\"Cdec\"]*10\n",
    "    \n",
    "    x_range = df_sim.loc[start:start+points_per_inject].index.values\n",
    "    y_range = df_sim.loc[start:start+points_per_inject][\"Rate μcal/sec baseline\"].values\n",
    "    inj_ucal = auc(x_range,y_range) # µcal/s*s=µcal\n",
    "    y = inj_ucal/inj_monomers # µcal to µcal/µmol\n",
    "    \n",
    "    heat_AUC_prot[i,0] = x\n",
    "    heat_AUC_prot[i,1] = y\n",
    "\n",
    "    start += points_per_inject"
   ]
  },
  {
   "cell_type": "code",
   "execution_count": null,
   "id": "94e25f49",
   "metadata": {
    "ExecuteTime": {
     "end_time": "2023-07-27T08:45:03.850193Z",
     "start_time": "2023-07-27T08:45:03.700738Z"
    }
   },
   "outputs": [],
   "source": [
    "rows = 1\n",
    "cols = 1\n",
    "\n",
    "f,axarr = plt.subplots(rows,cols)\n",
    "f.set_size_inches(w=mpl_width*cols, h=mpl_height*rows)\n",
    "\n",
    "axarr.plot(heat_AUC_prot[:,0],heat_AUC_prot[:,1],\"o\")\n",
    "\n",
    "axarr.set_xlabel(f'Prx ({mu}M of monomer)',fontsize = mpl_xlabel_fontsize)\n",
    "axarr.set_ylabel(f'kcal/mol of injectant',fontsize = mpl_ylabel_fontsize)\n",
    "\n",
    "f.tight_layout()\n",
    "f.savefig(os.path.join(fig_dir,\"ITC_mod_baseline_corr_heatAUC_vs_Prx.pdf\"),dpi= mpl_dpi)"
   ]
  }
 ],
 "metadata": {
  "kernelspec": {
   "display_name": "Python 3 (ipykernel)",
   "language": "python",
   "name": "python3"
  },
  "language_info": {
   "codemirror_mode": {
    "name": "ipython",
    "version": 3
   },
   "file_extension": ".py",
   "mimetype": "text/x-python",
   "name": "python",
   "nbconvert_exporter": "python",
   "pygments_lexer": "ipython3",
   "version": "3.11.3"
  },
  "scenes_data": {
   "active_scene": "Default Scene",
   "init_scene": "",
   "scenes": [
    "Default Scene"
   ]
  },
  "toc": {
   "base_numbering": 1,
   "nav_menu": {},
   "number_sections": true,
   "sideBar": true,
   "skip_h1_title": false,
   "title_cell": "Table of Contents",
   "title_sidebar": "Contents",
   "toc_cell": false,
   "toc_position": {
    "height": "calc(100% - 180px)",
    "left": "10px",
    "top": "150px",
    "width": "331.2px"
   },
   "toc_section_display": true,
   "toc_window_display": true
  }
 },
 "nbformat": 4,
 "nbformat_minor": 5
}
