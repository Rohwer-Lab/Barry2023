{
 "cells": [
  {
   "cell_type": "markdown",
   "id": "0678e29b",
   "metadata": {},
   "source": [
    "# ITC experiment simulation"
   ]
  },
  {
   "cell_type": "markdown",
   "id": "9fac7145",
   "metadata": {},
   "source": [
    "This notebook performs analyses described in the "
   ]
  },
  {
   "cell_type": "markdown",
   "id": "0aa7893b",
   "metadata": {},
   "source": [
    "**Manuscript:**\n",
    "\n",
    "Modelling the decamerisation cycle of PRDX1 and the inhibition-like effect on its peroxidase activity"
   ]
  },
  {
   "cell_type": "markdown",
   "id": "7ddc0651",
   "metadata": {},
   "source": [
    "**Authors:**\n",
    "\n",
    "C. Barry, C. Pillay, J. Rohwer"
   ]
  },
  {
   "cell_type": "markdown",
   "id": "462f601e",
   "metadata": {},
   "source": [
    "**Purpose:**\n",
    "\n",
    "Writes: Barranco-Medina 2008 Fig. 1a Arabidopsis thaliana injection parameters (filename: `ITC_At_inject_params.csv`)\n",
    "\n",
    "Analysis: Demonstrate ITC model using published parameters i.e. against Barranco-Medina 2008 Fig. 1a\n",
    "\n",
    "Analysis: Test different baseline correction methods\n",
    "\n",
    "Plot: Figure 3"
   ]
  },
  {
   "cell_type": "markdown",
   "id": "2227813c",
   "metadata": {},
   "source": [
    "**Requirements:**\n",
    "\n",
    "Python libraries (see **Imports** below)\n",
    "\n",
    "ITC Prx dimer-decamer equilibrium model (`ITC_Prx_dim-dec.psc`)"
   ]
  },
  {
   "cell_type": "markdown",
   "id": "73a63fee",
   "metadata": {},
   "source": [
    "##### Imports"
   ]
  },
  {
   "cell_type": "code",
   "execution_count": null,
   "id": "174f143f",
   "metadata": {
    "ExecuteTime": {
     "end_time": "2023-06-23T11:18:33.212654Z",
     "start_time": "2023-06-23T11:18:32.018784Z"
    },
    "scrolled": false
   },
   "outputs": [],
   "source": [
    "import os\n",
    "import math\n",
    "\n",
    "import scipy as sp\n",
    "import numpy as np\n",
    "from matplotlib import pyplot as plt\n",
    "import pandas as pd\n",
    "from sklearn.metrics import auc\n",
    "from scipy.interpolate import interp1d\n",
    "\n",
    "import pysces\n"
   ]
  },
  {
   "cell_type": "markdown",
   "id": "3642952e",
   "metadata": {},
   "source": [
    "###### Get directory paths"
   ]
  },
  {
   "cell_type": "code",
   "execution_count": null,
   "id": "7d47b1a9",
   "metadata": {
    "ExecuteTime": {
     "end_time": "2023-06-23T11:18:33.219094Z",
     "start_time": "2023-06-23T11:18:33.214583Z"
    }
   },
   "outputs": [],
   "source": [
    "prev_dir = os.path.split(os.getcwd())[0]\n",
    "\n",
    "mod_dir = os.path.join(prev_dir,\"models\")\n",
    "if not os.path.isdir(mod_dir): os.mkdir(mod_dir) # ensure dir exists\n",
    "\n",
    "par_dir = os.path.join(prev_dir,\"params\")\n",
    "if not os.path.isdir(par_dir): os.mkdir(par_dir) # ensure dir exists\n",
    "    \n",
    "fig_dir = os.path.join(os.getcwd(),\"Figures\")\n",
    "if not os.path.isdir(fig_dir): os.mkdir(fig_dir) # ensure dir exists\n"
   ]
  },
  {
   "cell_type": "markdown",
   "id": "cc31eec9",
   "metadata": {},
   "source": [
    "##### Matplotlib stuff"
   ]
  },
  {
   "cell_type": "code",
   "execution_count": null,
   "id": "2474e99b",
   "metadata": {
    "ExecuteTime": {
     "end_time": "2023-06-23T11:18:33.230096Z",
     "start_time": "2023-06-23T11:18:33.220782Z"
    }
   },
   "outputs": [],
   "source": [
    "%matplotlib inline\n",
    "\n",
    "multiplier = 1\n",
    "mpl_width = 4.5*multiplier\n",
    "mpl_height = 3.5*multiplier\n",
    "mpl_dpi = 600\n",
    "mpl_xlabel_fontsize = \"large\"\n",
    "mpl_ylabel_fontsize = \"large\"\n",
    "mu = \"\\u03bc\""
   ]
  },
  {
   "cell_type": "markdown",
   "id": "8064ce53",
   "metadata": {},
   "source": [
    "##### Coswave"
   ]
  },
  {
   "cell_type": "code",
   "execution_count": null,
   "id": "2050ccc1",
   "metadata": {
    "ExecuteTime": {
     "end_time": "2023-06-23T11:18:33.392391Z",
     "start_time": "2023-06-23T11:18:33.236952Z"
    }
   },
   "outputs": [],
   "source": [
    "time_range = range(900)\n",
    "injection_interval = 200 # period\n",
    "coswave = np.array([np.cos(_TIME_*2*np.pi/(injection_interval)) for _TIME_ in time_range])\n",
    "plt.plot(time_range, coswave)"
   ]
  },
  {
   "cell_type": "markdown",
   "id": "d5d7c6f7",
   "metadata": {},
   "source": [
    "## Model"
   ]
  },
  {
   "cell_type": "markdown",
   "id": "8e9e9183",
   "metadata": {},
   "source": [
    "### Inject params"
   ]
  },
  {
   "cell_type": "code",
   "execution_count": null,
   "id": "85855638",
   "metadata": {
    "ExecuteTime": {
     "end_time": "2023-06-23T11:18:33.400140Z",
     "start_time": "2023-06-23T11:18:33.394278Z"
    }
   },
   "outputs": [],
   "source": [
    "inj_enthalpy_At = 142 # +- 24 kcal/mol of dimer\n",
    "inj_volume_At = 1.6 # ul\n",
    "inj_mon_At = 70 # uM MONOMERS\n",
    "inj_dim_est_At = 0.8\n",
    "inj_dec_est_At = (inj_mon_At/2 - 0.8)/5\n",
    "inj_interval_At = 180 # sec\n"
   ]
  },
  {
   "cell_type": "code",
   "execution_count": null,
   "id": "5e66491a",
   "metadata": {
    "ExecuteTime": {
     "end_time": "2023-06-23T11:19:19.750267Z",
     "start_time": "2023-06-23T11:19:19.738940Z"
    }
   },
   "outputs": [],
   "source": [
    "# Set up df to update models\n",
    "entry = {\"Parameter\": [ \"injection_enthalpy\",\n",
    "                        \"injection_volume\",\n",
    "                        \"injection_Prx_mon\",\n",
    "                        \"injection_dimer\",\n",
    "                        \"injection_decamer\",\n",
    "                        \"injection_interval\",\n",
    "                        \"first_inject_ratio\"],\n",
    "         \n",
    "       \"Value\":[inj_enthalpy_At,\n",
    "                inj_volume_At,\n",
    "                inj_mon_At,\n",
    "                inj_dim_est_At, \n",
    "                inj_dec_est_At,\n",
    "                inj_interval_At,\n",
    "                1]}\n",
    "\n",
    "df_ITC_At_inject_params = pd.DataFrame(entry)\n",
    "df_ITC_At_inject_params.set_index(\"Parameter\",inplace=True)\n",
    "\n",
    "# # Adjust to values calculated from the figure (differs to text)\n",
    "df_ITC_At_inject_params[\"Value\"].loc[\"injection_dimer\"] = df_ITC_At_inject_params[\"Value\"].loc[\"injection_dimer\"]*1.25\n",
    "df_ITC_At_inject_params[\"Value\"].loc[\"injection_decamer\"] = df_ITC_At_inject_params[\"Value\"].loc[\"injection_decamer\"]*1.25\n",
    "\n",
    "df_ITC_At_inject_params\n"
   ]
  },
  {
   "cell_type": "code",
   "execution_count": null,
   "id": "f9bc0642",
   "metadata": {
    "ExecuteTime": {
     "end_time": "2023-06-23T11:19:24.889806Z",
     "start_time": "2023-06-23T11:19:24.882509Z"
    }
   },
   "outputs": [],
   "source": [
    "# Write to file\n",
    "df_ITC_At_inject_params.to_csv(\n",
    "    os.path.join(par_dir, \"ITC_At_inject_params.csv\"), sep=',', encoding='utf-8'\n",
    ")"
   ]
  },
  {
   "cell_type": "markdown",
   "id": "007e0de3",
   "metadata": {},
   "source": [
    "## ITC Prx dec model expo 130"
   ]
  },
  {
   "cell_type": "code",
   "execution_count": null,
   "id": "789f0fad",
   "metadata": {
    "ExecuteTime": {
     "end_time": "2023-06-23T11:19:24.950194Z",
     "start_time": "2023-06-23T11:19:24.915447Z"
    }
   },
   "outputs": [],
   "source": [
    "# Load ITC model\n",
    "mod_ITC_Prx_dec_onestep = pysces.model(\"ITC_Prx_dim-dec.psc\", dir=mod_dir)\n",
    "mod_ITC_Prx_dec_onestep.mode_integrate_all_odes = True # As recommented by pysces\n",
    "mod_ITC_Prx_dec_onestep.SetQuiet()\n",
    "\n",
    "# Update model with inject params (the mod.__dict__.update() doesn't work here)\n",
    "for parameter in df_ITC_At_inject_params.index:\n",
    "    setattr(mod_ITC_Prx_dec_onestep,parameter,df_ITC_At_inject_params[\"Value\"].loc[parameter])\n",
    "    \n",
    "# Adjust to e=130\n",
    "mod_ITC_Prx_dec_onestep.exponent = 130\n",
    "mod_ITC_Prx_dec_onestep.Kd_app = 2.4*10**(-10)\n",
    "\n",
    "# Update with arbitrary rates for pretty plots\n",
    "mod_ITC_Prx_dec_onestep.koff = 5\n",
    "mod_ITC_Prx_dec_onestep.kon = mod_ITC_Prx_dec_onestep.koff/mod_ITC_Prx_dec_onestep.Kd_app\n",
    "    \n",
    "mod_ITC_Prx_dec_onestep.showModel()"
   ]
  },
  {
   "cell_type": "markdown",
   "id": "03e03a2f",
   "metadata": {},
   "source": [
    "### Equilibrium in syringe"
   ]
  },
  {
   "cell_type": "code",
   "execution_count": null,
   "id": "ee31c713",
   "metadata": {
    "ExecuteTime": {
     "end_time": "2023-06-23T11:19:24.982072Z",
     "start_time": "2023-06-23T11:19:24.951727Z"
    }
   },
   "outputs": [],
   "source": [
    "# Load Prx dim-dec model\n",
    "mod_Prx_dim_dec = pysces.model(\"Prx_dim-dec.psc\", dir = mod_dir)\n",
    "mod_Prx_dim_dec.SetQuiet()\n",
    "\n",
    "# Update model with inject params (the mod.__dict__.update() doesn't work here)\n",
    "for parameter in df_ITC_At_inject_params.index:\n",
    "    value = df_ITC_At_inject_params[\"Value\"].loc[parameter]\n",
    "    setattr(mod_Prx_dim_dec,parameter,value)\n",
    "\n",
    "# Adjust to e=130\n",
    "mod_Prx_dim_dec.exponent = 130\n",
    "\n",
    "# Update equilibrium model with ITC model syringe protein concentrations\n",
    "mod_Prx_dim_dec.dimers_init = mod_ITC_Prx_dec_onestep.injection_dimer\n",
    "mod_Prx_dim_dec.decamers_init = mod_ITC_Prx_dec_onestep.injection_decamer\n",
    "mod_Prx_dim_dec.koff = mod_ITC_Prx_dec_onestep.koff\n",
    "mod_Prx_dim_dec.kon = mod_ITC_Prx_dec_onestep.kon\n",
    "\n",
    "# Calculate steady state\n",
    "mod_Prx_dim_dec.doStateShow()"
   ]
  },
  {
   "cell_type": "code",
   "execution_count": null,
   "id": "ce67ecb8",
   "metadata": {
    "ExecuteTime": {
     "end_time": "2023-06-23T11:19:24.986111Z",
     "start_time": "2023-06-23T11:19:24.983223Z"
    }
   },
   "outputs": [],
   "source": [
    "# Update ITC model syringe with equilibrium protein values\n",
    "mod_ITC_Prx_dec_onestep.injection_dimer = mod_Prx_dim_dec.dimers_ss\n",
    "mod_ITC_Prx_dec_onestep.injection_decamer = mod_Prx_dim_dec.decamers_ss"
   ]
  },
  {
   "cell_type": "markdown",
   "id": "003df9a7",
   "metadata": {
    "ExecuteTime": {
     "end_time": "2022-10-20T18:59:01.208661Z",
     "start_time": "2022-10-20T18:59:01.067727Z"
    }
   },
   "source": [
    "### Simulate ITC (figure 3a and 3b)"
   ]
  },
  {
   "cell_type": "code",
   "execution_count": null,
   "id": "0d6a89be",
   "metadata": {
    "ExecuteTime": {
     "end_time": "2023-06-23T11:19:25.096180Z",
     "start_time": "2023-06-23T11:19:24.987835Z"
    }
   },
   "outputs": [],
   "source": [
    "end = 3600\n",
    "mod_ITC_Prx_dec_onestep.doSim(points = end+1,end = end)\n",
    "data, lbls = mod_ITC_Prx_dec_onestep.data_sim.getAllSimData(lbls = True)\n",
    "lbls[0] = 'Time (sec)'\n",
    "df_sim = pd.DataFrame(data, columns = lbls)\n",
    "df_sim['Time (sec)'] = np.rint(df_sim['Time (sec)']).astype(int)\n",
    "df_sim = df_sim.drop_duplicates(subset='Time (sec)', keep='last').set_index('Time (sec)')"
   ]
  },
  {
   "cell_type": "code",
   "execution_count": null,
   "id": "74555374",
   "metadata": {
    "ExecuteTime": {
     "end_time": "2023-06-23T11:19:25.482603Z",
     "start_time": "2023-06-23T11:19:25.097754Z"
    }
   },
   "outputs": [],
   "source": [
    "rows = 1\n",
    "cols =1\n",
    "\n",
    "f,axarr = plt.subplots(rows,cols)\n",
    "f.set_size_inches(w=mpl_width*cols, h=mpl_height*rows)\n",
    "\n",
    "axarr.plot(df_sim.index/60, df_sim[\"dimers\"], label = \"dimers\")\n",
    "axarr.plot(df_sim.index/60,df_sim[\"decamers\"], label = \"decamers\")\n",
    "\n",
    "axarr.set_xlabel(f'Time (min)',fontsize = mpl_xlabel_fontsize)\n",
    "axarr.set_ylabel(f'Species ({mu}M)',fontsize = mpl_ylabel_fontsize)\n",
    "axarr.legend()\n",
    "\n",
    "f.tight_layout()\n",
    "f.savefig(os.path.join(fig_dir,\"ITC_mod_species_vs_time.pdf\"),dpi= mpl_dpi)"
   ]
  },
  {
   "cell_type": "code",
   "execution_count": null,
   "id": "7022dc66",
   "metadata": {
    "ExecuteTime": {
     "end_time": "2023-06-23T11:19:25.701120Z",
     "start_time": "2023-06-23T11:19:25.484507Z"
    }
   },
   "outputs": [],
   "source": [
    "rows = 1\n",
    "cols =1\n",
    "\n",
    "f,axarr = plt.subplots(rows,cols)\n",
    "f.set_size_inches(w=mpl_width*cols, h=mpl_height*rows)\n",
    "\n",
    "axarr.plot(df_sim.index/60,df_sim[\"decamers\"]*mod_ITC_Prx_dec_onestep.koff, label = \"Dissociation\")\n",
    "axarr.plot(df_sim.index/60,\n",
    "           df_sim[\"dimers\"]**mod_ITC_Prx_dec_onestep.exponent*mod_ITC_Prx_dec_onestep.kon, \n",
    "           label = \"Association\")\n",
    "\n",
    "axarr.set_xlabel(f'Time (min)',fontsize = mpl_xlabel_fontsize)\n",
    "axarr.set_ylabel(f'Rate ({mu}M/s)',fontsize = mpl_ylabel_fontsize)\n",
    "axarr.legend()\n",
    "\n",
    "f.tight_layout()\n",
    "f.savefig(os.path.join(fig_dir,\"ITC_mod_rates_vs_time.pdf\"),dpi= mpl_dpi)"
   ]
  },
  {
   "cell_type": "markdown",
   "id": "c0d0d177",
   "metadata": {},
   "source": [
    "#### Heat generation vs time (figure 3c)"
   ]
  },
  {
   "cell_type": "code",
   "execution_count": null,
   "id": "d0b78adf",
   "metadata": {
    "ExecuteTime": {
     "end_time": "2023-06-23T11:19:25.709107Z",
     "start_time": "2023-06-23T11:19:25.704079Z"
    }
   },
   "outputs": [],
   "source": [
    "# Calculate enthalpy\n",
    "association_enthalpy = 142 # +- 24 kcal/mol of dimer\n",
    "df_sim[\"Rate μcal/sec\"] = (-df_sim[\"Disassociation\"])*association_enthalpy*1/5*1/1000*60\n"
   ]
  },
  {
   "cell_type": "code",
   "execution_count": null,
   "id": "1a8fd709",
   "metadata": {
    "ExecuteTime": {
     "end_time": "2023-06-23T11:19:25.951191Z",
     "start_time": "2023-06-23T11:19:25.710777Z"
    }
   },
   "outputs": [],
   "source": [
    "rows = 1\n",
    "cols =1\n",
    "\n",
    "f,axarr = plt.subplots(rows,cols)\n",
    "f.set_size_inches(w=mpl_width*cols, h=mpl_height*rows)\n",
    "\n",
    "axarr.plot(df_sim.index/60,df_sim[\"Rate μcal/sec\"])\n",
    "\n",
    "axarr.set_xlabel(f'Time (min)',fontsize = mpl_xlabel_fontsize)\n",
    "axarr.set_ylabel(f'{mu}cal/sec',fontsize = mpl_ylabel_fontsize)\n",
    "\n",
    "f.tight_layout()\n",
    "f.savefig(os.path.join(fig_dir,\"ITC_mod_heat_vs_time.pdf\"),dpi= mpl_dpi)"
   ]
  },
  {
   "cell_type": "markdown",
   "id": "95ebd6ab",
   "metadata": {},
   "source": [
    "#### Heat AUC vs protein (figure 3d)"
   ]
  },
  {
   "cell_type": "code",
   "execution_count": null,
   "id": "bf10e7d3",
   "metadata": {
    "ExecuteTime": {
     "end_time": "2023-06-23T11:19:25.967822Z",
     "start_time": "2023-06-23T11:19:25.952943Z"
    }
   },
   "outputs": [],
   "source": [
    "# Calculate AUC for each injection\n",
    "points_per_inject = int(mod_ITC_Prx_dec_onestep.injection_interval)\n",
    "num_injections = math.floor(df_sim.index[-1]/points_per_inject)\n",
    "\n",
    "conversion_factor =1/(mod_ITC_Prx_dec_onestep.injection_volume*10**(-6)\\\n",
    "                    *(mod_ITC_Prx_dec_onestep.injection_decamer*10\\\n",
    "                    +mod_ITC_Prx_dec_onestep.injection_dimer*2) \\\n",
    "                    *1000)\n",
    "\n",
    "heat_AUC_prot = np.zeros((num_injections,2))\n",
    "start =0\n",
    "for i in range(num_injections):\n",
    "    x = df_sim.loc[start][\"dimers\"]*2 + df_sim.loc[start][\"decamers\"]*10\n",
    "    \n",
    "    x_range = data[start:start+points_per_inject,0]\n",
    "    y = auc(x_range,df_sim[\"Rate μcal/sec\"][start:start+points_per_inject])*conversion_factor\n",
    "    \n",
    "    heat_AUC_prot[i,0] = x\n",
    "    heat_AUC_prot[i,1] = y\n",
    "\n",
    "    start += points_per_inject"
   ]
  },
  {
   "cell_type": "code",
   "execution_count": null,
   "id": "d9202e6d",
   "metadata": {
    "ExecuteTime": {
     "end_time": "2023-06-23T11:19:26.227454Z",
     "start_time": "2023-06-23T11:19:25.969330Z"
    }
   },
   "outputs": [],
   "source": [
    "rows = 1\n",
    "cols = 1\n",
    "\n",
    "f,axarr = plt.subplots(rows,cols)\n",
    "f.set_size_inches(w=mpl_width*cols, h=mpl_height*rows)\n",
    "\n",
    "axarr.plot(heat_AUC_prot[:,0],heat_AUC_prot[:,1],\"o\")\n",
    "\n",
    "axarr.set_xlabel(f'Prx ({mu}M of monomer)',fontsize = mpl_xlabel_fontsize)\n",
    "axarr.set_ylabel(f'kcal/mol of injectant',fontsize = mpl_ylabel_fontsize)\n",
    "# axarr.set_title(\"Barranco-Medina Fig 1a bottom\")\n",
    "\n",
    "f.tight_layout()\n",
    "f.savefig(os.path.join(fig_dir,\"ITC_mod_heatAUC_vs_Prx.pdf\"),dpi= mpl_dpi)"
   ]
  },
  {
   "cell_type": "markdown",
   "id": "e63fed8f",
   "metadata": {},
   "source": [
    "### Baseline - Interpolated "
   ]
  },
  {
   "cell_type": "code",
   "execution_count": null,
   "id": "613d35c8",
   "metadata": {
    "ExecuteTime": {
     "end_time": "2023-06-23T11:19:26.430056Z",
     "start_time": "2023-06-23T11:19:26.229819Z"
    }
   },
   "outputs": [],
   "source": [
    "# Baseline correction function\n",
    "num_disso_injections = math.floor(df_sim[\"Rate μcal/sec\"].index[-1]/mod_ITC_Prx_dec_onestep.injection_interval)\n",
    "\n",
    "start = 1\n",
    "end = mod_ITC_Prx_dec_onestep.injection_interval\n",
    "\n",
    "df_temp = pd.DataFrame(df_sim[\"Rate μcal/sec\"].loc[start: end])\n",
    "\n",
    "next_baseline = df_temp[-10:-5]\n",
    "\n",
    "x2 = next_baseline.index.values.mean()\n",
    "y2 = next_baseline[\"Rate μcal/sec\"].mean()\n",
    "\n",
    "x1 = 0.0\n",
    "y1 = next_baseline[\"Rate μcal/sec\"].mean()\n",
    "\n",
    "baseline_interp = interp1d([x1,x2], [y1,y2],fill_value=\"extrapolate\")(df_temp.index)\n",
    "plt.plot(df_temp.index,baseline_interp)\n",
    "\n",
    "current_baseline = next_baseline\n",
    "\n",
    "df_temp[\"Rate μcal/sec\"] = df_temp[\"Rate μcal/sec\"] - baseline_interp\n",
    "\n",
    "df_sim_baseline = pd.DataFrame(df_temp)\n",
    "\n",
    "count = 1\n",
    "while count < num_disso_injections:\n",
    "    start = count*mod_ITC_Prx_dec_onestep.injection_interval+1\n",
    "    end = count*mod_ITC_Prx_dec_onestep.injection_interval + mod_ITC_Prx_dec_onestep.injection_interval\n",
    "\n",
    "    df_temp = pd.DataFrame(df_sim[\"Rate μcal/sec\"].loc[start: end])\n",
    "\n",
    "    next_baseline = df_temp[-10:-5]\n",
    "\n",
    "    x2 = next_baseline.index.values.mean()\n",
    "    y2 = next_baseline[\"Rate μcal/sec\"].mean()\n",
    "\n",
    "    x1 = current_baseline.index.values.mean()\n",
    "    y1 = current_baseline[\"Rate μcal/sec\"].mean()\n",
    "\n",
    "    baseline_interp = interp1d([x1,x2], [y1,y2],fill_value=\"extrapolate\")(df_temp.index)\n",
    "\n",
    "    df_temp[\"Rate μcal/sec\"] = df_temp[\"Rate μcal/sec\"] - baseline_interp\n",
    "    plt.plot(df_temp.index,baseline_interp)\n",
    "\n",
    "    current_baseline = next_baseline\n",
    "\n",
    "    df_sim_baseline = pd.concat([df_sim_baseline,df_temp])\n",
    "    \n",
    "    count += 1\n",
    "\n",
    "df_sim[\"Rate μcal/sec baseline\"] = df_sim_baseline[\"Rate μcal/sec\"]"
   ]
  },
  {
   "cell_type": "markdown",
   "id": "6cddcf03",
   "metadata": {},
   "source": [
    "#### Heat generation vs time (figure 3e)"
   ]
  },
  {
   "cell_type": "code",
   "execution_count": null,
   "id": "c0865d34",
   "metadata": {
    "ExecuteTime": {
     "end_time": "2023-06-23T11:19:26.656370Z",
     "start_time": "2023-06-23T11:19:26.432877Z"
    }
   },
   "outputs": [],
   "source": [
    "rows = 1\n",
    "cols =1\n",
    "\n",
    "f,axarr = plt.subplots(rows,cols)\n",
    "f.set_size_inches(w=mpl_width*cols, h=mpl_height*rows)\n",
    "\n",
    "axarr.plot(df_sim.index/60,df_sim[\"Rate μcal/sec baseline\"],label = \"Baseline corrected data\")\n",
    "axarr.plot(df_sim.index/60,df_sim[\"Rate μcal/sec\"],'k--',label = \"Non-corrected data\")\n",
    "\n",
    "axarr.set_xlabel(f'Time (min)',fontsize = mpl_xlabel_fontsize)\n",
    "axarr.set_ylabel(f'{mu}cal/sec',fontsize = mpl_ylabel_fontsize)\n",
    "axarr.set_title(\"Barranco-Medina Fig 1a top\")\n",
    "f.tight_layout()\n",
    "f.legend(bbox_to_anchor=(1.5,0.9))"
   ]
  },
  {
   "cell_type": "code",
   "execution_count": null,
   "id": "d2afbd92",
   "metadata": {
    "ExecuteTime": {
     "end_time": "2023-06-23T11:19:26.839382Z",
     "start_time": "2023-06-23T11:19:26.657867Z"
    }
   },
   "outputs": [],
   "source": [
    "rows = 1\n",
    "cols =1\n",
    "\n",
    "f,axarr = plt.subplots(rows,cols)\n",
    "f.set_size_inches(w=mpl_width*cols, h=mpl_height*rows)\n",
    "\n",
    "axarr.plot(df_sim.index/60,df_sim[\"Rate μcal/sec baseline\"],label = \"Baseline corrected data\")\n",
    "\n",
    "axarr.set_xlabel(f'Time (min)',fontsize = mpl_xlabel_fontsize)\n",
    "axarr.set_ylabel(f'{mu}cal/sec',fontsize = mpl_ylabel_fontsize)\n",
    "# axarr.set_title(\"Barranco-Medina Fig 1a top\")\n",
    "\n",
    "f.tight_layout()\n",
    "f.savefig(os.path.join(fig_dir,\"ITC_mod_baseline_corr_heat_vs_time.pdf\"),dpi= mpl_dpi)"
   ]
  },
  {
   "cell_type": "markdown",
   "id": "f36cf5dc",
   "metadata": {},
   "source": [
    "#### Heat AUC vs protein (figure 3f)"
   ]
  },
  {
   "cell_type": "code",
   "execution_count": null,
   "id": "179f2c13",
   "metadata": {
    "ExecuteTime": {
     "end_time": "2023-06-23T11:19:26.856428Z",
     "start_time": "2023-06-23T11:19:26.840817Z"
    }
   },
   "outputs": [],
   "source": [
    "# Calculate AUC for each injection\n",
    "points_per_inject = int(mod_ITC_Prx_dec_onestep.injection_interval)\n",
    "num_injections = math.floor(df_sim.index[-1]/points_per_inject)\n",
    "\n",
    "conversion_factor =1/(mod_ITC_Prx_dec_onestep.injection_volume*10**(-6)\\\n",
    "                    *(mod_ITC_Prx_dec_onestep.injection_decamer*10\\\n",
    "                    +mod_ITC_Prx_dec_onestep.injection_dimer*2) \\\n",
    "                    *1000)\n",
    "\n",
    "heat_AUC_prot = np.zeros((num_injections,2))\n",
    "start =0\n",
    "for i in range(num_injections):\n",
    "    x = df_sim.loc[start][\"dimers\"]*2 + df_sim.loc[start][\"decamers\"]*10\n",
    "    \n",
    "    x_range = data[start:start+points_per_inject,0]\n",
    "    y = auc(x_range,df_sim[\"Rate μcal/sec baseline\"][start:start+points_per_inject])*conversion_factor\n",
    "    \n",
    "    heat_AUC_prot[i,0] = x\n",
    "    heat_AUC_prot[i,1] = y\n",
    "\n",
    "    start += points_per_inject"
   ]
  },
  {
   "cell_type": "code",
   "execution_count": null,
   "id": "94e25f49",
   "metadata": {
    "ExecuteTime": {
     "end_time": "2023-06-23T11:19:27.107546Z",
     "start_time": "2023-06-23T11:19:26.859422Z"
    }
   },
   "outputs": [],
   "source": [
    "rows = 1\n",
    "cols = 1\n",
    "\n",
    "f,axarr = plt.subplots(rows,cols)\n",
    "f.set_size_inches(w=mpl_width*cols, h=mpl_height*rows)\n",
    "\n",
    "axarr.plot(heat_AUC_prot[:,0],heat_AUC_prot[:,1],\"o\")\n",
    "\n",
    "axarr.set_xlabel(f'Prx ({mu}M of monomer)',fontsize = mpl_xlabel_fontsize)\n",
    "axarr.set_ylabel(f'kcal/mol of injectant',fontsize = mpl_ylabel_fontsize)\n",
    "# axarr.set_title(\"Barranco-Medina Fig 1a bottom\")\n",
    "\n",
    "f.tight_layout()\n",
    "f.savefig(os.path.join(fig_dir,\"ITC_mod_baseline_corr_heatAUC_vs_Prx.pdf\"),dpi= mpl_dpi)"
   ]
  },
  {
   "cell_type": "code",
   "execution_count": null,
   "id": "43263ad6",
   "metadata": {},
   "outputs": [],
   "source": []
  }
 ],
 "metadata": {
  "kernelspec": {
   "display_name": "Python 3 (ipykernel)",
   "language": "python",
   "name": "python3"
  },
  "language_info": {
   "codemirror_mode": {
    "name": "ipython",
    "version": 3
   },
   "file_extension": ".py",
   "mimetype": "text/x-python",
   "name": "python",
   "nbconvert_exporter": "python",
   "pygments_lexer": "ipython3",
   "version": "3.10.11"
  },
  "toc": {
   "base_numbering": 1,
   "nav_menu": {},
   "number_sections": true,
   "sideBar": true,
   "skip_h1_title": false,
   "title_cell": "Table of Contents",
   "title_sidebar": "Contents",
   "toc_cell": false,
   "toc_position": {
    "height": "calc(100% - 180px)",
    "left": "10px",
    "top": "150px",
    "width": "331.2px"
   },
   "toc_section_display": true,
   "toc_window_display": true
  }
 },
 "nbformat": 4,
 "nbformat_minor": 5
}
