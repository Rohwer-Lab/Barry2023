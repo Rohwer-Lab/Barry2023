{
 "cells": [
  {
   "cell_type": "markdown",
   "id": "821a7d55",
   "metadata": {},
   "source": [
    "# Model writer"
   ]
  },
  {
   "cell_type": "markdown",
   "id": "9b47f98a",
   "metadata": {},
   "source": [
    "This notebook performs analyses described in the "
   ]
  },
  {
   "cell_type": "markdown",
   "id": "4dbbb5f2",
   "metadata": {},
   "source": [
    "**Manuscript:**\n",
    "\n",
    "Modelling the decamerisation cycle of PRDX1 and the inhibition-like effect on its peroxidase activity"
   ]
  },
  {
   "cell_type": "markdown",
   "id": "696fe7f8",
   "metadata": {},
   "source": [
    "**Authors:**\n",
    "\n",
    "C. Barry, C. Pillay, J. Rohwer"
   ]
  },
  {
   "cell_type": "markdown",
   "id": "c64c7ff9",
   "metadata": {},
   "source": [
    "**Purpose:**\n",
    "\n",
    "- Writes: Prx dimer-decamer equilibrium model (`Prx_dim-dec.psc`)  \n",
    "- Writes: ITC Prx dimer-decamer equilibrium model (`ITC_Prx_dim-dec.psc`).\n",
    "- Writes: RBC PRDX2 Model A with decamerisation (`RBC_PRDX2_modelA_decfull.psc`).\n",
    "- Writes: Prx dimer-decamer dilution model (`Prx_dim-dec_dil.psc`).\n",
    "- Writes: HRP PRDX2 model (`HRP_PRDX2.psc`)\n",
    "- Writes: HRP PRDX2 with decamerisation model (`HRP_PRDX2_decfull.psc`).\n",
    "- Writes: PRDX2 cycle model (`PRDX2_sys.psc`)\n",
    "- Writes: PRDX2 cycle with decamerisation model (`PRDX2_sys_decfull.psc`).\n"
   ]
  },
  {
   "cell_type": "markdown",
   "id": "5f5063ec",
   "metadata": {},
   "source": [
    "**Requirements:**\n",
    "\n",
    "Python libraries (see **Imports** below)\n",
    "\n",
    "Prx parameters (filename:`fitted_koff_kon_PRDX1_params.csv`)\n",
    "\n",
    "Prx decamer reactions (filename: `Prx decamer reactions - no hyperoxidation.txt`)"
   ]
  },
  {
   "cell_type": "markdown",
   "id": "d825fc05",
   "metadata": {},
   "source": [
    "##### Imports"
   ]
  },
  {
   "cell_type": "code",
   "execution_count": null,
   "id": "9e1977ca",
   "metadata": {
    "ExecuteTime": {
     "end_time": "2023-06-23T06:37:03.144847Z",
     "start_time": "2023-06-23T06:37:01.082545Z"
    }
   },
   "outputs": [],
   "source": [
    "import os\n",
    "\n",
    "import pysces"
   ]
  },
  {
   "cell_type": "markdown",
   "id": "3642952e",
   "metadata": {},
   "source": [
    "###### get directory paths"
   ]
  },
  {
   "cell_type": "code",
   "execution_count": null,
   "id": "7d47b1a9",
   "metadata": {
    "ExecuteTime": {
     "end_time": "2023-06-23T06:37:03.157278Z",
     "start_time": "2023-06-23T06:37:03.151693Z"
    }
   },
   "outputs": [],
   "source": [
    "prev_dir = os.path.split(os.getcwd())[0]\n",
    "\n",
    "mod_dir = os.path.join(prev_dir,\"models\")\n",
    "if not os.path.isdir(prev_dir): os.mkdir(mod_dir) # ensure mod_dir exists\n"
   ]
  },
  {
   "cell_type": "markdown",
   "id": "25efc1ce",
   "metadata": {},
   "source": [
    "## Write models"
   ]
  },
  {
   "cell_type": "markdown",
   "id": "bccb8d86",
   "metadata": {},
   "source": [
    "### Basic dimer-decamer equilibrium "
   ]
  },
  {
   "cell_type": "markdown",
   "id": "d986b03c",
   "metadata": {},
   "source": [
    "#### Prx_dim-dec_equi"
   ]
  },
  {
   "cell_type": "code",
   "execution_count": null,
   "id": "ee2930ef",
   "metadata": {
    "ExecuteTime": {
     "end_time": "2023-06-23T06:37:03.170496Z",
     "start_time": "2023-06-23T06:37:03.160201Z"
    }
   },
   "outputs": [],
   "source": [
    "# Define model as a string for writing to .psc file\n",
    "Prx_dim_dec = \"\"\"\n",
    "\n",
    "disso:\n",
    "    decamers = {5}dimers \n",
    "    decamers*koff - dimers**exponent*kon\n",
    "\n",
    "Prx_total_dimers = 10\n",
    "dimers = 10\n",
    "decamers = 0\n",
    "\n",
    "koff = 1\n",
    "kon = 1\n",
    "Kd_app = 1.1\n",
    "\n",
    "exponent = 5\n",
    "\"\"\""
   ]
  },
  {
   "cell_type": "code",
   "execution_count": null,
   "id": "49e51d17",
   "metadata": {
    "ExecuteTime": {
     "end_time": "2023-06-23T06:37:03.180183Z",
     "start_time": "2023-06-23T06:37:03.175042Z"
    }
   },
   "outputs": [],
   "source": [
    "# Write model .psc file\n",
    "with open(os.path.join(mod_dir,\"Prx_dim-dec.psc\"), 'w') as f:\n",
    "    f.write(Prx_dim_dec)"
   ]
  },
  {
   "cell_type": "code",
   "execution_count": null,
   "id": "1ecd7ede",
   "metadata": {
    "ExecuteTime": {
     "end_time": "2023-06-23T06:37:03.270395Z",
     "start_time": "2023-06-23T06:37:03.185824Z"
    }
   },
   "outputs": [],
   "source": [
    "# Load and test model\n",
    "mod_Prx_dim_dec = pysces.model(\"Prx_dim-dec.psc\", dir=mod_dir)\n",
    "mod_Prx_dim_dec.koff = mod_Prx_dim_dec.Kd_app*mod_Prx_dim_dec.kon\n",
    "mod_Prx_dim_dec.doState()\n",
    "mod_Prx_dim_dec.showModel()"
   ]
  },
  {
   "cell_type": "markdown",
   "id": "b0c7d9bd",
   "metadata": {},
   "source": [
    "### ITC"
   ]
  },
  {
   "cell_type": "markdown",
   "id": "3c252eaf",
   "metadata": {},
   "source": [
    "#### ITC_Prx_dim-dec.psc"
   ]
  },
  {
   "cell_type": "code",
   "execution_count": null,
   "id": "7d4f77ff",
   "metadata": {
    "ExecuteTime": {
     "end_time": "2023-06-23T06:37:03.281159Z",
     "start_time": "2023-06-23T06:37:03.273861Z"
    }
   },
   "outputs": [],
   "source": [
    "# Define model as a string for writing to .psc file\n",
    "ITC_Prx_dim_dec = \"\"\"\n",
    "# GlobalUnitDefinitions\n",
    "UnitVolume: litre, 1.0, -6, 1\n",
    "# UnitLength: metre, 1.0, 0, 1\n",
    "UnitSubstance: mole, 1.0, -6, 1\n",
    "# UnitArea: metre, 1.0, 0, 2\n",
    "UnitTime: second, 1, 0, 1\n",
    "\n",
    "# Compartments\n",
    "Compartment: cell_volume, 1400, 3\n",
    "    \n",
    "Disassociation@cell_volume:\n",
    "    decamers = {5}dimers\n",
    "    koff*decamers - kon*dimers**exponent\n",
    "\n",
    "# Initial species\n",
    "dimers@cell_volume  = 0\n",
    "decamers@cell_volume  = 0\n",
    "\n",
    "# Parameters\n",
    "kon = 1\n",
    "koff = 1\n",
    "exponent = 130\n",
    "Kd_app = 1 # Not needed for sims\n",
    "\n",
    "# Injection parameters\n",
    "injection_volume = 1.6\n",
    "injection_dimer = 0.8\n",
    "injection_decamer = 6.84\n",
    "injection_interval = 180\n",
    "first_inject_ratio = 1\n",
    "\n",
    "Event: first_injection_prot, _TIME_ > 0.0,0 {\n",
    "dimers = (dimers*cell_volume + first_inject_ratio*injection_dimer*injection_volume + first_inject_ratio*injection_decamer*injection_volume*5)/(cell_volume+injection_volume)\n",
    "}\n",
    "\n",
    "Event: first_injection_vol, _TIME_ > 0.0,0 {\n",
    "cell_volume = cell_volume + injection_volume\n",
    "}\n",
    "\n",
    "Event: injection_prot, cos((_TIME_-1)*2*pi/injection_interval) > 0.99999999999,0 {\n",
    "decamers = (decamers*cell_volume + injection_decamer*injection_volume)/(cell_volume+injection_volume)\n",
    "dimers = (dimers*cell_volume + injection_dimer*injection_volume)/(cell_volume+injection_volume)\n",
    "}\n",
    "\n",
    "Event: injection_vol, cos((_TIME_-1)*2*pi/injection_interval) > 0.99999999999,0 {\n",
    "cell_volume = cell_volume + injection_volume \n",
    "}\n",
    "    \n",
    "\"\"\""
   ]
  },
  {
   "cell_type": "code",
   "execution_count": null,
   "id": "e3368a56",
   "metadata": {
    "ExecuteTime": {
     "end_time": "2023-06-23T06:37:03.292796Z",
     "start_time": "2023-06-23T06:37:03.284216Z"
    }
   },
   "outputs": [],
   "source": [
    "# Write .psc file\n",
    "with open(os.path.join(mod_dir,\"ITC_Prx_dim-dec.psc\"), 'w') as f:\n",
    "    f.write(ITC_Prx_dim_dec)"
   ]
  },
  {
   "cell_type": "code",
   "execution_count": null,
   "id": "f1e718ba",
   "metadata": {
    "ExecuteTime": {
     "end_time": "2023-06-23T06:37:03.366489Z",
     "start_time": "2023-06-23T06:37:03.297912Z"
    }
   },
   "outputs": [],
   "source": [
    "# Load and test model\n",
    "mod_ITC_Prx_dec = pysces.model(\"ITC_Prx_dim-dec.psc\", dir=mod_dir)\n",
    "mod_ITC_Prx_dec.mode_integrate_all_odes = True\n",
    "mod_ITC_Prx_dec.SetQuiet()\n",
    "mod_ITC_Prx_dec.showModel()"
   ]
  },
  {
   "cell_type": "markdown",
   "id": "b3e6c280",
   "metadata": {},
   "source": [
    "### RBC PRDX2"
   ]
  },
  {
   "cell_type": "markdown",
   "id": "3c491704",
   "metadata": {},
   "source": [
    "#### RBC_PRDX2_modelA_decfull.psc"
   ]
  },
  {
   "cell_type": "code",
   "execution_count": null,
   "id": "5e97ff1c",
   "metadata": {
    "ExecuteTime": {
     "end_time": "2023-06-23T06:37:03.375181Z",
     "start_time": "2023-06-23T06:37:03.371734Z"
    }
   },
   "outputs": [],
   "source": [
    "# Assign file names\n",
    "RBC_PRDX2_modA_name_orig = \"RBC_PRDX2_modelA\"\n",
    "dec_rxns_no_hyp = \"Prx decamer reactions - no hyperoxidation\"\n",
    "RBC_PRDX2_modA_name_new = \"RBC_PRDX2_modelA_decfull\""
   ]
  },
  {
   "cell_type": "code",
   "execution_count": null,
   "id": "14647c10",
   "metadata": {
    "ExecuteTime": {
     "end_time": "2023-06-23T06:37:03.430055Z",
     "start_time": "2023-06-23T06:37:03.382251Z"
    }
   },
   "outputs": [],
   "source": [
    "# Write model .psc file\n",
    "written_species = list()\n",
    "written_parameters = list()\n",
    "\n",
    "omf =  open(os.path.join(mod_dir,f\"{RBC_PRDX2_modA_name_orig}.psc\"), \"r\")\n",
    "omf_line = next(omf)\n",
    "drf = open(os.path.join(mod_dir,f\"{dec_rxns_no_hyp}.txt\"), \"r\")\n",
    "drf_line = next(drf)\n",
    "drf_line = next(drf)\n",
    "\n",
    "with open(f\"{mod_dir}/{RBC_PRDX2_modA_name_new}.psc\", \"w\") as outf:\n",
    "    \n",
    "    # Script switches for section ends\n",
    "    orig_reactions_complete = False\n",
    "    dec_reactions_complete = False\n",
    "    orig_parameters_complete = False\n",
    "    dec_parameters_complete = False\n",
    "    orig_species_complete = False\n",
    "    dec_species_complete = False\n",
    "    orig_references_complete = False\n",
    "    \n",
    "    # Write dimer reactions\n",
    "    while orig_reactions_complete == False:\n",
    "        print(f\"Write dimer reactions\")\n",
    "        if omf_line[0:14] == \"### Parameters\":\n",
    "            orig_reactions_complete = True\n",
    "            outf.write(\"## Decamer reactions\\n\")\n",
    "            omf_line = next(omf)\n",
    "        elif omf_line[0] == \"#\":\n",
    "            omf_line = next(omf)\n",
    "        else:\n",
    "            outf.write(omf_line)\n",
    "            omf_line = next(omf)\n",
    "            \n",
    "    # Write decamer reactions  \n",
    "    while orig_reactions_complete == True and dec_reactions_complete == False:\n",
    "        print(f\"Write decamer reactions\")\n",
    "        if drf_line[0:14] == \"### Parameters\":\n",
    "            dec_reactions_complete = True\n",
    "            outf.write(\"### Parameters\\n\")\n",
    "            outf.write(\"## Dimer parameters\\n\")\n",
    "            drf_line = next(drf)\n",
    "        else:\n",
    "            outf.write(drf_line)\n",
    "            drf_line = next(drf)\n",
    "            \n",
    "    # Write dimer parameters\n",
    "    while dec_reactions_complete == True and orig_parameters_complete == False:\n",
    "        print(f\"Write dimer parameters\")\n",
    "        split_line = omf_line.split()\n",
    "        if omf_line[0:11] == \"### Species\":\n",
    "            orig_parameters_complete = True\n",
    "            outf.write(\"## Decamer parameters\\n\")\n",
    "            omf_line = next(omf)\n",
    "        else:\n",
    "            outf.write(omf_line)\n",
    "            omf_line = next(omf)\n",
    "            if len(split_line) > 0:\n",
    "                written_parameters.append(split_line[0])\n",
    "\n",
    "    # Write decamer parameters       \n",
    "    while orig_parameters_complete == True and dec_parameters_complete == False:\n",
    "        print(f\"Write decamer parameters\")\n",
    "        split_line = drf_line.split()\n",
    "        if drf_line[0:11] == \"### Species\":\n",
    "            dec_parameters_complete = True\n",
    "            outf.write(\"### Species\\n\")\n",
    "            outf.write(\"## Dimer Species\\n\")\n",
    "            drf_line = next(drf)\n",
    "        elif len(split_line) > 0 and split_line[0] != \"#\":\n",
    "            # Nest like this so the code won't break when split_line is empty\n",
    "            if split_line[0] not in written_parameters: \n",
    "                written_parameters.append(split_line[0])\n",
    "                outf.write(drf_line)\n",
    "                drf_line = next(drf)\n",
    "            else:\n",
    "                drf_line = next(drf)\n",
    "        else:\n",
    "            outf.write(drf_line)\n",
    "            drf_line = next(drf)\n",
    "            \n",
    "    # Write dimer species\n",
    "    while dec_parameters_complete == True and orig_species_complete == False:\n",
    "        print(f\"Write dimer species\")\n",
    "        split_line = omf_line.split()\n",
    "        if omf_line[0:14] == \"### References\":\n",
    "            orig_species_complete = True\n",
    "            outf.write(\"## Decamer Species\\n\")\n",
    "            omf_line = next(omf)\n",
    "        elif len(split_line) > 0 and split_line[0] != \"#\":\n",
    "            # Lines with # and ending in \":\" causes issues\n",
    "            written_species.append(split_line[0])\n",
    "            outf.write(f\"{split_line[0]} = {split_line[2]} \\n\")\n",
    "            omf_line = next(omf)\n",
    "        else:\n",
    "            outf.write(omf_line)\n",
    "            omf_line = next(omf)\n",
    "            \n",
    "    # Write decamer species\n",
    "    while orig_species_complete == True and dec_species_complete == False:\n",
    "        print(f\"Write decamer species\")\n",
    "        split_line = drf_line.split()\n",
    "        if drf_line[0:7] == \"### End\":\n",
    "            dec_species_complete = True\n",
    "            outf.write(\"### References\\n\")\n",
    "            drf_line = next(drf)\n",
    "        elif len(split_line) > 0:\n",
    "            if split_line[0] not in written_species:\n",
    "                written_species.append(split_line[0])\n",
    "                outf.write(f\"{split_line[0]}@Erythrocyte = {split_line[2]} \\n\")\n",
    "                drf_line = next(drf)\n",
    "            else:\n",
    "                outf.write(drf_line)\n",
    "                drf_line = next(drf)\n",
    "        else:\n",
    "            outf.write(drf_line)\n",
    "            drf_line = next(drf)\n",
    "\n",
    "    # Write the rest of orig file\n",
    "    while dec_species_complete == True and orig_references_complete == False:\n",
    "        print(f\"Write references\")\n",
    "        if omf_line[0:7] == \"### End\":\n",
    "            orig_references_complete = True\n",
    "            outf.write(\"### End\\n\")\n",
    "        else:\n",
    "            outf.write(omf_line)\n",
    "            omf_line = next(omf)\n",
    "drf.close()\n",
    "omf.close()"
   ]
  },
  {
   "cell_type": "code",
   "execution_count": null,
   "id": "0a74de9e",
   "metadata": {
    "ExecuteTime": {
     "end_time": "2023-06-23T06:37:06.614224Z",
     "start_time": "2023-06-23T06:37:03.437287Z"
    }
   },
   "outputs": [],
   "source": [
    "# Load and test model\n",
    "mod_A_dec_nohyp = pysces.model(\"RBC_PRDX2_modelA_decfull\",dir = mod_dir)\n",
    "mod_A_dec_nohyp.showModel()"
   ]
  },
  {
   "cell_type": "markdown",
   "id": "639dd337",
   "metadata": {},
   "source": [
    "### Dilution assay"
   ]
  },
  {
   "cell_type": "markdown",
   "id": "a1c405b5",
   "metadata": {},
   "source": [
    "#### Prx_dim-dec_dil.psc"
   ]
  },
  {
   "cell_type": "code",
   "execution_count": null,
   "id": "a38ad818",
   "metadata": {
    "ExecuteTime": {
     "end_time": "2023-06-23T06:37:06.618285Z",
     "start_time": "2023-06-23T06:37:06.615627Z"
    }
   },
   "outputs": [],
   "source": [
    "# Define model as a string for writing to .psc file\n",
    "Prx_dim_dec_dil = \"\"\"\n",
    "# GlobalUnitDefinitions\n",
    "UnitVolume: litre, 1.0, -6, 1\n",
    "# UnitLength: metre, 1.0, 0, 1\n",
    "UnitSubstance: mole, 1.0, -6, 1\n",
    "# UnitArea: metre, 1.0, 0, 2\n",
    "UnitTime: second, 1, 0, 1\n",
    "\n",
    "\n",
    "# Reactions\n",
    "Decamer_disassociation:\n",
    "    SH_SH__SH_SH__SH_SH__SH_SH__SH_SH = {5}SH_SH\n",
    "    k_Prx_dec_disasso*SH_SH__SH_SH__SH_SH__SH_SH__SH_SH- k_Prx_asso*((SH_SH))**exponent\n",
    "\n",
    "# Species\n",
    "SH_SH__SH_SH__SH_SH__SH_SH__SH_SH = 0\n",
    "SH_SH = 0\n",
    "\n",
    "# Parameters\n",
    "k_Prx_dec_disasso = 0\n",
    "k_Prx_asso = 0\n",
    "exponent = 5\n",
    "\n",
    "# Dilution parameters\n",
    "dilution_factor = 1\n",
    "\n",
    "\"\"\""
   ]
  },
  {
   "cell_type": "code",
   "execution_count": null,
   "id": "d181c73b",
   "metadata": {
    "ExecuteTime": {
     "end_time": "2023-06-23T06:37:06.624559Z",
     "start_time": "2023-06-23T06:37:06.620795Z"
    }
   },
   "outputs": [],
   "source": [
    "# Write model .psc file\n",
    "with open(os.path.join(mod_dir,\"Prx_dim-dec_dil.psc\"), 'w') as f:\n",
    "    f.write(Prx_dim_dec_dil)"
   ]
  },
  {
   "cell_type": "code",
   "execution_count": null,
   "id": "01aa5c0a",
   "metadata": {
    "ExecuteTime": {
     "end_time": "2023-06-23T06:37:06.670334Z",
     "start_time": "2023-06-23T06:37:06.627166Z"
    }
   },
   "outputs": [],
   "source": [
    "# Load and test model\n",
    "mod_Prx_dil_v2 = pysces.model(\"Prx_dim-dec_dil.psc\", dir=mod_dir)\n",
    "mod_Prx_dil_v2.mode_integrator = 'CVODE'\n",
    "mod_Prx_dil_v2.showModel()"
   ]
  },
  {
   "cell_type": "markdown",
   "id": "fa5943e1",
   "metadata": {},
   "source": [
    "### HRP assay"
   ]
  },
  {
   "cell_type": "markdown",
   "id": "dd47c659",
   "metadata": {},
   "source": [
    "#### HRP_PRDX2.psc"
   ]
  },
  {
   "cell_type": "code",
   "execution_count": null,
   "id": "cb408414",
   "metadata": {
    "ExecuteTime": {
     "end_time": "2023-06-23T06:37:06.675966Z",
     "start_time": "2023-06-23T06:37:06.672306Z"
    }
   },
   "outputs": [],
   "source": [
    "# Define model as a string for writing to .psc file\n",
    "HRP_PRDX2 = \"\"\"\n",
    "### Reactions (Flag for scripting)\n",
    "HRP_ox:\n",
    "    HRP + H2O2 > compound_I\n",
    "    k_HRP*HRP*H2O2\n",
    "\n",
    "# Oxidation reactions\n",
    "Prx_R_R_ox:\n",
    "    SH_SH + H2O2 > SH_SOH\n",
    "    2*kprx*SH_SH*H2O2\n",
    "\n",
    "Prx_R_S_ox:\n",
    "    SH_SS + H2O2 > SOH_SS\n",
    "    kprx*SH_SS*H2O2\n",
    "\n",
    "Prx_R_O_ox:\n",
    "    SH_SOH + H2O2 > SOH_SOH\n",
    "    kprx*SH_SOH*H2O2\n",
    "\n",
    "Prx_R_O2_ox:\n",
    "    SH_SO2H + H2O2 > SOH_SO2H\n",
    "    kprx*SH_SO2H*H2O2\n",
    "\n",
    "# Over-oxidation reactions\n",
    "Prx_O_O_oox:\n",
    "    SOH_SOH + H2O2 > SOH_SO2H\n",
    "    2*ksulf*SOH_SOH*H2O2\n",
    "\n",
    "Prx_O_S_oox:\n",
    "    SOH_SS + H2O2 > SS_SO2H\n",
    "    ksulf*SOH_SS*H2O2\n",
    "\n",
    "Prx_R_O_oox:\n",
    "    SH_SOH + H2O2 > SH_SO2H\n",
    "    ksulf*SH_SOH*H2O2\n",
    "\n",
    "Prx_O_O2_oox:\n",
    "    SOH_SO2H + H2O2 > SO2H_SO2H\n",
    "    ksulf*SOH_SO2H*H2O2\n",
    "\n",
    "# Disulphide bridge formation\n",
    "Prx_R_O_disulf_form:\n",
    "    SH_SOH > SH_SS\n",
    "    kcond*SH_SOH\n",
    "\n",
    "Prx_O_O_disulf_form:\n",
    "    SOH_SOH > SOH_SS\n",
    "    2*kcond*SOH_SOH\n",
    "\n",
    "Prx_O_S_disulf_form:\n",
    "    SOH_SS > SS_SS\n",
    "    kcond*SOH_SS\n",
    "\n",
    "Prx_O_O2_disulf_form:\n",
    "    SOH_SO2H > SS_SO2H\n",
    "    kcond*SOH_SO2H\n",
    "\n",
    "H2O2_production:\n",
    "    $pool > H2O2\n",
    "    0.0\n",
    "\n",
    "### Parameters (Flag for scripting)\n",
    "kprx = 100.00 # μM/s\n",
    "ksulf = 0.012 \n",
    "kcond = 1.7\n",
    "kred  = 0.21\n",
    "\n",
    "k_HRP = 11.00 # μM/s\n",
    "\n",
    "### Species (Flag for scripting)\n",
    "HRP = 10.0 # μM\n",
    "compound_I = 0 # μM\n",
    "\n",
    "H2O2 = 4.0 # μM\n",
    "\n",
    "SH_SH = 10.0\n",
    "SH_SOH = 0.0\n",
    "SH_SS = 0.0\n",
    "SH_SO2H = 0.0\n",
    "SOH_SOH = 0.0\n",
    "SOH_SS = 0.0\n",
    "SOH_SO2H = 0.0\n",
    "SS_SS = 0.0\n",
    "SS_SO2H = 0.0\n",
    "SO2H_SO2H = 0.0\n",
    "\n",
    "### References (Flag for scripting)\n",
    "\n",
    "### End (Flag for scripting)\n",
    "\"\"\""
   ]
  },
  {
   "cell_type": "code",
   "execution_count": null,
   "id": "4d8e8f07",
   "metadata": {
    "ExecuteTime": {
     "end_time": "2023-06-23T06:37:06.685109Z",
     "start_time": "2023-06-23T06:37:06.681200Z"
    }
   },
   "outputs": [],
   "source": [
    "# Write model .psc file\n",
    "with open(os.path.join(mod_dir,\"HRP_PRDX2.psc\"), 'w') as f:\n",
    "    f.write(HRP_PRDX2)"
   ]
  },
  {
   "cell_type": "code",
   "execution_count": null,
   "id": "b4dc074a",
   "metadata": {
    "ExecuteTime": {
     "end_time": "2023-06-23T06:37:06.749099Z",
     "start_time": "2023-06-23T06:37:06.687219Z"
    }
   },
   "outputs": [],
   "source": [
    "# Load and test model\n",
    "mod_HRP_Prx_no_dec = pysces.model(\"HRP_PRDX2.psc\", dir=mod_dir)\n",
    "mod_HRP_Prx_no_dec.mode_integrator = 'CVODE'\n",
    "\n",
    "mod_HRP_Prx_no_dec.showModel()"
   ]
  },
  {
   "cell_type": "markdown",
   "id": "6cbc57fe",
   "metadata": {},
   "source": [
    "#### HRP_PRDX2_decfull.psc"
   ]
  },
  {
   "cell_type": "code",
   "execution_count": null,
   "id": "40f6a295",
   "metadata": {
    "ExecuteTime": {
     "end_time": "2023-06-23T06:37:06.752718Z",
     "start_time": "2023-06-23T06:37:06.750423Z"
    }
   },
   "outputs": [],
   "source": [
    "# Assign file names\n",
    "HRP_mod_name_orig = \"HRP_PRDX2\"\n",
    "dec_rxns_no_hyp = \"Prx decamer reactions - no hyperoxidation\"\n",
    "HRP_mod_name_new = \"HRP_PRDX2_decfull\""
   ]
  },
  {
   "cell_type": "code",
   "execution_count": null,
   "id": "7444adaf",
   "metadata": {
    "ExecuteTime": {
     "end_time": "2023-06-23T06:37:06.777060Z",
     "start_time": "2023-06-23T06:37:06.756307Z"
    }
   },
   "outputs": [],
   "source": [
    "# Write model .psc file\n",
    "written_species = list()\n",
    "written_parameters = list()\n",
    "\n",
    "omf =  open(os.path.join(mod_dir,f\"{HRP_mod_name_orig}.psc\"), \"r\")\n",
    "omf_line = next(omf)\n",
    "drf = open(os.path.join(mod_dir,f\"{dec_rxns_no_hyp}.txt\"), \"r\")\n",
    "drf_line = next(drf)\n",
    "drf_line = next(drf)\n",
    "\n",
    "with open(os.path.join(mod_dir,f\"{HRP_mod_name_new }.psc\"), \"w\") as outf:\n",
    "    \n",
    "    # Script switches for section ends\n",
    "    orig_reactions_complete = False\n",
    "    dec_reactions_complete = False\n",
    "    orig_parameters_complete = False\n",
    "    dec_parameters_complete = False\n",
    "    orig_species_complete = False\n",
    "    dec_species_complete = False\n",
    "    orig_references_complete = False\n",
    "    \n",
    "    # Write dimer reactions\n",
    "    while orig_reactions_complete == False:\n",
    "        print(f\"Write dimer reactions\")\n",
    "        if omf_line[0:14] == \"### Parameters\":\n",
    "            orig_reactions_complete = True\n",
    "            outf.write(\"## Decamer reactions\\n\")\n",
    "            omf_line = next(omf)\n",
    "        elif omf_line[0] == \"#\":\n",
    "            omf_line = next(omf)\n",
    "        else:\n",
    "            outf.write(omf_line)\n",
    "            omf_line = next(omf)\n",
    "            \n",
    "    # Write decamer reactions  \n",
    "    while orig_reactions_complete == True and dec_reactions_complete == False:\n",
    "        print(f\"Write decamer reactions\")\n",
    "        if drf_line[0:14] == \"### Parameters\":\n",
    "            dec_reactions_complete = True\n",
    "            outf.write(\"### Parameters\\n\")\n",
    "            outf.write(\"## Dimer parameters\\n\")\n",
    "            drf_line = next(drf)\n",
    "        else:\n",
    "            outf.write(drf_line)\n",
    "            drf_line = next(drf)\n",
    "            \n",
    "    # Write dimer parameters\n",
    "    while dec_reactions_complete == True and orig_parameters_complete == False:\n",
    "        print(f\"Write dimer parameters\")\n",
    "        split_line = omf_line.split()\n",
    "        if omf_line[0:11] == \"### Species\":\n",
    "            orig_parameters_complete = True\n",
    "            outf.write(\"## Decamer parameters\\n\")\n",
    "            omf_line = next(omf)\n",
    "        else:\n",
    "            outf.write(omf_line)\n",
    "            omf_line = next(omf)\n",
    "            if len(split_line) > 0:\n",
    "                written_parameters.append(split_line[0])\n",
    "\n",
    "    # Write decamer parameters       \n",
    "    while orig_parameters_complete == True and dec_parameters_complete == False:\n",
    "        print(f\"Write decamer parameters\")\n",
    "        split_line = drf_line.split()\n",
    "        if drf_line[0:11] == \"### Species\":\n",
    "            dec_parameters_complete = True\n",
    "            outf.write(\"### Species\\n\")\n",
    "            outf.write(\"## Dimer Species\\n\")\n",
    "            drf_line = next(drf)\n",
    "        elif len(split_line) > 0 and split_line[0] != \"#\":\n",
    "            # Nest like this so the code won't break when split_line is empty\n",
    "            if split_line[0] not in written_parameters: \n",
    "                written_parameters.append(split_line[0])\n",
    "                outf.write(drf_line)\n",
    "                drf_line = next(drf)\n",
    "            else:\n",
    "                drf_line = next(drf)\n",
    "        else:\n",
    "            outf.write(drf_line)\n",
    "            drf_line = next(drf)\n",
    "            \n",
    "    # Write dimer species\n",
    "    while dec_parameters_complete == True and orig_species_complete == False:\n",
    "        print(f\"Write dimer species\")\n",
    "        split_line = omf_line.split()\n",
    "        if omf_line[0:14] == \"### References\":\n",
    "            orig_species_complete = True\n",
    "            outf.write(\"## Decamer Species\\n\")\n",
    "            omf_line = next(omf)\n",
    "        elif len(split_line) > 0 and split_line[0] != \"#\":\n",
    "            # Lines with # and ending in \":\" causes issues\n",
    "            written_species.append(split_line[0])\n",
    "            outf.write(f\"{split_line[0]} = {split_line[2]} \\n\")\n",
    "            omf_line = next(omf)\n",
    "        else:\n",
    "            outf.write(omf_line)\n",
    "            omf_line = next(omf)\n",
    "            \n",
    "    # Write decamer species\n",
    "    while orig_species_complete == True and dec_species_complete == False:\n",
    "        print(f\"Write decamer species\")\n",
    "        split_line = drf_line.split()\n",
    "        if drf_line[0:7] == \"### End\":\n",
    "            dec_species_complete = True\n",
    "            outf.write(\"### References\\n\")\n",
    "            drf_line = next(drf)\n",
    "        elif len(split_line) > 0:\n",
    "            if split_line[0] not in written_species:\n",
    "                written_species.append(split_line[0])\n",
    "                outf.write(f\"{split_line[0]} = {split_line[2]} \\n\")\n",
    "                drf_line = next(drf)\n",
    "            else:\n",
    "                outf.write(drf_line)\n",
    "                drf_line = next(drf)\n",
    "        else:\n",
    "            outf.write(drf_line)\n",
    "            drf_line = next(drf)\n",
    "\n",
    "    # Write the rest of orig file\n",
    "    while dec_species_complete == True and orig_references_complete == False:\n",
    "        print(f\"Write references\")\n",
    "        if omf_line[0:7] == \"### End\":\n",
    "            orig_references_complete = True\n",
    "            outf.write(\"### End\\n\")\n",
    "        else:\n",
    "            outf.write(omf_line)\n",
    "            omf_line = next(omf)\n",
    "drf.close()\n",
    "omf.close()"
   ]
  },
  {
   "cell_type": "code",
   "execution_count": null,
   "id": "c59fe72f",
   "metadata": {
    "ExecuteTime": {
     "end_time": "2023-06-23T06:37:08.418487Z",
     "start_time": "2023-06-23T06:37:06.779329Z"
    }
   },
   "outputs": [],
   "source": [
    "# Load and test model\n",
    "mod_HRP_Prx_with_dec = pysces.model(\"HRP_PRDX2_decfull.psc\", dir=mod_dir)\n",
    "mod_HRP_Prx_with_dec.mode_integrator = 'CVODE'\n",
    "mod_HRP_Prx_with_dec.showModel()"
   ]
  },
  {
   "cell_type": "markdown",
   "id": "35c679ba",
   "metadata": {},
   "source": [
    "### NADPH assay"
   ]
  },
  {
   "cell_type": "markdown",
   "id": "9896192f",
   "metadata": {},
   "source": [
    "#### PRDX2_sys.psc"
   ]
  },
  {
   "cell_type": "code",
   "execution_count": null,
   "id": "78a9a1f6",
   "metadata": {
    "ExecuteTime": {
     "end_time": "2023-06-23T06:37:08.424646Z",
     "start_time": "2023-06-23T06:37:08.419922Z"
    }
   },
   "outputs": [],
   "source": [
    "# Define model as a string for writing to .psc file\n",
    "PRDX2_sys = \"\"\"\n",
    "\n",
    "Function: MM_irr_2S, E, kcat, s1, km_s1, s2, km_s2 {\n",
    "(E*kcat)*(s1/(km_s1+s1))*(s2/(km_s2+s2))}\n",
    "\n",
    "### Reactions (Flag for scripting)\n",
    "\n",
    "# Oxidation reactions\n",
    "Prx_R_R_ox:\n",
    "    SH_SH + H2O2 > SH_SOH\n",
    "    2*kprx*SH_SH*H2O2\n",
    "\n",
    "Prx_R_S_ox:\n",
    "    SH_SS + H2O2 > SOH_SS\n",
    "    kprx*SH_SS*H2O2\n",
    "\n",
    "Prx_R_O_ox:\n",
    "    SH_SOH + H2O2 > SOH_SOH\n",
    "    kprx*SH_SOH*H2O2\n",
    "\n",
    "Prx_R_O2_ox:\n",
    "    SH_SO2H + H2O2 > SOH_SO2H\n",
    "    kprx*SH_SO2H*H2O2\n",
    "\n",
    "# Over-oxidation reactions\n",
    "Prx_O_O_oox:\n",
    "    SOH_SOH + H2O2 > SOH_SO2H\n",
    "    2*ksulf*SOH_SOH*H2O2\n",
    "\n",
    "Prx_O_S_oox:\n",
    "    SOH_SS + H2O2 > SS_SO2H\n",
    "    ksulf*SOH_SS*H2O2\n",
    "\n",
    "Prx_R_O_oox:\n",
    "    SH_SOH + H2O2 > SH_SO2H\n",
    "    ksulf*SH_SOH*H2O2\n",
    "\n",
    "Prx_O_O2_oox:\n",
    "    SOH_SO2H + H2O2 > SO2H_SO2H\n",
    "    ksulf*SOH_SO2H*H2O2\n",
    "\n",
    "# Disulphide bridge formation\n",
    "Prx_R_O_disulf_form:\n",
    "    SH_SOH > SH_SS\n",
    "    kcond*SH_SOH\n",
    "\n",
    "Prx_O_O_disulf_form:\n",
    "    SOH_SOH > SOH_SS\n",
    "    2*kcond*SOH_SOH\n",
    "\n",
    "Prx_O_S_disulf_form:\n",
    "    SOH_SS > SS_SS\n",
    "    kcond*SOH_SS\n",
    "\n",
    "Prx_O_O2_disulf_form:\n",
    "    SOH_SO2H > SS_SO2H\n",
    "    kcond*SOH_SO2H\n",
    "\n",
    "# Disulphide bridge reduction via Thioredoxin\n",
    "Prx_R_S_red_TrxSH:\n",
    "    SH_SS + TrxSH > SH_SH + TrxSOH\n",
    "    kred*SH_SS*TrxSH\n",
    "\n",
    "Prx_O_S_red_TrxSH:\n",
    "    SOH_SS + TrxSH > SH_SOH + TrxSOH\n",
    "    kred*SOH_SS*TrxSH\n",
    "\n",
    "Prx_S_S_red_TrxSH:\n",
    "    SS_SS + TrxSH > SH_SS + TrxSOH\n",
    "    2*kred*SS_SS*TrxSH\n",
    "\n",
    "Prx_S_O2_red_TrxSH:\n",
    "    SS_SO2H + TrxSH > SH_SO2H + TrxSOH\n",
    "    kred*SS_SO2H*TrxSH\n",
    "\n",
    "# Trx regeneration\n",
    "Trx_red1:\n",
    "    TrxSOH + NADPH > NADP + TrxSH\n",
    "    MM_irr_2S(TRR,kcat_TRR,TrxSOH,KM_TrxSOH_TRR,NADPH,KM_NADPH_TRR)\n",
    "\n",
    "H2O2_production:\n",
    "    $pool > H2O2\n",
    "    0.0\n",
    "\n",
    "### Parameters (Flag for scripting)\n",
    "kprx = 100 # μM/s\n",
    "ksulf = 0.012 \n",
    "kcond = 1.7\n",
    "kred  = 0.21\n",
    "\n",
    "TRR = 0.14\n",
    "kcat_TRR = 73\n",
    "KM_TrxSOH_TRR = 1.83\n",
    "KM_NADPH_TRR = 6.0\n",
    "\n",
    "### Species (Flag for scripting)\n",
    "H2O2 = 4.0 # μM\n",
    "\n",
    "SH_SH = 10.0\n",
    "SH_SOH = 0.0\n",
    "SH_SS = 0.0\n",
    "SH_SO2H = 0.0\n",
    "SOH_SOH = 0.0\n",
    "SOH_SS = 0.0\n",
    "SOH_SO2H = 0.0\n",
    "SS_SS = 0.0\n",
    "SS_SO2H = 0.0\n",
    "SO2H_SO2H = 0.0\n",
    "\n",
    "TrxSH = 5.0\n",
    "TrxSOH = 0.0\n",
    "\n",
    "NADPH = 5.0\n",
    "NADP = 0.0\n",
    "\n",
    "### References (Flag for scripting)\n",
    "\n",
    "### End (Flag for scripting)\n",
    "\"\"\""
   ]
  },
  {
   "cell_type": "code",
   "execution_count": null,
   "id": "23721929",
   "metadata": {
    "ExecuteTime": {
     "end_time": "2023-06-23T06:37:08.432807Z",
     "start_time": "2023-06-23T06:37:08.427124Z"
    }
   },
   "outputs": [],
   "source": [
    "# Write model .psc file\n",
    "with open(os.path.join(mod_dir,\"PRDX2_sys.psc\"), 'w') as f:\n",
    "    f.write(PRDX2_sys)"
   ]
  },
  {
   "cell_type": "code",
   "execution_count": null,
   "id": "a093adef",
   "metadata": {
    "ExecuteTime": {
     "end_time": "2023-06-23T06:37:08.537760Z",
     "start_time": "2023-06-23T06:37:08.436211Z"
    }
   },
   "outputs": [],
   "source": [
    "# Load and test model\n",
    "mod_Prx_cycle_no_dec = pysces.model(\"PRDX2_sys.psc\", dir=mod_dir)\n",
    "mod_Prx_cycle_no_dec.mode_integrator = 'CVODE'\n",
    "mod_Prx_cycle_no_dec.showModel()"
   ]
  },
  {
   "cell_type": "markdown",
   "id": "0cafdebe",
   "metadata": {},
   "source": [
    "#### PRDX2_sys_decfull.psc"
   ]
  },
  {
   "cell_type": "code",
   "execution_count": null,
   "id": "dd764aaa",
   "metadata": {
    "ExecuteTime": {
     "end_time": "2023-06-23T06:37:08.543390Z",
     "start_time": "2023-06-23T06:37:08.539662Z"
    }
   },
   "outputs": [],
   "source": [
    "# Assign file names\n",
    "dil_mod_name_orig = \"PRDX2_sys\"\n",
    "dec_rxns_no_hyp = \"Prx decamer reactions - no hyperoxidation\"\n",
    "dil_mod_name_new = \"PRDX2_sys_decfull\""
   ]
  },
  {
   "cell_type": "code",
   "execution_count": null,
   "id": "c62814b9",
   "metadata": {
    "ExecuteTime": {
     "end_time": "2023-06-23T06:37:08.574525Z",
     "start_time": "2023-06-23T06:37:08.549210Z"
    }
   },
   "outputs": [],
   "source": [
    "# Write model .psc file\n",
    "written_species = list()\n",
    "written_parameters = list()\n",
    "\n",
    "omf =  open(os.path.join(mod_dir, f\"{dil_mod_name_orig}.psc\"), \"r\")\n",
    "omf_line = next(omf)\n",
    "drf = open(os.path.join(mod_dir, f\"{dec_rxns_no_hyp}.txt\"), \"r\")\n",
    "drf_line = next(drf)\n",
    "drf_line = next(drf)\n",
    "\n",
    "with open(os.path.join(mod_dir, f\"{dil_mod_name_new}.psc\"), \"w\") as outf:\n",
    "    \n",
    "    # Script switches for section ends \n",
    "    orig_reactions_complete = False\n",
    "    dec_reactions_complete = False\n",
    "    orig_parameters_complete = False\n",
    "    dec_parameters_complete = False\n",
    "    orig_species_complete = False\n",
    "    dec_species_complete = False\n",
    "    orig_references_complete = False\n",
    "    \n",
    "    # Write dimer reactions\n",
    "    while orig_reactions_complete == False:\n",
    "        print(f\"Write dimer reactions\")\n",
    "        if omf_line[0:14] == \"### Parameters\":\n",
    "            orig_reactions_complete = True\n",
    "            outf.write(\"## Decamer reactions\\n\")\n",
    "            omf_line = next(omf)\n",
    "        elif omf_line[0] == \"#\":\n",
    "            omf_line = next(omf)\n",
    "        else:\n",
    "            outf.write(omf_line)\n",
    "            omf_line = next(omf)\n",
    "            \n",
    "    # Write decamer reactions  \n",
    "    while orig_reactions_complete == True and dec_reactions_complete == False:\n",
    "        print(f\"Write decamer reactions\")\n",
    "        if drf_line[0:14] == \"### Parameters\":\n",
    "            dec_reactions_complete = True\n",
    "            outf.write(\"### Parameters\\n\")\n",
    "            outf.write(\"## Dimer parameters\\n\")\n",
    "            drf_line = next(drf)\n",
    "        else:\n",
    "            outf.write(drf_line)\n",
    "            drf_line = next(drf)\n",
    "            \n",
    "    # Write dimer parameters\n",
    "    while dec_reactions_complete == True and orig_parameters_complete == False:\n",
    "        print(f\"Write dimer parameters\")\n",
    "        split_line = omf_line.split()\n",
    "        if omf_line[0:11] == \"### Species\":\n",
    "            orig_parameters_complete = True\n",
    "            outf.write(\"## Decamer parameters\\n\")\n",
    "            omf_line = next(omf)\n",
    "        else:\n",
    "            outf.write(omf_line)\n",
    "            omf_line = next(omf)\n",
    "            if len(split_line) > 0:\n",
    "                written_parameters.append(split_line[0])\n",
    "\n",
    "    # Write decamer parameters       \n",
    "    while orig_parameters_complete == True and dec_parameters_complete == False:\n",
    "        print(f\"Write decamer parameters\")\n",
    "        split_line = drf_line.split()\n",
    "        if drf_line[0:11] == \"### Species\":\n",
    "            dec_parameters_complete = True\n",
    "            outf.write(\"### Species\\n\")\n",
    "            outf.write(\"## Dimer Species\\n\")\n",
    "            drf_line = next(drf)\n",
    "        elif len(split_line) > 0 and split_line[0] != \"#\":\n",
    "            # Nest like this so the code won't break when split_line is empty\n",
    "            if split_line[0] not in written_parameters: \n",
    "                written_parameters.append(split_line[0])\n",
    "                outf.write(drf_line)\n",
    "                drf_line = next(drf)\n",
    "            else:\n",
    "                drf_line = next(drf)\n",
    "        else:\n",
    "            outf.write(drf_line)\n",
    "            drf_line = next(drf)\n",
    "            \n",
    "    # Write dimer species\n",
    "    while dec_parameters_complete == True and orig_species_complete == False:\n",
    "        print(f\"Write dimer species\")\n",
    "        split_line = omf_line.split()\n",
    "        if omf_line[0:14] == \"### References\":\n",
    "            orig_species_complete = True\n",
    "            outf.write(\"## Decamer Species\\n\")\n",
    "            omf_line = next(omf)\n",
    "        # Lines with # and ending in \":\" causes issues\n",
    "        elif len(split_line) > 0 and split_line[0] != \"#\": \n",
    "            written_species.append(split_line[0])\n",
    "            outf.write(f\"{split_line[0]} = {split_line[2]} \\n\")\n",
    "            omf_line = next(omf)\n",
    "        else:\n",
    "            outf.write(omf_line)\n",
    "            omf_line = next(omf)\n",
    "            \n",
    "    # Write decamer species\n",
    "    while orig_species_complete == True and dec_species_complete == False:\n",
    "        print(f\"Write decamer species\")\n",
    "        split_line = drf_line.split()\n",
    "        if drf_line[0:7] == \"### End\":\n",
    "            dec_species_complete = True\n",
    "            outf.write(\"### References\\n\")\n",
    "            drf_line = next(drf)\n",
    "        elif len(split_line) > 0:\n",
    "            if split_line[0] not in written_species:\n",
    "                written_species.append(split_line[0])\n",
    "                outf.write(f\"{split_line[0]} = {split_line[2]} \\n\")\n",
    "                drf_line = next(drf)\n",
    "            else:\n",
    "                outf.write(drf_line)\n",
    "                drf_line = next(drf)\n",
    "        else:\n",
    "            outf.write(drf_line)\n",
    "            drf_line = next(drf)\n",
    "\n",
    "    # Write the rest of orig file\n",
    "    while dec_species_complete == True and orig_references_complete == False:\n",
    "        print(f\"Write references\")\n",
    "        if omf_line[0:7] == \"### End\":\n",
    "            orig_references_complete = True\n",
    "            outf.write(\"### End\\n\")\n",
    "        else:\n",
    "            outf.write(omf_line)\n",
    "            omf_line = next(omf)\n",
    "drf.close()\n",
    "omf.close()"
   ]
  },
  {
   "cell_type": "code",
   "execution_count": null,
   "id": "90bc50a4",
   "metadata": {
    "ExecuteTime": {
     "end_time": "2023-06-23T06:37:10.160546Z",
     "start_time": "2023-06-23T06:37:08.578996Z"
    }
   },
   "outputs": [],
   "source": [
    "# Load and test model\n",
    "mod_Prx_cycle_with_dec = pysces.model(\"PRDX2_sys_decfull.psc\", dir=mod_dir)\n",
    "mod_Prx_cycle_with_dec.mode_integrator = 'CVODE'\n",
    "mod_Prx_cycle_with_dec.showModel()"
   ]
  },
  {
   "cell_type": "code",
   "execution_count": null,
   "id": "1e293f8c",
   "metadata": {},
   "outputs": [],
   "source": []
  }
 ],
 "metadata": {
  "kernelspec": {
   "display_name": "Python 3 (ipykernel)",
   "language": "python",
   "name": "python3"
  },
  "language_info": {
   "codemirror_mode": {
    "name": "ipython",
    "version": 3
   },
   "file_extension": ".py",
   "mimetype": "text/x-python",
   "name": "python",
   "nbconvert_exporter": "python",
   "pygments_lexer": "ipython3",
   "version": "3.10.11"
  },
  "toc": {
   "base_numbering": 1,
   "nav_menu": {},
   "number_sections": true,
   "sideBar": true,
   "skip_h1_title": false,
   "title_cell": "Table of Contents",
   "title_sidebar": "Contents",
   "toc_cell": false,
   "toc_position": {
    "height": "calc(100% - 180px)",
    "left": "10px",
    "top": "150px",
    "width": "350.867px"
   },
   "toc_section_display": true,
   "toc_window_display": true
  }
 },
 "nbformat": 4,
 "nbformat_minor": 5
}
