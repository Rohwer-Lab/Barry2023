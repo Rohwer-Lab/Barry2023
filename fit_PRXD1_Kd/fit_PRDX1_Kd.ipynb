{
 "cells": [
  {
   "cell_type": "markdown",
   "id": "621b93a4",
   "metadata": {},
   "source": [
    "# Fit PRDX1 dimer-decamer Kd"
   ]
  },
  {
   "cell_type": "markdown",
   "id": "c6f06b80",
   "metadata": {},
   "source": [
    "This notebook performs analyses described in the "
   ]
  },
  {
   "cell_type": "markdown",
   "id": "a7d2431f",
   "metadata": {},
   "source": [
    "**Manuscript:**\n",
    "\n",
    "Modelling the decamerisation cycle of PRDX1 and the inhibition-like effect on its peroxidase activity"
   ]
  },
  {
   "cell_type": "markdown",
   "id": "7b60f5c2",
   "metadata": {},
   "source": [
    "**Authors:**\n",
    "\n",
    "C. Barry, C. Pillay, J.Rohwer"
   ]
  },
  {
   "cell_type": "markdown",
   "id": "c264568e",
   "metadata": {},
   "source": [
    "**Purpose:**\n",
    "\n",
    "Fit Prx decamer Kd to Villar et al. 2022 \n",
    "\n",
    "Writes: fitted $K_d$ (filename: `fitted_Kd_PRDX1_params.csv`)"
   ]
  },
  {
   "cell_type": "markdown",
   "id": "cd3a2984",
   "metadata": {},
   "source": [
    "**Requirements:**\n",
    "\n",
    "Python libraries (see **Imports** below)\n",
    "\n",
    "Prx dimer-decamerisation model (filename: `Prx_dim-dec.psc`)\n"
   ]
  },
  {
   "cell_type": "markdown",
   "id": "1bdd153d",
   "metadata": {},
   "source": [
    "##### Imports"
   ]
  },
  {
   "cell_type": "code",
   "execution_count": 1,
   "id": "5eb199e8",
   "metadata": {
    "ExecuteTime": {
     "end_time": "2023-06-22T08:51:46.530714Z",
     "start_time": "2023-06-22T08:51:44.982600Z"
    }
   },
   "outputs": [
    {
     "name": "stdout",
     "output_type": "stream",
     "text": [
      "Matplotlib backend set to: \"nbAgg\"\n",
      "Matplotlib interface loaded (pysces.plt.m)\n",
      "Pitcon routines available\n",
      "NLEQ2 routines available\n",
      "SBML support available\n",
      "You are using NumPy (1.23.5) with SciPy (1.9.3)\n",
      "Assimulo CVode available\n",
      "RateChar is available\n",
      "Parallel scanner is available\n",
      "\n",
      "PySCeS environment\n",
      "******************\n",
      "pysces.model_dir = /home/chris/Pysces/psc\n",
      "pysces.output_dir = /home/chris/Pysces\n",
      "\n",
      "\n",
      "***********************************************************************\n",
      "* Welcome to PySCeS (1.0.3) - Python Simulator for Cellular Systems   *\n",
      "*                http://pysces.sourceforge.net                        *\n",
      "* Copyright(C) B.G. Olivier, J.M. Rohwer, J.-H.S. Hofmeyr, 2004-2022  *\n",
      "* Triple-J Group for Molecular Cell Physiology                        *\n",
      "* Stellenbosch University, ZA and VU University Amsterdam, NL         *\n",
      "* PySCeS is distributed under the PySCeS (BSD style) licence, see     *\n",
      "* LICENCE.txt (supplied with this release) for details                *\n",
      "* Please cite PySCeS with: doi:10.1093/bioinformatics/bti046          *\n",
      "***********************************************************************\n"
     ]
    }
   ],
   "source": [
    "import os\n",
    "curdir = os.getcwd()\n",
    "\n",
    "import numpy as np\n",
    "from matplotlib import pyplot as plt\n",
    "import pandas as pd\n",
    "from lmfit import Minimizer, minimize, Parameters, Parameter, report_fit\n",
    "import dill as pickle\n",
    "\n",
    "import pysces\n",
    "from identifiability import conf_interval\n",
    "\n",
    "os.chdir(curdir)"
   ]
  },
  {
   "cell_type": "markdown",
   "id": "3642952e",
   "metadata": {},
   "source": [
    "###### Save directories"
   ]
  },
  {
   "cell_type": "code",
   "execution_count": 2,
   "id": "7d47b1a9",
   "metadata": {
    "ExecuteTime": {
     "end_time": "2023-06-22T08:51:46.546357Z",
     "start_time": "2023-06-22T08:51:46.535944Z"
    }
   },
   "outputs": [],
   "source": [
    "prev_dir = os.path.split(os.getcwd())[0]\n",
    "\n",
    "mod_dir = os.path.join(prev_dir,\"models\")\n",
    "if not os.path.isdir(mod_dir): os.mkdir(mod_dir) # ensure dir exists\n",
    "\n",
    "par_dir = os.path.join(prev_dir,\"params\")\n",
    "if not os.path.isdir(par_dir): os.mkdir(par_dir) # ensure dir exists\n"
   ]
  },
  {
   "cell_type": "markdown",
   "id": "cc31eec9",
   "metadata": {},
   "source": [
    "###### Matplotlib stuff"
   ]
  },
  {
   "cell_type": "code",
   "execution_count": 3,
   "id": "2474e99b",
   "metadata": {
    "ExecuteTime": {
     "end_time": "2023-06-22T08:51:46.560198Z",
     "start_time": "2023-06-22T08:51:46.549080Z"
    }
   },
   "outputs": [],
   "source": [
    "%matplotlib inline\n",
    "\n",
    "multiplier = 1\n",
    "mpl_width = 4.5*multiplier\n",
    "mpl_height = 3.5*multiplier\n",
    "mpl_dpi = 600\n",
    "mpl_xlabel_fontsize = \"large\"\n",
    "mpl_ylabel_fontsize = \"large\"\n",
    "mu = \"\\u03bc\""
   ]
  },
  {
   "cell_type": "markdown",
   "id": "8d559b5e",
   "metadata": {},
   "source": [
    "###### Common variables"
   ]
  },
  {
   "cell_type": "code",
   "execution_count": 4,
   "id": "fa5b904c",
   "metadata": {
    "ExecuteTime": {
     "end_time": "2023-06-22T08:51:46.567240Z",
     "start_time": "2023-06-22T08:51:46.562457Z"
    }
   },
   "outputs": [],
   "source": [
    "scan_range = np.logspace(-1,2,100)"
   ]
  },
  {
   "cell_type": "code",
   "execution_count": 5,
   "id": "7dd9f581",
   "metadata": {
    "ExecuteTime": {
     "end_time": "2023-06-22T08:51:46.578104Z",
     "start_time": "2023-06-22T08:51:46.570664Z"
    }
   },
   "outputs": [],
   "source": [
    "# fitting_method = \"nelder\"\n",
    "fitting_method = \"leastsq\""
   ]
  },
  {
   "cell_type": "markdown",
   "id": "37bbf319",
   "metadata": {},
   "source": [
    "## Villar et al 2022 fig 5B data"
   ]
  },
  {
   "cell_type": "raw",
   "id": "3ed81155",
   "metadata": {
    "ExecuteTime": {
     "end_time": "2022-12-30T12:28:40.439541Z",
     "start_time": "2022-12-30T12:28:40.436375Z"
    }
   },
   "source": [
    "Data from Villar et al 2022 - Fluorescence Lifetime Phasor Analysis of the Decamer–Dimer Equilibrium of Human Peroxiredoxin 1"
   ]
  },
  {
   "cell_type": "code",
   "execution_count": 6,
   "id": "936e3767",
   "metadata": {
    "ExecuteTime": {
     "end_time": "2023-06-22T08:51:46.586348Z",
     "start_time": "2023-06-22T08:51:46.580917Z"
    }
   },
   "outputs": [],
   "source": [
    "fig_5B_data = np.array([[0.24746, 0.0087789],\n",
    "                        [0.49398, 0.023144],\n",
    "                        [0.98609, 0.35834],\n",
    "                        [1.9869, 0.71588],\n",
    "                        [4.9168, 0.79569],\n",
    "                        [9.8149, 0.82283],\n",
    "                        [19.776, 0.86911],\n",
    "                        [38.747, 0.93136]])\n",
    "\n",
    "\n",
    "x_data_exp = fig_5B_data[:,0]\n",
    "y_data_exp = fig_5B_data[:,1]"
   ]
  },
  {
   "cell_type": "markdown",
   "id": "79cf2304",
   "metadata": {},
   "source": [
    "## Fit Kd"
   ]
  },
  {
   "cell_type": "code",
   "execution_count": 7,
   "id": "d544bec7",
   "metadata": {
    "ExecuteTime": {
     "end_time": "2023-06-22T08:51:46.592329Z",
     "start_time": "2023-06-22T08:51:46.588285Z"
    }
   },
   "outputs": [],
   "source": [
    "def scan_onestep_model(mod,x_data_exp):\n",
    "    mod.dimers_init = 0\n",
    "    mod.scan_in = \"decamers_init\"\n",
    "    mod.scan_out = [f\"{i}_ss\" for i in mod.species]\n",
    "    mod.Scan1(x_data_exp/5)\n",
    "    x_dec = mod.scan[\"decamers_ss\"]/mod.scan[\"decamers_init\"]\n",
    "    return x_dec\n",
    "\n",
    "def fit_onestep_Kd(params,mod,x_data_exp,y_data_exp):\n",
    "    \n",
    "    mod.Kd_app = params['Kd_app'].value\n",
    "    mod.kon = mod.koff/mod.Kd_app\n",
    "#     mod.koff = mod.kon*mod.Kd_app\n",
    "\n",
    "    # Store k in params\n",
    "    params['kon'].value = mod.kon\n",
    "    params[\"koff\"].value = mod.koff\n",
    "    \n",
    "    # Scan\n",
    "    y_data_mod = scan_onestep_model(mod,x_data_exp)\n",
    "    \n",
    "    # Calculate residuals\n",
    "    residuals = np.abs(y_data_exp - y_data_mod)\n",
    "    \n",
    "    return residuals"
   ]
  },
  {
   "cell_type": "code",
   "execution_count": 8,
   "id": "3e45032f",
   "metadata": {
    "ExecuteTime": {
     "end_time": "2023-06-22T08:51:46.644034Z",
     "start_time": "2023-06-22T08:51:46.593337Z"
    }
   },
   "outputs": [
    {
     "name": "stdout",
     "output_type": "stream",
     "text": [
      "Using model directory: /home/chris/Dropbox/Studies/6. PhD/Papers [Chris B]/Decamerisation_cycle_of_PRDX1/Data/models\n",
      "/home/chris/Dropbox/Studies/6. PhD/Papers [Chris B]/Decamerisation_cycle_of_PRDX1/Data/models/Prx_dim-dec.psc loading ..... \n",
      "Parsing file: /home/chris/Dropbox/Studies/6. PhD/Papers [Chris B]/Decamerisation_cycle_of_PRDX1/Data/models/Prx_dim-dec.psc\n",
      "Info: No reagents have been fixed\n",
      "Info: \"Prx_total_dimers\" has been initialised but does not occur in a rate equation\n",
      "Info: \"Kd_app\" has been initialised but does not occur in a rate equation\n",
      " \n",
      "Calculating L matrix . . . . . . .  done.\n",
      "Calculating K matrix . . . . . . . no flux conservation\n",
      " done.\n",
      " \n",
      "\n",
      "Fixed species\n",
      "<none>\n",
      " \n",
      "\n",
      "Reaction stoichiometry and rate equations\n",
      "disso:\n",
      "\tdecamers = {5.00000}dimers\n",
      "\tdecamers*koff-pow(dimers,exponent)*kon\n",
      "\n",
      "Species initial values\n",
      "decamers_init = 0.0000e+00\n",
      "dimers_init = 1.0000e+01\n",
      "\n",
      "Parameters\n",
      "Prx_total_dimers = 1.0000e+01\n",
      "koff = 1.0000e+00\n",
      "kon = 1.0000e+00\n",
      "Kd_app = 1.1000e+00\n",
      "exponent = 5.0000e+00\n"
     ]
    }
   ],
   "source": [
    "# Load model\n",
    "mod_Prx_dim_dec = pysces.model(\"Prx_dim-dec.psc\", dir = mod_dir)\n",
    "mod_Prx_dim_dec.SetQuiet()\n",
    "\n",
    "# Update \n",
    "mod_Prx_dim_dec.exponent = 5\n",
    "\n",
    "mod_Prx_dim_dec.showModel()"
   ]
  },
  {
   "cell_type": "code",
   "execution_count": 9,
   "id": "031224ba",
   "metadata": {
    "ExecuteTime": {
     "end_time": "2023-06-22T08:51:46.922370Z",
     "start_time": "2023-06-22T08:51:46.645825Z"
    }
   },
   "outputs": [
    {
     "name": "stdout",
     "output_type": "stream",
     "text": [
      "\n",
      "WARNING: extremely small flux detected! proceed with caution:\n",
      "[2.22044605e-16]\n",
      "\n",
      "WARNING: extremely small flux detected! proceed with caution:\n",
      "[2.22044605e-16]\n",
      "\n",
      "WARNING: extremely small flux detected! proceed with caution:\n",
      "[2.22044605e-16]\n",
      "\n",
      "WARNING: extremely small flux detected! proceed with caution:\n",
      "[2.22044605e-16]\n"
     ]
    }
   ],
   "source": [
    "# Set up lmfit parameter library\n",
    "param_lib = Parameters() \n",
    "param_lib.add('Kd_app', value = 5, vary = True, min =  1e-12)\n",
    "param_lib.add('kon', value = 1, vary = False, min =  1e-12)\n",
    "param_lib.add('koff', value = 1, vary = False, min =  1e-12)\n",
    "\n",
    "# Perform fit\n",
    "Kd_Minimizer = Minimizer(fit_onestep_Kd, \n",
    "                                    param_lib,\n",
    "                                    fcn_args=(mod_Prx_dim_dec,\n",
    "                                              x_data_exp,\n",
    "                                              y_data_exp)\n",
    "                        )\n",
    "\n",
    "fit_Kd_to_data = Kd_Minimizer.minimize(method=fitting_method)\n"
   ]
  },
  {
   "cell_type": "code",
   "execution_count": 10,
   "id": "abe98d99",
   "metadata": {
    "ExecuteTime": {
     "end_time": "2023-06-22T08:51:46.929268Z",
     "start_time": "2023-06-22T08:51:46.924928Z"
    }
   },
   "outputs": [
    {
     "data": {
      "text/html": [
       "<h2>Fit Statistics</h2><table><tr><td>fitting method</td><td>leastsq</td><td></td></tr><tr><td># function evals</td><td>13</td><td></td></tr><tr><td># data points</td><td>8</td><td></td></tr><tr><td># variables</td><td>1</td><td></td></tr><tr><td>chi-square</td><td> 0.03032390</td><td></td></tr><tr><td>reduced chi-square</td><td> 0.00433199</td><td></td></tr><tr><td>Akaike info crit.</td><td>-42.6020838</td><td></td></tr><tr><td>Bayesian info crit.</td><td>-42.5226423</td><td></td></tr></table><h2>Variables</h2><table><tr><th> name </th><th> value </th><th> standard error </th><th> relative error </th><th> initial value </th><th> min </th><th> max </th><th> vary </th></tr><tr><td> Kd_app </td><td>  1.42743885 </td><td>  0.64334060 </td><td> (45.07%) </td><td> 5 </td><td>  1.0000e-12 </td><td>         inf </td><td> True </td></tr><tr><td> kon </td><td>  0.70055540 </td><td>  0.00000000 </td><td> (0.00%) </td><td> 1 </td><td>  1.0000e-12 </td><td>         inf </td><td> False </td></tr><tr><td> koff </td><td>  1.00000000 </td><td>  0.00000000 </td><td> (0.00%) </td><td> 1 </td><td>  1.0000e-12 </td><td>         inf </td><td> False </td></tr></table>"
      ],
      "text/plain": [
       "<lmfit.minimizer.MinimizerResult at 0x7fb4d1c6abb0>"
      ]
     },
     "execution_count": 10,
     "metadata": {},
     "output_type": "execute_result"
    }
   ],
   "source": [
    "# Display fit\n",
    "fit_Kd_to_data"
   ]
  },
  {
   "cell_type": "code",
   "execution_count": 11,
   "id": "e779ebd1",
   "metadata": {
    "ExecuteTime": {
     "end_time": "2023-06-22T08:51:47.098050Z",
     "start_time": "2023-06-22T08:51:46.931896Z"
    }
   },
   "outputs": [
    {
     "name": "stdout",
     "output_type": "stream",
     "text": [
      "\n",
      "WARNING: extremely small flux detected! proceed with caution:\n",
      "[2.22044605e-16]\n"
     ]
    }
   ],
   "source": [
    "# Scan with fitted parameters\n",
    "x_dec = scan_onestep_model(mod_Prx_dim_dec,scan_range)"
   ]
  },
  {
   "cell_type": "code",
   "execution_count": 12,
   "id": "0c1e47bb",
   "metadata": {
    "ExecuteTime": {
     "end_time": "2023-06-22T08:51:47.857299Z",
     "start_time": "2023-06-22T08:51:47.102993Z"
    }
   },
   "outputs": [
    {
     "name": "stderr",
     "output_type": "stream",
     "text": [
      "/tmp/ipykernel_39002/2291078875.py:14: UserWarning: Matplotlib is currently using module://matplotlib_inline.backend_inline, which is a non-GUI backend, so cannot show the figure.\n",
      "  f.show()\n"
     ]
    },
    {
     "data": {
      "image/png": "[encoded data removed]",
      "text/plain": [
       "<Figure size 450x350 with 1 Axes>"
      ]
     },
     "metadata": {},
     "output_type": "display_data"
    }
   ],
   "source": [
    "cols = 1\n",
    "rows = 1\n",
    "f, axarr = plt.subplots(rows,cols)\n",
    "f.set_size_inches(w=cols*mpl_width, h=rows*mpl_height)\n",
    "\n",
    "axarr.semilogx(x_data_exp,y_data_exp,\"bo\", label = \"Fig 5B data\")\n",
    "axarr.semilogx(scan_range,x_dec, label = f\"One-step exponent = 5\")\n",
    "\n",
    "axarr.set_ylabel(\"$f_{Decamers}$\",fontsize = mpl_ylabel_fontsize)\n",
    "axarr.set_xlabel(f\"Prx ({mu}M)\",fontsize = mpl_xlabel_fontsize)\n",
    "\n",
    "axarr.legend()\n",
    "f.tight_layout()\n",
    "f.show()"
   ]
  },
  {
   "cell_type": "markdown",
   "id": "8d469e48",
   "metadata": {},
   "source": [
    "## Write to parameter files"
   ]
  },
  {
   "cell_type": "code",
   "execution_count": 13,
   "id": "50a7a57c",
   "metadata": {
    "ExecuteTime": {
     "end_time": "2023-06-22T08:51:47.874519Z",
     "start_time": "2023-06-22T08:51:47.858658Z"
    }
   },
   "outputs": [
    {
     "data": {
      "text/html": [
       "<div>\n",
       "<style scoped>\n",
       "    .dataframe tbody tr th:only-of-type {\n",
       "        vertical-align: middle;\n",
       "    }\n",
       "\n",
       "    .dataframe tbody tr th {\n",
       "        vertical-align: top;\n",
       "    }\n",
       "\n",
       "    .dataframe thead th {\n",
       "        text-align: right;\n",
       "    }\n",
       "</style>\n",
       "<table border=\"1\" class=\"dataframe\">\n",
       "  <thead>\n",
       "    <tr style=\"text-align: right;\">\n",
       "      <th></th>\n",
       "      <th>Value</th>\n",
       "    </tr>\n",
       "    <tr>\n",
       "      <th>Parameter</th>\n",
       "      <th></th>\n",
       "    </tr>\n",
       "  </thead>\n",
       "  <tbody>\n",
       "    <tr>\n",
       "      <th>koff</th>\n",
       "      <td>1.000000</td>\n",
       "    </tr>\n",
       "    <tr>\n",
       "      <th>kon</th>\n",
       "      <td>0.700555</td>\n",
       "    </tr>\n",
       "    <tr>\n",
       "      <th>Kd_app</th>\n",
       "      <td>1.427439</td>\n",
       "    </tr>\n",
       "  </tbody>\n",
       "</table>\n",
       "</div>"
      ],
      "text/plain": [
       "              Value\n",
       "Parameter          \n",
       "koff       1.000000\n",
       "kon        0.700555\n",
       "Kd_app     1.427439"
      ]
     },
     "execution_count": 13,
     "metadata": {},
     "output_type": "execute_result"
    }
   ],
   "source": [
    "# Set up df\n",
    "data = {\"Parameter\": [\"koff\",\n",
    "                     \"kon\",\n",
    "                     \"Kd_app\"],\n",
    "        \"Value\":[fit_Kd_to_data.params[\"koff\"].value,\n",
    "                fit_Kd_to_data.params[\"kon\"].value,\n",
    "                fit_Kd_to_data.params[\"Kd_app\"].value]}\n",
    "df_fitted_params = pd.DataFrame(data)\n",
    "df_fitted_params.set_index(\"Parameter\",inplace=True)\n",
    "df_fitted_params"
   ]
  },
  {
   "cell_type": "code",
   "execution_count": 14,
   "id": "c802f56d",
   "metadata": {
    "ExecuteTime": {
     "end_time": "2023-06-22T08:51:47.888770Z",
     "start_time": "2023-06-22T08:51:47.876389Z"
    }
   },
   "outputs": [],
   "source": [
    "# Write to file\n",
    "df_fitted_params.to_csv(os.path.join(curdir,\"fitted_Kd_PRDX1_params.csv\"), sep=',', encoding='utf-8')\n",
    "df_fitted_params.to_csv(os.path.join(par_dir,\"fitted_Kd_PRDX1_params.csv\"), sep=',', encoding='utf-8')\n"
   ]
  },
  {
   "cell_type": "code",
   "execution_count": null,
   "id": "41a30e9d",
   "metadata": {},
   "outputs": [],
   "source": []
  }
 ],
 "metadata": {
  "kernelspec": {
   "display_name": "Python 3 (ipykernel)",
   "language": "python",
   "name": "python3"
  },
  "language_info": {
   "codemirror_mode": {
    "name": "ipython",
    "version": 3
   },
   "file_extension": ".py",
   "mimetype": "text/x-python",
   "name": "python",
   "nbconvert_exporter": "python",
   "pygments_lexer": "ipython3",
   "version": "3.9.16"
  },
  "toc": {
   "base_numbering": 1,
   "nav_menu": {},
   "number_sections": true,
   "sideBar": true,
   "skip_h1_title": false,
   "title_cell": "Table of Contents",
   "title_sidebar": "Contents",
   "toc_cell": false,
   "toc_position": {},
   "toc_section_display": true,
   "toc_window_display": true
  }
 },
 "nbformat": 4,
 "nbformat_minor": 5
}
