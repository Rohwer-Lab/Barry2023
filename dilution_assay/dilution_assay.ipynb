{
 "cells": [
  {
   "cell_type": "markdown",
   "id": "821a7d55",
   "metadata": {},
   "source": [
    "# Dilution time to equilibrium"
   ]
  },
  {
   "cell_type": "markdown",
   "id": "386d88c0",
   "metadata": {},
   "source": [
    "This notebook performs analyses described in the "
   ]
  },
  {
   "cell_type": "markdown",
   "id": "a8a1304c",
   "metadata": {},
   "source": [
    "**Manuscript:**\n",
    "\n",
    "Modelling the decamerisation cycle of PRDX1 and the inhibition-like effect on its peroxidase activity"
   ]
  },
  {
   "cell_type": "markdown",
   "id": "ccb46a5d",
   "metadata": {},
   "source": [
    "**Authors:**\n",
    "\n",
    "C. Barry, C. Pillay, J. Rohwer"
   ]
  },
  {
   "cell_type": "markdown",
   "id": "71955015",
   "metadata": {},
   "source": [
    "**Purpose:**\n",
    "\n",
    "Performs simulations of dilutions of Prx solutions\n",
    "\n",
    "Plot: Figure 8a, 8b, S7"
   ]
  },
  {
   "cell_type": "markdown",
   "id": "9da6b677",
   "metadata": {},
   "source": [
    "**Requirements:**\n",
    "\n",
    "Python libraries (see **Imports** below)\n",
    "\n",
    "Prx parameters (filename: `fitted_koff_kon_PRDX1_params.csv`)\n",
    "\n",
    "Prx dimer-decamer dilution model (`Prx_dim-dec_dil.psc`)"
   ]
  },
  {
   "cell_type": "markdown",
   "id": "4bddc80d",
   "metadata": {},
   "source": [
    "##### Imports"
   ]
  },
  {
   "cell_type": "code",
   "execution_count": null,
   "id": "f1b1efe4",
   "metadata": {
    "ExecuteTime": {
     "end_time": "2023-06-23T08:14:20.411340Z",
     "start_time": "2023-06-23T08:14:18.731864Z"
    }
   },
   "outputs": [],
   "source": [
    "import os\n",
    "import csv\n",
    "import math\n",
    "import copy\n",
    "\n",
    "import scipy as sp\n",
    "import numpy as np\n",
    "from matplotlib import pyplot as plt\n",
    "import pandas as pd\n",
    "\n",
    "import pysces\n"
   ]
  },
  {
   "cell_type": "markdown",
   "id": "14c55dd9",
   "metadata": {},
   "source": [
    "###### Get directory paths"
   ]
  },
  {
   "cell_type": "code",
   "execution_count": null,
   "id": "2f79cd54",
   "metadata": {
    "ExecuteTime": {
     "end_time": "2023-06-23T08:14:20.420690Z",
     "start_time": "2023-06-23T08:14:20.414556Z"
    }
   },
   "outputs": [],
   "source": [
    "prev_dir = os.path.split(os.getcwd())[0]\n",
    "\n",
    "mod_dir = os.path.join(prev_dir,\"models\")\n",
    "if not os.path.isdir(mod_dir): os.mkdir(mod_dir) # ensure dir exists\n",
    "\n",
    "par_dir = os.path.join(prev_dir,\"params\")\n",
    "if not os.path.isdir(par_dir): os.mkdir(par_dir) # ensure dir exists\n",
    "    \n",
    "fig_dir = os.path.join(os.getcwd(),\"Figures\")\n",
    "if not os.path.isdir(fig_dir): os.mkdir(fig_dir) # ensure dir exists\n"
   ]
  },
  {
   "cell_type": "markdown",
   "id": "26349861",
   "metadata": {},
   "source": [
    "###### Matplotlib stuff"
   ]
  },
  {
   "cell_type": "code",
   "execution_count": null,
   "id": "3296b822",
   "metadata": {
    "ExecuteTime": {
     "end_time": "2023-06-23T08:14:20.437644Z",
     "start_time": "2023-06-23T08:14:20.422049Z"
    }
   },
   "outputs": [],
   "source": [
    "%matplotlib inline\n",
    "\n",
    "mpl_width = 4.5\n",
    "mpl_height = 3.5\n",
    "mpl_dpi = 600\n",
    "mpl_xlabel_fontsize = \"large\"\n",
    "mpl_ylabel_fontsize = \"large\"\n",
    "mu = \"\\u03bc\"\n"
   ]
  },
  {
   "cell_type": "markdown",
   "id": "d9255225",
   "metadata": {},
   "source": [
    "##### params"
   ]
  },
  {
   "cell_type": "code",
   "execution_count": null,
   "id": "17489036",
   "metadata": {
    "ExecuteTime": {
     "end_time": "2023-06-23T08:14:20.449230Z",
     "start_time": "2023-06-23T08:14:20.440077Z"
    }
   },
   "outputs": [],
   "source": [
    "decamer_param_file = \"fitted_koff_kon_PRDX1_params.csv\"\n",
    "onestep_pardict = pd.read_csv(os.path.join(par_dir,decamer_param_file),\n",
    "                              index_col=0).squeeze('columns').to_dict()\n"
   ]
  },
  {
   "cell_type": "markdown",
   "id": "9d084214",
   "metadata": {},
   "source": [
    "## dilution assay functions"
   ]
  },
  {
   "cell_type": "code",
   "execution_count": null,
   "id": "0e9027c7",
   "metadata": {
    "ExecuteTime": {
     "end_time": "2023-06-23T08:14:20.458454Z",
     "start_time": "2023-06-23T08:14:20.451719Z"
    }
   },
   "outputs": [],
   "source": [
    "def do_dilution_assay(mod1,\n",
    "                    dilution_factor,\n",
    "                    vary=\"SH_SH_init\",\n",
    "                    vary_init= False,\n",
    "                    end_time=0.1,\n",
    "                    points=1000,\n",
    "                    y_data_out='SH_SH__SH_SH__SH_SH__SH_SH__SH_SH'):\n",
    "    \n",
    "    \"\"\"\n",
    "    Performs a simulation of diluting a Prx protein solution. \n",
    "    \n",
    "    Outputs the mol fraction of Prx and time array\n",
    "    \"\"\"\n",
    "    # Copy model\n",
    "    mod = copy.deepcopy(mod1)\n",
    "    mod.SetQuiet()\n",
    "    \n",
    "    # Set expicit experimental concentration\n",
    "    if vary_init == False:\n",
    "        vary_init = getattr(mod,vary)\n",
    "    setattr(mod,vary,vary_init)\n",
    "    \n",
    "    # Calculate steady state and copy values as initial for simulation\n",
    "    mod.doState()\n",
    "    for i in range(len(mod.species)):\n",
    "        setattr(mod, f\"{mod.species[i]}_init\", mod.state_species[i]*1/dilution_factor)\n",
    "    \n",
    "    # Do sim\n",
    "    mod.sim_end = end_time\n",
    "    mod.sim_points = points\n",
    "    mod.Simulate()\n",
    "    \n",
    "    # Grab data\n",
    "    x_data = mod.sim[\"Time\"]\n",
    "    \n",
    "    t_Prx_dimers = (mod.sim[\"SH_SH\"] + mod.sim[\"SH_SH__SH_SH__SH_SH__SH_SH__SH_SH\"]*5)\n",
    "    \n",
    "    y_data_num_multiplier = len(y_data_out.split(\"__\"))\n",
    "    y_data_num = mod.sim[y_data_out]*y_data_num_multiplier\n",
    "        \n",
    "    y_data_fmol = y_data_num/t_Prx_dimers\n",
    "    y_data = y_data_num\n",
    "    \n",
    "    return x_data, y_data_fmol, y_data\n"
   ]
  },
  {
   "cell_type": "markdown",
   "id": "1131fab5",
   "metadata": {},
   "source": [
    "## dilution assays"
   ]
  },
  {
   "cell_type": "code",
   "execution_count": null,
   "id": "c0ffc240",
   "metadata": {
    "ExecuteTime": {
     "end_time": "2023-06-23T08:14:20.464768Z",
     "start_time": "2023-06-23T08:14:20.459486Z"
    }
   },
   "outputs": [],
   "source": [
    "dilution_range = [1,2,5,10,50,100]\n"
   ]
  },
  {
   "cell_type": "code",
   "execution_count": null,
   "id": "f38f814a",
   "metadata": {
    "ExecuteTime": {
     "end_time": "2023-06-23T08:14:20.509945Z",
     "start_time": "2023-06-23T08:14:20.467733Z"
    }
   },
   "outputs": [],
   "source": [
    "# Load model\n",
    "mod_Prx_dil = pysces.model(\"Prx_dim-dec_dil.psc\", dir=mod_dir)\n",
    "mod_Prx_dil.mode_integrator = 'CVODE'\n",
    "mod_Prx_dil.__dict__.update(onestep_pardict)  # this updates the model in a single step\n",
    "mod_Prx_dil.k_Prx_asso = mod_Prx_dil.kon\n",
    "mod_Prx_dil.k_Prx_dec_disasso = mod_Prx_dil.koff\n",
    "mod_Prx_dil.showModel()"
   ]
  },
  {
   "cell_type": "markdown",
   "id": "00baec22",
   "metadata": {},
   "source": [
    "### 450 μM Prx"
   ]
  },
  {
   "cell_type": "code",
   "execution_count": null,
   "id": "a74e957e",
   "metadata": {
    "ExecuteTime": {
     "end_time": "2023-06-23T08:14:20.686475Z",
     "start_time": "2023-06-23T08:14:20.511615Z"
    }
   },
   "outputs": [],
   "source": [
    "# Do sim\n",
    "dim_init = 450\n",
    "result_dil_450um_Prx = list(map(lambda dil_factor: do_dilution_assay(mod_Prx_dil, \n",
    "                                                                     dil_factor, \n",
    "                                                                     vary_init=dim_init), \n",
    "                                dilution_range))\n"
   ]
  },
  {
   "cell_type": "code",
   "execution_count": null,
   "id": "7490ea1a",
   "metadata": {
    "ExecuteTime": {
     "end_time": "2023-06-23T08:14:20.966262Z",
     "start_time": "2023-06-23T08:14:20.687843Z"
    }
   },
   "outputs": [],
   "source": [
    "# Plot results\n",
    "cols = 1\n",
    "rows = 1\n",
    "\n",
    "f, axarr = plt.subplots(rows, cols)\n",
    "f.set_size_inches(w=mpl_width, h=mpl_height)\n",
    "\n",
    "for count,result in enumerate(result_dil_450um_Prx):\n",
    "    axarr.plot(result[0],result[1],label=f\"{dilution_range[count]}x\")\n",
    "\n",
    "axarr.set_xlabel(\"Time (sec)\", fontsize=mpl_xlabel_fontsize)\n",
    "axarr.set_ylabel(\"$f_{mol}$ Prx decamers\",fontsize=mpl_ylabel_fontsize)\n",
    "axarr.set_ylim(0,1)\n",
    "\n",
    "axarr.legend(title=\"Dilution\",loc=\"lower right\")\n",
    "f.tight_layout()"
   ]
  },
  {
   "cell_type": "markdown",
   "id": "88eced85",
   "metadata": {},
   "source": [
    "### 100 μM Prx (figure S7a)"
   ]
  },
  {
   "cell_type": "code",
   "execution_count": null,
   "id": "7418edcb",
   "metadata": {
    "ExecuteTime": {
     "end_time": "2023-06-23T08:14:21.123740Z",
     "start_time": "2023-06-23T08:14:20.971498Z"
    }
   },
   "outputs": [],
   "source": [
    "# Do sim\n",
    "dim_init = 100\n",
    "result_dil_100um_Prx = list(map(lambda dil_factor: do_dilution_assay(mod_Prx_dil, \n",
    "                                                                     dil_factor, \n",
    "                                                                     vary_init=dim_init),\n",
    "                                dilution_range))\n"
   ]
  },
  {
   "cell_type": "code",
   "execution_count": null,
   "id": "2b1ed114",
   "metadata": {
    "ExecuteTime": {
     "end_time": "2023-06-23T08:14:21.531897Z",
     "start_time": "2023-06-23T08:14:21.125125Z"
    }
   },
   "outputs": [],
   "source": [
    "# Plot results\n",
    "cols = 1\n",
    "rows = 1\n",
    "\n",
    "f, axarr = plt.subplots(rows, cols)\n",
    "f.set_size_inches(w=mpl_width, h=mpl_height)\n",
    "\n",
    "for count,result in enumerate(result_dil_100um_Prx):\n",
    "    axarr.plot(result[0],result[1],label=f\"{dilution_range[count]}x\")\n",
    "\n",
    "axarr.set_xlabel(\"Time (sec)\", fontsize=mpl_xlabel_fontsize)\n",
    "axarr.set_ylabel(\"$f_{mol}$ Prx decamers\",fontsize=mpl_ylabel_fontsize)\n",
    "axarr.set_ylim(0,1)\n",
    "\n",
    "axarr.legend(title=\"Dilution\",loc=\"lower right\")\n",
    "f.tight_layout()\n",
    "f.savefig(os.path.join(fig_dir,\"dil_fmol_Prx_decamer_vs_time_100um.pdf\"),dpi= mpl_dpi)"
   ]
  },
  {
   "cell_type": "markdown",
   "id": "c7e4dc3b",
   "metadata": {},
   "source": [
    "### 10 μM Prx (figure S7b)"
   ]
  },
  {
   "cell_type": "code",
   "execution_count": null,
   "id": "cc6fc1e0",
   "metadata": {
    "ExecuteTime": {
     "end_time": "2023-06-23T08:14:21.674853Z",
     "start_time": "2023-06-23T08:14:21.535366Z"
    }
   },
   "outputs": [],
   "source": [
    "# Do sim\n",
    "dim_init = 10\n",
    "result_dil_10um_Prx = list(map(lambda dil_factor: do_dilution_assay(mod_Prx_dil, \n",
    "                                                                    dil_factor, \n",
    "                                                                    vary_init=dim_init), \n",
    "                               dilution_range))\n"
   ]
  },
  {
   "cell_type": "code",
   "execution_count": null,
   "id": "04605d37",
   "metadata": {
    "ExecuteTime": {
     "end_time": "2023-06-23T08:14:22.108131Z",
     "start_time": "2023-06-23T08:14:21.675932Z"
    }
   },
   "outputs": [],
   "source": [
    "# Plot results\n",
    "cols = 1\n",
    "rows = 1\n",
    "\n",
    "f, axarr = plt.subplots(rows, cols)\n",
    "f.set_size_inches(w=mpl_width, h=mpl_height)\n",
    "\n",
    "for count,result in enumerate(result_dil_10um_Prx):\n",
    "    axarr.plot(result[0],result[1],label=f\"{dilution_range[count]}x\")\n",
    "\n",
    "axarr.set_xlabel(\"Time (sec)\", fontsize=mpl_xlabel_fontsize)\n",
    "axarr.set_ylabel(\"$f_{mol}$ Prx decamers\",fontsize=mpl_ylabel_fontsize)\n",
    "axarr.set_ylim(0,1)\n",
    "\n",
    "axarr.legend(title=\"Dilution\")\n",
    "f.tight_layout()\n",
    "f.savefig(os.path.join(fig_dir,\"dil_fmol_Prx_decamer_vs_time_10um.pdf\"),dpi= mpl_dpi)"
   ]
  },
  {
   "cell_type": "markdown",
   "id": "72be4748",
   "metadata": {},
   "source": [
    "### 1 μM Prx (figure S7c)"
   ]
  },
  {
   "cell_type": "code",
   "execution_count": null,
   "id": "98e6b5c8",
   "metadata": {
    "ExecuteTime": {
     "end_time": "2023-06-23T08:14:22.292395Z",
     "start_time": "2023-06-23T08:14:22.111260Z"
    }
   },
   "outputs": [],
   "source": [
    "# Do sim\n",
    "dim_init = 1\n",
    "result_dil_1um_Prx = list(map(lambda dil_factor: do_dilution_assay(mod_Prx_dil, \n",
    "                                                                   dil_factor, \n",
    "                                                                   vary_init=dim_init), \n",
    "                              dilution_range))\n"
   ]
  },
  {
   "cell_type": "code",
   "execution_count": null,
   "id": "43a7cab4",
   "metadata": {
    "ExecuteTime": {
     "end_time": "2023-06-23T08:14:22.603627Z",
     "start_time": "2023-06-23T08:14:22.293675Z"
    }
   },
   "outputs": [],
   "source": [
    "# Plot results\n",
    "cols = 1\n",
    "rows = 1\n",
    "\n",
    "f, axarr = plt.subplots(rows, cols)\n",
    "f.set_size_inches(w=mpl_width, h=mpl_height)\n",
    "\n",
    "for count,result in enumerate(result_dil_1um_Prx):\n",
    "    axarr.plot(result[0],result[1],label=f\"{dilution_range[count]}x\")\n",
    "\n",
    "axarr.set_xlabel(\"Time (sec)\", fontsize=mpl_xlabel_fontsize)\n",
    "axarr.set_ylabel(\"$f_{mol}$ Prx decamers\",fontsize=mpl_ylabel_fontsize)\n",
    "axarr.set_ylim(0,1)\n",
    "\n",
    "axarr.legend(title=\"Dilution\")\n",
    "f.tight_layout()\n",
    "f.savefig(os.path.join(fig_dir,\"dil_fmol_Prx_decamer_vs_time_1um.pdf\"),dpi= mpl_dpi)"
   ]
  },
  {
   "cell_type": "markdown",
   "id": "999ef8f7",
   "metadata": {},
   "source": [
    "### collated dilution assays (figure 8a, 8b)"
   ]
  },
  {
   "cell_type": "code",
   "execution_count": null,
   "id": "404af39f",
   "metadata": {
    "ExecuteTime": {
     "end_time": "2023-06-23T08:14:23.003879Z",
     "start_time": "2023-06-23T08:14:22.605447Z"
    }
   },
   "outputs": [],
   "source": [
    "# Plot results\n",
    "dil_idx = 4\n",
    "\n",
    "print(f\"Dilution of: {dilution_range[dil_idx]}x\")\n",
    "\n",
    "cols = 1\n",
    "rows = 1\n",
    "\n",
    "f, axarr = plt.subplots(rows, cols)\n",
    "f.set_size_inches(w=mpl_width, h=mpl_height)\n",
    "\n",
    "axarr.plot(result_dil_1um_Prx[dil_idx][0],result_dil_1um_Prx[dil_idx][1],label=f\"1\")\n",
    "axarr.plot(result_dil_10um_Prx[dil_idx][0],result_dil_10um_Prx[dil_idx][1],label=f\"10\")\n",
    "axarr.plot(result_dil_100um_Prx[dil_idx][0],result_dil_100um_Prx[dil_idx][1],label=f\"100\")\n",
    "axarr.plot(result_dil_450um_Prx[dil_idx][0],result_dil_450um_Prx[dil_idx][1],label=f\"450\")\n",
    "\n",
    "axarr.set_xlabel(\"Time (sec)\", fontsize=mpl_xlabel_fontsize)\n",
    "axarr.set_ylabel(\"$f_{mol}$ Prx decamers\",fontsize=mpl_ylabel_fontsize)\n",
    "axarr.set_ylim(0,1)\n",
    "\n",
    "axarr.legend(title=f\"Prx ({mu}M)\")\n",
    "f.tight_layout()\n",
    "f.savefig(os.path.join(fig_dir,\"dil_fmol_Prx_decamer_vs_time_50x.pdf\"),dpi= mpl_dpi)"
   ]
  },
  {
   "cell_type": "code",
   "execution_count": null,
   "id": "b3c56f80",
   "metadata": {
    "ExecuteTime": {
     "end_time": "2023-06-23T08:14:23.615554Z",
     "start_time": "2023-06-23T08:14:23.005874Z"
    }
   },
   "outputs": [],
   "source": [
    "# Plot results\n",
    "dil_idx = 3\n",
    "\n",
    "print(f\"Dilution of: {dilution_range[dil_idx]}x\")\n",
    "\n",
    "cols = 1\n",
    "rows = 1\n",
    "\n",
    "f, axarr = plt.subplots(rows, cols)\n",
    "f.set_size_inches(w=mpl_width, h=mpl_height)\n",
    "\n",
    "axarr.plot(result_dil_1um_Prx[dil_idx][0],result_dil_1um_Prx[dil_idx][1],label=f\"1\")\n",
    "axarr.plot(result_dil_10um_Prx[dil_idx][0],result_dil_10um_Prx[dil_idx][1],label=f\"10\")\n",
    "axarr.plot(result_dil_100um_Prx[dil_idx][0],result_dil_100um_Prx[dil_idx][1],label=f\"100\")\n",
    "axarr.plot(result_dil_450um_Prx[dil_idx][0],result_dil_450um_Prx[dil_idx][1],label=f\"450\")\n",
    "\n",
    "axarr.set_xlabel(\"Time (sec)\", fontsize=mpl_xlabel_fontsize)\n",
    "axarr.set_ylabel(\"$f_{mol}$ Prx decamers\",fontsize=mpl_ylabel_fontsize)\n",
    "axarr.set_ylim(0,1)\n",
    "\n",
    "axarr.legend(title=f\"Prx ({mu}M)\")\n",
    "f.tight_layout()\n",
    "f.savefig(os.path.join(fig_dir,\"dil_fmol_Prx_decamer_vs_time_10x.pdf\"),dpi= mpl_dpi)"
   ]
  },
  {
   "cell_type": "code",
   "execution_count": null,
   "id": "fbfb62e5",
   "metadata": {},
   "outputs": [],
   "source": []
  }
 ],
 "metadata": {
  "kernelspec": {
   "display_name": "Python 3 (ipykernel)",
   "language": "python",
   "name": "python3"
  },
  "language_info": {
   "codemirror_mode": {
    "name": "ipython",
    "version": 3
   },
   "file_extension": ".py",
   "mimetype": "text/x-python",
   "name": "python",
   "nbconvert_exporter": "python",
   "pygments_lexer": "ipython3",
   "version": "3.10.11"
  },
  "toc": {
   "base_numbering": 1,
   "nav_menu": {},
   "number_sections": true,
   "sideBar": true,
   "skip_h1_title": false,
   "title_cell": "Table of Contents",
   "title_sidebar": "Contents",
   "toc_cell": false,
   "toc_position": {
    "height": "calc(100% - 180px)",
    "left": "10px",
    "top": "150px",
    "width": "350.867px"
   },
   "toc_section_display": true,
   "toc_window_display": true
  }
 },
 "nbformat": 4,
 "nbformat_minor": 5
}
