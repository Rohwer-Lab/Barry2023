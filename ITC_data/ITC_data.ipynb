{
 "cells": [
  {
   "cell_type": "markdown",
   "id": "54d8b627",
   "metadata": {},
   "source": [
    "# ITC data processing"
   ]
  },
  {
   "cell_type": "markdown",
   "id": "7556abc0",
   "metadata": {},
   "source": [
    "This notebook performs analyses described in the "
   ]
  },
  {
   "cell_type": "markdown",
   "id": "7a662e83",
   "metadata": {},
   "source": [
    "**Manuscript:**\n",
    "\n",
    "Modelling the decamerisation cycle of PRDX1 and the inhibition-like effect on its peroxidase activity"
   ]
  },
  {
   "cell_type": "markdown",
   "id": "26d92455",
   "metadata": {},
   "source": [
    "**Authors:**\n",
    "\n",
    "C. Barry, C. Pillay, J. Rohwer"
   ]
  },
  {
   "cell_type": "markdown",
   "id": "a0003e14",
   "metadata": {},
   "source": [
    "**Purpose:**\n",
    "\n",
    "Process ITC data digitized from Barranco-Medina et al. 2008 \n",
    "\n",
    "Writes processed PRDX1 data (filename: `ITC_data_PRDX1_processed.csv`)\n",
    "\n",
    "Plot: Figure S1"
   ]
  },
  {
   "cell_type": "markdown",
   "id": "8409c4e9",
   "metadata": {},
   "source": [
    "**Requirements:**\n",
    "\n",
    "Python libraries (see **Imports** below)\n",
    "\n",
    "PRDX1 ITC data (filename: `ITC_data_PRDX1.csv`)"
   ]
  },
  {
   "cell_type": "markdown",
   "id": "99565328",
   "metadata": {
    "ExecuteTime": {
     "end_time": "2023-01-27T09:27:20.711726Z",
     "start_time": "2023-01-27T09:27:20.708166Z"
    }
   },
   "source": [
    "##### Imports"
   ]
  },
  {
   "cell_type": "code",
   "execution_count": null,
   "id": "0582ff22",
   "metadata": {
    "ExecuteTime": {
     "end_time": "2023-06-23T06:38:19.475271Z",
     "start_time": "2023-06-23T06:38:17.759179Z"
    }
   },
   "outputs": [],
   "source": [
    "import os\n",
    "import math\n",
    "\n",
    "import numpy as np\n",
    "from lmfit import minimize, Parameters, Parameter, report_fit\n",
    "from matplotlib import pyplot as plt\n",
    "import pandas as pd\n",
    "from sklearn.metrics import auc\n",
    "from scipy.interpolate import interp1d\n",
    "\n",
    "import pysces\n"
   ]
  },
  {
   "cell_type": "markdown",
   "id": "3642952e",
   "metadata": {},
   "source": [
    "###### Get directory paths"
   ]
  },
  {
   "cell_type": "code",
   "execution_count": null,
   "id": "7d47b1a9",
   "metadata": {
    "ExecuteTime": {
     "end_time": "2023-06-23T06:38:19.480469Z",
     "start_time": "2023-06-23T06:38:19.477358Z"
    }
   },
   "outputs": [],
   "source": [
    "prev_dir = os.path.split(os.getcwd())[0]\n",
    "\n",
    "mod_dir = os.path.join(prev_dir,\"models\")\n",
    "if not os.path.isdir(mod_dir): os.mkdir(mod_dir) # ensure dir exists\n",
    "    \n",
    "fig_dir = os.path.join(os.getcwd(),\"Figures\")\n",
    "if not os.path.isdir(fig_dir): os.mkdir(fig_dir) # ensure dir exists\n"
   ]
  },
  {
   "cell_type": "markdown",
   "id": "cc31eec9",
   "metadata": {},
   "source": [
    "###### Matplotlib stuff"
   ]
  },
  {
   "cell_type": "code",
   "execution_count": null,
   "id": "2474e99b",
   "metadata": {
    "ExecuteTime": {
     "end_time": "2023-06-23T06:38:19.497867Z",
     "start_time": "2023-06-23T06:38:19.482373Z"
    }
   },
   "outputs": [],
   "source": [
    "%matplotlib inline\n",
    "\n",
    "multiplier = 1\n",
    "mpl_width = 4.5*multiplier\n",
    "mpl_height = 3.5*multiplier\n",
    "mpl_dpi = 600\n",
    "mpl_xlabel_fontsize = \"large\"\n",
    "mpl_ylabel_fontsize = \"large\"\n",
    "mu = \"\\u03bc\""
   ]
  },
  {
   "cell_type": "markdown",
   "id": "62411615",
   "metadata": {},
   "source": [
    "## Barranco-Medina PRDX1 Data"
   ]
  },
  {
   "cell_type": "code",
   "execution_count": null,
   "id": "8ad488e1",
   "metadata": {
    "ExecuteTime": {
     "end_time": "2023-06-23T06:38:19.808653Z",
     "start_time": "2023-06-23T06:38:19.501914Z"
    }
   },
   "outputs": [],
   "source": [
    "df_PRDX1 = pd.read_csv('ITC_data_PRDX1.csv', names = [\"Time (min)\", f\"Rate {mu}cal/sec\"], \n",
    "                       sep = \",\",index_col=0)\n",
    "df_PRDX1 = df_PRDX1.reset_index().drop_duplicates(\n",
    "        subset='Time (min)', keep='last'\n",
    "    ).set_index('Time (min)').sort_index()\n",
    "\n",
    "df_PRDX1.plot() "
   ]
  },
  {
   "cell_type": "code",
   "execution_count": null,
   "id": "0f4e00cf",
   "metadata": {
    "ExecuteTime": {
     "end_time": "2023-06-23T06:38:19.814040Z",
     "start_time": "2023-06-23T06:38:19.810660Z"
    }
   },
   "outputs": [],
   "source": [
    "# Convert x-data to seconds\n",
    "df_PRDX1_orig = df_PRDX1.copy()\n",
    "df_PRDX1.index = df_PRDX1.index*60\n",
    "df_PRDX1.index.names = ['Time (sec)']\n"
   ]
  },
  {
   "cell_type": "code",
   "execution_count": null,
   "id": "37c2a54e",
   "metadata": {
    "ExecuteTime": {
     "end_time": "2023-06-23T06:38:20.124660Z",
     "start_time": "2023-06-23T06:38:19.815947Z"
    }
   },
   "outputs": [],
   "source": [
    "# View a peak\n",
    "inject_num = 3\n",
    "df_PRDX1.loc[(inject_num*200):(inject_num*200+200)].plot()"
   ]
  },
  {
   "cell_type": "markdown",
   "id": "515afeff",
   "metadata": {},
   "source": [
    "### Process PRDX1 data"
   ]
  },
  {
   "cell_type": "markdown",
   "id": "931266b3",
   "metadata": {},
   "source": [
    "#### Subtract delay and first data point"
   ]
  },
  {
   "cell_type": "code",
   "execution_count": null,
   "id": "03754082",
   "metadata": {
    "ExecuteTime": {
     "end_time": "2023-06-23T06:38:20.342317Z",
     "start_time": "2023-06-23T06:38:20.126086Z"
    }
   },
   "outputs": [],
   "source": [
    "start_delay = 174.00\n",
    "df_PRDX1_post_delay = df_PRDX1[start_delay:].copy()\n",
    "df_PRDX1_post_delay.index = df_PRDX1_post_delay.index - start_delay\n",
    "df_PRDX1_post_delay.plot()"
   ]
  },
  {
   "cell_type": "code",
   "execution_count": null,
   "id": "6f76ed3f",
   "metadata": {
    "ExecuteTime": {
     "end_time": "2023-06-23T06:38:20.346983Z",
     "start_time": "2023-06-23T06:38:20.343982Z"
    }
   },
   "outputs": [],
   "source": [
    "df_PRDX1 = df_PRDX1_post_delay.copy()"
   ]
  },
  {
   "cell_type": "markdown",
   "id": "aeda1fa9",
   "metadata": {},
   "source": [
    "#### Visualize overlayed peaks to confirm injection interval"
   ]
  },
  {
   "cell_type": "code",
   "execution_count": null,
   "id": "62fe6e18",
   "metadata": {
    "ExecuteTime": {
     "end_time": "2023-06-23T06:38:20.356976Z",
     "start_time": "2023-06-23T06:38:20.348784Z"
    }
   },
   "outputs": [],
   "source": [
    "injection_interval = 200.0\n",
    "num_injections = math.floor(df_PRDX1.index[-1]/injection_interval)\n",
    "data_split_by_injection = []\n",
    "\n",
    "count = 0\n",
    "while count < num_injections:\n",
    "    start = count*injection_interval\n",
    "    end = start + injection_interval\n",
    "    df_split = pd.DataFrame(df_PRDX1.loc[start: end])\n",
    "    data_split_by_injection.append(df_split)\n",
    "    count += 1"
   ]
  },
  {
   "cell_type": "code",
   "execution_count": null,
   "id": "5932bf26",
   "metadata": {
    "ExecuteTime": {
     "end_time": "2023-06-23T06:38:20.574401Z",
     "start_time": "2023-06-23T06:38:20.361745Z"
    }
   },
   "outputs": [],
   "source": [
    "rows = 1\n",
    "cols =1\n",
    "\n",
    "f,axarr = plt.subplots(rows,cols)\n",
    "f.set_size_inches(w=mpl_width*cols, h=mpl_height*rows)\n",
    "\n",
    "for count,df_subset in enumerate(data_split_by_injection):\n",
    "    axarr.plot(df_subset.index - count*injection_interval,df_subset['Rate μcal/sec'])\n",
    "axarr.set_xlabel(f'Time since injection (sec)',fontsize = mpl_xlabel_fontsize)\n",
    "axarr.set_ylabel(f'{mu}cal/sec',fontsize = mpl_ylabel_fontsize)\n",
    "axarr.set_title(\"Analysis of Barranco-Medina Fig 1c top\")\n",
    "\n",
    "f.tight_layout()"
   ]
  },
  {
   "cell_type": "code",
   "execution_count": null,
   "id": "9a12c68b",
   "metadata": {
    "ExecuteTime": {
     "end_time": "2023-06-23T06:38:20.793948Z",
     "start_time": "2023-06-23T06:38:20.576391Z"
    }
   },
   "outputs": [],
   "source": [
    "rows = 1\n",
    "cols =1\n",
    "\n",
    "f,axarr = plt.subplots(rows,cols)\n",
    "f.set_size_inches(w=mpl_width*cols, h=mpl_height*rows)\n",
    "\n",
    "peak_xs = []\n",
    "peak_ys = []\n",
    "for count,df_subset in enumerate(data_split_by_injection):\n",
    "    peak_loc = df_subset['Rate μcal/sec'].idxmin()\n",
    "    if df_subset['Rate μcal/sec'][peak_loc] < -0.1:\n",
    "        peak_xs.append((peak_loc - count*injection_interval))\n",
    "        peak_ys.append(df_subset.loc[peak_loc,'Rate μcal/sec'])\n",
    "axarr.plot(peak_xs,peak_ys, \"o\", label = \"Peak\")\n",
    "axarr.plot(sum(peak_xs)/len(peak_xs),sum(peak_ys)/len(peak_ys), \"ro\")\n",
    "\n",
    "uptick_xs = []\n",
    "uptick_ys = []\n",
    "for count,df_subset in enumerate(data_split_by_injection):\n",
    "    uptick_loc = df_subset[df_subset['Rate μcal/sec']<-0.05]\n",
    "    if uptick_loc.empty != True:\n",
    "        uptick_loc = uptick_loc.index[0]\n",
    "        uptick_xs.append((uptick_loc - count*injection_interval))\n",
    "        uptick_ys.append(df_subset.loc[uptick_loc,'Rate μcal/sec'])\n",
    "axarr.plot(uptick_xs,uptick_ys, \"o\", label = \"Uptick\")\n",
    "axarr.plot(sum(uptick_xs)/len(uptick_xs),sum(uptick_ys)/len(uptick_ys), \"go\")\n",
    "\n",
    "axarr.set_xlim(0,30)\n",
    "axarr.set_xlabel(f'Time since injection (sec)',fontsize = mpl_xlabel_fontsize)\n",
    "axarr.set_ylabel(f'{mu}cal/sec',fontsize = mpl_ylabel_fontsize)\n",
    "axarr.set_title(\"Analysis of Barranco-Medina Fig 1c top\")\n",
    "\n",
    "axarr.legend(loc='upper right')\n",
    "f.tight_layout()"
   ]
  },
  {
   "cell_type": "markdown",
   "id": "81a05f1e",
   "metadata": {},
   "source": [
    "#### Laplace Transform (figure S1a and S1b)"
   ]
  },
  {
   "cell_type": "code",
   "execution_count": null,
   "id": "bceea3d4",
   "metadata": {
    "ExecuteTime": {
     "end_time": "2023-06-23T06:38:20.990793Z",
     "start_time": "2023-06-23T06:38:20.795573Z"
    }
   },
   "outputs": [],
   "source": [
    "count = 1\n",
    "start = count*injection_interval\n",
    "end = start + injection_interval\n",
    "df_PRDX1.loc[start: end].plot()"
   ]
  },
  {
   "cell_type": "code",
   "execution_count": null,
   "id": "6b8f5c84",
   "metadata": {
    "ExecuteTime": {
     "end_time": "2023-06-23T06:38:21.038326Z",
     "start_time": "2023-06-23T06:38:20.992168Z"
    }
   },
   "outputs": [],
   "source": [
    "num_injections = math.floor(df_PRDX1.index[-1]/injection_interval)\n",
    "data_split_by_injection = []\n",
    "\n",
    "count = 0\n",
    "while count < num_injections:\n",
    "    start = count*injection_interval\n",
    "    end = start + injection_interval\n",
    "    df_split = pd.DataFrame(df_PRDX1.loc[start: end])\n",
    "    data_split_by_injection.append(df_split)\n",
    "    count += 1\n",
    "\n",
    "delay = 20 # From device data or above plot\n",
    "df_subset = data_split_by_injection[0]\n",
    "y = df_subset[\"Rate μcal/sec\"]\n",
    "x = df_subset.index\n",
    "der = np.gradient(y,x)\n",
    "y = df_subset[\"Rate μcal/sec\"]+delay*der # Laplace here\n",
    "df_PRDX1_Lap = pd.DataFrame(y)\n",
    "data_split_by_injection.pop(0)\n",
    "\n",
    "for count,df_subset in enumerate(data_split_by_injection):\n",
    "    y = df_subset[\"Rate μcal/sec\"]\n",
    "    x = df_subset.index\n",
    "    der = np.gradient(y,x)\n",
    "    y = df_subset[\"Rate μcal/sec\"]+delay*der\n",
    "    df_temp = pd.DataFrame(y)\n",
    "    df_PRDX1_Lap = pd.concat([df_PRDX1_Lap,df_temp])"
   ]
  },
  {
   "cell_type": "code",
   "execution_count": null,
   "id": "b29210ee",
   "metadata": {
    "ExecuteTime": {
     "end_time": "2023-06-23T06:38:21.390950Z",
     "start_time": "2023-06-23T06:38:21.044162Z"
    }
   },
   "outputs": [],
   "source": [
    "injection_interval = 200.0\n",
    "num_injections = math.floor(df_PRDX1_Lap.index[-1]/injection_interval)\n",
    "data_split_by_injection = []\n",
    "\n",
    "count = 0\n",
    "while count < num_injections:\n",
    "    start = count*injection_interval\n",
    "    end = start + injection_interval\n",
    "    df_split = pd.DataFrame(df_PRDX1_Lap.loc[start: end])\n",
    "    data_split_by_injection.append(df_split)\n",
    "    count += 1\n",
    "\n",
    "rows = 1\n",
    "cols =1\n",
    "\n",
    "f,axarr = plt.subplots(rows,cols)\n",
    "f.set_size_inches(w=mpl_width*cols, h=mpl_height*rows)\n",
    "\n",
    "for count,df_subset in enumerate(data_split_by_injection):\n",
    "    axarr.plot(df_subset.index - count*injection_interval,df_subset['Rate μcal/sec'])\n",
    "axarr.set_xlabel(f'Time since injection (sec)',fontsize = mpl_xlabel_fontsize)\n",
    "axarr.set_ylabel(f'{mu}cal/sec',fontsize = mpl_ylabel_fontsize)\n",
    "axarr.set_title(\"Analysis of Barranco-Medina Fig 1a top\")\n",
    "\n",
    "f.tight_layout()\n"
   ]
  },
  {
   "cell_type": "code",
   "execution_count": null,
   "id": "278f6d14",
   "metadata": {
    "ExecuteTime": {
     "end_time": "2023-06-23T06:38:21.787261Z",
     "start_time": "2023-06-23T06:38:21.392638Z"
    }
   },
   "outputs": [],
   "source": [
    "# View a peak\n",
    "inject_num = 8\n",
    "\n",
    "start = inject_num*injection_interval\n",
    "end = start + injection_interval\n",
    "\n",
    "rows = 1\n",
    "cols =1\n",
    "\n",
    "f,axarr = plt.subplots(rows,cols)\n",
    "f.set_size_inches(w=mpl_width*cols, h=mpl_height*rows)\n",
    "\n",
    "axarr.plot(df_PRDX1_Lap.loc[start: end].index,df_PRDX1_Lap.loc[start: end]['Rate μcal/sec'])\n",
    "\n",
    "axarr.plot(df_PRDX1.loc[start: end].index,df_PRDX1.loc[start: end]['Rate μcal/sec'], \"k--\")\n",
    "    \n",
    "axarr.set_xlabel(f'Time (sec)',fontsize = mpl_xlabel_fontsize)\n",
    "axarr.set_ylabel(f'{mu}cal/sec',fontsize = mpl_ylabel_fontsize)\n",
    "\n",
    "f.tight_layout()\n",
    "f.savefig(os.path.join(fig_dir,\"ITC_process_Lap_Orig_vs_time.pdf\"),dpi= mpl_dpi)"
   ]
  },
  {
   "cell_type": "code",
   "execution_count": null,
   "id": "79f8e1c8",
   "metadata": {
    "ExecuteTime": {
     "end_time": "2023-06-23T06:38:22.098672Z",
     "start_time": "2023-06-23T06:38:21.790721Z"
    }
   },
   "outputs": [],
   "source": [
    "rows = 1\n",
    "cols =1\n",
    "\n",
    "f,axarr = plt.subplots(rows,cols)\n",
    "f.set_size_inches(w=mpl_width*cols, h=mpl_height*rows)\n",
    "\n",
    "axarr.plot(df_PRDX1_Lap.index,df_PRDX1_Lap['Rate μcal/sec'])\n",
    "    \n",
    "axarr.set_xlabel(f'Time (sec)',fontsize = mpl_xlabel_fontsize)\n",
    "axarr.set_ylabel(f'{mu}cal/sec',fontsize = mpl_ylabel_fontsize)\n",
    "# axarr.set_title(\"Analysis of Barranco-Medina Fig 1a top\")\n",
    "\n",
    "f.tight_layout()\n",
    "f.savefig(os.path.join(fig_dir,\"ITC_process_Lap_trace_vs_time.pdf\"),dpi= mpl_dpi)"
   ]
  },
  {
   "cell_type": "code",
   "execution_count": null,
   "id": "38e55420",
   "metadata": {
    "ExecuteTime": {
     "end_time": "2023-06-23T06:38:22.111012Z",
     "start_time": "2023-06-23T06:38:22.102070Z"
    }
   },
   "outputs": [],
   "source": [
    "df_PRDX1 = df_PRDX1_Lap.copy()"
   ]
  },
  {
   "cell_type": "markdown",
   "id": "06d19c87",
   "metadata": {},
   "source": [
    "#### Interpolate at x integer points"
   ]
  },
  {
   "cell_type": "code",
   "execution_count": null,
   "id": "2f07fed7",
   "metadata": {
    "ExecuteTime": {
     "end_time": "2023-06-23T06:38:23.088617Z",
     "start_time": "2023-06-23T06:38:22.115120Z"
    }
   },
   "outputs": [],
   "source": [
    "interp_exp_data = np.zeros((math.floor(df_PRDX1.index[-2]),2))\n",
    "\n",
    "for count,xy_point in enumerate(interp_exp_data):\n",
    "    if count == len(interp_exp_data):\n",
    "        break    \n",
    "    if count+1 <= df_PRDX1.index.min():\n",
    "        x2 = 0.0\n",
    "        y2 = df_PRDX1.iloc[0]\n",
    "    else:\n",
    "        x2 = df_PRDX1.index[df_PRDX1.index<count+1][-1]\n",
    "        y2 = df_PRDX1.loc[x2][\"Rate μcal/sec\"]\n",
    "    \n",
    "    x1 = df_PRDX1.index[df_PRDX1.index>count+1][0]\n",
    "    y1 = df_PRDX1.loc[x1][\"Rate μcal/sec\"]\n",
    "    y_interp = interp1d([x1,x2], [y1,y2])(count+1)\n",
    "    interp_exp_data[count,0] = count+1\n",
    "    interp_exp_data[count,1] = y_interp\n",
    "    \n",
    "df_PRDX1_interp = pd.DataFrame(interp_exp_data, columns = [\"Time (sec)\", f\"Rate {mu}cal/sec\"])\n",
    "df_PRDX1_interp['Time (sec)'] = np.rint(df_PRDX1_interp['Time (sec)']).astype(int)\n",
    "df_PRDX1_interp = df_PRDX1_interp.drop_duplicates(\n",
    "        subset='Time (sec)', keep='first'\n",
    "    ).set_index('Time (sec)')"
   ]
  },
  {
   "cell_type": "code",
   "execution_count": null,
   "id": "4f043ee1",
   "metadata": {
    "ExecuteTime": {
     "end_time": "2023-06-23T06:38:23.431763Z",
     "start_time": "2023-06-23T06:38:23.090581Z"
    }
   },
   "outputs": [],
   "source": [
    "rows = 1\n",
    "cols =1\n",
    "\n",
    "f,axarr = plt.subplots(rows,cols)\n",
    "f.set_size_inches(w=mpl_width*cols, h=mpl_height*rows)\n",
    "\n",
    "axarr.plot(df_PRDX1_interp.index,df_PRDX1_interp[\"Rate μcal/sec\"], label = \"interpolated exp data\")\n",
    "axarr.plot(df_PRDX1.index, df_PRDX1[\"Rate μcal/sec\"],\"k--\", label = \"original data\")\n",
    "\n",
    "axarr.set_xlabel(f'Time (min)',fontsize = mpl_xlabel_fontsize)\n",
    "axarr.set_ylabel(f'{mu}cal/sec',fontsize = mpl_ylabel_fontsize)\n",
    "axarr.set_title(f\"Fig 1c\")\n",
    "axarr.legend()\n",
    "\n",
    "f.tight_layout()"
   ]
  },
  {
   "cell_type": "code",
   "execution_count": null,
   "id": "48945aaf",
   "metadata": {
    "ExecuteTime": {
     "end_time": "2023-06-23T06:38:23.694990Z",
     "start_time": "2023-06-23T06:38:23.435007Z"
    }
   },
   "outputs": [],
   "source": [
    "rows = 1\n",
    "cols =1\n",
    "\n",
    "f,axarr = plt.subplots(rows,cols)\n",
    "f.set_size_inches(w=mpl_width*cols, h=mpl_height*rows)\n",
    "\n",
    "axarr.plot(df_PRDX1_interp.index,df_PRDX1_interp[\"Rate μcal/sec\"])\n",
    "\n",
    "axarr.set_xlabel(f'Time (min)',fontsize = mpl_xlabel_fontsize)\n",
    "axarr.set_ylabel(f'{mu}cal/sec',fontsize = mpl_ylabel_fontsize)\n",
    "\n",
    "f.tight_layout()\n"
   ]
  },
  {
   "cell_type": "code",
   "execution_count": null,
   "id": "d298aea1",
   "metadata": {
    "ExecuteTime": {
     "end_time": "2023-06-23T06:38:23.939250Z",
     "start_time": "2023-06-23T06:38:23.697246Z"
    }
   },
   "outputs": [],
   "source": [
    "inject_num = 2\n",
    "start = inject_num*int(injection_interval)+1\n",
    "stop = inject_num*int(injection_interval) + int(injection_interval)\n",
    "\n",
    "rows = 1\n",
    "cols =1\n",
    "\n",
    "f,axarr = plt.subplots(rows,cols)\n",
    "f.set_size_inches(w=mpl_width*cols, h=mpl_height*rows)\n",
    "\n",
    "axarr.plot(df_PRDX1_interp.loc[start:stop].index,df_PRDX1_interp.loc[start:stop], \n",
    "           label = \"interpolated exp data\")\n",
    "axarr.plot(df_PRDX1.loc[start:stop].index, df_PRDX1.loc[start:stop][\"Rate μcal/sec\"],\"k--\", \n",
    "           label = \"original data\")\n",
    "\n",
    "axarr.set_xlabel(f'Time (min)',fontsize = mpl_xlabel_fontsize)\n",
    "axarr.set_ylabel(f'{mu}cal/sec',fontsize = mpl_ylabel_fontsize)\n",
    "axarr.set_title(f\"Fig 1c\")\n",
    "axarr.legend()\n",
    "\n",
    "f.tight_layout()"
   ]
  },
  {
   "cell_type": "code",
   "execution_count": null,
   "id": "79000ea9",
   "metadata": {
    "ExecuteTime": {
     "end_time": "2023-06-23T06:38:23.948417Z",
     "start_time": "2023-06-23T06:38:23.943847Z"
    }
   },
   "outputs": [],
   "source": [
    "df_PRDX1 = df_PRDX1_interp.copy()"
   ]
  },
  {
   "cell_type": "markdown",
   "id": "f1384cf9",
   "metadata": {},
   "source": [
    "#### Dissociation injections only"
   ]
  },
  {
   "cell_type": "code",
   "execution_count": null,
   "id": "f1b2059f",
   "metadata": {
    "ExecuteTime": {
     "end_time": "2023-06-23T06:38:24.158919Z",
     "start_time": "2023-06-23T06:38:23.951416Z"
    }
   },
   "outputs": [],
   "source": [
    "num_disso_injections = 10\n",
    "\n",
    "start = 0\n",
    "end = injection_interval\n",
    "df_PRDX1_disso = pd.DataFrame(df_PRDX1.loc[start: end])\n",
    "\n",
    "count = 1\n",
    "while count <= num_disso_injections-1: # First injection is at 0\n",
    "    start = count*injection_interval\n",
    "    end = start + injection_interval\n",
    "    df_temp = pd.DataFrame(df_PRDX1.loc[start: end])\n",
    "    df_PRDX1_disso = pd.concat([df_PRDX1_disso,df_temp])\n",
    "    count += 1\n",
    "    \n",
    "df_PRDX1_disso.plot()"
   ]
  },
  {
   "cell_type": "code",
   "execution_count": null,
   "id": "992c1ffa",
   "metadata": {
    "ExecuteTime": {
     "end_time": "2023-06-23T06:38:24.167170Z",
     "start_time": "2023-06-23T06:38:24.160415Z"
    }
   },
   "outputs": [],
   "source": [
    "df_PRDX1 = df_PRDX1_disso.copy()"
   ]
  },
  {
   "cell_type": "markdown",
   "id": "1a300dc4",
   "metadata": {},
   "source": [
    "#### Normalize to AUC  (figure S1c)"
   ]
  },
  {
   "cell_type": "code",
   "execution_count": null,
   "id": "1b25855b",
   "metadata": {
    "ExecuteTime": {
     "end_time": "2023-06-23T06:38:24.184976Z",
     "start_time": "2023-06-23T06:38:24.170527Z"
    }
   },
   "outputs": [],
   "source": [
    "num_disso_injections = math.floor(df_PRDX1.index[-1]/injection_interval)\n",
    "\n",
    "start = 0\n",
    "end = injection_interval\n",
    "df_temp = pd.DataFrame(df_PRDX1.loc[start: end])\n",
    "area = np.abs(np.trapz(df_temp.values.flatten(),df_temp.index))\n",
    "print(area)\n",
    "df_PRDX1_AUCnorm = df_temp/area\n",
    "\n",
    "count = 1\n",
    "while count < num_disso_injections:\n",
    "    start = count*injection_interval\n",
    "    end = start + injection_interval\n",
    "    df_temp = pd.DataFrame(df_PRDX1.loc[start: end])\n",
    "    area = np.abs(np.trapz(df_temp.values.flatten(),df_temp.index))\n",
    "    print(area)\n",
    "    df_temp = df_temp/area\n",
    "    df_PRDX1_AUCnorm = pd.concat([df_PRDX1_AUCnorm,df_temp])\n",
    "    count += 1"
   ]
  },
  {
   "cell_type": "code",
   "execution_count": null,
   "id": "f1ca848e",
   "metadata": {
    "ExecuteTime": {
     "end_time": "2023-06-23T06:38:24.490382Z",
     "start_time": "2023-06-23T06:38:24.187402Z"
    }
   },
   "outputs": [],
   "source": [
    "rows = 1\n",
    "cols =1\n",
    "\n",
    "f,axarr = plt.subplots(rows,cols)\n",
    "f.set_size_inches(w=mpl_width*cols, h=mpl_height*rows)\n",
    "\n",
    "axarr.plot(df_PRDX1_AUCnorm.index, df_PRDX1_AUCnorm[\"Rate μcal/sec\"])\n",
    "\n",
    "axarr.set_xlabel(f'Time (sec)',fontsize = mpl_xlabel_fontsize)\n",
    "axarr.set_ylabel(f'{mu}cal/sec',fontsize = mpl_ylabel_fontsize)\n",
    "\n",
    "f.tight_layout()\n",
    "f.savefig(os.path.join(fig_dir,\"ITC_process_AUCnorm_vs_time.pdf\"),dpi= mpl_dpi)"
   ]
  },
  {
   "cell_type": "code",
   "execution_count": null,
   "id": "bb56976a",
   "metadata": {
    "ExecuteTime": {
     "end_time": "2023-06-23T06:38:24.495267Z",
     "start_time": "2023-06-23T06:38:24.492078Z"
    }
   },
   "outputs": [],
   "source": [
    "df_PRDX1 = df_PRDX1_AUCnorm.copy()"
   ]
  },
  {
   "cell_type": "markdown",
   "id": "3ee6f82b",
   "metadata": {},
   "source": [
    "#### Filter out pre-delay data (figure S1d)"
   ]
  },
  {
   "cell_type": "code",
   "execution_count": null,
   "id": "16524bdf",
   "metadata": {
    "ExecuteTime": {
     "end_time": "2023-06-23T06:38:24.677021Z",
     "start_time": "2023-06-23T06:38:24.500788Z"
    }
   },
   "outputs": [],
   "source": [
    "num_injections = math.floor(df_PRDX1_AUCnorm.index[-1]/injection_interval)\n",
    "data_split_by_injection = []\n",
    "\n",
    "start = 0\n",
    "end = injection_interval\n",
    "df_PRDX1_filtered = pd.DataFrame(df_PRDX1_AUCnorm.loc[start+delay: end-5])\n",
    "\n",
    "count = 1\n",
    "while count < num_injections:\n",
    "    start = count*injection_interval\n",
    "    end = start + injection_interval\n",
    "    df_temp = pd.DataFrame(df_PRDX1_AUCnorm.loc[start+delay: end-5])\n",
    "    df_PRDX1_filtered = pd.concat([df_PRDX1_filtered,df_temp])\n",
    "    count += 1\n",
    "    \n",
    "df_PRDX1_filtered.plot()"
   ]
  },
  {
   "cell_type": "code",
   "execution_count": null,
   "id": "809847b9",
   "metadata": {
    "ExecuteTime": {
     "end_time": "2023-06-23T06:38:24.931451Z",
     "start_time": "2023-06-23T06:38:24.678638Z"
    }
   },
   "outputs": [],
   "source": [
    "rows = 1\n",
    "cols =1\n",
    "\n",
    "f,axarr = plt.subplots(rows,cols)\n",
    "f.set_size_inches(w=mpl_width*cols, h=mpl_height*rows)\n",
    "\n",
    "axarr.plot(df_PRDX1_filtered.index, df_PRDX1_filtered[\"Rate μcal/sec\"])\n",
    "\n",
    "axarr.set_xlabel(f'Time (sec)',fontsize = mpl_xlabel_fontsize)\n",
    "axarr.set_ylabel(f'{mu}cal/sec',fontsize = mpl_ylabel_fontsize)\n",
    "\n",
    "f.tight_layout()\n",
    "f.savefig(os.path.join(fig_dir,\"ITC_process_filtered_vs_time.pdf\"),dpi= mpl_dpi)"
   ]
  },
  {
   "cell_type": "markdown",
   "id": "286eec73",
   "metadata": {},
   "source": [
    "### Write processed PRDX1 data"
   ]
  },
  {
   "cell_type": "code",
   "execution_count": null,
   "id": "7e9516af",
   "metadata": {
    "ExecuteTime": {
     "end_time": "2023-06-23T06:38:24.948025Z",
     "start_time": "2023-06-23T06:38:24.933718Z"
    }
   },
   "outputs": [],
   "source": [
    "df_PRDX1_filtered.to_csv(os.path.join(os.getcwd(),\"ITC_data_PRDX1_processed.csv\"), sep=',', encoding='utf-8')"
   ]
  },
  {
   "cell_type": "code",
   "execution_count": null,
   "id": "60a197ed",
   "metadata": {},
   "outputs": [],
   "source": []
  }
 ],
 "metadata": {
  "kernelspec": {
   "display_name": "Python 3 (ipykernel)",
   "language": "python",
   "name": "python3"
  },
  "language_info": {
   "codemirror_mode": {
    "name": "ipython",
    "version": 3
   },
   "file_extension": ".py",
   "mimetype": "text/x-python",
   "name": "python",
   "nbconvert_exporter": "python",
   "pygments_lexer": "ipython3",
   "version": "3.10.11"
  },
  "toc": {
   "base_numbering": 1,
   "nav_menu": {},
   "number_sections": true,
   "sideBar": true,
   "skip_h1_title": false,
   "title_cell": "Table of Contents",
   "title_sidebar": "Contents",
   "toc_cell": false,
   "toc_position": {
    "height": "calc(100% - 180px)",
    "left": "10px",
    "top": "150px",
    "width": "340.633px"
   },
   "toc_section_display": true,
   "toc_window_display": true
  }
 },
 "nbformat": 4,
 "nbformat_minor": 5
}
