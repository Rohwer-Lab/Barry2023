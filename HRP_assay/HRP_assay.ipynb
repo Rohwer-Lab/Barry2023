{
 "cells": [
  {
   "cell_type": "markdown",
   "id": "821a7d55",
   "metadata": {},
   "source": [
    "# HRP assay with Prx decamer reactions"
   ]
  },
  {
   "cell_type": "markdown",
   "id": "386d88c0",
   "metadata": {},
   "source": [
    "This notebook performs analyses described in the "
   ]
  },
  {
   "cell_type": "markdown",
   "id": "a8a1304c",
   "metadata": {},
   "source": [
    "**Manuscript:**\n",
    "\n",
    "Modelling the decamerisation cycle of PRDX1 and the inhibition-like effect on its peroxidase activity"
   ]
  },
  {
   "cell_type": "markdown",
   "id": "ccb46a5d",
   "metadata": {},
   "source": [
    "**Authors:**\n",
    "\n",
    "C. Barry, C. Pillay, J. Rohwer"
   ]
  },
  {
   "cell_type": "markdown",
   "id": "71955015",
   "metadata": {},
   "source": [
    "**Purpose:**\n",
    "\n",
    "Performs assays with the above models with all components at equilibrium\n",
    "\n",
    "Performs assays with the above models with components diluting\n",
    "\n",
    "Performs assays to determine the oxidation and/or oligomer status with above models \n",
    "\n",
    "Plots: Figures 7a, 7b, 8c, 8d, S8a, S8b, S9c and S9d\n"
   ]
  },
  {
   "cell_type": "markdown",
   "id": "9da6b677",
   "metadata": {},
   "source": [
    "**Requirements:**\n",
    "\n",
    "Python libraries (see **Imports** below)\n",
    "\n",
    "Prx parameters (filename: `fitted_koff_kon_PRDX1_params.csv`)\n",
    "\n",
    "A `.png` file of Figure 2 from Manta et al. 2009\n",
    "\n",
    "Model file of HRP-PRDX2 no decamers (filename: `HRP_PRDX2.psc`)\n",
    "\n",
    "Model file of HRP-PRDX2 with decamers (filename: `HRP_PRDX2_decfull.psc`)\n",
    "\n",
    "Model file of HRP-PRDX2 with decamers and 5 disulphide-bridges (filename: `HRP_PRDX2_decfull_5dsb.psc`)"
   ]
  },
  {
   "cell_type": "markdown",
   "id": "8d22862a",
   "metadata": {},
   "source": [
    "##### Imports"
   ]
  },
  {
   "cell_type": "code",
   "execution_count": null,
   "id": "f1b1efe4",
   "metadata": {
    "ExecuteTime": {
     "end_time": "2023-07-27T08:58:28.892372Z",
     "start_time": "2023-07-27T08:58:27.618150Z"
    }
   },
   "outputs": [],
   "source": [
    "import os\n",
    "import copy\n",
    "from IPython.display import Image, display \n",
    "import math\n",
    "\n",
    "import numpy as np\n",
    "from matplotlib import pyplot as plt\n",
    "import matplotlib.patches as mpatches\n",
    "import pandas as pd\n",
    "from sklearn.linear_model import LinearRegression\n",
    "\n",
    "import pysces\n"
   ]
  },
  {
   "cell_type": "markdown",
   "id": "14c55dd9",
   "metadata": {},
   "source": [
    "###### Save directories"
   ]
  },
  {
   "cell_type": "code",
   "execution_count": null,
   "id": "2f79cd54",
   "metadata": {
    "ExecuteTime": {
     "end_time": "2023-07-27T08:58:28.899179Z",
     "start_time": "2023-07-27T08:58:28.894475Z"
    }
   },
   "outputs": [],
   "source": [
    "prev_dir = os.path.split(os.getcwd())[0]\n",
    "\n",
    "mod_dir = os.path.join(prev_dir,\"models\")\n",
    "if not os.path.isdir(mod_dir): os.mkdir(mod_dir) # ensure dir exists\n",
    "\n",
    "par_dir = os.path.join(prev_dir,\"params\")\n",
    "if not os.path.isdir(par_dir): os.mkdir(par_dir) # ensure dir exists\n",
    "    \n",
    "fig_dir = os.path.join(os.getcwd(),\"Figures\")\n",
    "if not os.path.isdir(fig_dir): os.mkdir(fig_dir) # ensure dir exists\n"
   ]
  },
  {
   "cell_type": "markdown",
   "id": "26349861",
   "metadata": {},
   "source": [
    "###### Matplotlib stuff"
   ]
  },
  {
   "cell_type": "code",
   "execution_count": null,
   "id": "3296b822",
   "metadata": {
    "ExecuteTime": {
     "end_time": "2023-07-27T08:58:28.910990Z",
     "start_time": "2023-07-27T08:58:28.900803Z"
    }
   },
   "outputs": [],
   "source": [
    "%matplotlib inline\n",
    "\n",
    "mpl_width = 4.5\n",
    "mpl_height = 3.5\n",
    "mpl_dpi = 600\n",
    "mpl_xlabel_fontsize = \"large\"\n",
    "mpl_ylabel_fontsize = \"large\"\n",
    "mu = \"\\u03bc\"\n",
    "color_wheel = ['tab:blue',\"tab:green\",\"tab:red\",\"tab:cyan\",\"tab:purple\"]"
   ]
  },
  {
   "cell_type": "code",
   "execution_count": null,
   "id": "4318d277",
   "metadata": {
    "ExecuteTime": {
     "end_time": "2023-07-27T08:58:28.920103Z",
     "start_time": "2023-07-27T08:58:28.915680Z"
    }
   },
   "outputs": [],
   "source": [
    "HRP_no_dec_marker= \"^\"\n",
    "HRP_dec_marker = \"s\"\n",
    "HRP_dec_dil_marker = \"o\"\n",
    "mpl_marker_size = 6"
   ]
  },
  {
   "cell_type": "markdown",
   "id": "e4d0c5c6",
   "metadata": {},
   "source": [
    "##### fitted params"
   ]
  },
  {
   "cell_type": "code",
   "execution_count": null,
   "id": "17489036",
   "metadata": {
    "ExecuteTime": {
     "end_time": "2023-07-27T08:58:28.930285Z",
     "start_time": "2023-07-27T08:58:28.921841Z"
    }
   },
   "outputs": [],
   "source": [
    "df_onestep_params = pd.read_csv(os.path.join(par_dir,\"fitted_koff_kon_PRDX1_params.csv\"))\n",
    "df_onestep_params.set_index(\"Parameter\",inplace=True)"
   ]
  },
  {
   "cell_type": "code",
   "execution_count": null,
   "id": "d2b74fe7",
   "metadata": {
    "ExecuteTime": {
     "end_time": "2023-07-27T08:58:28.937861Z",
     "start_time": "2023-07-27T08:58:28.932407Z"
    }
   },
   "outputs": [],
   "source": [
    "def update_params_BenfeitasModels(mod,params,hyp=False):\n",
    "    \"\"\"\n",
    "    Updates the parameters of a model which has been augmented with Prx decamer reactions.\n",
    "    Adding the decamer reactions introduces several new parameter names, which need \n",
    "    to be populated with their corresponding values in the original model as well as \n",
    "    the fitted dimer-decamer transition koff and kon.\n",
    "    As a special case: The decamer sulfenilation rate is set to the original model \n",
    "    dimer sulfenilation rate (i.e full activity) and the dimer sulfenilation rate is \n",
    "    set to 100-fold less than the original model.\n",
    "    \"\"\"\n",
    "    # Dimer-decamer transition params\n",
    "    mod.exponent = 5\n",
    "    mod.k_Prx_asso = params.loc[\"kon\"][0]\n",
    "    mod.k_Prx_dec_disasso = params.loc[\"koff\"][0]\n",
    "    \n",
    "    ## Prx oxidation params\n",
    "    mod.k_Prx_sulfe_SH_dec = mod.kprx\n",
    "    mod.k_Prx_sulfe_SOH_dec = mod.kprx\n",
    "    mod.k_Prx_disulf_form_SH_dec = mod.kcond\n",
    "    mod.k_Prx_disulf_form_SOH_dec = mod.kcond\n",
    "    mod.k_Prx_disso_SH_dec = 10000 # Arbitrary \n",
    "    mod.k_Prx_disso_SOH_dec = 10000 # Arbitrary\n",
    "    \n",
    "    if hyp == True:\n",
    "        mod.k_Prx_sulfe_SOOH_dec = mod.kprx\n",
    "        mod.k_Prx_sulfi_SOOH_dec = mod.ksulf\n",
    "        mod.k_Prx_disulf_form_SOOH_dec = mod.kcond\n",
    "        mod.k_Prx_srx_SOOH_dec = mod.ksrx \n",
    "        mod.k_Prx_disso_SOOH_dec = 10000 # Arbitrary\n",
    "        \n",
    "    # Adust dimer sulfenilation to be 100 slower than decamer\n",
    "    mod.kprx = mod.kprx/100\n",
    "#     mod.two_times_kprx = mod.two_times_kprx/100\n",
    "    \n",
    "    return mod"
   ]
  },
  {
   "cell_type": "markdown",
   "id": "eb0e0559",
   "metadata": {},
   "source": [
    "## HRP assay functions and params"
   ]
  },
  {
   "cell_type": "code",
   "execution_count": null,
   "id": "c5750da4",
   "metadata": {
    "ExecuteTime": {
     "end_time": "2023-07-27T08:58:28.951417Z",
     "start_time": "2023-07-27T08:58:28.940258Z"
    }
   },
   "outputs": [],
   "source": [
    "def do_HRP_exp(mod,Prx_init_range,dil_factor=1,assay_end=0.1,assay_points=100):\n",
    "    \"\"\"\n",
    "    Performs a HRP experiment by simulating HRP traces and processing the data.\n",
    "    Requires \"a_factor\" as a GLOBAL \n",
    "    \"\"\"\n",
    "        \n",
    "    # HRP only trace\n",
    "    trace_HRP_only = do_HRP_assay(mod,\"SH_SH_init\",0,end_time=assay_end)\n",
    "    \n",
    "    # Assay traces\n",
    "    vary = \"SH_SH_init\"\n",
    "    traces = list(map(lambda Prx_init: do_HRP_assay(mod, \n",
    "                                                    vary,\n",
    "                                                    Prx_init,\n",
    "                                                     dil_factor=dil_factor,\n",
    "                                                    end_time=assay_end),\n",
    "                     Prx_init_range))\n",
    "\n",
    "    # Calculate fraction inhibition\n",
    "    f_inhi = list(map(lambda trace: calc_f_inhi(trace,trace_HRP_only,mod),traces))\n",
    "    f_inhi = np.array((Prx_init_range,f_inhi)).transpose()\n",
    "    \n",
    "    # fit rate constant to fraction inhibition\n",
    "    f_inhi_lm = LinearRegression().fit(f_inhi[:,0].reshape(-1,1),f_inhi[:,1])\n",
    "        \n",
    "    rate_constant = f_inhi_lm.coef_[0]\n",
    "    \n",
    "    return (traces,f_inhi,f_inhi_lm,rate_constant)\n",
    "\n",
    "def do_HRP_assay(mod,\n",
    "                vary,\n",
    "              vary_init, \n",
    "              dil_factor=1,\n",
    "              end_time=0.1,\n",
    "              points=100):\n",
    "    \"\"\"\n",
    "    Simulates a HRP assay trace.\n",
    "    Requires \"a_factor\" as a GLOBAL \n",
    "    \"\"\"\n",
    "    # Copy model so adjustments don't affect upcoming simulations\n",
    "    mod_copy = copy.deepcopy(mod)\n",
    "\n",
    "    # Set H2O2 to zero for pre-assay equilibrium\n",
    "    H2O2_orig = getattr(mod_copy, \"H2O2_init\")\n",
    "    setattr(mod_copy,\"H2O2_init\",0.0)\n",
    "    \n",
    "    # Set expicit experimental concentration\n",
    "    vary_orig = getattr(mod_copy,vary)\n",
    "    setattr(mod_copy,vary,vary_init)\n",
    "\n",
    "    # Adjust all species for dilution (no effect if dilution_factor=1)\n",
    "    for species in mod_copy.species:\n",
    "        setattr(mod_copy, f\"{species}_init\",getattr(mod_copy,f\"{species}_init\")*dil_factor)\n",
    "        \n",
    "    # Get pre-assay equilibrium\n",
    "    mod_copy.doSim(end=10000,points=10)\n",
    "\n",
    "    # Set assay concentrations and scale to dilution\n",
    "    for species in mod_copy.species:\n",
    "        setattr(mod_copy, f\"{species}_init\",mod_copy.sim[species][-1]/dil_factor)\n",
    "    setattr(mod_copy,\"H2O2_init\",H2O2_orig)\n",
    "\n",
    "    # Do Sim\n",
    "    mod_copy.sim_end = end_time\n",
    "    mod_copy.sim_points = points\n",
    "    mod_copy.Simulate()\n",
    "\n",
    "    # Grab data\n",
    "    assay_time = mod_copy.sim[\"Time\"]\n",
    "    assay_absorbance = mod_copy.sim[\"compound_I\"]*a_factor\n",
    "    trace = np.array((assay_time,assay_absorbance)).transpose()\n",
    "    \n",
    "    return trace\n",
    "\n",
    "def do_HRP_exp(mod,Prx_init_range,dil_factor=1,assay_end=0.1,assay_points=100):\n",
    "    \"\"\"\n",
    "    Performs a HRP experiment by simulating HRP traces and processing the data.\n",
    "    Requires \"a_factor\" as a GLOBAL \n",
    "    \"\"\"\n",
    "        \n",
    "    # HRP only trace\n",
    "    trace_HRP_only = do_HRP_assay(mod,\"SH_SH_init\",0,end_time=assay_end)[0]\n",
    "    \n",
    "    # Assay traces\n",
    "    vary = \"SH_SH_init\"\n",
    "    assays = list(map(lambda Prx_init: do_HRP_assay(mod, \n",
    "                                                    vary,\n",
    "                                                    Prx_init,\n",
    "                                                     dil_factor=dil_factor,\n",
    "                                                    end_time=assay_end),\n",
    "                     Prx_init_range))\n",
    "\n",
    "    traces = [assay[0] for assay in assays]\n",
    "    sim_datas = [assay[1] for assay in assays]\n",
    "    \n",
    "    # Calculate fraction inhibition\n",
    "    f_inhi = list(map(lambda trace: calc_f_inhi(trace,trace_HRP_only,mod),traces))\n",
    "    f_inhi = np.array((Prx_init_range,f_inhi)).transpose()\n",
    "    \n",
    "    # fit rate constant to fraction inhibition\n",
    "    f_inhi_lm = LinearRegression().fit(f_inhi[:,0].reshape(-1,1),f_inhi[:,1])\n",
    "    \n",
    "    rate_constant = f_inhi_lm.coef_[0]\n",
    "    \n",
    "    return (traces,f_inhi,f_inhi_lm,rate_constant,sim_datas)\n",
    "\n",
    "def do_HRP_assay(mod,\n",
    "                vary,\n",
    "              vary_init, \n",
    "              dil_factor=1,\n",
    "              end_time=0.1,\n",
    "              points=100):\n",
    "    \"\"\"\n",
    "    Simulates a HRP assay trace.\n",
    "    Requires \"a_factor\" as a GLOBAL \n",
    "    \"\"\"\n",
    "    # Copy model so adjustments don't affect upcoming simulations\n",
    "    mod_copy = copy.deepcopy(mod)\n",
    "\n",
    "    # Set H2O2 to zero for pre-assay equilibrium\n",
    "    H2O2_orig = getattr(mod_copy, \"H2O2_init\")\n",
    "    setattr(mod_copy,\"H2O2_init\",0.0)\n",
    "    \n",
    "    # Set expicit experimental concentration\n",
    "    vary_orig = getattr(mod_copy,vary)\n",
    "    setattr(mod_copy,vary,vary_init)\n",
    "\n",
    "    # Adjust all species for dilution (no effect if dilution_factor=1)\n",
    "    for species in mod_copy.species:\n",
    "        setattr(mod_copy, f\"{species}_init\",getattr(mod_copy,f\"{species}_init\")*dil_factor)\n",
    "        \n",
    "    # Get pre-assay equilibrium\n",
    "    mod_copy.doSim(end=10000,points=10)\n",
    "\n",
    "    # Set assay concentrations and scale to dilution\n",
    "    for species in mod_copy.species:\n",
    "        setattr(mod_copy, f\"{species}_init\",mod_copy.sim[species][-1]/dil_factor)\n",
    "    setattr(mod_copy,\"H2O2_init\",H2O2_orig)\n",
    "\n",
    "    # Do Sim\n",
    "    mod_copy.sim_end = end_time\n",
    "    mod_copy.sim_points = points\n",
    "    mod_copy.Simulate()\n",
    "\n",
    "    # Grab data\n",
    "    assay_time = mod_copy.sim[\"Time\"]\n",
    "    assay_absorbance = mod_copy.sim[\"compound_I\"]*a_factor\n",
    "    trace = np.array((assay_time,assay_absorbance)).transpose()\n",
    "\n",
    "    sim_data = mod_copy.sim\n",
    "\n",
    "    # print(sim_data[\"SH_SH\"].max(),sim_data[\"SH_SH__SH_SH__SH_SH__SH_SH__SH_SH\"].max())\n",
    "    \n",
    "    return (trace, sim_data)\n",
    "\n",
    "def calc_f_inhi(trace, trace_HRP_only, mod):\n",
    "    \"\"\"\n",
    "    Calculates the fractional inhibition of a HRP trace.\n",
    "    \"\"\"\n",
    "    # Takes the mean of the last 25% of points in order to account for noise\n",
    "    delta_max = trace_HRP_only[-math.floor(len(trace_HRP_only)/4):,1].mean()\n",
    "    delta_obs = trace[-math.floor(len(trace)/4):,1].mean()\n",
    "    k_HRP = getattr(mod,\"k_HRP\")\n",
    "    HRP_init = getattr(mod,\"HRP_init\")\n",
    "    f_inhi = k_HRP*HRP_init*((delta_max - delta_obs)/delta_obs)         \n",
    "    return f_inhi"
   ]
  },
  {
   "cell_type": "markdown",
   "id": "340ade6e",
   "metadata": {
    "ExecuteTime": {
     "end_time": "2023-06-07T11:41:05.257132Z",
     "start_time": "2023-06-07T11:41:05.251682Z"
    }
   },
   "source": [
    "##### Assay parameters"
   ]
  },
  {
   "cell_type": "code",
   "execution_count": null,
   "id": "abf8b365",
   "metadata": {
    "ExecuteTime": {
     "end_time": "2023-07-27T08:58:28.957799Z",
     "start_time": "2023-07-27T08:58:28.952954Z"
    }
   },
   "outputs": [],
   "source": [
    "# The absorbace change will be determined using the Beer-Lambert law: A = ecl\n",
    "c = 10**(-6) # Analysis is in micro Molar\n",
    "l = 1    # Light path of reader\n",
    "delta_e398_compound_I = -4.2 * 10**4 # HRP breaks down into compound_I \n",
    "                                     # which is measured spectrophotometrically\n",
    "# Hayashi, Y., and Yamazaki, I. (1979). The oxidation-reduction potentials of \n",
    "# compoundI/compound II and compound II/ferric couples of horseradish peroxidases A2 and C. \n",
    "# J. Biol. Chem. 254, 9101–9106.\n",
    "\n",
    "a_factor = delta_e398_compound_I * c * l   # A per umol HRP (or Compound_I)"
   ]
  },
  {
   "cell_type": "markdown",
   "id": "6395d6a9",
   "metadata": {},
   "source": [
    "## Assay at equilibrium (figure 7a and 7b)"
   ]
  },
  {
   "cell_type": "markdown",
   "id": "aff485f0",
   "metadata": {},
   "source": [
    "\"Standard\" HRP assay replicating Manta 2009 fig2"
   ]
  },
  {
   "cell_type": "markdown",
   "id": "bcf959ee",
   "metadata": {},
   "source": [
    "**Paper:** The peroxidase and peroxynitrite reductase activity of human erythrocyte peroxiredoxin 2, _Arch. Biochem. Biophys._ **484**:146-154 (2009)"
   ]
  },
  {
   "cell_type": "markdown",
   "id": "85006fc8",
   "metadata": {},
   "source": [
    "Fig. 2. Kinetics of human Prx2 oxidation by hydrogen peroxide studied by a competitive kinetic approach. Time courses of HRP (5 lM) oxidation by H2O2 (1 lM) in the presence of pre-reduced Prx2 (from bottom to top 0, 0.4, 0.8, 1.3, and 1.7 lM) in 100 mM potassium phosphate buffer pH 7.4 plus 0.1 mM dtpa at 25 °C. From the concentration of compound I formed at each Prx2 concentration, a value of k2 was calculated using Eq. (3)."
   ]
  },
  {
   "cell_type": "code",
   "execution_count": null,
   "id": "6377efc7",
   "metadata": {
    "ExecuteTime": {
     "end_time": "2023-07-27T08:58:28.968033Z",
     "start_time": "2023-07-27T08:58:28.959516Z"
    }
   },
   "outputs": [],
   "source": [
    "Image(\"Manta 2009 Fig2.png\")"
   ]
  },
  {
   "cell_type": "code",
   "execution_count": null,
   "id": "136b909f",
   "metadata": {
    "ExecuteTime": {
     "end_time": "2023-07-27T08:58:28.975365Z",
     "start_time": "2023-07-27T08:58:28.971229Z"
    }
   },
   "outputs": [],
   "source": [
    "# Manta's experimental conditions\n",
    "exp_H2O2_manta = 1\n",
    "exp_HRP_manta = 5\n",
    "Prx_init_range_manta = np.array([0.0,0.4,0.8,1.3,1.70])\n",
    "assay_end_manta = 0.1"
   ]
  },
  {
   "cell_type": "code",
   "execution_count": null,
   "id": "aa6808eb",
   "metadata": {
    "ExecuteTime": {
     "end_time": "2023-07-27T08:58:30.277241Z",
     "start_time": "2023-07-27T08:58:28.978658Z"
    }
   },
   "outputs": [],
   "source": [
    "# Load models and update with exp conditions\n",
    "\n",
    "# HRP Prx no decamers\n",
    "mod_HRP_Prx_no_dec = pysces.model(\"HRP_PRDX2.psc\", dir=mod_dir)\n",
    "mod_HRP_Prx_no_dec.mode_integrator = 'CVODE'\n",
    "setattr(mod_HRP_Prx_no_dec,\"H2O2_init\",exp_H2O2_manta)\n",
    "setattr(mod_HRP_Prx_no_dec,\"HRP_init\",exp_HRP_manta)\n",
    "\n",
    "# HRP Prx with decamers\n",
    "mod_HRP_Prx_with_dec = pysces.model(\"HRP_PRDX2_decfull.psc\", dir=mod_dir)\n",
    "mod_HRP_Prx_with_dec.mode_integrator = 'CVODE'\n",
    "mod_HRP_Prx_with_dec = update_params_BenfeitasModels(mod_HRP_Prx_with_dec,df_onestep_params)\n",
    "setattr(mod_HRP_Prx_with_dec,\"H2O2_init\",exp_H2O2_manta)\n",
    "setattr(mod_HRP_Prx_with_dec,\"HRP_init\",exp_HRP_manta)\n"
   ]
  },
  {
   "cell_type": "code",
   "execution_count": null,
   "id": "3cbe7aa9",
   "metadata": {
    "ExecuteTime": {
     "end_time": "2023-07-27T08:58:34.142343Z",
     "start_time": "2023-07-27T08:58:30.278526Z"
    }
   },
   "outputs": [],
   "source": [
    "# Do HRP experiment simulations\n",
    "assay_points = 100\n",
    "\n",
    "mod = mod_HRP_Prx_no_dec\n",
    "HRP_exp_no_dec_manta = do_HRP_exp(mod,\n",
    "                                  Prx_init_range_manta,\n",
    "                                  assay_end=assay_end_manta,\n",
    "                                  assay_points=assay_points)\n",
    "\n",
    "mod = mod_HRP_Prx_with_dec\n",
    "HRP_exp_with_dec_manta = do_HRP_exp(mod,\n",
    "                                    Prx_init_range_manta,\n",
    "                                    assay_end=assay_end_manta,\n",
    "                                    assay_points=assay_points)"
   ]
  },
  {
   "cell_type": "code",
   "execution_count": null,
   "id": "df3f5a6f",
   "metadata": {
    "ExecuteTime": {
     "end_time": "2023-07-27T08:58:34.642405Z",
     "start_time": "2023-07-27T08:58:34.144472Z"
    }
   },
   "outputs": [],
   "source": [
    "# Plot traces\n",
    "# Assign data\n",
    "HRP_no_dec_traces = HRP_exp_no_dec_manta[0]\n",
    "HRP_with_dec_traces = HRP_exp_with_dec_manta[0]\n",
    "\n",
    "# Plot subset of results\n",
    "cols = 1\n",
    "rows = 1\n",
    "\n",
    "f, axarr = plt.subplots(rows, cols)\n",
    "f.set_size_inches(w=mpl_width, h=mpl_height)\n",
    "\n",
    "handle_list = []\n",
    "\n",
    "axarr.plot(HRP_no_dec_traces[0][:,0], HRP_no_dec_traces[0][:,1],color=\"dimgrey\") \n",
    "handle = mpatches.Patch(color=\"dimgrey\", label = f\"0.0\")\n",
    "handle_list.append(handle)\n",
    "\n",
    "Prx_init_range_temp = [Prx_init_range_manta[2],Prx_init_range_manta[4]]\n",
    "\n",
    "for count,trace in enumerate([HRP_no_dec_traces[2],HRP_no_dec_traces[4]]):\n",
    "    axarr.plot(trace[:,0], \n",
    "               trace[:,1], \n",
    "               f\"{color_wheel[count]}\",\n",
    "               marker=HRP_no_dec_marker,\n",
    "               markevery=20,\n",
    "               markersize = mpl_marker_size,\n",
    "              mec = 'k') \n",
    "    handle = mpatches.Patch(color=f\"{color_wheel[count]}\", label = f\"{Prx_init_range_temp[count]}\")\n",
    "    handle_list.append(handle)\n",
    "    \n",
    "for count,trace in enumerate([HRP_with_dec_traces[2],HRP_with_dec_traces[4]]):\n",
    "    axarr.plot(trace[:,0], \n",
    "               trace[:,1],\n",
    "               f\"{color_wheel[count]}\",\n",
    "               linestyle=\"--\",\n",
    "               marker=HRP_dec_marker,\n",
    "               markevery=20,\n",
    "               markersize = mpl_marker_size,\n",
    "              mec = 'k')\n",
    "    \n",
    "axarr.set_xlabel(\"Time (sec)\", fontsize=mpl_xlabel_fontsize)\n",
    "axarr.set_ylabel(\"$\\Delta$ Absorbance (398 nm)\",fontsize=mpl_ylabel_fontsize)\n",
    "\n",
    "axarr.legend(handles=handle_list,title=f\"Prx ({mu}M)\")\n",
    "f.tight_layout()\n",
    "f.savefig(os.path.join(fig_dir,\"hrp_equi_abs398_v_time.pdf\"),dpi= mpl_dpi)"
   ]
  },
  {
   "cell_type": "code",
   "execution_count": null,
   "id": "a3744a25",
   "metadata": {
    "ExecuteTime": {
     "end_time": "2023-07-27T08:58:35.118311Z",
     "start_time": "2023-07-27T08:58:34.644061Z"
    }
   },
   "outputs": [],
   "source": [
    "# Plot f inhi\n",
    "# Assign data\n",
    "HRP_no_dec_f_inhi = HRP_exp_no_dec_manta[1]\n",
    "HRP_no_dec_finhi_lm= HRP_exp_no_dec_manta[2]\n",
    "HRP_no_dec_k= HRP_exp_no_dec_manta[3]\n",
    "\n",
    "HRP_with_dec_f_inhi = HRP_exp_with_dec_manta[1]\n",
    "HRP_with_dec_finhi_lm= HRP_exp_with_dec_manta[2]\n",
    "HRP_with_dec_k= HRP_exp_with_dec_manta[3]\n",
    "\n",
    "# Plot results\n",
    "cols = 1\n",
    "rows = 1\n",
    "\n",
    "f, axarr = plt.subplots(rows, cols)\n",
    "f.set_size_inches(w=mpl_width, h=mpl_height)\n",
    "\n",
    "axarr.plot(HRP_no_dec_f_inhi[:,0], \n",
    "           HRP_no_dec_f_inhi[:,1], \n",
    "           color=f\"k\",\n",
    "           linestyle='None',\n",
    "           marker=HRP_no_dec_marker,\n",
    "           markersize = mpl_marker_size,\n",
    "           label=f\"full-act. dim.-only\") \n",
    "axarr.plot(HRP_no_dec_f_inhi[:,0], \n",
    "           HRP_no_dec_finhi_lm.predict(HRP_no_dec_f_inhi[:,0].reshape(-1,1)),\n",
    "          f\"k\",\n",
    "          linestyle=\"-\")\n",
    "axarr.text(0.35,170,f\"$k={str(HRP_no_dec_k)[0:3]}\\ \\mathregular{{{mu}M^{{-1}}\\cdot s^{{-1}}}}$\")\n",
    "\n",
    "axarr.plot(HRP_with_dec_f_inhi[:,0], \n",
    "           HRP_with_dec_f_inhi[:,1], \n",
    "           color=f\"k\",\n",
    "           linestyle='None',\n",
    "           marker=HRP_dec_marker,\n",
    "           markersize = mpl_marker_size,\n",
    "           label=f\"mixed-act. dim.-dec.\") \n",
    "axarr.plot(HRP_with_dec_f_inhi[:,0], \n",
    "           HRP_with_dec_finhi_lm.predict(HRP_with_dec_f_inhi[:,0].reshape(-1,1)),\n",
    "          f\"k\",\n",
    "          linestyle=\"-\")\n",
    "axarr.text(1.,40,f\"$k={str(HRP_with_dec_k)[0:2]}\\ \\mathregular{{{mu}M^{{-1}}\\cdot s^{{-1}}}}$\")\n",
    "\n",
    "\n",
    "axarr.set_xlabel(f\"Prx ({mu}M)\", fontsize=mpl_xlabel_fontsize)\n",
    "axarr.set_ylabel(\"$k_{\\mathrm{HRP}}\\cdot[\\mathrm{HRP}]\\cdot(\\Delta max - \\Delta obs)/\\Delta obs$\",\n",
    "                 fontsize=mpl_ylabel_fontsize)\n",
    "\n",
    "# axarr.set_ylim(bottom=0)\n",
    "# axarr.set_xlim(left=0)\n",
    "axarr.legend(title=\"Model\")\n",
    "f.tight_layout()\n",
    "f.savefig(os.path.join(fig_dir,\"hrp_equi_finhi_v_Prx.pdf\"),dpi=mpl_dpi)\n"
   ]
  },
  {
   "cell_type": "markdown",
   "id": "f30287ac",
   "metadata": {
    "ExecuteTime": {
     "end_time": "2023-01-16T15:26:18.171960Z",
     "start_time": "2023-01-16T15:26:18.167711Z"
    }
   },
   "source": [
    "## Assay after dilution (figure 8c and 8d)"
   ]
  },
  {
   "cell_type": "markdown",
   "id": "29accf4f",
   "metadata": {},
   "source": [
    "Compare HRP assays with species equilibrating on injection to HRP assays with species equilibrating before injection. HRP and H2O2 concentrations based on Manta 2009."
   ]
  },
  {
   "cell_type": "code",
   "execution_count": null,
   "id": "c1b9574e",
   "metadata": {
    "ExecuteTime": {
     "end_time": "2023-07-27T08:58:35.122653Z",
     "start_time": "2023-07-27T08:58:35.120116Z"
    }
   },
   "outputs": [],
   "source": [
    "Prx_init_range_dil = np.array([0.5,2,5])\n"
   ]
  },
  {
   "cell_type": "code",
   "execution_count": null,
   "id": "d79cee25",
   "metadata": {
    "ExecuteTime": {
     "end_time": "2023-07-27T08:58:36.377085Z",
     "start_time": "2023-07-27T08:58:35.124041Z"
    }
   },
   "outputs": [],
   "source": [
    "# Load model\n",
    "\n",
    "# HRP Prx with decamers\n",
    "mod_HRP_Prx_with_dec = pysces.model(\"HRP_PRDX2_decfull.psc\", dir=mod_dir)\n",
    "mod_HRP_Prx_with_dec.mode_integrator = 'CVODE'\n",
    "mod_HRP_Prx_with_dec = update_params_BenfeitasModels(mod_HRP_Prx_with_dec,df_onestep_params)\n",
    "setattr(mod_HRP_Prx_with_dec,\"H2O2_init\",exp_H2O2_manta)\n",
    "setattr(mod_HRP_Prx_with_dec,\"HRP_init\",exp_HRP_manta)"
   ]
  },
  {
   "cell_type": "code",
   "execution_count": null,
   "id": "ae794b91",
   "metadata": {
    "ExecuteTime": {
     "end_time": "2023-07-27T08:58:44.585841Z",
     "start_time": "2023-07-27T08:58:36.378292Z"
    }
   },
   "outputs": [],
   "source": [
    "# Do HRP experiment simulations\n",
    "assay_points = 100\n",
    "mod = mod_HRP_Prx_with_dec\n",
    "dilution = 1\n",
    "HRP_exp_with_dec_no_dil = do_HRP_exp(mod,\n",
    "                                  Prx_init_range_dil,\n",
    "                                  dil_factor=dilution,\n",
    "                                  assay_end=assay_end_manta,\n",
    "                                  assay_points=assay_points)\n",
    "\n",
    "dilution = 10\n",
    "HRP_exp_with_dec_with_dil = do_HRP_exp(mod,\n",
    "                                    Prx_init_range_dil,\n",
    "                                    dil_factor=dilution,\n",
    "                                    assay_end=assay_end_manta,\n",
    "                                    assay_points=assay_points)"
   ]
  },
  {
   "cell_type": "code",
   "execution_count": null,
   "id": "9ab74290",
   "metadata": {
    "ExecuteTime": {
     "end_time": "2023-07-27T08:58:44.993503Z",
     "start_time": "2023-07-27T08:58:44.589761Z"
    }
   },
   "outputs": [],
   "source": [
    "# Plot traces\n",
    "# Assign data\n",
    "HRP_no_dil_traces = HRP_exp_with_dec_no_dil[0]\n",
    "HRP_with_dil_traces = HRP_exp_with_dec_with_dil[0]\n",
    "\n",
    "# Plot results\n",
    "cols = 1\n",
    "rows = 1\n",
    "\n",
    "f, axarr = plt.subplots(rows, cols)\n",
    "f.set_size_inches(w=mpl_width, h=mpl_height)\n",
    "\n",
    "handle_list = []\n",
    "\n",
    "for count,trace in enumerate(HRP_no_dil_traces):\n",
    "    axarr.plot(trace[:,0], \n",
    "               trace[:,1], \n",
    "               f\"{color_wheel[count]}\",\n",
    "               marker=HRP_dec_marker,\n",
    "               markevery=20,\n",
    "               markersize = mpl_marker_size,\n",
    "               mec = 'k') \n",
    "    handle = mpatches.Patch(color=f\"{color_wheel[count]}\", label = f\"{Prx_init_range_dil[count]}\")\n",
    "    handle_list.append(handle)\n",
    "    \n",
    "for count,trace in enumerate(HRP_with_dil_traces):\n",
    "    axarr.plot(trace[:,0], \n",
    "               trace[:,1], \n",
    "               f\"{color_wheel[count]}\",\n",
    "               linestyle=\"--\",\n",
    "               marker=HRP_dec_dil_marker,\n",
    "               markevery=20,\n",
    "               markersize = mpl_marker_size,\n",
    "               mec = 'k')\n",
    "    \n",
    "axarr.set_xlabel(\"Time (sec)\", fontsize=mpl_xlabel_fontsize)\n",
    "axarr.set_ylabel(\"$\\Delta$ Absorbance (398 nm)\",fontsize=mpl_ylabel_fontsize)\n",
    "\n",
    "axarr.legend(handles=handle_list,title=f\"Prx ({mu}M)\",loc=(0.73,0.4))\n",
    "f.tight_layout()\n",
    "f.savefig(os.path.join(fig_dir,\"hrp_dil_abs398_v_time.pdf\"),dpi= mpl_dpi)\n"
   ]
  },
  {
   "cell_type": "code",
   "execution_count": null,
   "id": "3911b659",
   "metadata": {
    "ExecuteTime": {
     "end_time": "2023-07-27T08:58:45.462592Z",
     "start_time": "2023-07-27T08:58:44.995185Z"
    }
   },
   "outputs": [],
   "source": [
    "# Plot f inhi\n",
    "# Assign data\n",
    "HRP_no_dil_f_inhi = HRP_exp_with_dec_no_dil[1]\n",
    "HRP_no_dil_finhi_lm= HRP_exp_with_dec_no_dil[2]\n",
    "HRP_no_dil_k= HRP_exp_with_dec_no_dil[3]\n",
    "\n",
    "HRP_with_dil_f_inhi = HRP_exp_with_dec_with_dil[1]\n",
    "HRP_with_dil_finhi_lm= HRP_exp_with_dec_with_dil[2]\n",
    "HRP_with_dil_k= HRP_exp_with_dec_with_dil[3]\n",
    "\n",
    "# Plot results\n",
    "cols = 1\n",
    "rows = 1\n",
    "\n",
    "f, axarr = plt.subplots(rows, cols)\n",
    "f.set_size_inches(w=mpl_width, h=mpl_height)\n",
    "\n",
    "axarr.plot(HRP_no_dil_f_inhi[:,0], \n",
    "           HRP_no_dil_f_inhi[:,1], \n",
    "           color=f\"k\",\n",
    "           linestyle=\"None\",\n",
    "           marker=HRP_dec_marker,\n",
    "           markersize = mpl_marker_size,\n",
    "          label=f\"Pre-equilibrated\") \n",
    "axarr.plot(HRP_no_dil_f_inhi[:,0], \n",
    "           HRP_no_dil_finhi_lm.predict(HRP_no_dil_f_inhi[:,0].reshape(-1, 1)),\n",
    "          f\"k-\")\n",
    "axarr.text(2.7,300,f\"$k={str(HRP_no_dil_k)[0:3]}\\ \\mathregular{{{mu}M^{{-1}}\\cdot s^{{-1}}}}$\")\n",
    "\n",
    "axarr.plot(HRP_with_dil_f_inhi[:,0], \n",
    "           HRP_with_dil_f_inhi[:,1], \n",
    "           color=f\"k\",\n",
    "           linestyle=\"None\",\n",
    "           marker=HRP_dec_dil_marker,\n",
    "           markersize = mpl_marker_size,\n",
    "          label=f\"Diluted at $t=0$\")\n",
    "axarr.plot(HRP_with_dil_f_inhi[:,0], \n",
    "           HRP_with_dil_finhi_lm.predict(HRP_with_dil_f_inhi[:,0].reshape(-1, 1)),\n",
    "          f\"k-\")\n",
    "axarr.text(2.65,800,f\"$k={str(HRP_with_dil_k)[0:3]}\\ \\mathregular{{{mu}M^{{-1}}\\cdot s^{{-1}}}}$\")\n",
    "\n",
    "axarr.set_xlabel(f\"Prx ({mu}M)\", fontsize=mpl_xlabel_fontsize)\n",
    "axarr.set_ylabel(\"$k_{\\mathrm{HRP}}\\cdot[\\mathrm{HRP}]\\cdot(\\Delta max - \\Delta obs)/\\Delta obs$\",\n",
    "                 fontsize=mpl_ylabel_fontsize)\n",
    "\n",
    "axarr.set_ylim(bottom=0)\n",
    "axarr.set_xlim(left=0)\n",
    "axarr.legend(title=\"Model\")\n",
    "f.tight_layout()\n",
    "f.savefig(os.path.join(fig_dir,\"hrp_dil_finhi_v_Prx.pdf\"),dpi=mpl_dpi)\n"
   ]
  },
  {
   "cell_type": "markdown",
   "id": "c27eeb1f-0916-496b-a28e-d522d60285d7",
   "metadata": {},
   "source": [
    "## fsite and Q/Kd analysis (figure S8a and S8b)"
   ]
  },
  {
   "cell_type": "code",
   "execution_count": null,
   "id": "a379a545-1614-45a8-9eae-6c8852373120",
   "metadata": {},
   "outputs": [],
   "source": [
    "def do_analysis(mod, sim_data, Prx_idx_in_cons, MOD_HAS_DEC=True):\n",
    "    \"\"\"\n",
    "    Calculates the fraction of reduced Prx sites in SH_SH and hetero-oxidised dimers from a trace.\n",
    "    Normalizes these to the total Prx sites.\n",
    "    Calculates disequilibrium ratio.\n",
    "    \"\"\"\n",
    "    # Supporting resources\n",
    "    H2O2_data = sim_data[\"H2O2\"]\n",
    "    x_points = len(sim_data[\"SH_SH\"])\n",
    "    Prx_moiety_species = [i.split(\"}\")[1].strip() for i in mod.conserved_sums.split(\"\\n\")[\\\n",
    "                          Prx_idx_in_cons].split(\"=\")[0].split(\" + \")[1:]]\n",
    "    species_to_site,site_names = generate_species_to_site_table(Prx_moiety_species)\n",
    "    t_sites = calculate_t_sites(mod, Prx_idx_in_cons,MOD_HAS_DEC=MOD_HAS_DEC)\n",
    "    \n",
    "    # Data\n",
    "    site_data = calculate_sites(mod, sim_data, species_to_site,site_names,x_points)\n",
    "    f_site_data = site_data/t_sites\n",
    "    \n",
    "    if MOD_HAS_DEC == True:\n",
    "        reaction_p = calculate_dis_equi(mod,sim_data)\n",
    "    else:\n",
    "        reaction_p = np.full([x_points, 1], np.nan)\n",
    "        \n",
    "    # Collate\n",
    "    data = np.hstack([np.array(H2O2_data).reshape(-1,1),f_site_data, reaction_p])\n",
    "    data_names = [\"H2O2\"]+[f\"f_{i}\" for i in site_names] + [\"reaction_p\"]\n",
    "    \n",
    "    data_out = np.core.records.fromrecords(data,names=data_names)\n",
    "    \n",
    "    return data_out\n",
    "\n",
    "def generate_species_to_site_table(Prx_moiety_species):\n",
    "    \"\"\"\n",
    "    Generates a dictionary with species:site_breakdown pairs.\n",
    "    site_breakdown refers to the number of each type of site in a species.\n",
    "    \"\"\"\n",
    "    # site_names = [\"SH\", \"SOH\",\"SS\",\"SO2H\",\"SH_dim\",\"SH_dec\",\"SH_SH\",\"het_ox\"]\n",
    "    site_names = [\"SH_SH\",\"het_ox\"]\n",
    "    site_breakdown_by_species = dict()\n",
    "    \n",
    "    for speci in Prx_moiety_species:\n",
    "        site_counts = [0]*len(site_names)\n",
    "    \n",
    "        dimers = speci.split(\"__\")\n",
    "        \n",
    "        # Find quaternary structure\n",
    "        if len(dimers) == 5:\n",
    "            quaternary = \"decamer\"\n",
    "        elif len(dimers) == 1:\n",
    "            quaternary = \"dimer\"\n",
    "        else:\n",
    "            print(f\"Unlisted quaternary: {speci}\")\n",
    "    \n",
    "        # Count sites\n",
    "        for dimer in dimers:\n",
    "            # hetero ox dimers\n",
    "            if quaternary == \"dimer\" and dimer == \"SH_SH\":\n",
    "                site_counts[site_names.index(\"SH_SH\")] += 2 # this dimer has 2 SH sites\n",
    "            \n",
    "            elif quaternary == \"dimer\" and dimer[0:2] == \"SH\":\n",
    "                # This is a hetero oxidised dimer with a reduced site\n",
    "                site_counts[site_names.index(\"het_ox\")] += 1 # this dimer has 2 SH sites       \n",
    "    \n",
    "        site_breakdown_by_species[speci] = site_counts\n",
    "        \n",
    "    return (site_breakdown_by_species,site_names)\n",
    "\n",
    "def calculate_sites(mod, sim_data, site_breakdown_by_species, site_names,x_points):\n",
    "    \"\"\"\n",
    "    Calculates the number of sites in oxidation states.\n",
    "    \"\"\"\n",
    "    site_data = np.zeros((x_points,len(site_names)))\n",
    "\n",
    "    for species in site_breakdown_by_species.keys():\n",
    "        result = np.array(site_breakdown_by_species[species])[:, None] * sim_data[species]\n",
    "        site_data+=result.transpose()\n",
    "    \n",
    "    return site_data\n",
    "\n",
    "def calculate_t_sites(mod, Prx_idx_in_conserved,MOD_HAS_DEC=True):\n",
    "    \"\"\"\n",
    "    Calculates the total number of sites from mod.conserved_sums.\n",
    "    \"\"\"\n",
    "    t_dimers = (\n",
    "        float(\n",
    "            mod.conserved_sums.split('\\n')[\n",
    "                Prx_idx_in_conserved\n",
    "            ].split(' = ')[1]\n",
    "        )\n",
    "    )\n",
    "    \n",
    "    if MOD_HAS_DEC==True:\n",
    "        t_dimers=t_dimers*5\n",
    "        \n",
    "    t_sites = t_dimers*2\n",
    "\n",
    "    return t_sites\n",
    "\n",
    "def calculate_dis_equi(mod,sim_data):\n",
    "    \"\"\"\n",
    "    Calculates the disequilibrium ratio of the reduced dimer-decamer reaction.\n",
    "    \"\"\"\n",
    "    ## Calculate roh-Kd\n",
    "    reaction_Kd = mod.k_Prx_dec_disasso/mod.k_Prx_asso\n",
    "    reaction_roh = np.power(sim_data[\"SH_SH\"],5)/sim_data[\"SH_SH__SH_SH__SH_SH__SH_SH__SH_SH\"]\n",
    "    reaction_p  = reaction_roh/reaction_Kd\n",
    "    \n",
    "    return reaction_p.reshape(-1,1)\n"
   ]
  },
  {
   "cell_type": "code",
   "execution_count": null,
   "id": "4274f913-ff38-44b5-b2d6-9057adb55313",
   "metadata": {},
   "outputs": [],
   "source": [
    "# Analysis\n",
    "mod_HRP_Prx_no_dec_Prx_pos_in_conserved = ['SH_SH' in s for s in mod_HRP_Prx_no_dec.conserved_sums.split(\"\\n\")].index(True)\n",
    "mod_HRP_Prx_with_dec_Prx_pos_in_conserved = ['SH_SH' in s for s in mod_HRP_Prx_with_dec.conserved_sums.split(\"\\n\")].index(True)\n",
    "\n",
    "# H2O2\n",
    "## Mod A\n",
    "mod = mod_HRP_Prx_no_dec\n",
    "sim_data = HRP_exp_no_dec_manta[4][-1]\n",
    "Prx_idx_in_cons = mod_HRP_Prx_no_dec_Prx_pos_in_conserved\n",
    "mod_HRP_Prx_no_dec_extra = do_analysis(mod, sim_data, Prx_idx_in_cons, MOD_HAS_DEC=False)\n",
    "\n",
    "## Mod A with dec\n",
    "mod = mod_HRP_Prx_with_dec\n",
    "sim_data = HRP_exp_with_dec_manta[4][-1]\n",
    "Prx_idx_in_cons = mod_HRP_Prx_with_dec_Prx_pos_in_conserved\n",
    "mod_HRP_Prx_with_dec_extra = do_analysis(mod, sim_data, Prx_idx_in_cons, MOD_HAS_DEC=True)\n",
    "\n",
    "time = sim_data[\"Time\"]"
   ]
  },
  {
   "cell_type": "code",
   "execution_count": null,
   "id": "2125cb72-545e-46f7-92f9-6ae54d0269d7",
   "metadata": {},
   "outputs": [],
   "source": [
    "rows = 1\n",
    "cols = 1\n",
    "f, axarr = plt.subplots(rows,cols)\n",
    "f.set_size_inches(w=cols*mpl_width, h=rows*mpl_height)\n",
    "\n",
    "axarr.semilogy(time,mod_HRP_Prx_with_dec_extra[\"reaction_p\"])\n",
    "\n",
    "axarr.set_ylabel(\"$Q/K_d$\", fontsize = mpl_ylabel_fontsize)\n",
    "axarr.set_xlabel('Time (sec)', fontsize = mpl_xlabel_fontsize)\n",
    "# axarr.legend()\n",
    "\n",
    "f.tight_layout()\n",
    "f.savefig(os.path.join(fig_dir,\"hrp_Q_over_Kd_vs_time.pdf\"),dpi= mpl_dpi)\n"
   ]
  },
  {
   "cell_type": "code",
   "execution_count": null,
   "id": "b1cc3e82-8208-41a9-9304-d259d87b8a2a",
   "metadata": {},
   "outputs": [],
   "source": [
    "rows = 1\n",
    "cols = 1\n",
    "f, axarr = plt.subplots(rows,cols)\n",
    "f.set_size_inches(w=cols*mpl_width, h=rows*mpl_height)\n",
    "\n",
    "axarr.plot(time,mod_HRP_Prx_with_dec_extra[\"f_SH_SH\"], label=\"fully-reduced\")\n",
    "axarr.plot(time,mod_HRP_Prx_with_dec_extra[\"f_het_ox\"], label=\"hetero-oxidised\")\n",
    "axarr.set_ylabel(\"$f_{sites}$\", fontsize = mpl_ylabel_fontsize)\n",
    "axarr.set_xlabel('Time (sec)', fontsize = mpl_xlabel_fontsize)\n",
    "axarr.legend(title=\"SH in dimer\")\n",
    "\n",
    "f.tight_layout()\n",
    "f.savefig(os.path.join(fig_dir,\"hrp_oxi_state_vs_time.pdf\"),dpi= mpl_dpi)"
   ]
  },
  {
   "cell_type": "markdown",
   "id": "9bd5751d-5c0d-4378-a9ca-dae96b75135f",
   "metadata": {},
   "source": [
    "# HRP assay extended disulphide-bridge model (figure S9c and S9d)"
   ]
  },
  {
   "cell_type": "markdown",
   "id": "905d4ff7-4921-422b-bb8c-2541a7e60448",
   "metadata": {},
   "source": [
    "**Note:** The following cells have been set to raw as the simulations are likely too computationally straining for Binder. Set the cells to code to run the analysis. On a high-end laptop the stoichiometric analysis (model loading) takes ~10 min and the simulations ~3 min.\n"
   ]
  },
  {
   "cell_type": "raw",
   "id": "a57725b7-91df-4de0-a82f-394cee2beb36",
   "metadata": {},
   "source": [
    "# Load models and update with exp conditions\n",
    "\n",
    "# HRP Prx no decamers\n",
    "mod_HRP_Prx_no_dec = pysces.model(\"HRP_PRDX2.psc\", dir=mod_dir)\n",
    "mod_HRP_Prx_no_dec.mode_integrator = 'CVODE'\n",
    "setattr(mod_HRP_Prx_no_dec,\"H2O2_init\",exp_H2O2_manta)\n",
    "setattr(mod_HRP_Prx_no_dec,\"HRP_init\",exp_HRP_manta)\n",
    "\n",
    "# HRP Prx with decamers\n",
    "mod_HRP_Prx_with_dec = pysces.model(\"HRP_PRDX2_decfull_5dsb.psc\", dir=mod_dir)\n",
    "mod_HRP_Prx_with_dec.mode_integrator = 'CVODE'\n",
    "mod_HRP_Prx_with_dec = update_params_BenfeitasModels(mod_HRP_Prx_with_dec,df_onestep_params)\n",
    "setattr(mod_HRP_Prx_with_dec,\"H2O2_init\",exp_H2O2_manta)\n",
    "setattr(mod_HRP_Prx_with_dec,\"HRP_init\",exp_HRP_manta)\n"
   ]
  },
  {
   "cell_type": "raw",
   "id": "75a93c6d-4fc5-41a5-b766-d399368b6b52",
   "metadata": {},
   "source": [
    "# Do HRP experiment simulations\n",
    "assay_points = 100\n",
    "\n",
    "mod = mod_HRP_Prx_no_dec\n",
    "HRP_exp_no_dec_manta = do_HRP_exp(mod,\n",
    "                                  Prx_init_range_manta,\n",
    "                                  assay_end=assay_end_manta,\n",
    "                                  assay_points=assay_points)\n",
    "\n",
    "mod = mod_HRP_Prx_with_dec\n",
    "HRP_exp_with_dec_manta = do_HRP_exp(mod,\n",
    "                                    Prx_init_range_manta,\n",
    "                                    assay_end=assay_end_manta,\n",
    "                                    assay_points=assay_points)\n"
   ]
  },
  {
   "cell_type": "raw",
   "id": "31164b62-4f76-4079-bd04-2d34090b4efd",
   "metadata": {},
   "source": [
    "# Plot traces\n",
    "# Assign data\n",
    "HRP_no_dec_traces = HRP_exp_no_dec_manta[0]\n",
    "HRP_with_dec_traces = HRP_exp_with_dec_manta[0]\n",
    "\n",
    "# Plot subset of results\n",
    "cols = 1\n",
    "rows = 1\n",
    "\n",
    "f, axarr = plt.subplots(rows, cols)\n",
    "f.set_size_inches(w=mpl_width, h=mpl_height)\n",
    "\n",
    "handle_list = []\n",
    "\n",
    "axarr.plot(HRP_no_dec_traces[0][:,0], HRP_no_dec_traces[0][:,1],color=\"dimgrey\") \n",
    "handle = mpatches.Patch(color=\"dimgrey\", label = f\"0.0\")\n",
    "handle_list.append(handle)\n",
    "\n",
    "Prx_init_range_temp = [Prx_init_range_manta[2],Prx_init_range_manta[4]]\n",
    "\n",
    "for count,trace in enumerate([HRP_no_dec_traces[2],HRP_no_dec_traces[4]]):\n",
    "    axarr.plot(trace[:,0], \n",
    "               trace[:,1], \n",
    "               f\"{color_wheel[count]}\",\n",
    "               marker=HRP_no_dec_marker,\n",
    "               markevery=20,\n",
    "               markersize = mpl_marker_size,\n",
    "              mec = 'k') \n",
    "    handle = mpatches.Patch(color=f\"{color_wheel[count]}\", label = f\"{Prx_init_range_temp[count]}\")\n",
    "    handle_list.append(handle)\n",
    "    \n",
    "for count,trace in enumerate([HRP_with_dec_traces[2],HRP_with_dec_traces[4]]):\n",
    "    axarr.plot(trace[:,0], \n",
    "               trace[:,1],\n",
    "               f\"{color_wheel[count]}\",\n",
    "               linestyle=\"--\",\n",
    "               marker=HRP_dec_marker,\n",
    "               markevery=20,\n",
    "               markersize = mpl_marker_size,\n",
    "              mec = 'k')\n",
    "    \n",
    "axarr.set_xlabel(\"Time (sec)\", fontsize=mpl_xlabel_fontsize)\n",
    "axarr.set_ylabel(\"$\\Delta$ Absorbance (398 nm)\",fontsize=mpl_ylabel_fontsize)\n",
    "\n",
    "axarr.legend(handles=handle_list,title=f\"Prx ({mu}M)\")\n",
    "f.tight_layout()\n",
    "f.savefig(os.path.join(fig_dir,\"hrp_equi_abs398_v_time_5dsb.pdf\"),dpi= mpl_dpi)"
   ]
  },
  {
   "cell_type": "raw",
   "id": "0b6450b6-ab13-48e5-970a-4be8c95a029d",
   "metadata": {},
   "source": [
    "# Plot f inhi\n",
    "# Assign data\n",
    "HRP_no_dec_f_inhi = HRP_exp_no_dec_manta[1]\n",
    "HRP_no_dec_finhi_lm= HRP_exp_no_dec_manta[2]\n",
    "HRP_no_dec_k= HRP_exp_no_dec_manta[3]\n",
    "\n",
    "HRP_with_dec_f_inhi = HRP_exp_with_dec_manta[1]\n",
    "HRP_with_dec_finhi_lm= HRP_exp_with_dec_manta[2]\n",
    "HRP_with_dec_k= HRP_exp_with_dec_manta[3]\n",
    "\n",
    "# Plot results\n",
    "cols = 1\n",
    "rows = 1\n",
    "\n",
    "f, axarr = plt.subplots(rows, cols)\n",
    "f.set_size_inches(w=mpl_width, h=mpl_height)\n",
    "\n",
    "axarr.plot(HRP_no_dec_f_inhi[:,0], \n",
    "           HRP_no_dec_f_inhi[:,1], \n",
    "           color=f\"k\",\n",
    "           linestyle='None',\n",
    "           marker=HRP_no_dec_marker,\n",
    "           markersize = mpl_marker_size,\n",
    "           label=f\"full-act. dim.-only\") \n",
    "axarr.plot(HRP_no_dec_f_inhi[:,0], \n",
    "           HRP_no_dec_finhi_lm.predict(HRP_no_dec_f_inhi[:,0].reshape(-1,1)),\n",
    "          f\"k\",\n",
    "          linestyle=\"-\")\n",
    "axarr.text(0.35,170,f\"$k={str(HRP_no_dec_k)[0:5]}\\ \\mathregular{{{mu}M^{{-1}}\\cdot s^{{-1}}}}$\")\n",
    "\n",
    "axarr.plot(HRP_with_dec_f_inhi[:,0], \n",
    "           HRP_with_dec_f_inhi[:,1], \n",
    "           color=f\"k\",\n",
    "           linestyle='None',\n",
    "           marker=HRP_dec_marker,\n",
    "           markersize = mpl_marker_size,\n",
    "           label=f\"mixed-act. dim.-dec.\") \n",
    "axarr.plot(HRP_with_dec_f_inhi[:,0], \n",
    "           HRP_with_dec_finhi_lm.predict(HRP_with_dec_f_inhi[:,0].reshape(-1,1)),\n",
    "          f\"k\",\n",
    "          linestyle=\"-\")\n",
    "axarr.text(1.,40,f\"$k={str(HRP_with_dec_k)[0:5]}\\ \\mathregular{{{mu}M^{{-1}}\\cdot s^{{-1}}}}$\")\n",
    "\n",
    "\n",
    "axarr.set_xlabel(f\"Prx ({mu}M)\", fontsize=mpl_xlabel_fontsize)\n",
    "axarr.set_ylabel(\"$k_{\\mathrm{HRP}}\\cdot[\\mathrm{HRP}]\\cdot(\\Delta max - \\Delta obs)/\\Delta obs$\",\n",
    "                 fontsize=mpl_ylabel_fontsize)\n",
    "\n",
    "# axarr.set_ylim(bottom=0)\n",
    "# axarr.set_xlim(left=0)\n",
    "axarr.legend(title=\"Model\")\n",
    "f.tight_layout()\n",
    "f.savefig(os.path.join(fig_dir,\"hrp_equi_finhi_v_Prx_5dsb.pdf\"),dpi=mpl_dpi)\n"
   ]
  },
  {
   "cell_type": "code",
   "execution_count": null,
   "id": "964c1a98-4f5d-4df4-8046-c1952d206004",
   "metadata": {},
   "outputs": [],
   "source": []
  }
 ],
 "metadata": {
  "kernelspec": {
   "display_name": "Python 3 (ipykernel)",
   "language": "python",
   "name": "python3"
  },
  "language_info": {
   "codemirror_mode": {
    "name": "ipython",
    "version": 3
   },
   "file_extension": ".py",
   "mimetype": "text/x-python",
   "name": "python",
   "nbconvert_exporter": "python",
   "pygments_lexer": "ipython3",
   "version": "3.9.16"
  },
  "scenes_data": {
   "active_scene": "Default Scene",
   "init_scene": "",
   "scenes": [
    "Default Scene"
   ]
  },
  "toc": {
   "base_numbering": 1,
   "nav_menu": {},
   "number_sections": true,
   "sideBar": true,
   "skip_h1_title": false,
   "title_cell": "Table of Contents",
   "title_sidebar": "Contents",
   "toc_cell": false,
   "toc_position": {
    "height": "calc(100% - 180px)",
    "left": "10px",
    "top": "150px",
    "width": "350.867px"
   },
   "toc_section_display": true,
   "toc_window_display": true
  }
 },
 "nbformat": 4,
 "nbformat_minor": 5
}
