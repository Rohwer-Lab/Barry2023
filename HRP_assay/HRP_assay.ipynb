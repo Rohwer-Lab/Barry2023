{
 "cells": [
  {
   "cell_type": "markdown",
   "id": "821a7d55",
   "metadata": {},
   "source": [
    "# HRP assay with Prx decamer reactions"
   ]
  },
  {
   "cell_type": "markdown",
   "id": "386d88c0",
   "metadata": {},
   "source": [
    "This notebook performs analyses described in the "
   ]
  },
  {
   "cell_type": "markdown",
   "id": "a8a1304c",
   "metadata": {},
   "source": [
    "**Manuscript:**\n",
    "\n",
    "Modelling the decamerisation cycle of PRDX1 and the inhibition-like effect on its peroxidase activity"
   ]
  },
  {
   "cell_type": "markdown",
   "id": "ccb46a5d",
   "metadata": {},
   "source": [
    "**Authors:**\n",
    "\n",
    "C. Barry, C. Pillay, J. Rohwer"
   ]
  },
  {
   "cell_type": "markdown",
   "id": "71955015",
   "metadata": {},
   "source": [
    "**Purpose:**\n",
    "\n",
    "Performs assays with the above models with all components at equilibrium\n",
    "\n",
    "Performs assays with the above models with components diluting\n",
    "\n",
    "Performs assays to determine the oxidation and/or oligomer status with above models \n",
    "\n",
    "Plots: Figures 7a, 7b, 8c, and 8d"
   ]
  },
  {
   "cell_type": "markdown",
   "id": "9da6b677",
   "metadata": {},
   "source": [
    "**Requirements:**\n",
    "\n",
    "Python libraries (see **Imports** below)\n",
    "\n",
    "Prx parameters (filename: `fitted_koff_kon_PRDX1_params.csv`)\n",
    "\n",
    "A `.png` file of Figure 2 from Manta et al. 2009\n",
    "\n",
    "Model file of HRP-PRDX2 no decamers (filename: `HRP_PRDX2.psc`)\n",
    "\n",
    "Model file of HRP-PRDX2 with decamers (filename: `HRP_PRDX2_decfull.psc`)"
   ]
  },
  {
   "cell_type": "markdown",
   "id": "8d22862a",
   "metadata": {},
   "source": [
    "##### Imports"
   ]
  },
  {
   "cell_type": "code",
   "execution_count": null,
   "id": "f1b1efe4",
   "metadata": {
    "ExecuteTime": {
     "end_time": "2023-06-23T08:05:29.433551Z",
     "start_time": "2023-06-23T08:05:26.616484Z"
    }
   },
   "outputs": [],
   "source": [
    "import os\n",
    "import copy\n",
    "from IPython.display import Image, display \n",
    "import math\n",
    "\n",
    "import numpy as np\n",
    "from matplotlib import pyplot as plt\n",
    "import matplotlib.patches as mpatches\n",
    "import pandas as pd\n",
    "from sklearn.linear_model import LinearRegression\n",
    "\n",
    "import pysces\n"
   ]
  },
  {
   "cell_type": "markdown",
   "id": "14c55dd9",
   "metadata": {},
   "source": [
    "###### Save directories"
   ]
  },
  {
   "cell_type": "code",
   "execution_count": null,
   "id": "2f79cd54",
   "metadata": {
    "ExecuteTime": {
     "end_time": "2023-06-23T08:05:29.442005Z",
     "start_time": "2023-06-23T08:05:29.436628Z"
    }
   },
   "outputs": [],
   "source": [
    "prev_dir = os.path.split(os.getcwd())[0]\n",
    "\n",
    "mod_dir = os.path.join(prev_dir,\"models\")\n",
    "if not os.path.isdir(mod_dir): os.mkdir(mod_dir) # ensure dir exists\n",
    "\n",
    "par_dir = os.path.join(prev_dir,\"params\")\n",
    "if not os.path.isdir(par_dir): os.mkdir(par_dir) # ensure dir exists\n",
    "    \n",
    "fig_dir = os.path.join(os.getcwd(),\"Figures\")\n",
    "if not os.path.isdir(fig_dir): os.mkdir(fig_dir) # ensure dir exists\n"
   ]
  },
  {
   "cell_type": "markdown",
   "id": "26349861",
   "metadata": {},
   "source": [
    "###### Matplotlib stuff"
   ]
  },
  {
   "cell_type": "code",
   "execution_count": null,
   "id": "3296b822",
   "metadata": {
    "ExecuteTime": {
     "end_time": "2023-06-23T08:05:29.464741Z",
     "start_time": "2023-06-23T08:05:29.444710Z"
    }
   },
   "outputs": [],
   "source": [
    "%matplotlib inline\n",
    "\n",
    "mpl_width = 4.5\n",
    "mpl_height = 3.5\n",
    "mpl_dpi = 600\n",
    "mpl_xlabel_fontsize = \"large\"\n",
    "mpl_ylabel_fontsize = \"large\"\n",
    "mu = \"\\u03bc\"\n",
    "color_wheel = ['tab:blue',\"tab:green\",\"tab:red\",\"tab:cyan\",\"tab:purple\"]"
   ]
  },
  {
   "cell_type": "code",
   "execution_count": null,
   "id": "4318d277",
   "metadata": {
    "ExecuteTime": {
     "end_time": "2023-06-23T08:05:29.471705Z",
     "start_time": "2023-06-23T08:05:29.468721Z"
    }
   },
   "outputs": [],
   "source": [
    "HRP_no_dec_marker= \"^\"\n",
    "HRP_dec_marker = \"s\"\n",
    "HRP_dec_dil_marker = \"o\"\n",
    "mpl_marker_size = 6"
   ]
  },
  {
   "cell_type": "markdown",
   "id": "e4d0c5c6",
   "metadata": {},
   "source": [
    "##### fitted params"
   ]
  },
  {
   "cell_type": "code",
   "execution_count": null,
   "id": "17489036",
   "metadata": {
    "ExecuteTime": {
     "end_time": "2023-06-23T08:05:29.519999Z",
     "start_time": "2023-06-23T08:05:29.473691Z"
    }
   },
   "outputs": [],
   "source": [
    "df_onestep_params = pd.read_csv(os.path.join(par_dir,\"fitted_koff_kon_PRDX1_params.csv\"))\n",
    "df_onestep_params.set_index(\"Parameter\",inplace=True)"
   ]
  },
  {
   "cell_type": "code",
   "execution_count": null,
   "id": "d2b74fe7",
   "metadata": {
    "ExecuteTime": {
     "end_time": "2023-06-23T08:05:29.527560Z",
     "start_time": "2023-06-23T08:05:29.521708Z"
    }
   },
   "outputs": [],
   "source": [
    "def update_params_BenfeitasModels(mod,params,hyp=False):\n",
    "    \"\"\"\n",
    "    Updates the parameters of a model which has been augmented with Prx decamer reactions.\n",
    "    Adding the decamer reactions introduces several new parameter names, which need \n",
    "    to be populated with their corresponding values in the original model as well as \n",
    "    the fitted dimer-decamer transition koff and kon.\n",
    "    As a special case: The decamer sulfenilation rate is set to the original model \n",
    "    dimer sulfenilation rate (i.e full activity) and the dimer sulfenilation rate is \n",
    "    set to 100-fold less than the original model.\n",
    "    \"\"\"\n",
    "    # Dimer-decamer transition params\n",
    "    mod.exponent = 5\n",
    "    mod.k_Prx_asso = params.loc[\"kon\"][0]\n",
    "    mod.k_Prx_dec_disasso = params.loc[\"koff\"][0]\n",
    "    \n",
    "    ## Prx oxidation params\n",
    "    mod.k_Prx_sulfe_SH_dec = mod.kprx\n",
    "    mod.k_Prx_sulfe_SOH_dec = mod.kprx\n",
    "    mod.k_Prx_disulf_form_SH_dec = mod.kcond\n",
    "    mod.k_Prx_disulf_form_SOH_dec = mod.kcond\n",
    "    mod.k_Prx_disso_SH_dec = 10000 # Arbitrary \n",
    "    mod.k_Prx_disso_SOH_dec = 10000 # Arbitrary\n",
    "    \n",
    "    if hyp == True:\n",
    "        mod.k_Prx_sulfe_SOOH_dec = mod.kprx\n",
    "        mod.k_Prx_sulfi_SOOH_dec = mod.ksulf\n",
    "        mod.k_Prx_disulf_form_SOOH_dec = mod.kcond\n",
    "        mod.k_Prx_srx_SOOH_dec = mod.ksrx \n",
    "        mod.k_Prx_disso_SOOH_dec = 10000 # Arbitrary\n",
    "        \n",
    "    # Adust dimer sulfenilation to be 100 slower than decamer\n",
    "    mod.kprx = mod.kprx/100\n",
    "#     mod.two_times_kprx = mod.two_times_kprx/100\n",
    "    \n",
    "    return mod"
   ]
  },
  {
   "cell_type": "markdown",
   "id": "eb0e0559",
   "metadata": {},
   "source": [
    "## HRP assay functions and params"
   ]
  },
  {
   "cell_type": "code",
   "execution_count": null,
   "id": "c5750da4",
   "metadata": {
    "ExecuteTime": {
     "end_time": "2023-06-23T08:05:29.541131Z",
     "start_time": "2023-06-23T08:05:29.531450Z"
    }
   },
   "outputs": [],
   "source": [
    "def do_HRP_exp(mod,Prx_init_range,dil_factor=1,assay_end=0.1,assay_points=100):\n",
    "    \"\"\"\n",
    "    Performs a HRP experiment by simulating HRP traces and processing the data.\n",
    "    Requires \"a_factor\" as a GLOBAL \n",
    "    \"\"\"\n",
    "        \n",
    "    # HRP only trace\n",
    "    trace_HRP_only = do_HRP_assay(mod,\"SH_SH_init\",0,end_time=assay_end)\n",
    "    \n",
    "    # Assay traces\n",
    "    vary = \"SH_SH_init\"\n",
    "    traces = list(map(lambda Prx_init: do_HRP_assay(mod, \n",
    "                                                    vary,\n",
    "                                                    Prx_init,\n",
    "                                                     dil_factor=dil_factor,\n",
    "                                                    end_time=assay_end),\n",
    "                     Prx_init_range))\n",
    "    \n",
    "    # Calculate fraction inhibition\n",
    "    f_inhi = list(map(lambda trace: calc_f_inhi(trace,trace_HRP_only,mod),traces))\n",
    "    f_inhi = np.array((Prx_init_range,f_inhi)).transpose()\n",
    "    \n",
    "    # fit rate constant to fraction inhibition\n",
    "    f_inhi_lm = LinearRegression().fit(f_inhi[:,0].reshape(-1,1),f_inhi[:,1])\n",
    "        \n",
    "    rate_constant = f_inhi_lm.coef_[0]\n",
    "    \n",
    "    return (traces,f_inhi,f_inhi_lm,rate_constant)\n",
    "\n",
    "def do_HRP_assay(mod,\n",
    "                vary,\n",
    "              vary_init, \n",
    "              dil_factor=1,\n",
    "              end_time=0.1,\n",
    "              points=100):\n",
    "    \"\"\"\n",
    "    Simulates a HRP assay trace.\n",
    "    Requires \"a_factor\" as a GLOBAL \n",
    "    \"\"\"\n",
    "    # Copy model so adjustments don't affect upcoming simulations\n",
    "    mod_copy = copy.deepcopy(mod)\n",
    "\n",
    "    # Set H2O2 to zero for pre-assay equilibrium\n",
    "    H2O2_orig = getattr(mod_copy, \"H2O2_init\")\n",
    "    setattr(mod_copy,\"H2O2_init\",0.0)\n",
    "    \n",
    "    # Set expicit experimental concentration\n",
    "    vary_orig = getattr(mod_copy,vary)\n",
    "    setattr(mod_copy,vary,vary_init)\n",
    "\n",
    "    # Adjust all species for dilution (no effect if dilution_factor=1)\n",
    "    for species in mod_copy.species:\n",
    "        setattr(mod_copy, f\"{species}_init\",getattr(mod_copy,f\"{species}_init\")*dil_factor)\n",
    "        \n",
    "    # Get pre-assay equilibrium\n",
    "    mod_copy.doSim(end=1000000,points=2)\n",
    "\n",
    "    # Set assay concentrations and scale to dilution\n",
    "    for species in mod_copy.species:\n",
    "        setattr(mod_copy, f\"{species}_init\",mod_copy.sim[species][-1]/dil_factor)\n",
    "    setattr(mod_copy,\"H2O2_init\",H2O2_orig)\n",
    "\n",
    "    # Do Sim\n",
    "    mod_copy.sim_end = end_time\n",
    "    mod_copy.sim_points = points\n",
    "    mod_copy.Simulate()\n",
    "\n",
    "    # Grab data\n",
    "    assay_time = mod_copy.sim[\"Time\"]\n",
    "    assay_absorbance = mod_copy.sim[\"compound_I\"]*a_factor\n",
    "    trace = np.array((assay_time,assay_absorbance)).transpose()\n",
    "\n",
    "    return trace\n",
    "\n",
    "def calc_f_inhi(trace, trace_HRP_only, mod):\n",
    "    \"\"\"\n",
    "    Calculates the fractional inhibition of a HRP trace.\n",
    "    \"\"\"\n",
    "    # Takes the mean of the last 25% of points in order to account for noise\n",
    "    delta_max = trace_HRP_only[-math.floor(len(trace_HRP_only)/4):,1].mean()\n",
    "    delta_obs = trace[-math.floor(len(trace)/4):,1].mean()\n",
    "    k_HRP = getattr(mod,\"k_HRP\")\n",
    "    HRP_init = getattr(mod,\"HRP_init\")\n",
    "    f_inhi = k_HRP*HRP_init*((delta_max - delta_obs)/delta_obs)         \n",
    "    return f_inhi"
   ]
  },
  {
   "cell_type": "markdown",
   "id": "340ade6e",
   "metadata": {
    "ExecuteTime": {
     "end_time": "2023-06-07T11:41:05.257132Z",
     "start_time": "2023-06-07T11:41:05.251682Z"
    }
   },
   "source": [
    "##### Assay parameters"
   ]
  },
  {
   "cell_type": "code",
   "execution_count": null,
   "id": "abf8b365",
   "metadata": {
    "ExecuteTime": {
     "end_time": "2023-06-23T08:05:29.549507Z",
     "start_time": "2023-06-23T08:05:29.543202Z"
    }
   },
   "outputs": [],
   "source": [
    "# The absorbace change will be determined using the Beer-Lambert law: A = ecl\n",
    "c = 10**(-6) # Analysis is in micro Molar\n",
    "l = 1    # Light path of reader\n",
    "delta_e398_compound_I = -4.2 * 10**4 # HRP breaks down into compound_I \n",
    "                                     # which is measured spectrophotometrically\n",
    "# Hayashi, Y., and Yamazaki, I. (1979). The oxidation-reduction potentials of \n",
    "# compoundI/compound II and compound II/ferric couples of horseradish peroxidases A2 and C. \n",
    "# J. Biol. Chem. 254, 9101–9106.\n",
    "\n",
    "a_factor = delta_e398_compound_I * c * l   # A per umol HRP (or Compound_I)"
   ]
  },
  {
   "cell_type": "markdown",
   "id": "6395d6a9",
   "metadata": {},
   "source": [
    "## Assay at equilibrium (figure 7a and 7b)"
   ]
  },
  {
   "cell_type": "markdown",
   "id": "aff485f0",
   "metadata": {},
   "source": [
    "\"Standard\" HRP assay replicating Manta 2009 fig2"
   ]
  },
  {
   "cell_type": "markdown",
   "id": "bcf959ee",
   "metadata": {},
   "source": [
    "**Paper:** The peroxidase and peroxynitrite reductase activity of human erythrocyte peroxiredoxin 2, _Arch. Biochem. Biophys._ **484**:146-154 (2009)"
   ]
  },
  {
   "cell_type": "markdown",
   "id": "85006fc8",
   "metadata": {},
   "source": [
    "Fig. 2. Kinetics of human Prx2 oxidation by hydrogen peroxide studied by a competitive kinetic approach. Time courses of HRP (5 lM) oxidation by H2O2 (1 lM) in the presence of pre-reduced Prx2 (from bottom to top 0, 0.4, 0.8, 1.3, and 1.7 lM) in 100 mM potassium phosphate buffer pH 7.4 plus 0.1 mM dtpa at 25 °C. From the concentration of compound I formed at each Prx2 concentration, a value of k2 was calculated using Eq. (3)."
   ]
  },
  {
   "cell_type": "code",
   "execution_count": null,
   "id": "6377efc7",
   "metadata": {
    "ExecuteTime": {
     "end_time": "2023-06-23T08:05:29.591659Z",
     "start_time": "2023-06-23T08:05:29.550922Z"
    }
   },
   "outputs": [],
   "source": [
    "Image(\"Manta 2009 Fig2.png\")"
   ]
  },
  {
   "cell_type": "code",
   "execution_count": null,
   "id": "136b909f",
   "metadata": {
    "ExecuteTime": {
     "end_time": "2023-06-23T08:05:29.601250Z",
     "start_time": "2023-06-23T08:05:29.597359Z"
    }
   },
   "outputs": [],
   "source": [
    "# Manta's experimental conditions\n",
    "exp_H2O2_manta = 1\n",
    "exp_HRP_manta = 5\n",
    "Prx_init_range_manta = np.array([0.0,0.4,0.8,1.3,1.70])\n",
    "assay_end_manta = 0.1"
   ]
  },
  {
   "cell_type": "code",
   "execution_count": null,
   "id": "aa6808eb",
   "metadata": {
    "ExecuteTime": {
     "end_time": "2023-06-23T08:05:31.096442Z",
     "start_time": "2023-06-23T08:05:29.604168Z"
    }
   },
   "outputs": [],
   "source": [
    "# Load models and update with exp conditions\n",
    "\n",
    "# HRP Prx no decamers\n",
    "mod_HRP_Prx_no_dec = pysces.model(\"HRP_PRDX2.psc\", dir=mod_dir)\n",
    "mod_HRP_Prx_no_dec.mode_integrator = 'CVODE'\n",
    "setattr(mod_HRP_Prx_no_dec,\"H2O2_init\",exp_H2O2_manta)\n",
    "setattr(mod_HRP_Prx_no_dec,\"HRP_init\",exp_HRP_manta)\n",
    "\n",
    "# HRP Prx with decamers\n",
    "mod_HRP_Prx_with_dec = pysces.model(\"HRP_PRDX2_decfull.psc\", dir=mod_dir)\n",
    "mod_HRP_Prx_with_dec.mode_integrator = 'CVODE'\n",
    "mod_HRP_Prx_with_dec = update_params_BenfeitasModels(mod_HRP_Prx_with_dec,df_onestep_params)\n",
    "setattr(mod_HRP_Prx_with_dec,\"H2O2_init\",exp_H2O2_manta)\n",
    "setattr(mod_HRP_Prx_with_dec,\"HRP_init\",exp_HRP_manta)\n"
   ]
  },
  {
   "cell_type": "code",
   "execution_count": null,
   "id": "3cbe7aa9",
   "metadata": {
    "ExecuteTime": {
     "end_time": "2023-06-23T08:05:34.398015Z",
     "start_time": "2023-06-23T08:05:31.097761Z"
    }
   },
   "outputs": [],
   "source": [
    "# Do HRP experiment simulations\n",
    "assay_points = 100\n",
    "\n",
    "mod = mod_HRP_Prx_no_dec\n",
    "HRP_exp_no_dec_manta = do_HRP_exp(mod,\n",
    "                                  Prx_init_range_manta,\n",
    "                                  assay_end=assay_end_manta,\n",
    "                                  assay_points=assay_points)\n",
    "\n",
    "mod = mod_HRP_Prx_with_dec\n",
    "HRP_exp_with_dec_manta = do_HRP_exp(mod,\n",
    "                                    Prx_init_range_manta,\n",
    "                                    assay_end=assay_end_manta,\n",
    "                                    assay_points=assay_points)"
   ]
  },
  {
   "cell_type": "code",
   "execution_count": null,
   "id": "df3f5a6f",
   "metadata": {
    "ExecuteTime": {
     "end_time": "2023-06-23T08:05:34.854855Z",
     "start_time": "2023-06-23T08:05:34.399296Z"
    }
   },
   "outputs": [],
   "source": [
    "# Plot traces\n",
    "# Assign data\n",
    "HRP_no_dec_traces = HRP_exp_no_dec_manta[0]\n",
    "HRP_with_dec_traces = HRP_exp_with_dec_manta[0]\n",
    "\n",
    "# Plot subset of results\n",
    "cols = 1\n",
    "rows = 1\n",
    "\n",
    "f, axarr = plt.subplots(rows, cols)\n",
    "f.set_size_inches(w=mpl_width, h=mpl_height)\n",
    "\n",
    "handle_list = []\n",
    "\n",
    "axarr.plot(HRP_no_dec_traces[0][:,0], HRP_no_dec_traces[0][:,1],color=\"dimgrey\") \n",
    "handle = mpatches.Patch(color=\"dimgrey\", label = f\"0.0\")\n",
    "handle_list.append(handle)\n",
    "\n",
    "Prx_init_range_temp = [Prx_init_range_manta[2],Prx_init_range_manta[4]]\n",
    "\n",
    "for count,trace in enumerate([HRP_no_dec_traces[2],HRP_no_dec_traces[4]]):\n",
    "    axarr.plot(trace[:,0], \n",
    "               trace[:,1], \n",
    "               f\"{color_wheel[count]}\",\n",
    "               marker=HRP_no_dec_marker,\n",
    "               markevery=20,\n",
    "               markersize = mpl_marker_size,\n",
    "              mec = 'k') \n",
    "    handle = mpatches.Patch(color=f\"{color_wheel[count]}\", label = f\"{Prx_init_range_temp[count]}\")\n",
    "    handle_list.append(handle)\n",
    "    \n",
    "for count,trace in enumerate([HRP_with_dec_traces[2],HRP_with_dec_traces[4]]):\n",
    "    axarr.plot(trace[:,0], \n",
    "               trace[:,1],\n",
    "               f\"{color_wheel[count]}\",\n",
    "               linestyle=\"--\",\n",
    "               marker=HRP_dec_marker,\n",
    "               markevery=20,\n",
    "               markersize = mpl_marker_size,\n",
    "              mec = 'k')\n",
    "    \n",
    "axarr.set_xlabel(\"Time (sec)\", fontsize=mpl_xlabel_fontsize)\n",
    "axarr.set_ylabel(\"$\\Delta$ Absorbance (398 nm)\",fontsize=mpl_ylabel_fontsize)\n",
    "\n",
    "axarr.legend(handles=handle_list,title=f\"Prx ({mu}M)\")\n",
    "f.tight_layout()\n",
    "f.savefig(os.path.join(fig_dir,\"hrp_equi_abs398_v_time.pdf\"),dpi= mpl_dpi)"
   ]
  },
  {
   "cell_type": "code",
   "execution_count": null,
   "id": "a3744a25",
   "metadata": {
    "ExecuteTime": {
     "end_time": "2023-06-23T08:05:35.236418Z",
     "start_time": "2023-06-23T08:05:34.856589Z"
    }
   },
   "outputs": [],
   "source": [
    "# Plot f inhi\n",
    "# Assign data\n",
    "HRP_no_dec_f_inhi = HRP_exp_no_dec_manta[1]\n",
    "HRP_no_dec_finhi_lm= HRP_exp_no_dec_manta[2]\n",
    "HRP_no_dec_k= HRP_exp_no_dec_manta[3]\n",
    "\n",
    "HRP_with_dec_f_inhi = HRP_exp_with_dec_manta[1]\n",
    "HRP_with_dec_finhi_lm= HRP_exp_with_dec_manta[2]\n",
    "HRP_with_dec_k= HRP_exp_with_dec_manta[3]\n",
    "\n",
    "# Plot results\n",
    "cols = 1\n",
    "rows = 1\n",
    "\n",
    "f, axarr = plt.subplots(rows, cols)\n",
    "f.set_size_inches(w=mpl_width, h=mpl_height)\n",
    "\n",
    "axarr.plot(HRP_no_dec_f_inhi[:,0], \n",
    "           HRP_no_dec_f_inhi[:,1], \n",
    "           color=f\"k\",\n",
    "           linestyle='None',\n",
    "           marker=HRP_no_dec_marker,\n",
    "           markersize = mpl_marker_size,\n",
    "           label=f\"Max-act. dim.-only\") \n",
    "axarr.plot(HRP_no_dec_f_inhi[:,0], \n",
    "           HRP_no_dec_finhi_lm.predict(HRP_no_dec_f_inhi[:,0].reshape(-1,1)),\n",
    "          f\"k\",\n",
    "          linestyle=\"-\")\n",
    "axarr.text(0.35,170,f\"$k={str(HRP_no_dec_k)[0:3]}\\ \\mathregular{{{mu}M^{{-1}}\\cdot s^{{-1}}}}$\")\n",
    "\n",
    "axarr.plot(HRP_with_dec_f_inhi[:,0], \n",
    "           HRP_with_dec_f_inhi[:,1], \n",
    "           color=f\"k\",\n",
    "           linestyle='None',\n",
    "           marker=HRP_dec_marker,\n",
    "           markersize = mpl_marker_size,\n",
    "           label=f\"Mix-act. with dec.\") \n",
    "axarr.plot(HRP_with_dec_f_inhi[:,0], \n",
    "           HRP_with_dec_finhi_lm.predict(HRP_with_dec_f_inhi[:,0].reshape(-1,1)),\n",
    "          f\"k\",\n",
    "          linestyle=\"-\")\n",
    "axarr.text(1.,40,f\"$k={str(HRP_with_dec_k)[0:3]}\\ \\mathregular{{{mu}M^{{-1}}\\cdot s^{{-1}}}}$\")\n",
    "\n",
    "\n",
    "axarr.set_xlabel(f\"Prx ({mu}M)\", fontsize=mpl_xlabel_fontsize)\n",
    "axarr.set_ylabel(\"$k_{\\mathrm{HRP}}\\cdot[\\mathrm{HRP}]\\cdot(\\Delta max - \\Delta obs)/\\Delta obs$\",\n",
    "                 fontsize=mpl_ylabel_fontsize)\n",
    "\n",
    "# axarr.set_ylim(bottom=0)\n",
    "# axarr.set_xlim(left=0)\n",
    "axarr.legend(title=\"Model\")\n",
    "f.tight_layout()\n",
    "f.savefig(os.path.join(fig_dir,\"hrp_equi_finhi_v_Prx.pdf\"),dpi=mpl_dpi)\n"
   ]
  },
  {
   "cell_type": "markdown",
   "id": "f30287ac",
   "metadata": {
    "ExecuteTime": {
     "end_time": "2023-01-16T15:26:18.171960Z",
     "start_time": "2023-01-16T15:26:18.167711Z"
    }
   },
   "source": [
    "## Assay after dilution (figure 8c and 8d)"
   ]
  },
  {
   "cell_type": "markdown",
   "id": "29accf4f",
   "metadata": {},
   "source": [
    "Compare HRP assays with species equilibrating on injection to HRP assays with species equilibrating before injection. HRP and H2O2 concentrations based on Manta 2009."
   ]
  },
  {
   "cell_type": "code",
   "execution_count": null,
   "id": "c1b9574e",
   "metadata": {
    "ExecuteTime": {
     "end_time": "2023-06-23T08:05:35.240955Z",
     "start_time": "2023-06-23T08:05:35.238409Z"
    }
   },
   "outputs": [],
   "source": [
    "Prx_init_range_dil = np.array([0.5,2,5])\n"
   ]
  },
  {
   "cell_type": "code",
   "execution_count": null,
   "id": "d79cee25",
   "metadata": {
    "ExecuteTime": {
     "end_time": "2023-06-23T08:05:36.732124Z",
     "start_time": "2023-06-23T08:05:35.242814Z"
    }
   },
   "outputs": [],
   "source": [
    "# Load model\n",
    "\n",
    "# HRP Prx with decamers\n",
    "mod_HRP_Prx_with_dec = pysces.model(\"HRP_PRDX2_decfull.psc\", dir=mod_dir)\n",
    "mod_HRP_Prx_with_dec.mode_integrator = 'CVODE'\n",
    "mod_HRP_Prx_with_dec = update_params_BenfeitasModels(mod_HRP_Prx_with_dec,df_onestep_params)\n",
    "setattr(mod_HRP_Prx_with_dec,\"H2O2_init\",exp_H2O2_manta)\n",
    "setattr(mod_HRP_Prx_with_dec,\"HRP_init\",exp_HRP_manta)"
   ]
  },
  {
   "cell_type": "code",
   "execution_count": null,
   "id": "ae794b91",
   "metadata": {
    "ExecuteTime": {
     "end_time": "2023-06-23T08:05:43.029934Z",
     "start_time": "2023-06-23T08:05:36.733383Z"
    }
   },
   "outputs": [],
   "source": [
    "# Do HRP experiment simulations\n",
    "assay_points = 100\n",
    "mod = mod_HRP_Prx_with_dec\n",
    "dilution = 1\n",
    "HRP_exp_with_dec_no_dil = do_HRP_exp(mod,\n",
    "                                  Prx_init_range_dil,\n",
    "                                  dil_factor=dilution,\n",
    "                                  assay_end=assay_end_manta,\n",
    "                                  assay_points=assay_points)\n",
    "\n",
    "dilution = 10\n",
    "HRP_exp_with_dec_with_dil = do_HRP_exp(mod,\n",
    "                                    Prx_init_range_dil,\n",
    "                                    dil_factor=dilution,\n",
    "                                    assay_end=assay_end_manta,\n",
    "                                    assay_points=assay_points)"
   ]
  },
  {
   "cell_type": "code",
   "execution_count": null,
   "id": "9ab74290",
   "metadata": {
    "ExecuteTime": {
     "end_time": "2023-06-23T08:05:43.325444Z",
     "start_time": "2023-06-23T08:05:43.031294Z"
    }
   },
   "outputs": [],
   "source": [
    "# Plot traces\n",
    "# Assign data\n",
    "HRP_no_dil_traces = HRP_exp_with_dec_no_dil[0]\n",
    "HRP_with_dil_traces = HRP_exp_with_dec_with_dil[0]\n",
    "\n",
    "# Plot results\n",
    "cols = 1\n",
    "rows = 1\n",
    "\n",
    "f, axarr = plt.subplots(rows, cols)\n",
    "f.set_size_inches(w=mpl_width, h=mpl_height)\n",
    "\n",
    "handle_list = []\n",
    "\n",
    "for count,trace in enumerate(HRP_no_dil_traces):\n",
    "    axarr.plot(trace[:,0], \n",
    "               trace[:,1], \n",
    "               f\"{color_wheel[count]}\",\n",
    "               marker=HRP_dec_marker,\n",
    "               markevery=20,\n",
    "               markersize = mpl_marker_size,\n",
    "               mec = 'k') \n",
    "    handle = mpatches.Patch(color=f\"{color_wheel[count]}\", label = f\"{Prx_init_range_dil[count]}\")\n",
    "    handle_list.append(handle)\n",
    "    \n",
    "for count,trace in enumerate(HRP_with_dil_traces):\n",
    "    axarr.plot(trace[:,0], \n",
    "               trace[:,1], \n",
    "               f\"{color_wheel[count]}\",\n",
    "               linestyle=\"--\",\n",
    "               marker=HRP_dec_dil_marker,\n",
    "               markevery=20,\n",
    "               markersize = mpl_marker_size,\n",
    "               mec = 'k')\n",
    "    \n",
    "axarr.set_xlabel(\"Time (sec)\", fontsize=mpl_xlabel_fontsize)\n",
    "axarr.set_ylabel(\"$\\Delta$ Absorbance (398 nm)\",fontsize=mpl_ylabel_fontsize)\n",
    "\n",
    "axarr.legend(handles=handle_list,title=f\"Prx ({mu}M)\",loc=(0.73,0.4))\n",
    "f.tight_layout()\n",
    "f.savefig(os.path.join(fig_dir,\"hrp_dil_abs398_v_time.pdf\"),dpi= mpl_dpi)\n"
   ]
  },
  {
   "cell_type": "code",
   "execution_count": null,
   "id": "3911b659",
   "metadata": {
    "ExecuteTime": {
     "end_time": "2023-06-23T08:05:43.700780Z",
     "start_time": "2023-06-23T08:05:43.327594Z"
    }
   },
   "outputs": [],
   "source": [
    "# Plot f inhi\n",
    "# Assign data\n",
    "HRP_no_dil_f_inhi = HRP_exp_with_dec_no_dil[1]\n",
    "HRP_no_dil_finhi_lm= HRP_exp_with_dec_no_dil[2]\n",
    "HRP_no_dil_k= HRP_exp_with_dec_no_dil[3]\n",
    "\n",
    "HRP_with_dil_f_inhi = HRP_exp_with_dec_with_dil[1]\n",
    "HRP_with_dil_finhi_lm= HRP_exp_with_dec_with_dil[2]\n",
    "HRP_with_dil_k= HRP_exp_with_dec_with_dil[3]\n",
    "\n",
    "# Plot results\n",
    "cols = 1\n",
    "rows = 1\n",
    "\n",
    "f, axarr = plt.subplots(rows, cols)\n",
    "f.set_size_inches(w=mpl_width, h=mpl_height)\n",
    "\n",
    "axarr.plot(HRP_no_dil_f_inhi[:,0], \n",
    "           HRP_no_dil_f_inhi[:,1], \n",
    "           color=f\"k\",\n",
    "           linestyle=\"None\",\n",
    "           marker=HRP_dec_marker,\n",
    "           markersize = mpl_marker_size,\n",
    "          label=f\"Pre-equilibrated\") \n",
    "axarr.plot(HRP_no_dil_f_inhi[:,0], \n",
    "           HRP_no_dil_finhi_lm.predict(HRP_no_dil_f_inhi[:,0].reshape(-1, 1)),\n",
    "          f\"k-\")\n",
    "axarr.text(2.7,300,f\"$k={str(HRP_no_dil_k)[0:3]}\\ \\mathregular{{{mu}M^{{-1}}\\cdot s^{{-1}}}}$\")\n",
    "\n",
    "axarr.plot(HRP_with_dil_f_inhi[:,0], \n",
    "           HRP_with_dil_f_inhi[:,1], \n",
    "           color=f\"k\",\n",
    "           linestyle=\"None\",\n",
    "           marker=HRP_dec_dil_marker,\n",
    "           markersize = mpl_marker_size,\n",
    "          label=f\"Diluted at $t=0$\")\n",
    "axarr.plot(HRP_with_dil_f_inhi[:,0], \n",
    "           HRP_with_dil_finhi_lm.predict(HRP_with_dil_f_inhi[:,0].reshape(-1, 1)),\n",
    "          f\"k-\")\n",
    "axarr.text(2.65,800,f\"$k={str(HRP_with_dil_k)[0:3]}\\ \\mathregular{{{mu}M^{{-1}}\\cdot s^{{-1}}}}$\")\n",
    "\n",
    "axarr.set_xlabel(f\"Prx ({mu}M)\", fontsize=mpl_xlabel_fontsize)\n",
    "axarr.set_ylabel(\"$k_{\\mathrm{HRP}}\\cdot[\\mathrm{HRP}]\\cdot(\\Delta max - \\Delta obs)/\\Delta obs$\",\n",
    "                 fontsize=mpl_ylabel_fontsize)\n",
    "\n",
    "axarr.set_ylim(bottom=0)\n",
    "axarr.set_xlim(left=0)\n",
    "axarr.legend(title=\"Model\")\n",
    "f.tight_layout()\n",
    "f.savefig(os.path.join(fig_dir,\"hrp_dil_finhi_v_Prx.pdf\"),dpi=mpl_dpi)\n"
   ]
  },
  {
   "cell_type": "code",
   "execution_count": null,
   "id": "c4ff0589",
   "metadata": {},
   "outputs": [],
   "source": []
  }
 ],
 "metadata": {
  "kernelspec": {
   "display_name": "Python 3 (ipykernel)",
   "language": "python",
   "name": "python3"
  },
  "language_info": {
   "codemirror_mode": {
    "name": "ipython",
    "version": 3
   },
   "file_extension": ".py",
   "mimetype": "text/x-python",
   "name": "python",
   "nbconvert_exporter": "python",
   "pygments_lexer": "ipython3",
   "version": "3.10.11"
  },
  "toc": {
   "base_numbering": 1,
   "nav_menu": {},
   "number_sections": true,
   "sideBar": true,
   "skip_h1_title": false,
   "title_cell": "Table of Contents",
   "title_sidebar": "Contents",
   "toc_cell": false,
   "toc_position": {
    "height": "calc(100% - 180px)",
    "left": "10px",
    "top": "150px",
    "width": "350.867px"
   },
   "toc_section_display": true,
   "toc_window_display": true
  }
 },
 "nbformat": 4,
 "nbformat_minor": 5
}
