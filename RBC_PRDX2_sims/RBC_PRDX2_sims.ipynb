{
 "cells": [
  {
   "cell_type": "markdown",
   "metadata": {},
   "source": [
    "# Peroxiredoxin red blood cell model (Benfeitas et al. 2014) simulations"
   ]
  },
  {
   "cell_type": "markdown",
   "metadata": {},
   "source": [
    "This notebook performs analyses described in the "
   ]
  },
  {
   "cell_type": "markdown",
   "metadata": {},
   "source": [
    "**Manuscript:**\n",
    "\n",
    "Modelling the decamerisation cycle of PRDX1 and the inhibition-like effect on its peroxidase activity"
   ]
  },
  {
   "cell_type": "markdown",
   "metadata": {},
   "source": [
    "**Authors:**\n",
    "\n",
    "C. Barry, C. Pillay, J. Rohwer"
   ]
  },
  {
   "cell_type": "markdown",
   "metadata": {},
   "source": [
    "**Purpose:**\n",
    "\n",
    "Reproduce the simulations of Benfeitas et al. 2014 with and without decamerisation\n",
    "\n",
    "Plots: figure 6, S3, S4, S5, S6, S9a and S9b\n"
   ]
  },
  {
   "cell_type": "markdown",
   "metadata": {},
   "source": [
    "**Requirements:**\n",
    "\n",
    "Python libraries (see **Imports** below)\n",
    "\n",
    "RBC PRDX2-model A of Benfeitas et al 2014 (filename:`RBC_PRDX2_modelA.psc`)\n",
    "\n",
    "RBC PRDX2 with inhibition-model B of Benfeitas et al 2014 (filename:`RBC_PRDX2_modelB.psc`)\n",
    "\n",
    "RBC PRDX2-model A with decamerisation (filename:`RBC_PRDX2_modelA_decfull.psc`)\n",
    "\n",
    "RBC PRDX2-model A with decamerisation and 5 disulphide-bridges (filename:`RBC_PRDX2_modelA_decfull_5dsb.psc`)\n",
    "\n",
    "Prx model parameters (filename: `fitted_koff_kon_PRDX1_params.csv`)\n",
    "\n",
    "Several `.png` files of figures from the original Benfeitas et al. 2014 paper"
   ]
  },
  {
   "cell_type": "markdown",
   "metadata": {},
   "source": [
    "##### Imports"
   ]
  },
  {
   "cell_type": "code",
   "execution_count": null,
   "metadata": {
    "ExecuteTime": {
     "end_time": "2023-07-27T09:35:57.913604Z",
     "start_time": "2023-07-27T09:35:56.683829Z"
    }
   },
   "outputs": [],
   "source": [
    "import os\n",
    "from IPython.display import Image, display \n",
    "import math\n",
    "from math import e\n",
    "\n",
    "import scipy as sp\n",
    "import numpy as np\n",
    "from matplotlib import pyplot as plt\n",
    "import matplotlib\n",
    "import pandas as pd\n",
    "from sklearn.metrics import auc\n",
    "\n",
    "import pysces\n",
    "pysces.enablePandas()"
   ]
  },
  {
   "cell_type": "markdown",
   "metadata": {},
   "source": [
    "##### Save directories"
   ]
  },
  {
   "cell_type": "code",
   "execution_count": null,
   "metadata": {
    "ExecuteTime": {
     "end_time": "2023-07-27T09:35:57.919492Z",
     "start_time": "2023-07-27T09:35:57.915943Z"
    }
   },
   "outputs": [],
   "source": [
    "prev_dir = os.path.split(os.getcwd())[0]\n",
    "\n",
    "mod_dir = os.path.join(prev_dir,\"models\")\n",
    "if not os.path.isdir(mod_dir): os.mkdir(mod_dir) # ensure dir exists\n",
    "\n",
    "par_dir = os.path.join(prev_dir,\"params\")\n",
    "if not os.path.isdir(par_dir): os.mkdir(par_dir) # ensure dir exists\n",
    "    \n",
    "fig_dir = os.path.join(os.getcwd(),\"Figures\")\n",
    "if not os.path.isdir(fig_dir): os.mkdir(fig_dir) # ensure dir exists\n"
   ]
  },
  {
   "cell_type": "markdown",
   "metadata": {},
   "source": [
    "##### Matplotlib stuff"
   ]
  },
  {
   "cell_type": "code",
   "execution_count": null,
   "metadata": {
    "ExecuteTime": {
     "end_time": "2023-07-27T09:35:57.930817Z",
     "start_time": "2023-07-27T09:35:57.920687Z"
    }
   },
   "outputs": [],
   "source": [
    "%matplotlib inline\n",
    "\n",
    "mpl_width = 4.5\n",
    "mpl_height = 3.5\n",
    "mpl_dpi = 600\n",
    "mpl_xlabel_fontsize = \"large\"\n",
    "mpl_ylabel_fontsize = \"large\"\n",
    "mu = \"\\u03bc\"\n",
    "\n",
    "mpl_width_squarefig = 3.0\n",
    "mpl_height_squarefig = 3.0\n",
    "\n",
    "# Assign line styles for figs 4-7\n",
    "mod_A_line = \"b-\"\n",
    "mod_B_line = \"k-\"\n",
    "mod_A_dec_nohyp_line  = \"m--\""
   ]
  },
  {
   "cell_type": "markdown",
   "metadata": {},
   "source": [
    "##### params"
   ]
  },
  {
   "cell_type": "code",
   "execution_count": null,
   "metadata": {
    "ExecuteTime": {
     "end_time": "2023-07-27T09:35:57.937588Z",
     "start_time": "2023-07-27T09:35:57.932497Z"
    }
   },
   "outputs": [],
   "source": [
    "df_onestep_params = pd.read_csv(os.path.join(par_dir,\"fitted_koff_kon_PRDX1_params.csv\"))\n",
    "df_onestep_params.set_index(\"Parameter\",inplace=True)"
   ]
  },
  {
   "cell_type": "code",
   "execution_count": null,
   "metadata": {
    "ExecuteTime": {
     "end_time": "2023-07-27T09:35:57.944476Z",
     "start_time": "2023-07-27T09:35:57.939211Z"
    }
   },
   "outputs": [],
   "source": [
    "def update_params_BenfeitasModels(mod,params,hyp=False):\n",
    "    \"\"\"\n",
    "    Updates the parameters of a model which has been augmented with Prx decamer reactions.\n",
    "    Adding the decamer reactions introduces several new parameter names, which need to \n",
    "    be populated with their corresponding values in the original model as well as the \n",
    "    fitted dimer-decamer transition koff and kon.\n",
    "    As a special case: The decamer sulfenilation rate is set to the original model \n",
    "    dimer sulfenilation rate (i.e full activity) and the dimer sulfenilation rate is \n",
    "    set to 100-fold less than the original model.\n",
    "    \"\"\"\n",
    "    # Dimer-decamer transition params\n",
    "    mod.exponent = 5\n",
    "    mod.k_Prx_asso = params.loc[\"kon\"][0]\n",
    "    mod.k_Prx_dec_disasso = params.loc[\"koff\"][0]\n",
    "    \n",
    "    ## Prx oxidation params\n",
    "    mod.k_Prx_sulfe_SH_dec = mod.kprx\n",
    "    mod.k_Prx_sulfe_SOH_dec = mod.kprx\n",
    "    mod.k_Prx_disulf_form_SH_dec = mod.kcond\n",
    "    mod.k_Prx_disulf_form_SOH_dec = mod.kcond\n",
    "    mod.k_Prx_disso_SH_dec = 10000 # Arbitrary \n",
    "    mod.k_Prx_disso_SOH_dec = 10000 # Arbitrary\n",
    "    \n",
    "    if hyp == True:\n",
    "        mod.k_Prx_sulfe_SOOH_dec = mod.kprx\n",
    "        mod.k_Prx_sulfi_SOOH_dec = mod.ksulf\n",
    "        mod.k_Prx_disulf_form_SOOH_dec = mod.kcond\n",
    "        mod.k_Prx_srx_SOOH_dec = mod.ksrx \n",
    "        mod.k_Prx_disso_SOOH_dec = 10000 # Arbitrary\n",
    "        \n",
    "    # Adust dimer sulfenilation to be 100 slower than decamer\n",
    "    mod.kprx = mod.kprx/100\n",
    "    mod.two_times_kprx = mod.two_times_kprx/100\n",
    "    \n",
    "    return mod"
   ]
  },
  {
   "cell_type": "markdown",
   "metadata": {},
   "source": [
    "## Initialize models "
   ]
  },
  {
   "cell_type": "markdown",
   "metadata": {},
   "source": [
    "### Model A"
   ]
  },
  {
   "cell_type": "code",
   "execution_count": null,
   "metadata": {
    "ExecuteTime": {
     "end_time": "2023-07-27T09:35:58.108556Z",
     "start_time": "2023-07-27T09:35:57.945740Z"
    },
    "scrolled": true
   },
   "outputs": [],
   "source": [
    "# Load model\n",
    "mod_A = pysces.model(\"RBC_PRDX2_modelA.psc\", dir = mod_dir)\n",
    "mod_A.mode_integrate_all_odes = True # As recommented by pysces\n",
    "mod_A.SetQuiet()    \n",
    "mod_A.showModel()"
   ]
  },
  {
   "cell_type": "code",
   "execution_count": null,
   "metadata": {
    "ExecuteTime": {
     "end_time": "2023-07-27T09:35:58.112994Z",
     "start_time": "2023-07-27T09:35:58.109973Z"
    }
   },
   "outputs": [],
   "source": [
    "# Idx of Prx in conserved\n",
    "mod_A_pos_in_conserved = ['SH_SH' in s for s in mod_A.conserved_sums.split(\"\\n\")].index(True)\n"
   ]
  },
  {
   "cell_type": "markdown",
   "metadata": {},
   "source": [
    "### Model B"
   ]
  },
  {
   "cell_type": "code",
   "execution_count": null,
   "metadata": {
    "ExecuteTime": {
     "end_time": "2023-07-27T09:35:58.303682Z",
     "start_time": "2023-07-27T09:35:58.114267Z"
    },
    "scrolled": true
   },
   "outputs": [],
   "source": [
    "# Load model\n",
    "mod_B = pysces.model(\"RBC_PRDX2_modelB.psc\", dir = mod_dir)\n",
    "mod_B.mode_integrate_all_odes = True # As recommented by pysces\n",
    "mod_B.SetQuiet()\n",
    "mod_B.showModel()"
   ]
  },
  {
   "cell_type": "code",
   "execution_count": null,
   "metadata": {
    "ExecuteTime": {
     "end_time": "2023-07-27T09:35:58.307256Z",
     "start_time": "2023-07-27T09:35:58.304963Z"
    }
   },
   "outputs": [],
   "source": [
    "# Idx of Prx in conserved\n",
    "mod_B_pos_in_conserved = ['SH_SH' in s for s in mod_B.conserved_sums.split(\"\\n\")].index(True)\n"
   ]
  },
  {
   "cell_type": "markdown",
   "metadata": {},
   "source": [
    "### Model A with decamerisation"
   ]
  },
  {
   "cell_type": "code",
   "execution_count": null,
   "metadata": {
    "ExecuteTime": {
     "end_time": "2023-07-27T09:36:01.937368Z",
     "start_time": "2023-07-27T09:35:58.310140Z"
    }
   },
   "outputs": [],
   "source": [
    "# Load model\n",
    "mod_A_dec_nohyp = pysces.model(\"RBC_PRDX2_modelA_decfull.psc\", dir = mod_dir)\n",
    "mod_A_dec_nohyp.mode_integrate_all_odes = True # As recommented by pysces\n",
    "mod_A_dec_nohyp.SetQuiet()\n",
    "mod_A_dec_nohyp = update_params_BenfeitasModels(mod_A_dec_nohyp,df_onestep_params)"
   ]
  },
  {
   "cell_type": "code",
   "execution_count": null,
   "metadata": {
    "ExecuteTime": {
     "end_time": "2023-07-27T09:36:01.941579Z",
     "start_time": "2023-07-27T09:36:01.938746Z"
    }
   },
   "outputs": [],
   "source": [
    "# Idx of Prx in conserved\n",
    "mod_A_dec_nohyp_pos_in_conserved = ['SH_SH' in s for s in mod_A_dec_nohyp.conserved_sums.split(\"\\n\")].index(True)\n"
   ]
  },
  {
   "cell_type": "code",
   "execution_count": null,
   "metadata": {
    "ExecuteTime": {
     "end_time": "2023-07-27T09:36:01.949447Z",
     "start_time": "2023-07-27T09:36:01.943257Z"
    }
   },
   "outputs": [],
   "source": [
    "# disso = 10000000\n",
    "\n",
    "# setattr(mod_A_dec_nohyp, \"k_Prx_disso_SH_dec\",disso)\n",
    "# setattr(mod_A_dec_nohyp, \"k_Prx_disso_SOH_dec\",disso)"
   ]
  },
  {
   "cell_type": "markdown",
   "metadata": {},
   "source": [
    "## Analyses of Benfeitas 2014 figures"
   ]
  },
  {
   "cell_type": "markdown",
   "metadata": {},
   "source": [
    "Below we reproduce figures 3-7 of Benfeitas et al 2014 in the correspondingly named sections. The legend text and image of each of the original figures are copied here for reference. \n"
   ]
  },
  {
   "cell_type": "markdown",
   "metadata": {},
   "source": [
    "### Fig 3"
   ]
  },
  {
   "cell_type": "markdown",
   "metadata": {},
   "source": [
    "Fig. 3. Simulations of responses of Prx2 in intact erythrocytes to H 2 O 2 boluses as per experiments in Ref. [2]. Low et al. [2] exposed human erythrocytes (5 \u0003 10 9 cells dm \u0001 3 ,\n",
    "pH 7.4, 37 1C, 5 mM glucose) to H 2 O 2 boluses and determined the fractions of Prx2 monomers or disulfide-crosslinked dimers in nonreducing SDS–polyacrylamide gel\n",
    "electrophoresis gels for the indicated boluses and times. Disulfide Prx2 ran in most cases as a double band, the upper and lower components of which corresponding to\n",
    "dimers with one and two disulfides, respectively [22]. Comparisons to simulation results must take into account that the experiments overestimate the fraction of oxidized\n",
    "Prx2, owing to adventitious oxidation during sample handling [2]. To simulate these experiments models were modified by (i) treating the extracellular concentration of\n",
    "H 2 O 2 as a dependent variable, with compartment volumes accounting for the hematocrit of the assay medium, and (ii) assuming a 57 nM s \u0001 1 endogenous H 2 O 2 production\n",
    "reflecting the higher rate of GSH autoxidation under atmospheric pressure (discussed in supplementary materials, Section 2). Plots represent the fractions of noncrosslinked\n",
    "(dashed), singly crosslinked (thin solid lines), and doubly crosslinked (thick solid line) Prx2 dimers, sulfinylated (cyan) or not (red), obtained by exposing 5 \u0003 10 9 cells dm \u0001 3\n",
    "to H 2 O 2 boluses according to the experiments shown in Figs. 2 and 4 of Ref. [2]. (A–D) Simulations based on Models A–D, respectively, at t1⁄4 10 min after exposure of\n",
    "erythrocytes to various boluses. Compare to Fig. 2A and B of Ref. [2]. Vertical dashed lines indicate the experimental boluses. H 2 O 2 concentrations are represented in\n",
    "logarithmic scale. In (A) and (B), the thin cyan lines overlap the thin red lines for high boluses, indicating that virtually all the singly crosslinked dimers are sulfinylated under\n",
    "these conditions. Likewise, the dashed cyan line overlaps the dashed red line in (C). (E–H) Simulations based on models A–D, respectively, for the 60 min after exposure of\n",
    "5 \u0003 10 9 cells dm \u0001 3 to a 5 μM H 2 O 2 bolus. Vertical dashed lines indicate the times at which dimer fractions were experimentally determined. Further information in\n",
    "supplementary materials, Section 13.2."
   ]
  },
  {
   "cell_type": "markdown",
   "metadata": {},
   "source": [
    "#### Published figure"
   ]
  },
  {
   "cell_type": "code",
   "execution_count": null,
   "metadata": {
    "ExecuteTime": {
     "end_time": "2023-07-27T09:36:01.977407Z",
     "start_time": "2023-07-27T09:36:01.950766Z"
    }
   },
   "outputs": [],
   "source": [
    "Image(\"Benfeitas 2014 fig3.png\")"
   ]
  },
  {
   "cell_type": "markdown",
   "metadata": {},
   "source": [
    "#### Data and sims"
   ]
  },
  {
   "cell_type": "code",
   "execution_count": null,
   "metadata": {
    "ExecuteTime": {
     "end_time": "2023-07-27T09:36:01.993335Z",
     "start_time": "2023-07-27T09:36:01.979344Z"
    }
   },
   "outputs": [],
   "source": [
    "def do_Benfig3_H2O2scan(mod, H2O2_range,end = 600):\n",
    "    \"\"\"\n",
    "    Performs the steady-state simulations of Benfeitas fig3.\n",
    "    \"\"\"\n",
    "    # Check if model has H2O2 fixed\n",
    "    if not hasattr(mod, \"H2O2_init\"):\n",
    "        print(\"Model does not contain H2O2_init\")\n",
    "\n",
    "    # Set up data dict\n",
    "    benfig3_H2O2scan_data = dict()\n",
    "    for species in mod.species:\n",
    "        benfig3_H2O2scan_data[species] = []\n",
    "\n",
    "    # Simulate for 10 min\n",
    "    for H2O2 in H2O2_range:\n",
    "\n",
    "        # Adjust model\n",
    "        orig = getattr(mod, \"eH2O2_init\")\n",
    "        setattr(mod, \"eH2O2_init\",H2O2)\n",
    "\n",
    "        # Simulate\n",
    "        mod.doSim(points=2,end=end)\n",
    "        data,labels = mod.data_sim.getAllSimData(lbls=True)\n",
    "\n",
    "        # Store data\n",
    "        for species in mod.species:\n",
    "            benfig3_H2O2scan_data[species].append(data[-1,labels.index(species)])\n",
    "\n",
    "        # Restore model\n",
    "        setattr(mod, \"eH2O2_init\",orig)\n",
    "\n",
    "    return benfig3_H2O2scan_data\n",
    "\n",
    "def do_Benfig3_timesim(mod,points=100,end=3600):\n",
    "    \"\"\"\n",
    "    Performs the time-coarse simulations of Benfeitas fig3.\n",
    "    \"\"\"\n",
    "    mod.doSim(points=points,end=end)\n",
    "    data,labels = mod.data_sim.getAllSimData(lbls = True)\n",
    "    \n",
    "    benfig3_timesim_data = dict()\n",
    "    for species in mod.species:\n",
    "        benfig3_timesim_data[species] = data[:,labels.index(species)]\n",
    "    \n",
    "    return benfig3_timesim_data\n",
    "\n",
    "def process_Benfig3_data(data, Prx_species_list, t_dimers):\n",
    "    \"\"\"\n",
    "    Processes the data from steady-state and time-coarse simulations of Benfeitas fig3.\n",
    "    \"\"\"\n",
    "    sim_length = len(list(data.values())[0])\n",
    "    \n",
    "    # Set up plot data dict\n",
    "    benfig3_plot_data = {\"0SS_no_sulfi\": np.zeros(sim_length),\n",
    "                         \"1SS_no_sulfi\": np.zeros(sim_length),\n",
    "                         \"2SS\": np.zeros(sim_length),\n",
    "                         \"0SS_sulfi\": np.zeros(sim_length),\n",
    "                         \"1SS_sulfi\": np.zeros(sim_length)}\n",
    "\n",
    "    \n",
    "    for species in Prx_species_list:\n",
    "        species_conc_data = data[species]\n",
    "        dimer_species_list = species.split(\"__\")\n",
    "        \n",
    "        for dimer_species in dimer_species_list:\n",
    "            sites = [i.strip(\"i\") for i in dimer_species.split(\"_\")] # Some models have \"inhibiited\" sites\n",
    "\n",
    "            for sim_point, species_conc in enumerate(species_conc_data):\n",
    "\n",
    "                if \"SS\" not in sites and \"SO2H\" not in sites:\n",
    "                    # Thin red dashed line\n",
    "                    benfig3_plot_data[\"0SS_no_sulfi\"][sim_point] += species_conc/t_dimers\n",
    "\n",
    "                elif \"SS\" not in sites and \"SO2H\" in sites:\n",
    "                    \n",
    "                    benfig3_plot_data[\"0SS_sulfi\"][sim_point] += species_conc/t_dimers\n",
    "                    benfig3_plot_data[\"0SS_no_sulfi\"][sim_point] += species_conc/t_dimers ## see note below\n",
    "\n",
    "                elif \"SS\" == sites[0] and \"SS\" == sites[1]:\n",
    "                    # Thick red solid line\n",
    "                    benfig3_plot_data[\"2SS\"][sim_point] += species_conc/t_dimers\n",
    "\n",
    "                elif \"SS\" in sites and \"SO2H\" not in sites:\n",
    "                    # SS_SS won't get here because it's already been caught\n",
    "                    # Thin red solid line\n",
    "                    benfig3_plot_data[\"1SS_no_sulfi\"][sim_point] += species_conc/t_dimers\n",
    "\n",
    "                elif \"SS\" in sites and \"SO2H\" in sites:\n",
    "                    benfig3_plot_data[\"1SS_sulfi\"][sim_point] += species_conc/t_dimers\n",
    "                    benfig3_plot_data[\"1SS_no_sulfi\"][sim_point] += species_conc/t_dimers ## see note below\n",
    "\n",
    "                else:\n",
    "                    print(f\"WARNING: {dimer_species} slipped through data processing\")\n",
    "                    \n",
    "    # Note: From reading the paper I thought these lines shouldn't be here \n",
    "    # but they are needed to replicate the figures .   \n",
    "    \n",
    "    return benfig3_plot_data\n",
    "\n"
   ]
  },
  {
   "cell_type": "markdown",
   "metadata": {},
   "source": [
    "**Warning:** The simulations in the following cell can take 5-15 minutes."
   ]
  },
  {
   "cell_type": "code",
   "execution_count": null,
   "metadata": {
    "ExecuteTime": {
     "end_time": "2023-07-27T09:42:46.858967Z",
     "start_time": "2023-07-27T09:36:01.995602Z"
    }
   },
   "outputs": [],
   "source": [
    "# Adjust intracellular H2O2 production\n",
    "mod_A_H2O2prod_orig = getattr(mod_A, 'H2O2_production_v')\n",
    "mod_B_H2O2prod_orig = getattr(mod_B, 'H2O2_production_v')\n",
    "mod_A_dec_nohyp_H2O2prod_orig = getattr(mod_A_dec_nohyp, 'H2O2_production_v')\n",
    "\n",
    "H2O2prod = 0.057   # for this fig\n",
    "setattr(mod_A, 'H2O2_production_v', H2O2prod)\n",
    "setattr(mod_B, 'H2O2_production_v', H2O2prod)\n",
    "setattr(mod_A_dec_nohyp, 'H2O2_production_v', H2O2prod)\n",
    "\n",
    "# Adjust Plasma to experimental hematocrit\n",
    "cells = 5 * 10 ** (9)\n",
    "\n",
    "mod_A_Plasma_orig = getattr(mod_A, 'Plasma_init')\n",
    "mod_B_Plasma_orig = getattr(mod_B, 'Plasma_init')\n",
    "mod_A_dec_nohyp_Plasma_orig = getattr(mod_A_dec_nohyp, 'Plasma_init')\n",
    "\n",
    "setattr(mod_A, 'Plasma_init', 1 / (cells * mod_A.Compartment_1))\n",
    "setattr(mod_B, 'Plasma_init', 1 / (cells * mod_B.Compartment_1))\n",
    "setattr(mod_A_dec_nohyp, 'Plasma_init', 1 / (cells * mod_A_dec_nohyp.Compartment_1))\n",
    "\n",
    "# Store eH2O2_init\n",
    "mod_A_eH2O2_init_orig = getattr(mod_A, 'eH2O2_init')\n",
    "mod_B_eH2O2_init_orig = getattr(mod_B, 'eH2O2_init')\n",
    "mod_A_dec_nohyp_eH2O2_init_orig = getattr(mod_A_dec_nohyp, 'eH2O2_init')\n",
    "\n",
    "# Get Prx species list\n",
    "mod_A_Prx_pos_in_conserved = ['SH_SH' in s for s in mod_A.conserved_sums.split(\"\\n\")].index(True)\n",
    "mod_A_Prx_species = [\n",
    "    i.split('}')[1].strip()\n",
    "    for i in mod_A.conserved_sums.split('\\n')[mod_A_Prx_pos_in_conserved]\n",
    "    .split('=')[0]\n",
    "    .split(' + ')[1:]\n",
    "]\n",
    "mod_B_Prx_pos_in_conserved = ['SH_SH' in s for s in mod_B.conserved_sums.split(\"\\n\")].index(True)\n",
    "mod_B_Prx_species = [\n",
    "    i.split('}')[1].strip()\n",
    "    for i in mod_B.conserved_sums.split('\\n')[mod_B_Prx_pos_in_conserved]\n",
    "    .split('=')[0]\n",
    "    .split(' + ')[1:]\n",
    "]\n",
    "mod_A_dec_nohyp_Prx_pos_in_conserved = ['SH_SH' in s for s in mod_A_dec_nohyp.conserved_sums.split(\"\\n\")].index(True)\n",
    "mod_A_dec_nohyp_Prx_species = [\n",
    "    i.split('}')[1].strip()\n",
    "    for i in mod_A_dec_nohyp.conserved_sums.split('\\n')[\n",
    "        mod_A_dec_nohyp_Prx_pos_in_conserved\n",
    "    ]\n",
    "    .split('=')[0]\n",
    "    .split(' + ')[1:]\n",
    "]\n",
    "\n",
    "## Steady-state simulations\n",
    "H2O2_range = np.logspace(-0.30102999, 2.30103, 49)\n",
    "\n",
    "# Get t_dimers (the built in t_dimers doesn't work for decamer model)\n",
    "mod_A_t_dimers = float(\n",
    "    mod_A.conserved_sums.split('\\n')[mod_A_pos_in_conserved].split(' = ')[1]\n",
    ")\n",
    "mod_B_t_dimers = float(\n",
    "    mod_B.conserved_sums.split('\\n')[mod_B_pos_in_conserved].split(' = ')[1]\n",
    ")\n",
    "mod_A_dec_nohyp_t_dimers = (\n",
    "    float(\n",
    "        mod_A_dec_nohyp.conserved_sums.split('\\n')[\n",
    "            mod_A_dec_nohyp_pos_in_conserved\n",
    "        ].split(' = ')[1]\n",
    "    ) * 5\n",
    ")\n",
    "\n",
    "# Do simulations\n",
    "mod_A_H2O2scan_data = do_Benfig3_H2O2scan(mod_A, H2O2_range)\n",
    "mod_A_benfig3_H2O2scan_plots = process_Benfig3_data(\n",
    "    mod_A_H2O2scan_data, mod_A_Prx_species, mod_A_t_dimers\n",
    ")\n",
    "mod_B_H2O2scan_data = do_Benfig3_H2O2scan(mod_B, H2O2_range)\n",
    "mod_B_benfig3_H2O2scan_plots = process_Benfig3_data(\n",
    "    mod_B_H2O2scan_data, mod_B_Prx_species, mod_B_t_dimers\n",
    ")\n",
    "mod_A_dec_nohyp_H2O2scan_data = do_Benfig3_H2O2scan(mod_A_dec_nohyp, H2O2_range)\n",
    "mod_A_dec_nohyp_benfig3_H2O2scan_plots = process_Benfig3_data(\n",
    "    mod_A_dec_nohyp_H2O2scan_data, mod_A_dec_nohyp_Prx_species, mod_A_dec_nohyp_t_dimers\n",
    ")\n",
    "\n",
    "## Time simulations\n",
    "H2O2_bolus_added_CONC_ = 5\n",
    "\n",
    "# Adjust bolus\n",
    "setattr(mod_A, 'eH2O2_init', H2O2_bolus_added_CONC_)\n",
    "setattr(mod_B, 'eH2O2_init', H2O2_bolus_added_CONC_)\n",
    "setattr(mod_A_dec_nohyp, 'eH2O2_init', H2O2_bolus_added_CONC_)\n",
    "\n",
    "# Do simulations\n",
    "mod_A_timesim_data = do_Benfig3_timesim(mod_A)\n",
    "mod_A_benfig3_timesim_plots = process_Benfig3_data(\n",
    "    mod_A_timesim_data, mod_A_Prx_species, mod_A_t_dimers\n",
    ")\n",
    "mod_B_timesim_data = do_Benfig3_timesim(mod_B)\n",
    "mod_B_benfig3_timesim_plots = process_Benfig3_data(\n",
    "    mod_B_timesim_data, mod_B_Prx_species, mod_B_t_dimers\n",
    ")\n",
    "mod_A_dec_nohyp_timesim_data = do_Benfig3_timesim(mod_A_dec_nohyp)\n",
    "mod_A_dec_nohyp_benfig3_timesim_plots = process_Benfig3_data(\n",
    "    mod_A_dec_nohyp_timesim_data, mod_A_dec_nohyp_Prx_species, mod_A_dec_nohyp_t_dimers\n",
    ")\n",
    "\n",
    "## Restore model\n",
    "setattr(mod_A, 'Plasma_init', mod_A_Plasma_orig)\n",
    "setattr(mod_B, 'Plasma_init', mod_B_Plasma_orig)\n",
    "setattr(mod_A_dec_nohyp, 'Plasma_init', mod_A_dec_nohyp_Plasma_orig)\n",
    "\n",
    "setattr(mod_A, 'H2O2_production_v', mod_A_H2O2prod_orig)\n",
    "setattr(mod_B, 'H2O2_production_v', mod_B_H2O2prod_orig)\n",
    "setattr(mod_A_dec_nohyp, 'H2O2_production_v', mod_A_dec_nohyp_H2O2prod_orig)\n",
    "\n",
    "setattr(mod_A, 'eH2O2_init', mod_A_eH2O2_init_orig)\n",
    "setattr(mod_B, 'eH2O2_init', mod_B_eH2O2_init_orig)\n",
    "setattr(mod_A_dec_nohyp, 'eH2O2_init', mod_A_dec_nohyp_eH2O2_init_orig)"
   ]
  },
  {
   "cell_type": "markdown",
   "metadata": {},
   "source": [
    "#### Simulated figure (figure 6 in our paper)"
   ]
  },
  {
   "cell_type": "code",
   "execution_count": null,
   "metadata": {
    "ExecuteTime": {
     "end_time": "2023-07-27T09:42:48.063061Z",
     "start_time": "2023-07-27T09:42:46.860078Z"
    }
   },
   "outputs": [],
   "source": [
    "rows = 3\n",
    "cols = 2\n",
    "f, axarr = plt.subplots(rows,cols)\n",
    "f.set_size_inches(w=cols*mpl_width, h=rows*mpl_height)\n",
    "\n",
    "## Steady-state simulations\n",
    "ax = axarr.flat[2]\n",
    "ax.semilogx(H2O2_range,mod_A_benfig3_H2O2scan_plots[\"2SS\"], 'r-',lw=5)\n",
    "ax.semilogx(H2O2_range,mod_A_benfig3_H2O2scan_plots[\"1SS_sulfi\"], 'b-',lw=3)\n",
    "ax.semilogx(H2O2_range,mod_A_benfig3_H2O2scan_plots[\"1SS_no_sulfi\"], 'r-')\n",
    "ax.semilogx(H2O2_range,mod_A_benfig3_H2O2scan_plots[\"0SS_sulfi\"], 'b--',lw=3)\n",
    "ax.semilogx(H2O2_range,mod_A_benfig3_H2O2scan_plots[\"0SS_no_sulfi\"],'r--')\n",
    "ax.set_ylabel('$f_{Dimers}$', fontsize = mpl_ylabel_fontsize)\n",
    "\n",
    "ax = axarr.flat[4]\n",
    "ax.semilogx(H2O2_range,mod_B_benfig3_H2O2scan_plots[\"2SS\"], 'r-',lw=5)\n",
    "ax.semilogx(H2O2_range,mod_B_benfig3_H2O2scan_plots[\"1SS_sulfi\"], 'b-',lw=3)\n",
    "ax.semilogx(H2O2_range,mod_B_benfig3_H2O2scan_plots[\"1SS_no_sulfi\"], 'r-')\n",
    "ax.semilogx(H2O2_range,mod_B_benfig3_H2O2scan_plots[\"0SS_sulfi\"], 'b--',lw=3)\n",
    "ax.semilogx(H2O2_range,mod_B_benfig3_H2O2scan_plots[\"0SS_no_sulfi\"],'r--')\n",
    "ax.set_ylabel('$f_{Dimers}$', fontsize = mpl_ylabel_fontsize)\n",
    "\n",
    "ax = axarr.flat[0]\n",
    "ax.semilogx(H2O2_range,mod_A_dec_nohyp_benfig3_H2O2scan_plots[\"2SS\"], 'r-',lw=5)\n",
    "ax.semilogx(H2O2_range,mod_A_dec_nohyp_benfig3_H2O2scan_plots[\"1SS_sulfi\"], 'b-',lw=3)\n",
    "ax.semilogx(H2O2_range,mod_A_dec_nohyp_benfig3_H2O2scan_plots[\"1SS_no_sulfi\"], 'r-')\n",
    "ax.semilogx(H2O2_range,mod_A_dec_nohyp_benfig3_H2O2scan_plots[\"0SS_sulfi\"], 'b--',lw=3)\n",
    "ax.semilogx(H2O2_range,mod_A_dec_nohyp_benfig3_H2O2scan_plots[\"0SS_no_sulfi\"],'r--')\n",
    "ax.set_ylabel('$f_{Dimers}$', fontsize = mpl_ylabel_fontsize)\n",
    "ax.set_xlabel(f'H$_2$O$_2$ ({mu}M)', fontsize = mpl_xlabel_fontsize)\n",
    "\n",
    "## Time simulations\n",
    "ax = axarr.flat[3]\n",
    "ax.plot(mod_A.data_sim.getTime()/60,mod_A_benfig3_timesim_plots[\"2SS\"], 'r-',lw=5)\n",
    "ax.plot(mod_A.data_sim.getTime()/60,mod_A_benfig3_timesim_plots[\"1SS_sulfi\"], 'b-',lw=3)\n",
    "ax.plot(mod_A.data_sim.getTime()/60,mod_A_benfig3_timesim_plots[\"1SS_no_sulfi\"], 'r-')\n",
    "ax.plot(mod_A.data_sim.getTime()/60,mod_A_benfig3_timesim_plots[\"0SS_sulfi\"], 'b--',lw=3)\n",
    "ax.plot(mod_A.data_sim.getTime()/60,mod_A_benfig3_timesim_plots[\"0SS_no_sulfi\"],'r--')\n",
    "\n",
    "ax = axarr.flat[5]\n",
    "ax.plot(mod_B.data_sim.getTime()/60,mod_B_benfig3_timesim_plots[\"2SS\"], 'r-',lw=5)\n",
    "ax.plot(mod_B.data_sim.getTime()/60,mod_B_benfig3_timesim_plots[\"1SS_sulfi\"], 'b-',lw=3)\n",
    "ax.plot(mod_B.data_sim.getTime()/60,mod_B_benfig3_timesim_plots[\"1SS_no_sulfi\"], 'r-')\n",
    "ax.plot(mod_B.data_sim.getTime()/60,mod_B_benfig3_timesim_plots[\"0SS_sulfi\"], 'b--',lw=3)\n",
    "ax.plot(mod_B.data_sim.getTime()/60,mod_B_benfig3_timesim_plots[\"0SS_no_sulfi\"],'r--')\n",
    "\n",
    "ax = axarr.flat[1]\n",
    "ax.plot(mod_A_dec_nohyp.data_sim.getTime()/60,mod_A_dec_nohyp_benfig3_timesim_plots[\"2SS\"], 'r-',lw=5)\n",
    "ax.plot(mod_A_dec_nohyp.data_sim.getTime()/60,mod_A_dec_nohyp_benfig3_timesim_plots[\"1SS_sulfi\"], 'b-',lw=3)\n",
    "ax.plot(mod_A_dec_nohyp.data_sim.getTime()/60,mod_A_dec_nohyp_benfig3_timesim_plots[\"1SS_no_sulfi\"], 'r-')\n",
    "ax.plot(mod_A_dec_nohyp.data_sim.getTime()/60,mod_A_dec_nohyp_benfig3_timesim_plots[\"0SS_sulfi\"], 'b--',lw=3)\n",
    "ax.plot(mod_A_dec_nohyp.data_sim.getTime()/60,mod_A_dec_nohyp_benfig3_timesim_plots[\"0SS_no_sulfi\"],'r--')\n",
    "ax.set_xlabel('Time (min)', fontsize = mpl_xlabel_fontsize)\n",
    "\n",
    "f.tight_layout()"
   ]
  },
  {
   "cell_type": "markdown",
   "metadata": {},
   "source": [
    "The plots above are repeated below solely in order to save them as individual files for publication."
   ]
  },
  {
   "cell_type": "code",
   "execution_count": null,
   "metadata": {
    "ExecuteTime": {
     "end_time": "2023-07-27T09:42:48.499216Z",
     "start_time": "2023-07-27T09:42:48.064678Z"
    }
   },
   "outputs": [],
   "source": [
    "rows = 1\n",
    "cols = 1\n",
    "f, axarr = plt.subplots(rows,cols)\n",
    "f.set_size_inches(w=cols*mpl_width, h=rows*mpl_height)\n",
    "\n",
    "axarr.semilogx(H2O2_range,mod_A_benfig3_H2O2scan_plots[\"2SS\"], 'r-',lw=5)\n",
    "axarr.semilogx(H2O2_range,mod_A_benfig3_H2O2scan_plots[\"1SS_sulfi\"], 'b-',lw=3)\n",
    "axarr.semilogx(H2O2_range,mod_A_benfig3_H2O2scan_plots[\"1SS_no_sulfi\"], 'r-')\n",
    "axarr.semilogx(H2O2_range,mod_A_benfig3_H2O2scan_plots[\"0SS_sulfi\"], 'b--',lw=3)\n",
    "axarr.semilogx(H2O2_range,mod_A_benfig3_H2O2scan_plots[\"0SS_no_sulfi\"],'r--')\n",
    "\n",
    "axarr.set_ylabel('$f_{Dimers}$', fontsize = mpl_ylabel_fontsize)\n",
    "axarr.set_xlabel(f'H$_2$O$_2$ ({mu}M)', fontsize = mpl_xlabel_fontsize)\n",
    "\n",
    "f.tight_layout()\n",
    "f.savefig(os.path.join(fig_dir,\"Prx_RBC_modA_species_vs_H2O2.pdf\"),dpi= mpl_dpi)"
   ]
  },
  {
   "cell_type": "code",
   "execution_count": null,
   "metadata": {
    "ExecuteTime": {
     "end_time": "2023-07-27T09:42:48.922849Z",
     "start_time": "2023-07-27T09:42:48.501384Z"
    }
   },
   "outputs": [],
   "source": [
    "rows = 1\n",
    "cols = 1\n",
    "f, axarr = plt.subplots(rows,cols)\n",
    "f.set_size_inches(w=cols*mpl_width, h=rows*mpl_height)\n",
    "\n",
    "axarr.semilogx(H2O2_range,mod_B_benfig3_H2O2scan_plots[\"2SS\"], 'r-',lw=5)\n",
    "axarr.semilogx(H2O2_range,mod_B_benfig3_H2O2scan_plots[\"1SS_sulfi\"], 'b-',lw=3)\n",
    "axarr.semilogx(H2O2_range,mod_B_benfig3_H2O2scan_plots[\"1SS_no_sulfi\"], 'r-')\n",
    "axarr.semilogx(H2O2_range,mod_B_benfig3_H2O2scan_plots[\"0SS_sulfi\"], 'b--',lw=3)\n",
    "axarr.semilogx(H2O2_range,mod_B_benfig3_H2O2scan_plots[\"0SS_no_sulfi\"],'r--')\n",
    "\n",
    "axarr.set_ylabel('$f_{Dimers}$', fontsize = mpl_ylabel_fontsize)\n",
    "axarr.set_xlabel(f'H$_2$O$_2$ ({mu}M)', fontsize = mpl_xlabel_fontsize)\n",
    "\n",
    "f.tight_layout()\n",
    "f.savefig(os.path.join(fig_dir,\"Prx_RBC_modB_species_vs_H2O2.pdf\"),dpi= mpl_dpi)"
   ]
  },
  {
   "cell_type": "code",
   "execution_count": null,
   "metadata": {
    "ExecuteTime": {
     "end_time": "2023-07-27T09:42:49.378654Z",
     "start_time": "2023-07-27T09:42:48.924750Z"
    }
   },
   "outputs": [],
   "source": [
    "rows = 1\n",
    "cols = 1\n",
    "f, axarr = plt.subplots(rows,cols)\n",
    "f.set_size_inches(w=cols*mpl_width, h=rows*mpl_height)\n",
    "\n",
    "axarr.semilogx(H2O2_range,mod_A_dec_nohyp_benfig3_H2O2scan_plots[\"2SS\"], 'r-',lw=5)\n",
    "axarr.semilogx(H2O2_range,mod_A_dec_nohyp_benfig3_H2O2scan_plots[\"1SS_sulfi\"], 'b-',lw=3)\n",
    "axarr.semilogx(H2O2_range,mod_A_dec_nohyp_benfig3_H2O2scan_plots[\"1SS_no_sulfi\"], 'r-')\n",
    "axarr.semilogx(H2O2_range,mod_A_dec_nohyp_benfig3_H2O2scan_plots[\"0SS_sulfi\"], 'b--',lw=3)\n",
    "axarr.semilogx(H2O2_range,mod_A_dec_nohyp_benfig3_H2O2scan_plots[\"0SS_no_sulfi\"],'r--')\n",
    "\n",
    "axarr.set_ylabel('$f_{Dimers}$', fontsize = mpl_ylabel_fontsize)\n",
    "axarr.set_xlabel(f'H$_2$O$_2$ ({mu}M)', fontsize = mpl_xlabel_fontsize)\n",
    "\n",
    "f.tight_layout()\n",
    "f.savefig(os.path.join(fig_dir,\"Prx_RBC_modA_decamer_species_vs_H2O2.pdf\"),dpi= mpl_dpi)"
   ]
  },
  {
   "cell_type": "code",
   "execution_count": null,
   "metadata": {
    "ExecuteTime": {
     "end_time": "2023-07-27T09:42:49.627702Z",
     "start_time": "2023-07-27T09:42:49.380998Z"
    }
   },
   "outputs": [],
   "source": [
    "rows = 1\n",
    "cols = 1\n",
    "f, axarr = plt.subplots(rows,cols)\n",
    "f.set_size_inches(w=cols*mpl_width, h=rows*mpl_height)\n",
    "\n",
    "axarr.plot(mod_A.data_sim.getTime()/60,mod_A_benfig3_timesim_plots[\"2SS\"], 'r-',lw=5)\n",
    "axarr.plot(mod_A.data_sim.getTime()/60,mod_A_benfig3_timesim_plots[\"1SS_sulfi\"], 'b-',lw=3)\n",
    "axarr.plot(mod_A.data_sim.getTime()/60,mod_A_benfig3_timesim_plots[\"1SS_no_sulfi\"], 'r-')\n",
    "axarr.plot(mod_A.data_sim.getTime()/60,mod_A_benfig3_timesim_plots[\"0SS_sulfi\"], 'b--',lw=3)\n",
    "axarr.plot(mod_A.data_sim.getTime()/60,mod_A_benfig3_timesim_plots[\"0SS_no_sulfi\"],'r--')\n",
    "\n",
    "axarr.set_ylabel('$f_{Dimers}$', fontsize = mpl_ylabel_fontsize)\n",
    "axarr.set_xlabel('Time (min)', fontsize = mpl_xlabel_fontsize)\n",
    "\n",
    "f.tight_layout()\n",
    "f.savefig(os.path.join(fig_dir,\"Prx_RBC_modA_species_vs_time.pdf\"),dpi= mpl_dpi)"
   ]
  },
  {
   "cell_type": "code",
   "execution_count": null,
   "metadata": {
    "ExecuteTime": {
     "end_time": "2023-07-27T09:42:49.885386Z",
     "start_time": "2023-07-27T09:42:49.630094Z"
    }
   },
   "outputs": [],
   "source": [
    "rows = 1\n",
    "cols = 1\n",
    "f, axarr = plt.subplots(rows,cols)\n",
    "f.set_size_inches(w=cols*mpl_width, h=rows*mpl_height)\n",
    "\n",
    "axarr.plot(mod_B.data_sim.getTime()/60,mod_B_benfig3_timesim_plots[\"2SS\"], 'r-',lw=5)\n",
    "axarr.plot(mod_B.data_sim.getTime()/60,mod_B_benfig3_timesim_plots[\"1SS_sulfi\"], 'b-',lw=3)\n",
    "axarr.plot(mod_B.data_sim.getTime()/60,mod_B_benfig3_timesim_plots[\"1SS_no_sulfi\"], 'r-')\n",
    "axarr.plot(mod_B.data_sim.getTime()/60,mod_B_benfig3_timesim_plots[\"0SS_sulfi\"], 'b--',lw=3)\n",
    "axarr.plot(mod_B.data_sim.getTime()/60,mod_B_benfig3_timesim_plots[\"0SS_no_sulfi\"],'r--')\n",
    "\n",
    "axarr.set_ylabel('$f_{Dimers}$', fontsize = mpl_ylabel_fontsize)\n",
    "axarr.set_xlabel('Time (min)', fontsize = mpl_xlabel_fontsize)\n",
    "\n",
    "f.tight_layout()\n",
    "f.savefig(os.path.join(fig_dir,\"Prx_RBC_modB_species_vs_time.pdf\"),dpi= mpl_dpi)"
   ]
  },
  {
   "cell_type": "code",
   "execution_count": null,
   "metadata": {
    "ExecuteTime": {
     "end_time": "2023-07-27T09:42:50.235295Z",
     "start_time": "2023-07-27T09:42:49.887353Z"
    }
   },
   "outputs": [],
   "source": [
    "rows = 1\n",
    "cols = 1\n",
    "f, axarr = plt.subplots(rows,cols)\n",
    "f.set_size_inches(w=cols*mpl_width, h=rows*mpl_height)\n",
    "\n",
    "axarr.plot(mod_A_dec_nohyp.data_sim.getTime()/60,mod_A_dec_nohyp_benfig3_timesim_plots[\"2SS\"], 'r-',lw=5)\n",
    "axarr.plot(mod_A_dec_nohyp.data_sim.getTime()/60,mod_A_dec_nohyp_benfig3_timesim_plots[\"1SS_sulfi\"], 'b-',lw=3)\n",
    "axarr.plot(mod_A_dec_nohyp.data_sim.getTime()/60,mod_A_dec_nohyp_benfig3_timesim_plots[\"1SS_no_sulfi\"], 'r-')\n",
    "axarr.plot(mod_A_dec_nohyp.data_sim.getTime()/60,mod_A_dec_nohyp_benfig3_timesim_plots[\"0SS_sulfi\"], 'b--',lw=3)\n",
    "axarr.plot(mod_A_dec_nohyp.data_sim.getTime()/60,mod_A_dec_nohyp_benfig3_timesim_plots[\"0SS_no_sulfi\"],'r--')\n",
    "axarr.set_ylabel('$f_{Dimers}$', fontsize = mpl_ylabel_fontsize)\n",
    "axarr.set_xlabel('Time (min)', fontsize = mpl_xlabel_fontsize)\n",
    "\n",
    "f.tight_layout()\n",
    "f.savefig(os.path.join(fig_dir,\"Prx_RBC_modA_decamer_species_vs_time.pdf\"),dpi= mpl_dpi)"
   ]
  },
  {
   "cell_type": "markdown",
   "metadata": {},
   "source": [
    "### Fig 4"
   ]
  },
  {
   "cell_type": "markdown",
   "metadata": {},
   "source": [
    "Fig. 4. Steady-state responses of alternative designs of the Prx2 redox cycle in H 2 O 2 metabolism to changes in H 2 O 2 supply. Cyan, Design A; black, Design B; green, Design C;\n",
    "dashed red, Design D. Each design corresponds to the respective model variant described in Table 1. Note the logarithmic scales, except for E(Trx) in (G). (A) H 2 O 2\n",
    "concentration. Note (i) the extremely low H 2 O 2 concentrations at low v sup and very abrupt increase for Design A and (ii) the higher H 2 O 2 concentrations at intermediate v sup\n",
    "for Design C. (B) Fraction of Prx2 monomers in reduced form. Note (i) the abrupt decrease for Design A occurring at v sup values about half of those causing a milder decrease\n",
    "for Designs B and D and (ii) the gradual decrease for Design C, starting at very low v sup and resulting in most Prx2 being oxidized at intermediate v sup . (C) Ratio between rates\n",
    "of NADPH and H 2 O 2 consumption. Note (i) the much higher NADPH consumed per H 2 O 2 at low v sup for Design A and (ii) the lower NADPH consumption per H 2 O 2 for Design\n",
    "C, reflecting respectively the high and low contributions of Prx2 for H 2 O 2 elimination under these designs. (D) Fraction of Prx2 monomers in sulfenic form. (E) Fraction of Trx\n",
    "with the active site oxidized. Note the much lower accumulation of this form under Design C. (F) Fraction of Prx2 monomers in sulfinic form. Note (i) the much higher values\n",
    "under Design C and (ii) the high gain (2) over most of the v sup range under all designs. (G) Redox potential of the Trx active site. (H) Fraction of Prx2 monomers in disulfide\n",
    "form. In (D–H), note (i) the higher dynamic ranges provided by Designs B and D compared to Designs A and C; (ii) except in (F), the low gains and very low dynamic range\n",
    "provided by Design C. In (B (inset), G, and H) note the better decisiveness provided by Design B vs Design D. Accumulation of Prx2 in sulfenic (D) and sulfinic (F) forms is\n",
    "negligible under Designs A, B, and D, but not under Design C."
   ]
  },
  {
   "cell_type": "markdown",
   "metadata": {},
   "source": [
    "#### Published figure"
   ]
  },
  {
   "cell_type": "code",
   "execution_count": null,
   "metadata": {
    "ExecuteTime": {
     "end_time": "2023-07-27T09:42:50.245584Z",
     "start_time": "2023-07-27T09:42:50.237541Z"
    }
   },
   "outputs": [],
   "source": [
    "Image(\"Benfeitas 2014 fig4.png\")"
   ]
  },
  {
   "cell_type": "markdown",
   "metadata": {},
   "source": [
    "#### Data and sims"
   ]
  },
  {
   "cell_type": "code",
   "execution_count": null,
   "metadata": {
    "ExecuteTime": {
     "end_time": "2023-07-27T09:42:50.265786Z",
     "start_time": "2023-07-27T09:42:50.249486Z"
    }
   },
   "outputs": [],
   "source": [
    "def do_Benfig4_H2O2scan(mod, H2O2_range, end=360000):\n",
    "    \"\"\"\n",
    "    Performs the simulations of Benfeitas fig4 after \n",
    "    adjusting the model to simulation conditions.\n",
    "    \"\"\"\n",
    "    # Check if model has H2O2 fixed\n",
    "    if not hasattr(mod, 'H2O2_init'):\n",
    "        print('Model does not contain H2O2_init')\n",
    "\n",
    "    # Set up data dict\n",
    "    mod.doSim(points=2, end=1)\n",
    "    benfig4_H2O2scan_data = dict()\n",
    "    for label in mod.sim.columns:\n",
    "        benfig4_H2O2scan_data[label] = np.zeros((len(H2O2_range)))\n",
    "\n",
    "    # Simulate for 10 min\n",
    "    for count, H2O2 in enumerate(H2O2_range):\n",
    "\n",
    "        # Adjust model and store original\n",
    "        orig = getattr(mod, 'H2O2_production_v')\n",
    "        setattr(mod, 'H2O2_production_v', H2O2)\n",
    "\n",
    "        # Simulate\n",
    "        mod.doSim(points=2, end=end)\n",
    "\n",
    "        # Store data\n",
    "        for label in mod.sim.columns:\n",
    "            benfig4_H2O2scan_data[label][count] = mod.sim[label].iloc[-1]\n",
    "\n",
    "        # Restore model\n",
    "        setattr(mod, 'H2O2_production_v', orig)\n",
    "\n",
    "    return benfig4_H2O2scan_data\n",
    "\n",
    "\n",
    "def get_rxn_rates_summed_by_type(data, data_labels, output_labels):\n",
    "    \"\"\"\n",
    "    Sums the reaction rate by the reaction type.\n",
    "    Requires \"output_labels\" to be globally defined.\n",
    "    \"\"\"\n",
    "    n_output_labels = len(output_labels)\n",
    "    n_x_data_points = len(data[data_labels[0]])\n",
    "    output_data = np.zeros((n_output_labels, n_x_data_points))\n",
    "\n",
    "    consti_rxns = dict()\n",
    "    for count, output_label in enumerate(output_labels):\n",
    "        consti_rxns[output_label] = []\n",
    "        for data_label in data_labels:\n",
    "            if (\n",
    "                output_label == data_label[-len(output_label) :]\n",
    "                or output_label == data_label[: len(output_label)]\n",
    "            ):\n",
    "                consti_rxns[output_label].append(data_label)\n",
    "                output_data[count, :] += data[data_label]\n",
    "\n",
    "    output_data = np.rec.fromarrays(output_data, names=output_labels)\n",
    "\n",
    "    return output_data, consti_rxns\n",
    "\n",
    "\n",
    "# define globals required by get_rxn_rates_summed_by_type()\n",
    "rxn_prefixes = [\n",
    "    'Trx_red',\n",
    "    'Cat',\n",
    "    'NADP_reduction',\n",
    "    'NADPH_seq',\n",
    "    'NADP_seq',\n",
    "    'GPx1',\n",
    "    'GSR',\n",
    "]\n",
    "rxn_suffixes = ['_ox', '_oox', '_disulf_form', '_srx', '_inac', '_Trx2SH', '_Trx2SOH']\n",
    "\n",
    "output_labels = rxn_prefixes + rxn_suffixes"
   ]
  },
  {
   "cell_type": "markdown",
   "metadata": {},
   "source": [
    "**Warning:** The simulations in the following cell can take 5-15 minutes."
   ]
  },
  {
   "cell_type": "code",
   "execution_count": null,
   "metadata": {
    "ExecuteTime": {
     "end_time": "2023-07-27T09:49:00.534448Z",
     "start_time": "2023-07-27T09:42:50.268782Z"
    },
    "scrolled": true
   },
   "outputs": [],
   "source": [
    "# Store original values to restore model after simulation\n",
    "mod_A_H2O2prod_orig = getattr(mod_A, 'H2O2_production_v')\n",
    "mod_B_H2O2prod_orig = getattr(mod_B, 'H2O2_production_v')\n",
    "mod_A_dec_nohyp_H2O2prod_orig = getattr(mod_A_dec_nohyp, 'H2O2_production_v')\n",
    "\n",
    "# Do simulations\n",
    "# Note: models are adjusted to simulation conditions in do_Benfig4_H2O2scan()\n",
    "fig4_H2O2_scan_range = np.linspace(0.1, 10, 51)\n",
    "\n",
    "mod_A_Benfig4_H2O2scan_data = do_Benfig4_H2O2scan(mod_A, fig4_H2O2_scan_range)\n",
    "mod_B_Benfig4_H2O2scan_data = do_Benfig4_H2O2scan(mod_B, fig4_H2O2_scan_range)\n",
    "mod_A_dec_nohyp_Benfig4_H2O2scan_data = do_Benfig4_H2O2scan(\n",
    "    mod_A_dec_nohyp, fig4_H2O2_scan_range\n",
    ")\n",
    "\n",
    "# Fig 4 C calculation\n",
    "mod_A_summed_rxns, x = get_rxn_rates_summed_by_type(\n",
    "    mod_A_Benfig4_H2O2scan_data, mod_A.reactions, output_labels\n",
    ")\n",
    "mod_A_v_H2O2_cons = (\n",
    "    mod_A_summed_rxns['_ox']\n",
    "    + mod_A_summed_rxns['_oox']\n",
    "    + mod_A_summed_rxns['Cat']\n",
    "    + mod_A_summed_rxns['GPx1']\n",
    ")\n",
    "mod_B_summed_rxns, x = get_rxn_rates_summed_by_type(\n",
    "    mod_B_Benfig4_H2O2scan_data, mod_B.reactions, output_labels\n",
    ")\n",
    "mod_B_v_H2O2_cons = (\n",
    "    mod_B_summed_rxns['_ox']\n",
    "    + mod_B_summed_rxns['_oox']\n",
    "    + mod_B_summed_rxns['Cat']\n",
    "    + mod_B_summed_rxns['GPx1']\n",
    ")\n",
    "mod_A_dec_nohyp_summed_rxns, x = get_rxn_rates_summed_by_type(\n",
    "    mod_A_dec_nohyp_Benfig4_H2O2scan_data, mod_A_dec_nohyp.reactions, output_labels\n",
    ")\n",
    "mod_A_dec_nohyp_v_H2O2_cons = (\n",
    "    mod_A_dec_nohyp_summed_rxns['_ox']\n",
    "    + mod_A_dec_nohyp_summed_rxns['_oox']\n",
    "    + mod_A_dec_nohyp_summed_rxns['Cat']\n",
    "    + mod_A_dec_nohyp_summed_rxns['GPx1']\n",
    ")\n",
    "\n",
    "# Fig 4 E calculation\n",
    "mod_A_f_TSS = (\n",
    "    mod_A_Benfig4_H2O2scan_data['Trx1SOH_Trx2SH']\n",
    "    + mod_A_Benfig4_H2O2scan_data['Trx1SH_Trx2SOH']\n",
    "    + 2 * mod_A_Benfig4_H2O2scan_data['Trx1SOH_Trx2SOH']\n",
    ") / (mod_A_Benfig4_H2O2scan_data['t_Trx'] * 2)\n",
    "mod_B_f_TSS = (\n",
    "    mod_B_Benfig4_H2O2scan_data['Trx1SOH_Trx2SH']\n",
    "    + mod_B_Benfig4_H2O2scan_data['Trx1SH_Trx2SOH']\n",
    "    + 2 * mod_B_Benfig4_H2O2scan_data['Trx1SOH_Trx2SOH']\n",
    ") / (mod_B_Benfig4_H2O2scan_data['t_Trx'] * 2)\n",
    "mod_A_dec_nohyp_f_TSS = (\n",
    "    mod_A_dec_nohyp_Benfig4_H2O2scan_data['Trx1SOH_Trx2SH']\n",
    "    + mod_A_dec_nohyp_Benfig4_H2O2scan_data['Trx1SH_Trx2SOH']\n",
    "    + 2 * mod_A_dec_nohyp_Benfig4_H2O2scan_data['Trx1SOH_Trx2SOH']\n",
    ") / (mod_A_dec_nohyp_Benfig4_H2O2scan_data['t_Trx'] * 2)\n",
    "\n",
    "# Fig 4 G calculation\n",
    "temp_K = sp.constants.convert_temperature(37, 'Celsius', 'Kelvin')\n",
    "R = sp.constants.R\n",
    "F = sp.constants.physical_constants['Faraday constant'][0]\n",
    "n = 2\n",
    "mod_A_r_Trx = (\n",
    "    mod_A_Benfig4_H2O2scan_data['Trx1SH_Trx2SH']\n",
    "    + mod_A_Benfig4_H2O2scan_data['Trx1SH_Trx2SOH']\n",
    ") / (\n",
    "    mod_A_Benfig4_H2O2scan_data['Trx1SOH_Trx2SH']\n",
    "    + mod_A_Benfig4_H2O2scan_data['Trx1SOH_Trx2SOH']\n",
    ")\n",
    "mod_A_E_Trx = np.array(\n",
    "    [mod_A.E0_Trx - ((temp_K * R) / (n * F)) * math.log(i) for i in mod_A_r_Trx]\n",
    ")   # Nernst\n",
    "mod_B_r_Trx = (\n",
    "    mod_B_Benfig4_H2O2scan_data['Trx1SH_Trx2SH']\n",
    "    + mod_B_Benfig4_H2O2scan_data['Trx1SH_Trx2SOH']\n",
    ") / (\n",
    "    mod_B_Benfig4_H2O2scan_data['Trx1SOH_Trx2SH']\n",
    "    + mod_B_Benfig4_H2O2scan_data['Trx1SOH_Trx2SOH']\n",
    ")\n",
    "mod_B_E_Trx = np.array(\n",
    "    [mod_B.E0_Trx - ((temp_K * R) / (n * F)) * math.log(i) for i in mod_B_r_Trx]\n",
    ")   # Nernst\n",
    "mod_A_dec_nohyp_r_Trx = (\n",
    "    mod_A_dec_nohyp_Benfig4_H2O2scan_data['Trx1SH_Trx2SH']\n",
    "    + mod_A_dec_nohyp_Benfig4_H2O2scan_data['Trx1SH_Trx2SOH']\n",
    ") / (\n",
    "    mod_A_dec_nohyp_Benfig4_H2O2scan_data['Trx1SOH_Trx2SH']\n",
    "    + mod_A_dec_nohyp_Benfig4_H2O2scan_data['Trx1SOH_Trx2SOH']\n",
    ")\n",
    "mod_A_dec_nohyp_E_Trx = np.array(\n",
    "    [\n",
    "        mod_A_dec_nohyp.E0_Trx - ((temp_K * R) / (n * F)) * math.log(i)\n",
    "        for i in mod_A_dec_nohyp_r_Trx\n",
    "    ]\n",
    ")   # Nernst\n",
    "\n",
    "# Restore models - redundant since models are restored in do_Benfig4_H2O2scan()\n",
    "setattr(mod_A, 'H2O2_production_v', mod_A_H2O2prod_orig)\n",
    "setattr(mod_B, 'H2O2_production_v', mod_B_H2O2prod_orig)\n",
    "setattr(mod_A_dec_nohyp, 'H2O2_production_v', mod_A_dec_nohyp_H2O2prod_orig)"
   ]
  },
  {
   "cell_type": "markdown",
   "metadata": {
    "ExecuteTime": {
     "end_time": "2022-10-26T14:30:19.992187Z",
     "start_time": "2022-10-26T14:30:19.992117Z"
    }
   },
   "source": [
    "#### Simulated figure (figure S3 in our paper)"
   ]
  },
  {
   "cell_type": "code",
   "execution_count": null,
   "metadata": {
    "ExecuteTime": {
     "end_time": "2023-07-27T09:49:03.971738Z",
     "start_time": "2023-07-27T09:49:00.537083Z"
    }
   },
   "outputs": [],
   "source": [
    "rows = 4\n",
    "cols = 2\n",
    "f, axarr = plt.subplots(rows, cols)\n",
    "f.set_size_inches(w=cols * mpl_width_squarefig + 1, h=rows * mpl_height_squarefig)\n",
    "\n",
    "ax = axarr.flat[0]\n",
    "ax.loglog(fig4_H2O2_scan_range, mod_A_Benfig4_H2O2scan_data['H2O2'], mod_A_line)\n",
    "ax.loglog(fig4_H2O2_scan_range, mod_B_Benfig4_H2O2scan_data['H2O2'], mod_B_line)\n",
    "ax.loglog(\n",
    "    fig4_H2O2_scan_range,\n",
    "    mod_A_dec_nohyp_Benfig4_H2O2scan_data['H2O2'],\n",
    "    mod_A_dec_nohyp_line,\n",
    ")\n",
    "ax.set_ylabel(f'[H$_2$O$_2$] ({mu}M)', fontsize=mpl_ylabel_fontsize)\n",
    "ax.set_ylim((1e-5, 1e-1))\n",
    "ax.set_xlim((0.1, 10))\n",
    "\n",
    "ax = axarr.flat[1]\n",
    "ax.loglog(fig4_H2O2_scan_range, mod_A_Benfig4_H2O2scan_data['f_PSH'], mod_A_line)\n",
    "ax.loglog(fig4_H2O2_scan_range, mod_B_Benfig4_H2O2scan_data['f_PSH'], mod_B_line)\n",
    "ax.loglog(\n",
    "    fig4_H2O2_scan_range,\n",
    "    mod_A_dec_nohyp_Benfig4_H2O2scan_data['f_PSH'],\n",
    "    mod_A_dec_nohyp_line,\n",
    ")\n",
    "ax.set_ylabel('$f_{PSH}$', fontsize=mpl_ylabel_fontsize)\n",
    "ax.set_ylim((1e-4, 1e-0))\n",
    "ax.set_xlim((0.1, 10))\n",
    "\n",
    "ax = axarr.flat[2]\n",
    "ax.semilogx(\n",
    "    fig4_H2O2_scan_range, mod_A_summed_rxns['Trx_red'] / mod_A_v_H2O2_cons, mod_A_line\n",
    ")\n",
    "ax.semilogx(\n",
    "    fig4_H2O2_scan_range, mod_B_summed_rxns['Trx_red'] / mod_B_v_H2O2_cons, mod_B_line\n",
    ")\n",
    "ax.semilogx(\n",
    "    fig4_H2O2_scan_range,\n",
    "    mod_A_dec_nohyp_summed_rxns['Trx_red'] / mod_A_dec_nohyp_v_H2O2_cons,\n",
    "    mod_A_dec_nohyp_line,\n",
    ")\n",
    "ax.set_ylabel('$v_{NADPH}$/$v_{H_2O_2}$', fontsize=mpl_ylabel_fontsize)\n",
    "ax.set_ylim((0, 1))\n",
    "ax.set_xlim((0.1, 10))\n",
    "\n",
    "ax = axarr.flat[3]\n",
    "ax.loglog(fig4_H2O2_scan_range, mod_A_Benfig4_H2O2scan_data['f_PSOH'], mod_A_line)\n",
    "ax.loglog(fig4_H2O2_scan_range, mod_B_Benfig4_H2O2scan_data['f_PSOH'], mod_B_line)\n",
    "ax.loglog(\n",
    "    fig4_H2O2_scan_range,\n",
    "    mod_A_dec_nohyp_Benfig4_H2O2scan_data['f_PSOH'],\n",
    "    mod_A_dec_nohyp_line,\n",
    ")\n",
    "ax.set_ylabel('$f_{PSOH}$', fontsize=mpl_ylabel_fontsize)\n",
    "ax.set_ylim((1e-5, 1e-1))\n",
    "ax.set_xlim((0.1, 10))\n",
    "\n",
    "ax = axarr.flat[4]\n",
    "ax.loglog(fig4_H2O2_scan_range, mod_A_f_TSS, mod_A_line)\n",
    "ax.loglog(fig4_H2O2_scan_range, mod_B_f_TSS, mod_B_line)\n",
    "ax.loglog(fig4_H2O2_scan_range, mod_A_dec_nohyp_f_TSS, mod_A_dec_nohyp_line)\n",
    "ax.set_ylabel('$f_{TSS}$', fontsize=mpl_ylabel_fontsize)\n",
    "ax.set_ylim((1e-2, 1e-0))\n",
    "ax.set_xlim((0.1, 10))\n",
    "\n",
    "ax = axarr.flat[5]\n",
    "ax.loglog(fig4_H2O2_scan_range, mod_A_Benfig4_H2O2scan_data['f_PSO2H'], mod_A_line)\n",
    "ax.loglog(fig4_H2O2_scan_range, mod_B_Benfig4_H2O2scan_data['f_PSO2H'], mod_B_line)\n",
    "ax.loglog(\n",
    "    fig4_H2O2_scan_range,\n",
    "    mod_A_dec_nohyp_Benfig4_H2O2scan_data['f_PSO2H'],\n",
    "    mod_A_dec_nohyp_line,\n",
    ")\n",
    "ax.set_ylabel('$f_{PSO2H}$', fontsize=mpl_ylabel_fontsize)\n",
    "ax.set_ylim((1e-6, 1e-0))\n",
    "ax.set_xlim((0.1, 10))\n",
    "\n",
    "ax = axarr.flat[6]\n",
    "ax.semilogx(fig4_H2O2_scan_range, mod_A_E_Trx, mod_A_line)\n",
    "ax.semilogx(fig4_H2O2_scan_range, mod_B_E_Trx, mod_B_line)\n",
    "ax.semilogx(fig4_H2O2_scan_range, mod_A_dec_nohyp_E_Trx, mod_A_dec_nohyp_line)\n",
    "ax.set_ylabel('$E$(Trx) (V)', fontsize=mpl_ylabel_fontsize)\n",
    "ax.set_xlabel('$v$$_{sup}$ ' + f'({mu}M' + ' s$^{-1}$)', fontsize=mpl_xlabel_fontsize)\n",
    "ax.set_ylim((-0.30, -0.15))\n",
    "ax.set_xlim((0.1, 10))\n",
    "\n",
    "ax = axarr.flat[7]\n",
    "ax.loglog(fig4_H2O2_scan_range, mod_A_Benfig4_H2O2scan_data['f_PSS'], mod_A_line)\n",
    "ax.loglog(fig4_H2O2_scan_range, mod_B_Benfig4_H2O2scan_data['f_PSS'], mod_B_line)\n",
    "ax.loglog(\n",
    "    fig4_H2O2_scan_range,\n",
    "    mod_A_dec_nohyp_Benfig4_H2O2scan_data['f_PSS'],\n",
    "    mod_A_dec_nohyp_line,\n",
    ")\n",
    "ax.set_ylabel('$f_{PSS}$', fontsize=mpl_ylabel_fontsize)\n",
    "ax.set_xlabel('$v$$_{sup}$ ' + f'({mu}M' + ' s$^{-1}$)', fontsize=mpl_xlabel_fontsize)\n",
    "ax.set_ylim((1e-4, 1e-0))\n",
    "ax.set_xlim((0.1, 10))\n",
    "\n",
    "f.tight_layout()\n",
    "f.savefig(os.path.join(fig_dir, 'Benfig4.pdf'), dpi=mpl_dpi)"
   ]
  },
  {
   "cell_type": "markdown",
   "metadata": {},
   "source": [
    "### Fig 5"
   ]
  },
  {
   "cell_type": "markdown",
   "metadata": {},
   "source": [
    "Fig. 5. Responses of intracellular H 2 O 2 concentration and Prx2 oxidation states to extracellular H 2 O 2 pulses. Time courses (A) of the intracellular H 2 O 2 concentration and\n",
    "(B–E) of the fractions of Prx2 monomers with the peroxidatic Cys in thiol (B), sulfenic (C), sulfinic (D), and disulfide (E) form upon 3 s pulse of 0.5, 5, and 50 μM local plasma\n",
    "H 2 O 2 concentrations. Vertical gray bars indicate the timing and duration of the H 2 O 2 pulse. The correspondence of line to design is as for Fig. 4. Recovery of the PSH pool after\n",
    "the strongest H 2 O 2 pulses is delayed by strong competition of GSR for NADPH after GSSG accumulation during the pulse (see Figs. 6B and 6C). Note the strong oxidation of\n",
    "Prx2 caused by even relatively weak H 2 O 2 pulses in Design D, owing to the total concentration of Prx2 in this design being less than half the dose of H 2 O 2 entering the\n",
    "erythrocyte during the pulse. Note also the very slow reduction of the sulfinic Prx2 accumulated during the pulse."
   ]
  },
  {
   "cell_type": "markdown",
   "metadata": {},
   "source": [
    "#### Published figure"
   ]
  },
  {
   "cell_type": "code",
   "execution_count": null,
   "metadata": {
    "ExecuteTime": {
     "end_time": "2023-07-27T09:49:03.978364Z",
     "start_time": "2023-07-27T09:49:03.973079Z"
    }
   },
   "outputs": [],
   "source": [
    "Image(\"Benfeitas 2014 fig5.png\")"
   ]
  },
  {
   "cell_type": "markdown",
   "metadata": {},
   "source": [
    "#### Data and sims"
   ]
  },
  {
   "cell_type": "code",
   "execution_count": null,
   "metadata": {
    "ExecuteTime": {
     "end_time": "2023-07-27T09:49:25.634421Z",
     "start_time": "2023-07-27T09:49:03.984088Z"
    }
   },
   "outputs": [],
   "source": [
    "# Adjust models for simulation conditions\n",
    "setattr(mod_A, 'do_exH2O2_pulse', True)\n",
    "setattr(mod_B, 'do_exH2O2_pulse', True)\n",
    "setattr(mod_A_dec_nohyp, 'do_exH2O2_pulse', True)\n",
    "\n",
    "mod_A_exH2O2_pulse_conc_orig = getattr(mod_A, 'exH2O2_pulse_conc')\n",
    "mod_B_exH2O2_pulse_conc_orig = getattr(mod_B, 'exH2O2_pulse_conc')\n",
    "mod_A_dec_nohyp_exH2O2_pulse_conc_orig = getattr(mod_A_dec_nohyp, 'exH2O2_pulse_conc')\n",
    "\n",
    "mod_A_exH2O2_pulse_length_orig = getattr(mod_A, 'exH2O2_pulse_length')\n",
    "mod_B_exH2O2_pulse_length_orig = getattr(mod_B, 'exH2O2_pulse_length')\n",
    "mod_A_dec_nohyp_exH2O2_pulse_length_orig = getattr(\n",
    "    mod_A_dec_nohyp, 'exH2O2_pulse_length'\n",
    ")\n",
    "\n",
    "exH2O2_pulse_length = 3\n",
    "setattr(mod_A, 'exH2O2_pulse_length', exH2O2_pulse_length)\n",
    "setattr(mod_B, 'exH2O2_pulse_length', exH2O2_pulse_length)\n",
    "setattr(mod_A_dec_nohyp, 'exH2O2_pulse_length', exH2O2_pulse_length)\n",
    "\n",
    "end = 120\n",
    "points = 1000\n",
    "\n",
    "# Simulate 0.5 µM H2O2 pulse\n",
    "setattr(mod_A, 'exH2O2_pulse_conc', 0.5)\n",
    "setattr(mod_B, 'exH2O2_pulse_conc', 0.5)\n",
    "setattr(mod_A_dec_nohyp, 'exH2O2_pulse_conc', 0.5)\n",
    "mod_A.doSim(points=points, end=end)\n",
    "mod_A_05_H2O2_data = mod_A.sim\n",
    "mod_B.doSim(points=points, end=end)\n",
    "mod_B_05_H2O2_data = mod_B.sim\n",
    "mod_A_dec_nohyp.doSim(points=points, end=end)\n",
    "mod_A_dec_nohyp_05_H2O2_data = mod_A_dec_nohyp.sim\n",
    "\n",
    "# Simulate 5 µM H2O2 pulse\n",
    "setattr(mod_A, 'exH2O2_pulse_conc', 5)\n",
    "setattr(mod_B, 'exH2O2_pulse_conc', 5)\n",
    "setattr(mod_A_dec_nohyp, 'exH2O2_pulse_conc', 5)\n",
    "mod_A.doSim(points=points, end=end)\n",
    "mod_A_5_H2O2_data = mod_A.sim\n",
    "mod_B.doSim(points=points, end=end)\n",
    "mod_B_5_H2O2_data = mod_B.sim\n",
    "mod_A_dec_nohyp.doSim(points=points, end=end)\n",
    "mod_A_dec_nohyp_5_H2O2_data = mod_A_dec_nohyp.sim\n",
    "\n",
    "# Simulate 50 µM H2O2 pulse\n",
    "setattr(mod_A, 'exH2O2_pulse_conc', 50)\n",
    "setattr(mod_B, 'exH2O2_pulse_conc', 50)\n",
    "setattr(mod_A_dec_nohyp, 'exH2O2_pulse_conc', 50)\n",
    "mod_A.doSim(points=points, end=end)\n",
    "mod_A_50_H2O2_data = mod_A.sim\n",
    "mod_B.doSim(points=points, end=end)\n",
    "mod_B_50_H2O2_data = mod_B.sim\n",
    "mod_A_dec_nohyp.doSim(points=points, end=end)\n",
    "mod_A_dec_nohyp_50_H2O2_data = mod_A_dec_nohyp.sim\n",
    "\n",
    "# Restore models\n",
    "setattr(mod_A, 'do_exH2O2_pulse', False)\n",
    "setattr(mod_B, 'do_exH2O2_pulse', False)\n",
    "setattr(mod_A_dec_nohyp, 'do_exH2O2_pulse', False)\n",
    "\n",
    "setattr(mod_A, 'exH2O2_pulse_length', mod_A_exH2O2_pulse_length_orig)\n",
    "setattr(mod_B, 'exH2O2_pulse_length', mod_B_exH2O2_pulse_length_orig)\n",
    "setattr(\n",
    "    mod_A_dec_nohyp, 'exH2O2_pulse_length', mod_A_dec_nohyp_exH2O2_pulse_length_orig\n",
    ")\n",
    "\n",
    "setattr(mod_A, 'exH2O2_pulse_conc', mod_A_exH2O2_pulse_conc_orig)\n",
    "setattr(mod_B, 'exH2O2_pulse_conc', mod_B_exH2O2_pulse_conc_orig)\n",
    "setattr(mod_A_dec_nohyp, 'exH2O2_pulse_conc', mod_A_dec_nohyp_exH2O2_pulse_conc_orig)"
   ]
  },
  {
   "cell_type": "markdown",
   "metadata": {},
   "source": [
    "#### Simulated figure (figure S4 in our paper)"
   ]
  },
  {
   "cell_type": "code",
   "execution_count": null,
   "metadata": {
    "ExecuteTime": {
     "end_time": "2023-07-27T09:49:28.669913Z",
     "start_time": "2023-07-27T09:49:25.635994Z"
    }
   },
   "outputs": [],
   "source": [
    "rows = 5\n",
    "cols = 3\n",
    "f, axarr = plt.subplots(rows, cols)\n",
    "f.set_size_inches(w=cols * mpl_width_squarefig + 1, h=rows * mpl_height_squarefig)\n",
    "\n",
    "# 0.5 µM H2O2 pulse\n",
    "\n",
    "ax = axarr.flat[0]\n",
    "ax.semilogy(mod_A_05_H2O2_data['Time'] / 60, mod_A_05_H2O2_data['H2O2'], mod_A_line)\n",
    "ax.semilogy(mod_B_05_H2O2_data['Time'] / 60, mod_B_05_H2O2_data['H2O2'], mod_B_line)\n",
    "ax.semilogy(\n",
    "    mod_A_dec_nohyp_05_H2O2_data['Time'] / 60,\n",
    "    mod_A_dec_nohyp_05_H2O2_data['H2O2'],\n",
    "    mod_A_dec_nohyp_line,\n",
    ")\n",
    "ax.set_ylabel(f'[H$_2$O$_2$] ({mu}M)', fontsize=mpl_ylabel_fontsize)\n",
    "ax.set_ylim((1e-7, 1e1))\n",
    "ax.set_xlim((0, 2))\n",
    "ax.set_title(f'0.5 {mu}M H$_2$O$_2$ pulse')\n",
    "\n",
    "ax = axarr.flat[3]\n",
    "ax.plot(mod_A_05_H2O2_data['Time'] / 60, mod_A_05_H2O2_data['f_PSH'], mod_A_line)\n",
    "ax.plot(mod_B_05_H2O2_data['Time'] / 60, mod_B_05_H2O2_data['f_PSH'], mod_B_line)\n",
    "ax.plot(\n",
    "    mod_A_dec_nohyp_05_H2O2_data['Time'] / 60,\n",
    "    mod_A_dec_nohyp_05_H2O2_data['f_PSH'],\n",
    "    mod_A_dec_nohyp_line,\n",
    ")\n",
    "ax.set_ylabel('$f_{PSH}$', fontsize=mpl_ylabel_fontsize)\n",
    "ax.set_ylim((0, 1))\n",
    "\n",
    "ax = axarr.flat[6]\n",
    "ax.semilogy(mod_A_05_H2O2_data['Time'] / 60, mod_A_05_H2O2_data['f_PSOH'], mod_A_line)\n",
    "ax.semilogy(mod_B_05_H2O2_data['Time'] / 60, mod_B_05_H2O2_data['f_PSOH'], mod_B_line)\n",
    "ax.semilogy(\n",
    "    mod_A_dec_nohyp_05_H2O2_data['Time'] / 60,\n",
    "    mod_A_dec_nohyp_05_H2O2_data['f_PSOH'],\n",
    "    mod_A_dec_nohyp_line,\n",
    ")\n",
    "ax.set_ylabel('$f_{PSOH}$', fontsize=mpl_ylabel_fontsize)\n",
    "ax.set_ylim((1e-5, 1e0))\n",
    "ax.set_xlim((0, 2))\n",
    "\n",
    "ax = axarr.flat[9]\n",
    "ax.semilogy(mod_A_05_H2O2_data['Time'] / 60, mod_A_05_H2O2_data['f_PSO2H'], mod_A_line)\n",
    "ax.semilogy(mod_B_05_H2O2_data['Time'] / 60, mod_B_05_H2O2_data['f_PSO2H'], mod_B_line)\n",
    "ax.semilogy(\n",
    "    mod_A_dec_nohyp_05_H2O2_data['Time'] / 60,\n",
    "    mod_A_dec_nohyp_05_H2O2_data['f_PSO2H'],\n",
    "    mod_A_dec_nohyp_line,\n",
    ")\n",
    "ax.set_ylabel('$f_{PSO2H}$', fontsize=mpl_ylabel_fontsize)\n",
    "ax.set_ylim((1e-9, 1e-1))\n",
    "ax.set_xlim((0, 2))\n",
    "\n",
    "ax = axarr.flat[12]\n",
    "ax.plot(mod_A_05_H2O2_data['Time'] / 60, mod_A_05_H2O2_data['f_PSS'], mod_A_line)\n",
    "ax.plot(mod_B_05_H2O2_data['Time'] / 60, mod_B_05_H2O2_data['f_PSS'], mod_B_line)\n",
    "ax.plot(\n",
    "    mod_A_dec_nohyp_05_H2O2_data['Time'] / 60,\n",
    "    mod_A_dec_nohyp_05_H2O2_data['f_PSS'],\n",
    "    mod_A_dec_nohyp_line,\n",
    ")\n",
    "ax.set_ylabel('$f_{PSS}$', fontsize=mpl_ylabel_fontsize)\n",
    "ax.set_xlabel(f't (min)', fontsize=mpl_xlabel_fontsize)\n",
    "ax.set_ylim((0, 1))\n",
    "ax.set_xlim((0, 2))\n",
    "\n",
    "# 5 µM H2O2 pulse\n",
    "\n",
    "ax = axarr.flat[1]\n",
    "ax.semilogy(mod_A_5_H2O2_data['Time'] / 60, mod_A_5_H2O2_data['H2O2'], mod_A_line)\n",
    "ax.semilogy(mod_B_5_H2O2_data['Time'] / 60, mod_B_5_H2O2_data['H2O2'], mod_B_line)\n",
    "ax.semilogy(\n",
    "    mod_A_dec_nohyp_5_H2O2_data['Time'] / 60,\n",
    "    mod_A_dec_nohyp_5_H2O2_data['H2O2'],\n",
    "    mod_A_dec_nohyp_line,\n",
    ")\n",
    "ax.set_ylim((1e-7, 1e1))\n",
    "ax.set_xlim((0, 2))\n",
    "ax.set_title(f'5.0 {mu}M H$_2$O$_2$ pulse')\n",
    "\n",
    "ax = axarr.flat[4]\n",
    "ax.plot(mod_A_5_H2O2_data['Time'] / 60, mod_A_5_H2O2_data['f_PSH'], mod_A_line)\n",
    "ax.plot(mod_B_5_H2O2_data['Time'] / 60, mod_B_5_H2O2_data['f_PSH'], mod_B_line)\n",
    "ax.plot(\n",
    "    mod_A_dec_nohyp_5_H2O2_data['Time'] / 60,\n",
    "    mod_A_dec_nohyp_5_H2O2_data['f_PSH'],\n",
    "    mod_A_dec_nohyp_line,\n",
    ")\n",
    "ax.set_ylim((0, 1))\n",
    "ax.set_xlim((0, 2))\n",
    "\n",
    "ax = axarr.flat[7]\n",
    "ax.semilogy(mod_A_5_H2O2_data['Time'] / 60, mod_A_5_H2O2_data['f_PSOH'], mod_A_line)\n",
    "ax.semilogy(mod_B_5_H2O2_data['Time'] / 60, mod_B_5_H2O2_data['f_PSOH'], mod_B_line)\n",
    "ax.semilogy(\n",
    "    mod_A_dec_nohyp_5_H2O2_data['Time'] / 60,\n",
    "    mod_A_dec_nohyp_5_H2O2_data['f_PSOH'],\n",
    "    mod_A_dec_nohyp_line,\n",
    ")\n",
    "ax.set_ylim((1e-5, 1e0))\n",
    "ax.set_xlim((0, 2))\n",
    "\n",
    "ax = axarr.flat[10]\n",
    "ax.semilogy(mod_A_5_H2O2_data['Time'] / 60, mod_A_5_H2O2_data['f_PSO2H'], mod_A_line)\n",
    "ax.semilogy(mod_B_5_H2O2_data['Time'] / 60, mod_B_5_H2O2_data['f_PSO2H'], mod_B_line)\n",
    "ax.semilogy(\n",
    "    mod_A_dec_nohyp_5_H2O2_data['Time'] / 60,\n",
    "    mod_A_dec_nohyp_5_H2O2_data['f_PSO2H'],\n",
    "    mod_A_dec_nohyp_line,\n",
    ")\n",
    "ax.set_ylim((1e-9, 1e-1))\n",
    "ax.set_xlim((0, 2))\n",
    "\n",
    "ax = axarr.flat[13]\n",
    "ax.plot(mod_A_5_H2O2_data['Time'] / 60, mod_A_5_H2O2_data['f_PSS'], mod_A_line)\n",
    "ax.plot(mod_B_5_H2O2_data['Time'] / 60, mod_B_5_H2O2_data['f_PSS'], mod_B_line)\n",
    "ax.plot(\n",
    "    mod_A_dec_nohyp_5_H2O2_data['Time'] / 60,\n",
    "    mod_A_dec_nohyp_5_H2O2_data['f_PSS'],\n",
    "    mod_A_dec_nohyp_line,\n",
    ")\n",
    "ax.set_xlabel(f't (min)', fontsize=mpl_xlabel_fontsize)\n",
    "ax.set_ylim((0, 1))\n",
    "ax.set_xlim((0, 2))\n",
    "\n",
    "# 50 µM H2O2 pulse\n",
    "\n",
    "ax = axarr.flat[2]\n",
    "ax.semilogy(mod_A_50_H2O2_data['Time'] / 60, mod_A_50_H2O2_data['H2O2'], mod_A_line)\n",
    "ax.semilogy(mod_B_50_H2O2_data['Time'] / 60, mod_B_50_H2O2_data['H2O2'], mod_B_line)\n",
    "ax.semilogy(\n",
    "    mod_A_dec_nohyp_50_H2O2_data['Time'] / 60,\n",
    "    mod_A_dec_nohyp_50_H2O2_data['H2O2'],\n",
    "    mod_A_dec_nohyp_line,\n",
    ")\n",
    "ax.set_ylim((1e-7, 1e1))\n",
    "ax.set_xlim((0, 2))\n",
    "ax.set_title(f'50 {mu}M H$_2$O$_2$ pulse')\n",
    "\n",
    "ax = axarr.flat[5]\n",
    "ax.plot(mod_A_50_H2O2_data['Time'] / 60, mod_A_50_H2O2_data['f_PSH'], mod_A_line)\n",
    "ax.plot(mod_B_50_H2O2_data['Time'] / 60, mod_B_50_H2O2_data['f_PSH'], mod_B_line)\n",
    "ax.plot(\n",
    "    mod_A_dec_nohyp_50_H2O2_data['Time'] / 60,\n",
    "    mod_A_dec_nohyp_50_H2O2_data['f_PSH'],\n",
    "    mod_A_dec_nohyp_line,\n",
    ")\n",
    "ax.set_ylim((0, 1))\n",
    "ax.set_xlim((0, 2))\n",
    "\n",
    "ax = axarr.flat[8]\n",
    "ax.semilogy(mod_A_50_H2O2_data['Time'] / 60, mod_A_50_H2O2_data['f_PSOH'], mod_A_line)\n",
    "ax.semilogy(mod_B_50_H2O2_data['Time'] / 60, mod_B_50_H2O2_data['f_PSOH'], mod_B_line)\n",
    "ax.semilogy(\n",
    "    mod_A_dec_nohyp_50_H2O2_data['Time'] / 60,\n",
    "    mod_A_dec_nohyp_50_H2O2_data['f_PSOH'],\n",
    "    mod_A_dec_nohyp_line,\n",
    ")\n",
    "ax.set_ylim((1e-5, 1e0))\n",
    "ax.set_xlim((0, 2))\n",
    "\n",
    "ax = axarr.flat[11]\n",
    "ax.semilogy(mod_A_50_H2O2_data['Time'] / 60, mod_A_50_H2O2_data['f_PSO2H'], mod_A_line)\n",
    "ax.semilogy(mod_B_50_H2O2_data['Time'] / 60, mod_B_50_H2O2_data['f_PSO2H'], mod_B_line)\n",
    "ax.semilogy(\n",
    "    mod_A_dec_nohyp_50_H2O2_data['Time'] / 60,\n",
    "    mod_A_dec_nohyp_50_H2O2_data['f_PSO2H'],\n",
    "    mod_A_dec_nohyp_line,\n",
    ")\n",
    "ax.set_ylim((1e-9, 1e-1))\n",
    "ax.set_xlim((0, 2))\n",
    "\n",
    "ax = axarr.flat[14]\n",
    "ax.plot(mod_A_50_H2O2_data['Time'] / 60, mod_A_50_H2O2_data['f_PSS'], mod_A_line)\n",
    "ax.plot(mod_B_50_H2O2_data['Time'] / 60, mod_B_50_H2O2_data['f_PSS'], mod_B_line)\n",
    "ax.plot(\n",
    "    mod_A_dec_nohyp_50_H2O2_data['Time'] / 60,\n",
    "    mod_A_dec_nohyp_50_H2O2_data['f_PSS'],\n",
    "    mod_A_dec_nohyp_line,\n",
    ")\n",
    "ax.set_xlabel(f't (min)', fontsize=mpl_xlabel_fontsize)\n",
    "ax.set_ylim((0, 1))\n",
    "ax.set_xlim((0, 2))\n",
    "\n",
    "f.tight_layout()\n",
    "f.savefig(os.path.join(fig_dir, 'Benfig5.pdf'), dpi=mpl_dpi)"
   ]
  },
  {
   "cell_type": "markdown",
   "metadata": {},
   "source": [
    "### Fig 6"
   ]
  },
  {
   "cell_type": "markdown",
   "metadata": {},
   "source": [
    "Fig. 6. Responses of the potentials of redox pools to extracellular H 2 O 2 pulses. The correspondence of line to model is as for Fig. 4. Time course of the redox potentials of\n",
    "(A) Trx1, (B) GSH, and (C) NADPH upon 3 s pulse of 0.5, 5, and 50 μM local plasma H 2 O 2 concentrations. Vertical gray bars indicate the timing and duration of the H 2 O 2 pulse.\n",
    "Note the delay in the recovery of all the redox potentials after the strongest pulses. This ensues mainly from NADPH depletion by the GSR-catalyzed reduction of GSSG\n",
    "accumulated during the pulse and from the limited rate at which erythrocytes can reduce NADP þ to NADPH."
   ]
  },
  {
   "cell_type": "markdown",
   "metadata": {},
   "source": [
    "#### Published figure"
   ]
  },
  {
   "cell_type": "code",
   "execution_count": null,
   "metadata": {
    "ExecuteTime": {
     "end_time": "2023-07-27T09:49:28.680245Z",
     "start_time": "2023-07-27T09:49:28.671488Z"
    }
   },
   "outputs": [],
   "source": [
    "Image(\"Benfeitas 2014 fig6.png\")"
   ]
  },
  {
   "cell_type": "markdown",
   "metadata": {},
   "source": [
    "#### Data and sims"
   ]
  },
  {
   "cell_type": "code",
   "execution_count": null,
   "metadata": {
    "ExecuteTime": {
     "end_time": "2023-07-27T09:49:28.686208Z",
     "start_time": "2023-07-27T09:49:28.681665Z"
    }
   },
   "outputs": [],
   "source": [
    "def nernst(r_species, E0, n=2, temp_C=37):\n",
    "    \"\"\"\n",
    "    Nernst equation used to calculate redox potentials.\n",
    "    \"\"\"\n",
    "    temp_K = sp.constants.convert_temperature(temp_C, 'Celsius', 'Kelvin')\n",
    "    R = sp.constants.R\n",
    "    F = sp.constants.physical_constants['Faraday constant'][0]\n",
    "    E = E0 - ((temp_K * R) / (n * F)) * math.log(r_species)\n",
    "    return E\n",
    "\n",
    "\n",
    "nernst_vec = np.vectorize(nernst)\n",
    "\n",
    "\n",
    "def get_r_NADPHfree(data):\n",
    "    \"\"\"\n",
    "    Calculates NADPH ratio.\n",
    "    \"\"\"\n",
    "    r_NADPH_free = data['NADPHfree'] / data['NADPfree']\n",
    "    return r_NADPH_free\n",
    "\n",
    "\n",
    "def get_r_GS(data):\n",
    "    \"\"\"\n",
    "    Calculates GSH ratio.\n",
    "    \"\"\"\n",
    "    r_GS = (data['GSH'] ** 2) / (data['GSSG'])\n",
    "    return r_GS\n",
    "\n",
    "\n",
    "def get_r_Trx(data):\n",
    "    \"\"\"\n",
    "    Calculates Trx ratio.\n",
    "    \"\"\"\n",
    "    r_Trx = (data['Trx1SH_Trx2SH'] + data['Trx1SH_Trx2SOH']) / (\n",
    "        data['Trx1SOH_Trx2SH'] + data['Trx1SOH_Trx2SOH']\n",
    "    )\n",
    "    return r_Trx"
   ]
  },
  {
   "cell_type": "code",
   "execution_count": null,
   "metadata": {
    "ExecuteTime": {
     "end_time": "2023-07-27T09:49:28.790188Z",
     "start_time": "2023-07-27T09:49:28.687779Z"
    }
   },
   "outputs": [],
   "source": [
    "# Note: no new simulations are performed as this figure analyses data from the fig5 simulations\n",
    "\n",
    "## mod_A\n",
    "# Trx\n",
    "mod_A_05_E_Trx = nernst_vec(get_r_Trx(mod_A_05_H2O2_data), mod_A.E0_Trx)\n",
    "mod_A_5_E_Trx = nernst_vec(get_r_Trx(mod_A_5_H2O2_data), mod_A.E0_Trx)\n",
    "mod_A_50_E_Trx = nernst_vec(get_r_Trx(mod_A_50_H2O2_data), mod_A.E0_Trx)\n",
    "\n",
    "# GS\n",
    "mod_A_05_E_GS = nernst_vec(get_r_GS(mod_A_05_H2O2_data), mod_A.E0_GSH)\n",
    "mod_A_5_E_GS = nernst_vec(get_r_GS(mod_A_5_H2O2_data), mod_A.E0_GSH)\n",
    "mod_A_50_E_GS = nernst_vec(get_r_GS(mod_A_50_H2O2_data), mod_A.E0_GSH)\n",
    "\n",
    "# NADPH\n",
    "mod_A_05_E_NADPHfree = nernst_vec(get_r_NADPHfree(mod_A_05_H2O2_data), mod_A.E0_NADPH)\n",
    "mod_A_5_E_NADPHfree = nernst_vec(get_r_NADPHfree(mod_A_5_H2O2_data), mod_A.E0_NADPH)\n",
    "mod_A_50_E_NADPHfree = nernst_vec(get_r_NADPHfree(mod_A_50_H2O2_data), mod_A.E0_NADPH)\n",
    "\n",
    "## mod_B\n",
    "# Trx\n",
    "mod_B_05_E_Trx = nernst_vec(get_r_Trx(mod_B_05_H2O2_data), mod_B.E0_Trx)\n",
    "mod_B_5_E_Trx = nernst_vec(get_r_Trx(mod_B_5_H2O2_data), mod_B.E0_Trx)\n",
    "mod_B_50_E_Trx = nernst_vec(get_r_Trx(mod_B_50_H2O2_data), mod_B.E0_Trx)\n",
    "\n",
    "# GS\n",
    "mod_B_05_E_GS = nernst_vec(get_r_GS(mod_B_05_H2O2_data), mod_B.E0_GSH)\n",
    "mod_B_5_E_GS = nernst_vec(get_r_GS(mod_B_5_H2O2_data), mod_B.E0_GSH)\n",
    "mod_B_50_E_GS = nernst_vec(get_r_GS(mod_B_50_H2O2_data), mod_B.E0_GSH)\n",
    "\n",
    "# NADPH\n",
    "mod_B_05_E_NADPHfree = nernst_vec(get_r_NADPHfree(mod_B_05_H2O2_data), mod_B.E0_NADPH)\n",
    "mod_B_5_E_NADPHfree = nernst_vec(get_r_NADPHfree(mod_B_5_H2O2_data), mod_B.E0_NADPH)\n",
    "mod_B_50_E_NADPHfree = nernst_vec(get_r_NADPHfree(mod_B_50_H2O2_data), mod_B.E0_NADPH)\n",
    "\n",
    "## mod_A_dec_nohyp\n",
    "# Trx\n",
    "mod_A_dec_nohyp_05_E_Trx = nernst_vec(\n",
    "    get_r_Trx(mod_A_dec_nohyp_05_H2O2_data), mod_A_dec_nohyp.E0_Trx\n",
    ")\n",
    "mod_A_dec_nohyp_5_E_Trx = nernst_vec(\n",
    "    get_r_Trx(mod_A_dec_nohyp_5_H2O2_data), mod_A_dec_nohyp.E0_Trx\n",
    ")\n",
    "mod_A_dec_nohyp_50_E_Trx = nernst_vec(\n",
    "    get_r_Trx(mod_A_dec_nohyp_50_H2O2_data), mod_A_dec_nohyp.E0_Trx\n",
    ")\n",
    "\n",
    "# GS\n",
    "mod_A_dec_nohyp_05_E_GS = nernst_vec(\n",
    "    get_r_GS(mod_A_dec_nohyp_05_H2O2_data), mod_A_dec_nohyp.E0_GSH\n",
    ")\n",
    "mod_A_dec_nohyp_5_E_GS = nernst_vec(\n",
    "    get_r_GS(mod_A_dec_nohyp_5_H2O2_data), mod_A_dec_nohyp.E0_GSH\n",
    ")\n",
    "mod_A_dec_nohyp_50_E_GS = nernst_vec(\n",
    "    get_r_GS(mod_A_dec_nohyp_50_H2O2_data), mod_A_dec_nohyp.E0_GSH\n",
    ")\n",
    "\n",
    "# NADPH\n",
    "mod_A_dec_nohyp_05_E_NADPHfree = nernst_vec(\n",
    "    get_r_NADPHfree(mod_A_dec_nohyp_05_H2O2_data), mod_A_dec_nohyp.E0_NADPH\n",
    ")\n",
    "mod_A_dec_nohyp_5_E_NADPHfree = nernst_vec(\n",
    "    get_r_NADPHfree(mod_A_dec_nohyp_5_H2O2_data), mod_A_dec_nohyp.E0_NADPH\n",
    ")\n",
    "mod_A_dec_nohyp_50_E_NADPHfree = nernst_vec(\n",
    "    get_r_NADPHfree(mod_A_dec_nohyp_50_H2O2_data), mod_A_dec_nohyp.E0_NADPH\n",
    ")"
   ]
  },
  {
   "cell_type": "markdown",
   "metadata": {},
   "source": [
    "#### Simulated figure (figure S5 in our paper)"
   ]
  },
  {
   "cell_type": "code",
   "execution_count": null,
   "metadata": {
    "ExecuteTime": {
     "end_time": "2023-07-27T09:49:30.369821Z",
     "start_time": "2023-07-27T09:49:28.792479Z"
    }
   },
   "outputs": [],
   "source": [
    "rows = 3\n",
    "cols = 3\n",
    "f, axarr = plt.subplots(rows, cols)\n",
    "f.set_size_inches(w=cols * mpl_width_squarefig + 1, h=rows * mpl_height_squarefig)\n",
    "\n",
    "# 0.5 µM H2O2 pulse\n",
    "ax = axarr.flat[0]\n",
    "ax.plot(mod_A_05_H2O2_data['Time'] / 60, mod_A_05_E_Trx, mod_A_line)\n",
    "ax.plot(mod_B_05_H2O2_data['Time'] / 60, mod_B_05_E_Trx, mod_B_line)\n",
    "ax.plot(\n",
    "    mod_A_dec_nohyp_05_H2O2_data['Time'] / 60,\n",
    "    mod_A_dec_nohyp_05_E_Trx,\n",
    "    mod_A_dec_nohyp_line,\n",
    ")\n",
    "ax.set_xlim((0, 2))\n",
    "ax.set_ylabel(f'E(Trx) (V)', fontsize=mpl_ylabel_fontsize)\n",
    "ax.set_ylim((-0.30, -0.15))\n",
    "ax.set_title(f'0.5 {mu}M H$_2$O$_2$ pulse')\n",
    "\n",
    "ax = axarr.flat[3]\n",
    "ax.plot(mod_A_05_H2O2_data['Time'] / 60, mod_A_05_E_GS, mod_A_line)\n",
    "ax.plot(mod_B_05_H2O2_data['Time'] / 60, mod_B_05_E_GS, mod_B_line)\n",
    "ax.plot(\n",
    "    mod_A_dec_nohyp_05_H2O2_data['Time'] / 60,\n",
    "    mod_A_dec_nohyp_05_E_GS,\n",
    "    mod_A_dec_nohyp_line,\n",
    ")\n",
    "ax.set_ylabel(f'E(GSH) (V)', fontsize=mpl_ylabel_fontsize)\n",
    "ax.set_xlim((0, 2))\n",
    "# ax.set_ylim((-0.44,-0.20))\n",
    "\n",
    "ax = axarr.flat[6]\n",
    "ax.plot(mod_A_05_H2O2_data['Time'] / 60, mod_A_05_E_NADPHfree, mod_A_line)\n",
    "ax.plot(mod_B_05_H2O2_data['Time'] / 60, mod_B_05_E_NADPHfree, mod_B_line)\n",
    "ax.plot(\n",
    "    mod_A_dec_nohyp_05_H2O2_data['Time'] / 60,\n",
    "    mod_A_dec_nohyp_05_E_NADPHfree,\n",
    "    mod_A_dec_nohyp_line,\n",
    ")\n",
    "ax.set_ylabel(f'E(NADPH) (V)', fontsize=mpl_ylabel_fontsize)\n",
    "ax.set_xlabel(f't (min)', fontsize=mpl_xlabel_fontsize)\n",
    "ax.set_xlim((0, 2))\n",
    "ax.set_ylim((-0.40, -0.25))\n",
    "\n",
    "# 5 µM H2O2 pulse\n",
    "ax = axarr.flat[1]\n",
    "ax.plot(mod_A_5_H2O2_data['Time'] / 60, mod_A_5_E_Trx, mod_A_line)\n",
    "ax.plot(mod_B_5_H2O2_data['Time'] / 60, mod_B_5_E_Trx, mod_B_line)\n",
    "ax.plot(\n",
    "    mod_A_dec_nohyp_5_H2O2_data['Time'] / 60,\n",
    "    mod_A_dec_nohyp_5_E_Trx,\n",
    "    mod_A_dec_nohyp_line,\n",
    ")\n",
    "ax.set_xlim((0, 2))\n",
    "ax.set_ylim((-0.30, -0.15))\n",
    "ax.set_title(f'5.0 {mu}M H$_2$O$_2$ pulse')\n",
    "\n",
    "ax = axarr.flat[4]\n",
    "ax.plot(mod_A_5_H2O2_data['Time'] / 60, mod_A_5_E_GS, mod_A_line)\n",
    "ax.plot(mod_B_5_H2O2_data['Time'] / 60, mod_B_5_E_GS, mod_B_line)\n",
    "ax.plot(\n",
    "    mod_A_dec_nohyp_5_H2O2_data['Time'] / 60,\n",
    "    mod_A_dec_nohyp_5_E_GS,\n",
    "    mod_A_dec_nohyp_line,\n",
    ")\n",
    "ax.set_xlim((0, 2))\n",
    "# ax.set_ylim((-0.44,-0.20))\n",
    "\n",
    "ax = axarr.flat[7]\n",
    "ax.plot(mod_A_5_H2O2_data['Time'] / 60, mod_A_5_E_NADPHfree, mod_A_line)\n",
    "ax.plot(mod_B_5_H2O2_data['Time'] / 60, mod_B_5_E_NADPHfree, mod_B_line)\n",
    "ax.plot(\n",
    "    mod_A_dec_nohyp_5_H2O2_data['Time'] / 60,\n",
    "    mod_A_dec_nohyp_5_E_NADPHfree,\n",
    "    mod_A_dec_nohyp_line,\n",
    ")\n",
    "ax.set_xlabel(f't (min)', fontsize=mpl_xlabel_fontsize)\n",
    "ax.set_xlim((0, 2))\n",
    "ax.set_ylim((-0.40, -0.25))\n",
    "\n",
    "# 50 µM H2O2 pulse\n",
    "ax = axarr.flat[2]\n",
    "ax.plot(mod_A_50_H2O2_data['Time'] / 60, mod_A_50_E_Trx, mod_A_line)\n",
    "ax.plot(mod_B_50_H2O2_data['Time'] / 60, mod_B_50_E_Trx, mod_B_line)\n",
    "ax.plot(\n",
    "    mod_A_dec_nohyp_50_H2O2_data['Time'] / 60,\n",
    "    mod_A_dec_nohyp_50_E_Trx,\n",
    "    mod_A_dec_nohyp_line,\n",
    ")\n",
    "ax.set_xlim((0, 2))\n",
    "ax.set_ylim((-0.30, -0.15))\n",
    "ax.set_title(f'50 {mu}M H$_2$O$_2$ pulse')\n",
    "\n",
    "ax = axarr.flat[5]\n",
    "ax.plot(mod_A_50_H2O2_data['Time'] / 60, mod_A_50_E_GS, mod_A_line)\n",
    "ax.plot(mod_B_50_H2O2_data['Time'] / 60, mod_B_50_E_GS, mod_B_line)\n",
    "ax.plot(\n",
    "    mod_A_dec_nohyp_50_H2O2_data['Time'] / 60,\n",
    "    mod_A_dec_nohyp_50_E_GS,\n",
    "    mod_A_dec_nohyp_line,\n",
    ")\n",
    "ax.set_xlim((0, 2))\n",
    "# ax.set_ylim((-0.44,-0.20))\n",
    "\n",
    "ax = axarr.flat[8]\n",
    "ax.plot(mod_A_50_H2O2_data['Time'] / 60, mod_A_50_E_NADPHfree, mod_A_line)\n",
    "ax.plot(mod_B_50_H2O2_data['Time'] / 60, mod_B_50_E_NADPHfree, mod_B_line)\n",
    "ax.plot(\n",
    "    mod_A_dec_nohyp_50_H2O2_data['Time'] / 60,\n",
    "    mod_A_dec_nohyp_50_E_NADPHfree,\n",
    "    mod_A_dec_nohyp_line,\n",
    ")\n",
    "ax.set_xlabel(f't (min)', fontsize=mpl_xlabel_fontsize)\n",
    "ax.set_xlim((0, 2))\n",
    "ax.set_ylim((-0.40, -0.25))\n",
    "\n",
    "f.tight_layout()\n",
    "f.savefig(os.path.join(fig_dir, 'Benfig6.pdf'), dpi=mpl_dpi)"
   ]
  },
  {
   "cell_type": "markdown",
   "metadata": {},
   "source": [
    "### Fig 7"
   ]
  },
  {
   "cell_type": "markdown",
   "metadata": {},
   "source": [
    "Fig. 7. Responses of intracellular variables as a function of the amplitude of 3-s H 2 O 2 supply pulse. The correspondence of line to model is as for Fig. 4. Except for the yy axes\n",
    "in (D) and (F), all plots are in logarithmic scale. (A) NADPH consumed owing to pulse, computed by integrating NADPH consumption from onset of the 3 s pulse to full\n",
    "relaxation of all variables to within 1% of their prepulse steady-state value and subtracting the NADPH consumed over the same time period in the absence of a pulse. Note\n",
    "the higher consumption by Design A. The lower consumption by Design C is due to a lower contribution of Prx2 for H 2 O 2 elimination, resulting in higher intracellular H 2 O 2\n",
    "concentrations (B). (B, C, E, G) Maximum fold changes of the concentrations of intracellular H 2 O 2 , sulfenic Prx2, sulfinic Prx2, and disulfide Prx2, respectively. (D, F) Maximum\n",
    "redox potential change of Trx and GSH, respectively. Note the larger dynamic ranges provided by Designs B and D in (B, C, E–G) and the low dynamic range provided by\n",
    "Design C in (C, D, and G). The threshold effect in (E) ensues from the following. For a significant accumulation of Prx2 in sulfenic form to occur (E), the intracellular H 2 O 2\n",
    "concentration must be high enough for its reaction with the sulfenic acid to compete with the condensation reaction. The amplitude of the extracellular H 2 O 2 concentration\n",
    "pulse (Δ[eH 2 O 2 ]) causing a Δv sup pulse is given approximately by Δ[eH 2 O 2 ] 1⁄4 Δv sup /k p 1⁄4 Δv sup /(10.9 s \u0001 1 )"
   ]
  },
  {
   "cell_type": "markdown",
   "metadata": {},
   "source": [
    "#### Published figure"
   ]
  },
  {
   "cell_type": "code",
   "execution_count": null,
   "metadata": {
    "ExecuteTime": {
     "end_time": "2023-07-27T09:49:30.378451Z",
     "start_time": "2023-07-27T09:49:30.371352Z"
    }
   },
   "outputs": [],
   "source": [
    "Image(\"Benfeitas 2014 fig7.png\")"
   ]
  },
  {
   "cell_type": "markdown",
   "metadata": {},
   "source": [
    "#### Data and sims"
   ]
  },
  {
   "cell_type": "code",
   "execution_count": null,
   "metadata": {
    "ExecuteTime": {
     "end_time": "2023-07-27T09:49:30.388550Z",
     "start_time": "2023-07-27T09:49:30.380449Z"
    }
   },
   "outputs": [],
   "source": [
    "def do_BenFig7_sims(\n",
    "    mod, v_sup, sim_idx, mod_idx, baseline_data, SS_data, end=3600, points=1000\n",
    "):\n",
    "    \"\"\"\n",
    "    Performs the simulations for fig7 of Benfeitas 2014.\n",
    "\n",
    "    Requires\n",
    "    Several global arrays for data storage.\n",
    "    \"\"\"\n",
    "    # Adjust model\n",
    "    mod_eH2O2_pulse_conc_orig = getattr(mod, 'exH2O2_pulse_conc')\n",
    "    setattr(mod, 'exH2O2_pulse_conc', v_sup / 10.9)\n",
    "\n",
    "    # Do simulation\n",
    "    mod.doSim(end=end, points=points)\n",
    "    mod_sim_data = mod.sim\n",
    "\n",
    "    # Restore model\n",
    "    setattr(mod, 'exH2O2_pulse_conc', mod_eH2O2_pulse_conc_orig)\n",
    "\n",
    "    # Grab data (arrays are defined as globals)\n",
    "    mod_sim_NADPH_comsumption = (\n",
    "        mod_sim_data['Trx_red1'] + mod_sim_data['Trx_red2'] + mod_sim_data['GSR']\n",
    "    )\n",
    "    mod_baseline_NADPH_comsumption = (\n",
    "        baseline_data['Trx_red1'] + baseline_data['Trx_red2'] + baseline_data['GSR']\n",
    "    )\n",
    "    fig7A_data[sim_idx, mod_idx] = auc(\n",
    "        mod_sim_data['Time'], mod_sim_NADPH_comsumption\n",
    "    ) - auc(baseline_data['Time'], mod_baseline_NADPH_comsumption)\n",
    "    fig7B_data[sim_idx, mod_idx] = mod_sim_data['H2O2'].max() / SS_data['H2O2']\n",
    "    fig7C_data[sim_idx, mod_idx] = (\n",
    "        mod_sim_data['f_PSOH'].max() / baseline_data['f_PSOH'].iloc[-1]\n",
    "    )\n",
    "    mod_r_Trx_ss = (SS_data['Trx1SH_Trx2SH'] + SS_data['Trx1SH_Trx2SOH']) / (\n",
    "        SS_data['Trx1SOH_Trx2SH'] + SS_data['Trx1SOH_Trx2SOH']\n",
    "    )\n",
    "    fig7D_data[sim_idx, mod_idx] = nernst_vec(\n",
    "        get_r_Trx(mod_sim_data), mod.E0_Trx\n",
    "    ).max() - nernst(mod_r_Trx_ss, mod.E0_Trx)\n",
    "    fig7E_data[sim_idx, mod_idx] = (\n",
    "        mod_sim_data['f_PSO2H'].max() / baseline_data['f_PSO2H'].iloc[-1]\n",
    "    )\n",
    "    mod_r_GS_ss = (SS_data['GSH'] ** 2) / SS_data['GSSG']\n",
    "    fig7F_data[sim_idx, mod_idx] = nernst_vec(\n",
    "        get_r_GS(mod_sim_data), mod.E0_GSH\n",
    "    ).max() - nernst(mod_r_GS_ss, mod.E0_GSH)\n",
    "    fig7G_data[sim_idx, mod_idx] = (\n",
    "        mod_sim_data['f_PSS'].max() / baseline_data['f_PSS'].iloc[-1]\n",
    "    )\n",
    "\n",
    "\n",
    "def get_SS_data(mod, end=360000):\n",
    "    \"\"\"\n",
    "    Generates baseline data. Several of the analyses in Benfeitas fig7 require\n",
    "    baseline data for comparison.\n",
    "    \"\"\"\n",
    "    mod.doSim(points=2, end=end)\n",
    "    benfig7_SS_data = dict()\n",
    "    for label in mod.sim.columns:\n",
    "        benfig7_SS_data[label] = mod.sim[label].iloc[-1]\n",
    "\n",
    "    return benfig7_SS_data"
   ]
  },
  {
   "cell_type": "markdown",
   "metadata": {},
   "source": [
    "**Warning:** The simulations in the following cell can take 5-15 minutes."
   ]
  },
  {
   "cell_type": "code",
   "execution_count": null,
   "metadata": {
    "ExecuteTime": {
     "end_time": "2023-07-27T09:56:56.387977Z",
     "start_time": "2023-07-27T09:49:30.392131Z"
    },
    "scrolled": true
   },
   "outputs": [],
   "source": [
    "# Adjust model to simulation conditions\n",
    "setattr(mod_A, 'do_exH2O2_pulse', True)\n",
    "setattr(mod_B, 'do_exH2O2_pulse', True)\n",
    "setattr(mod_A_dec_nohyp, 'do_exH2O2_pulse', True)\n",
    "\n",
    "mod_A_exH2O2_pulse_conc_orig = getattr(mod_A, 'exH2O2_pulse_conc')\n",
    "mod_B_exH2O2_pulse_conc_orig = getattr(mod_B, 'exH2O2_pulse_conc')\n",
    "mod_A_dec_nohyp_exH2O2_pulse_conc_orig = getattr(mod_A_dec_nohyp, 'exH2O2_pulse_conc')\n",
    "\n",
    "mod_A_exH2O2_pulse_length_orig = getattr(mod_A, 'exH2O2_pulse_length')\n",
    "mod_B_exH2O2_pulse_length_orig = getattr(mod_B, 'exH2O2_pulse_length')\n",
    "mod_A_dec_nohyp_exH2O2_pulse_length_orig = getattr(\n",
    "    mod_A_dec_nohyp, 'exH2O2_pulse_length'\n",
    ")\n",
    "\n",
    "exH2O2_pulse_length = 3\n",
    "setattr(mod_A, 'exH2O2_pulse_length', exH2O2_pulse_length)\n",
    "setattr(mod_B, 'exH2O2_pulse_length', exH2O2_pulse_length)\n",
    "setattr(mod_A_dec_nohyp, 'exH2O2_pulse_length', exH2O2_pulse_length)\n",
    "\n",
    "end = 7200\n",
    "points = 1000\n",
    "\n",
    "scan_range = np.logspace(-1, 3, 51)\n",
    "\n",
    "# Data arrays\n",
    "fig7A_data = np.zeros((len(scan_range), 4))\n",
    "fig7B_data = np.zeros((len(scan_range), 4))\n",
    "fig7C_data = np.zeros((len(scan_range), 4))\n",
    "fig7D_data = np.zeros((len(scan_range), 4))\n",
    "fig7E_data = np.zeros((len(scan_range), 4))\n",
    "fig7F_data = np.zeros((len(scan_range), 4))\n",
    "fig7G_data = np.zeros((len(scan_range), 4))\n",
    "\n",
    "# General baselines\n",
    "mod_A.doSim(end=end, points=points)\n",
    "mod_A_baseline_data = mod_A.sim\n",
    "mod_B.doSim(end=end, points=points)\n",
    "mod_B_baseline_data = mod_B.sim\n",
    "mod_A_dec_nohyp.doSim(end=end, points=points)\n",
    "mod_A_dec_nohyp_baseline_data = mod_A_dec_nohyp.sim\n",
    "\n",
    "mod_A_SS_data = get_SS_data(mod_A)\n",
    "mod_B_SS_data = get_SS_data(mod_B)\n",
    "mod_A_dec_nohyp_SS_data = get_SS_data(mod_A_dec_nohyp)\n",
    "\n",
    "# Simulations\n",
    "for sim_idx, v_sup in enumerate(scan_range):\n",
    "    print(f'v_sup: {v_sup}')\n",
    "    # x data\n",
    "    fig7A_data[sim_idx, 0] = v_sup\n",
    "    fig7B_data[sim_idx, 0] = v_sup\n",
    "    fig7C_data[sim_idx, 0] = v_sup\n",
    "    fig7D_data[sim_idx, 0] = v_sup\n",
    "    fig7E_data[sim_idx, 0] = v_sup\n",
    "    fig7F_data[sim_idx, 0] = v_sup\n",
    "    fig7G_data[sim_idx, 0] = v_sup\n",
    "\n",
    "    # Main simulations\n",
    "    do_BenFig7_sims(\n",
    "        mod_A,\n",
    "        v_sup,\n",
    "        sim_idx,\n",
    "        1,\n",
    "        mod_A_baseline_data,\n",
    "        mod_A_SS_data,\n",
    "        end=end,\n",
    "        points=points,\n",
    "    )\n",
    "    do_BenFig7_sims(\n",
    "        mod_B,\n",
    "        v_sup,\n",
    "        sim_idx,\n",
    "        2,\n",
    "        mod_B_baseline_data,\n",
    "        mod_B_SS_data,\n",
    "        end=end,\n",
    "        points=points,\n",
    "    )\n",
    "    do_BenFig7_sims(\n",
    "        mod_A_dec_nohyp,\n",
    "        v_sup,\n",
    "        sim_idx,\n",
    "        3,\n",
    "        mod_A_dec_nohyp_baseline_data,\n",
    "        mod_A_dec_nohyp_SS_data,\n",
    "        end=end,\n",
    "        points=points,\n",
    "    )\n",
    "\n",
    "# Restore models\n",
    "setattr(mod_A, 'do_exH2O2_pulse', False)\n",
    "setattr(mod_B, 'do_exH2O2_pulse', False)\n",
    "setattr(mod_A_dec_nohyp, 'do_exH2O2_pulse', False)\n",
    "\n",
    "setattr(mod_A, 'exH2O2_pulse_length', mod_A_exH2O2_pulse_length_orig)\n",
    "setattr(mod_B, 'exH2O2_pulse_length', mod_B_exH2O2_pulse_length_orig)\n",
    "setattr(\n",
    "    mod_A_dec_nohyp, 'exH2O2_pulse_length', mod_A_dec_nohyp_exH2O2_pulse_length_orig\n",
    ")\n",
    "\n",
    "setattr(mod_A, 'exH2O2_pulse_conc', mod_A_exH2O2_pulse_conc_orig)\n",
    "setattr(mod_B, 'exH2O2_pulse_conc', mod_B_exH2O2_pulse_conc_orig)\n",
    "setattr(mod_A_dec_nohyp, 'exH2O2_pulse_conc', mod_A_dec_nohyp_exH2O2_pulse_conc_orig)"
   ]
  },
  {
   "cell_type": "markdown",
   "metadata": {},
   "source": [
    "#### Simulated Figure (figure S6 in our paper)"
   ]
  },
  {
   "cell_type": "code",
   "execution_count": null,
   "metadata": {
    "ExecuteTime": {
     "end_time": "2023-07-27T09:57:00.264767Z",
     "start_time": "2023-07-27T09:56:56.389684Z"
    }
   },
   "outputs": [],
   "source": [
    "rows = 4\n",
    "cols = 2\n",
    "f, axarr = plt.subplots(rows, cols)\n",
    "f.set_size_inches(w=cols * mpl_width_squarefig + 1, h=rows * mpl_height_squarefig)\n",
    "\n",
    "ax = axarr.flat[0]\n",
    "ax.loglog(fig7A_data[:, 0], fig7A_data[:, 1], mod_A_line)\n",
    "ax.loglog(fig7A_data[:, 0], fig7A_data[:, 2], mod_B_line)\n",
    "ax.loglog(fig7A_data[:, 0], fig7A_data[:, 3], mod_A_dec_nohyp_line)\n",
    "ax.set_ylabel(f'NADPH consumed by pulse ({mu}M)', fontsize=mpl_ylabel_fontsize)\n",
    "ax.set_ylim((1e-1, 1e3))\n",
    "ax.set_xlim((1e-1, 1e3))\n",
    "\n",
    "f.delaxes(axarr.flat[1])\n",
    "\n",
    "ax = axarr.flat[2]\n",
    "ax.loglog(fig7B_data[:, 0], fig7B_data[:, 1], mod_A_line)\n",
    "ax.loglog(fig7B_data[:, 0], fig7B_data[:, 2], mod_B_line)\n",
    "ax.loglog(fig7B_data[:, 0], fig7B_data[:, 3], mod_A_dec_nohyp_line)\n",
    "ax.set_ylabel(\n",
    "    '[H$_2$O$_2$]$_{Max}$/[H$_2$O$_2$]$_{Basal}$', fontsize=mpl_ylabel_fontsize\n",
    ")\n",
    "ax.set_ylim((1e0, 1e6))\n",
    "ax.set_xlim((1e-1, 1e3))\n",
    "\n",
    "ax = axarr.flat[3]\n",
    "ax.loglog(fig7C_data[:, 0], fig7C_data[:, 1], mod_A_line)\n",
    "ax.loglog(fig7C_data[:, 0], fig7C_data[:, 2], mod_B_line)\n",
    "ax.loglog(fig7C_data[:, 0], fig7C_data[:, 3], mod_A_dec_nohyp_line)\n",
    "ax.set_ylabel('[PSOH]$_{Max}$/[PSOH]$_{Basal}$', fontsize=mpl_ylabel_fontsize)\n",
    "ax.set_ylim((1e0, 1e4))\n",
    "ax.set_xlim((1e-1, 1e3))\n",
    "\n",
    "ax = axarr.flat[4]\n",
    "ax.semilogx(fig7D_data[:, 0], fig7D_data[:, 1], mod_A_line)\n",
    "ax.semilogx(fig7D_data[:, 0], fig7D_data[:, 2], mod_B_line)\n",
    "ax.semilogx(fig7D_data[:, 0], fig7D_data[:, 3], mod_A_dec_nohyp_line)\n",
    "ax.set_ylabel('$E$(Trx1)$_{Max}$-$E$(Trx1)$_{Basal}$', fontsize=mpl_ylabel_fontsize)\n",
    "ax.set_ylim((0, 0.14))\n",
    "ax.set_xlim((1e-1, 1e3))\n",
    "\n",
    "ax = axarr.flat[5]\n",
    "ax.loglog(fig7E_data[:, 0], fig7E_data[:, 1], mod_A_line)\n",
    "ax.loglog(fig7E_data[:, 0], fig7E_data[:, 2], mod_B_line)\n",
    "ax.loglog(fig7E_data[:, 0], fig7E_data[:, 3], mod_A_dec_nohyp_line)\n",
    "ax.set_ylabel('[PSO2H]$_{Max}$/[PSO2H]$_{Basal}$', fontsize=mpl_ylabel_fontsize)\n",
    "ax.set_ylim((1e0, 1e6))\n",
    "ax.set_xlim((1e-1, 1e3))\n",
    "\n",
    "ax = axarr.flat[6]\n",
    "ax.semilogx(fig7F_data[:, 0], fig7F_data[:, 1], mod_A_line)\n",
    "ax.semilogx(fig7F_data[:, 0], fig7F_data[:, 2], mod_B_line)\n",
    "ax.semilogx(fig7F_data[:, 0], fig7F_data[:, 3], mod_A_dec_nohyp_line)\n",
    "ax.set_ylabel('$E$(GSH)$_{Max}$-$E$(GSH)$_{Basal}$', fontsize=mpl_ylabel_fontsize)\n",
    "ax.set_xlabel('$v$$_{sup}$ ' + f'({mu}M' + ' s$^{-1}$)', fontsize=mpl_xlabel_fontsize)\n",
    "ax.set_ylim((0, 0.2))\n",
    "ax.set_xlim((1e-1, 1e3))\n",
    "\n",
    "ax = axarr.flat[7]\n",
    "ax.loglog(fig7G_data[:, 0], fig7G_data[:, 1], mod_A_line)\n",
    "ax.loglog(fig7G_data[:, 0], fig7G_data[:, 2], mod_B_line)\n",
    "ax.loglog(fig7G_data[:, 0], fig7G_data[:, 3], mod_A_dec_nohyp_line)\n",
    "ax.set_ylabel('[PSS]$_{Max}$/[PSS]$_{Basal}$', fontsize=mpl_ylabel_fontsize)\n",
    "ax.set_xlabel('$v$$_{sup}$ ' + f'({mu}M' + ' s$^{-1}$)', fontsize=mpl_xlabel_fontsize)\n",
    "ax.set_ylim((1e0, 1e4))\n",
    "ax.set_xlim((1e-1, 1e3))\n",
    "\n",
    "f.tight_layout()\n",
    "f.savefig(os.path.join(fig_dir, 'Benfig7.pdf'), dpi=mpl_dpi)"
   ]
  },
  {
   "cell_type": "markdown",
   "metadata": {},
   "source": [
    "### Table 2"
   ]
  },
  {
   "cell_type": "markdown",
   "metadata": {},
   "source": [
    "#### Published table"
   ]
  },
  {
   "cell_type": "code",
   "execution_count": null,
   "metadata": {},
   "outputs": [],
   "source": [
    "Image(\"Benfeitas 2014 tab2.png\")"
   ]
  },
  {
   "cell_type": "markdown",
   "metadata": {},
   "source": [
    "#### Data and sims"
   ]
  },
  {
   "cell_type": "code",
   "execution_count": null,
   "metadata": {},
   "outputs": [],
   "source": [
    "def process_Bentab2_data(sim_data,mod,model_name):\n",
    "    \"\"\"\n",
    "    Processes the data for Benfeitas table 2.\n",
    "    \"\"\"\n",
    "    index = [\"$v_{Prx}/v_{Cat}$\",\n",
    "               \"Fraction of inhibited Prx2\",\n",
    "               \"[H$_2$O$_2$], M\",\n",
    "               \"Fraction of H$_2$O$_2$ consumed by Prx2\",\n",
    "               \"Fraction of H$_2$O$_2$ consumed by Cat\",\n",
    "               \"Fraction of H$_2$O$_2$ consumed by GPx\",\n",
    "               \"NADPH consumption, M s$^{-1}$\",\n",
    "               \"NADPH consumed per H$_2$O$_2$ eliminated\",\n",
    "               \"Fraction of NADPH consumed by TrxR\",\n",
    "               \"E(GSSG|GSH), V\",\n",
    "               \"E(NADP|NADPH), V\",\n",
    "               \"E(Trx$_{Ox}$|Trx$_{Red}$), V\"]\n",
    "    \n",
    "    df = pd.DataFrame(columns=[model_name],index=index)\n",
    "    \n",
    "    #vPrx_over_vCat\n",
    "    vGPx = sim_data[\"GPx1\"][-1]\n",
    "    vCat = sim_data[\"Cat_1\"][-1]+sim_data[\"Cat_2\"][-1]\n",
    "    vH2O2 = sim_data[\"H2O2_production\"][-1]+sim_data[\"H2O2_permeation\"][-1]\n",
    "    vPrx = vH2O2 - vGPx - vCat # This is easier than calculating vPrx from all the Prx reactions\n",
    "    vPrx_over_vCat = vPrx/vCat\n",
    "    df.loc[\"$v_{Prx}/v_{Cat}$\"][model_name] = vPrx_over_vCat\n",
    "\n",
    "    #f H2O2 consumed\n",
    "    H2O2 = sim_data[\"H2O2\"][-1]\n",
    "    df.loc[\"[H$_2$O$_2$], M\"][model_name] = H2O2*10**(-6) # µM to M\n",
    "    fH2O2_by_GPx = vGPx/vH2O2\n",
    "    df.loc[\"Fraction of H$_2$O$_2$ consumed by GPx\"][model_name] = fH2O2_by_GPx\n",
    "    fH2O2_by_Cat = vCat/vH2O2\n",
    "    df.loc[\"Fraction of H$_2$O$_2$ consumed by Cat\"][model_name] = fH2O2_by_Cat\n",
    "    fH2O2_by_Prx = vPrx/vH2O2\n",
    "    df.loc[\"Fraction of H$_2$O$_2$ consumed by Prx2\"][model_name] = fH2O2_by_Prx\n",
    "\n",
    "    # NADPH consumed\n",
    "    NADPH_by_TrxR = sim_data[\"Trx_red1\"][-1]+sim_data[\"Trx_red2\"][-1]\n",
    "    NADPH_by_GPx = sim_data[\"GSR\"][-1]\n",
    "    vNADPH = NADPH_by_TrxR+NADPH_by_GPx\n",
    "    df.loc[\"NADPH consumption, M s$^{-1}$\"][model_name] = vNADPH*10**(-6) # µM to M\n",
    "    NADPH_per_H2O2 = vNADPH/vH2O2\n",
    "    df.loc[\"NADPH consumed per H$_2$O$_2$ eliminated\"][model_name] = NADPH_per_H2O2\n",
    "    fNADPH_by_TrxR = NADPH_by_TrxR/vNADPH\n",
    "    df.loc[\"Fraction of NADPH consumed by TrxR\"][model_name] = fNADPH_by_TrxR\n",
    "    \n",
    "    # Potentials\n",
    "    E_GS = nernst((sim_data['GSH'][-1]**2)/sim_data['GSSG'][-1], mod.E0_GSH) \n",
    "    df.loc[\"E(GSSG|GSH), V\"][model_name] = E_GS\n",
    "    E_NADPH = nernst(sim_data['NADPHfree'][-1]/sim_data['NADPfree'][-1], mod.E0_NADPH) \n",
    "    df.loc[\"E(NADP|NADPH), V\"][model_name] = E_NADPH\n",
    "    E_Trx = nernst((sim_data['Trx1SH_Trx2SH'][-1] + sim_data['Trx1SH_Trx2SOH'][-1]) / (\n",
    "        sim_data['Trx1SOH_Trx2SH'][-1] + sim_data['Trx1SOH_Trx2SOH'][-1]), mod.E0_Trx) \n",
    "    df.loc[\"E(Trx$_{Ox}$|Trx$_{Red}$), V\"][model_name] = E_Trx\n",
    "        \n",
    "    return df\n"
   ]
  },
  {
   "cell_type": "code",
   "execution_count": null,
   "metadata": {},
   "outputs": [],
   "source": [
    "# Adjust model to simulation conditions\n",
    "\n",
    "end = 7200\n",
    "points = end+1\n",
    "\n",
    "# Do simulations\n",
    "mod_A.doSim(end=end,points=points)\n",
    "mod_A_tab2_sim = mod_A.sim.to_records()\n",
    "mod_B.doSim(end=end,points=points)\n",
    "mod_B_tab2_sim = mod_B.sim.to_records()\n",
    "mod_A_dec_nohyp.doSim(end=end,points=points)\n",
    "mod_A_dec_nohyp_tab2_sim = mod_A_dec_nohyp.sim.to_records()\n",
    "\n",
    "# Process data\n",
    "model_name = \"Model A\"\n",
    "mod_A_tab2_data = process_Bentab2_data(mod_A_tab2_sim,mod_A,model_name)\n",
    "model_name = \"Model B\"\n",
    "mod_B_tab2_data = process_Bentab2_data(mod_B_tab2_sim,mod_B,model_name)\n",
    "model_name = \"Model A decamer\"\n",
    "mod_A_dec_nohyp_tab2_data = process_Bentab2_data(mod_A_dec_nohyp_tab2_sim,mod_A_dec_nohyp,model_name)\n",
    "\n",
    "Bentab2 = pd.concat([mod_A_tab2_data,mod_B_tab2_data,mod_A_dec_nohyp_tab2_data],axis=1)\n"
   ]
  },
  {
   "cell_type": "markdown",
   "metadata": {},
   "source": [
    "#### Simulated table"
   ]
  },
  {
   "cell_type": "code",
   "execution_count": null,
   "metadata": {},
   "outputs": [],
   "source": [
    "Bentab2"
   ]
  },
  {
   "cell_type": "markdown",
   "metadata": {},
   "source": [
    "# Peroxiredoxin red blood cell with extended disulphide-bridge model"
   ]
  },
  {
   "cell_type": "markdown",
   "metadata": {},
   "source": [
    "**Note:** The following cells have been set to raw as the simulations are likely too computational straining for Binder. Set the cells to code to run the analysis."
   ]
  },
  {
   "cell_type": "markdown",
   "metadata": {},
   "source": [
    "## Initialize models "
   ]
  },
  {
   "cell_type": "raw",
   "metadata": {},
   "source": [
    "# Load model\n",
    "mod_A_dec_nohyp = pysces.model(\"RBC_PRDX2_modelA_decfull_5dsb.psc\", dir = mod_dir)\n",
    "mod_A_dec_nohyp.mode_integrate_all_odes = True # As recommented by pysces\n",
    "mod_A_dec_nohyp.SetQuiet()\n",
    "mod_A_dec_nohyp = update_params_BenfeitasModels(mod_A_dec_nohyp,df_onestep_params)"
   ]
  },
  {
   "cell_type": "raw",
   "metadata": {},
   "source": [
    "# Enable this cell to check the idx of the Prx moiety of model A with decamerisation\n",
    "mod_A_dec_nohyp.conserved_sums.split(\"\\n\")"
   ]
  },
  {
   "cell_type": "raw",
   "metadata": {},
   "source": [
    "mod_A_dec_nohyp_pos_in_conserved = ['SH_SH' in s for s in mod_A_dec_nohyp.conserved_sums.split(\"\\n\")].index(True)\n"
   ]
  },
  {
   "cell_type": "markdown",
   "metadata": {},
   "source": [
    "### Fig 3"
   ]
  },
  {
   "cell_type": "markdown",
   "metadata": {},
   "source": [
    "#### Data and sims"
   ]
  },
  {
   "cell_type": "markdown",
   "metadata": {},
   "source": [
    "**Warning:** The simulations in the following cell can take several hours."
   ]
  },
  {
   "cell_type": "raw",
   "metadata": {},
   "source": [
    "# Adjust intracellular H2O2 production\n",
    "mod_A_H2O2prod_orig = getattr(mod_A, 'H2O2_production_v')\n",
    "mod_B_H2O2prod_orig = getattr(mod_B, 'H2O2_production_v')\n",
    "mod_A_dec_nohyp_H2O2prod_orig = getattr(mod_A_dec_nohyp, 'H2O2_production_v')\n",
    "\n",
    "H2O2prod = 0.057   # for this fig\n",
    "setattr(mod_A, 'H2O2_production_v', H2O2prod)\n",
    "setattr(mod_B, 'H2O2_production_v', H2O2prod)\n",
    "setattr(mod_A_dec_nohyp, 'H2O2_production_v', H2O2prod)\n",
    "\n",
    "# Adjust Plasma to experimental hematocrit\n",
    "cells = 5 * 10 ** (9)\n",
    "\n",
    "mod_A_Plasma_orig = getattr(mod_A, 'Plasma_init')\n",
    "mod_B_Plasma_orig = getattr(mod_B, 'Plasma_init')\n",
    "mod_A_dec_nohyp_Plasma_orig = getattr(mod_A_dec_nohyp, 'Plasma_init')\n",
    "\n",
    "setattr(mod_A, 'Plasma_init', 1 / (cells * mod_A.Compartment_1))\n",
    "setattr(mod_B, 'Plasma_init', 1 / (cells * mod_B.Compartment_1))\n",
    "setattr(mod_A_dec_nohyp, 'Plasma_init', 1 / (cells * mod_A_dec_nohyp.Compartment_1))\n",
    "\n",
    "# Store eH2O2_init\n",
    "mod_A_eH2O2_init_orig = getattr(mod_A, 'eH2O2_init')\n",
    "mod_B_eH2O2_init_orig = getattr(mod_B, 'eH2O2_init')\n",
    "mod_A_dec_nohyp_eH2O2_init_orig = getattr(mod_A_dec_nohyp, 'eH2O2_init')\n",
    "\n",
    "# Get Prx species list\n",
    "mod_A_Prx_pos_in_conserved = ['SH_SH' in s for s in mod_A.conserved_sums.split(\"\\n\")].index(True)\n",
    "mod_A_Prx_species = [\n",
    "    i.split('}')[1].strip()\n",
    "    for i in mod_A.conserved_sums.split('\\n')[mod_A_Prx_pos_in_conserved]\n",
    "    .split('=')[0]\n",
    "    .split(' + ')[1:]\n",
    "]\n",
    "mod_B_Prx_pos_in_conserved = ['SH_SH' in s for s in mod_B.conserved_sums.split(\"\\n\")].index(True)\n",
    "mod_B_Prx_species = [\n",
    "    i.split('}')[1].strip()\n",
    "    for i in mod_B.conserved_sums.split('\\n')[mod_B_Prx_pos_in_conserved]\n",
    "    .split('=')[0]\n",
    "    .split(' + ')[1:]\n",
    "]\n",
    "mod_A_dec_nohyp_Prx_pos_in_conserved = ['SH_SH' in s for s in mod_A_dec_nohyp.conserved_sums.split(\"\\n\")].index(True)\n",
    "mod_A_dec_nohyp_Prx_species = [\n",
    "    i.split('}')[1].strip()\n",
    "    for i in mod_A_dec_nohyp.conserved_sums.split('\\n')[\n",
    "        mod_A_dec_nohyp_Prx_pos_in_conserved\n",
    "    ]\n",
    "    .split('=')[0]\n",
    "    .split(' + ')[1:]\n",
    "]\n",
    "\n",
    "## Steady-state simulations\n",
    "H2O2_range = np.logspace(-0.30102999, 2.30103, 49)\n",
    "\n",
    "# Get t_dimers (the built in t_dimers doesn't work for decamer model)\n",
    "mod_A_t_dimers = float(\n",
    "    mod_A.conserved_sums.split('\\n')[mod_A_pos_in_conserved].split(' = ')[1]\n",
    ")\n",
    "mod_B_t_dimers = float(\n",
    "    mod_B.conserved_sums.split('\\n')[mod_B_pos_in_conserved].split(' = ')[1]\n",
    ")\n",
    "mod_A_dec_nohyp_t_dimers = (\n",
    "    float(\n",
    "        mod_A_dec_nohyp.conserved_sums.split('\\n')[\n",
    "            mod_A_dec_nohyp_pos_in_conserved\n",
    "        ].split(' = ')[1]\n",
    "    ) * 5\n",
    ")\n",
    "\n",
    "# Do simulations\n",
    "mod_A_H2O2scan_data = do_Benfig3_H2O2scan(mod_A, H2O2_range)\n",
    "mod_A_benfig3_H2O2scan_plots = process_Benfig3_data(\n",
    "    mod_A_H2O2scan_data, mod_A_Prx_species, mod_A_t_dimers\n",
    ")\n",
    "mod_B_H2O2scan_data = do_Benfig3_H2O2scan(mod_B, H2O2_range)\n",
    "mod_B_benfig3_H2O2scan_plots = process_Benfig3_data(\n",
    "    mod_B_H2O2scan_data, mod_B_Prx_species, mod_B_t_dimers\n",
    ")\n",
    "mod_A_dec_nohyp_H2O2scan_data = do_Benfig3_H2O2scan(mod_A_dec_nohyp, H2O2_range)\n",
    "mod_A_dec_nohyp_benfig3_H2O2scan_plots = process_Benfig3_data(\n",
    "    mod_A_dec_nohyp_H2O2scan_data, mod_A_dec_nohyp_Prx_species, mod_A_dec_nohyp_t_dimers\n",
    ")\n",
    "\n",
    "## Time simulations\n",
    "H2O2_bolus_added_CONC_ = 5\n",
    "\n",
    "# Adjust bolus\n",
    "setattr(mod_A, 'eH2O2_init', H2O2_bolus_added_CONC_)\n",
    "setattr(mod_B, 'eH2O2_init', H2O2_bolus_added_CONC_)\n",
    "setattr(mod_A_dec_nohyp, 'eH2O2_init', H2O2_bolus_added_CONC_)\n",
    "\n",
    "# Do simulations\n",
    "mod_A_timesim_data = do_Benfig3_timesim(mod_A)\n",
    "mod_A_benfig3_timesim_plots = process_Benfig3_data(\n",
    "    mod_A_timesim_data, mod_A_Prx_species, mod_A_t_dimers\n",
    ")\n",
    "mod_B_timesim_data = do_Benfig3_timesim(mod_B)\n",
    "mod_B_benfig3_timesim_plots = process_Benfig3_data(\n",
    "    mod_B_timesim_data, mod_B_Prx_species, mod_B_t_dimers\n",
    ")\n",
    "mod_A_dec_nohyp_timesim_data = do_Benfig3_timesim(mod_A_dec_nohyp)\n",
    "mod_A_dec_nohyp_benfig3_timesim_plots = process_Benfig3_data(\n",
    "    mod_A_dec_nohyp_timesim_data, mod_A_dec_nohyp_Prx_species, mod_A_dec_nohyp_t_dimers\n",
    ")\n",
    "\n",
    "## Restore model\n",
    "setattr(mod_A, 'Plasma_init', mod_A_Plasma_orig)\n",
    "setattr(mod_B, 'Plasma_init', mod_B_Plasma_orig)\n",
    "setattr(mod_A_dec_nohyp, 'Plasma_init', mod_A_dec_nohyp_Plasma_orig)\n",
    "\n",
    "setattr(mod_A, 'H2O2_production_v', mod_A_H2O2prod_orig)\n",
    "setattr(mod_B, 'H2O2_production_v', mod_B_H2O2prod_orig)\n",
    "setattr(mod_A_dec_nohyp, 'H2O2_production_v', mod_A_dec_nohyp_H2O2prod_orig)\n",
    "\n",
    "setattr(mod_A, 'eH2O2_init', mod_A_eH2O2_init_orig)\n",
    "setattr(mod_B, 'eH2O2_init', mod_B_eH2O2_init_orig)\n",
    "setattr(mod_A_dec_nohyp, 'eH2O2_init', mod_A_dec_nohyp_eH2O2_init_orig)"
   ]
  },
  {
   "cell_type": "markdown",
   "metadata": {},
   "source": [
    "#### Simulated figure (figure S9a and S9b in our paper)"
   ]
  },
  {
   "cell_type": "raw",
   "metadata": {},
   "source": [
    "rows = 3\n",
    "cols = 2\n",
    "f, axarr = plt.subplots(rows,cols)\n",
    "f.set_size_inches(w=cols*mpl_width, h=rows*mpl_height)\n",
    "\n",
    "## Steady-state simulations\n",
    "ax = axarr.flat[2]\n",
    "ax.semilogx(H2O2_range,mod_A_benfig3_H2O2scan_plots[\"2SS\"], 'r-',lw=5)\n",
    "ax.semilogx(H2O2_range,mod_A_benfig3_H2O2scan_plots[\"1SS_sulfi\"], 'b-',lw=3)\n",
    "ax.semilogx(H2O2_range,mod_A_benfig3_H2O2scan_plots[\"1SS_no_sulfi\"], 'r-')\n",
    "ax.semilogx(H2O2_range,mod_A_benfig3_H2O2scan_plots[\"0SS_sulfi\"], 'b--',lw=3)\n",
    "ax.semilogx(H2O2_range,mod_A_benfig3_H2O2scan_plots[\"0SS_no_sulfi\"],'r--')\n",
    "ax.set_ylabel('$f_{Dimers}$', fontsize = mpl_ylabel_fontsize)\n",
    "\n",
    "ax = axarr.flat[4]\n",
    "ax.semilogx(H2O2_range,mod_B_benfig3_H2O2scan_plots[\"2SS\"], 'r-',lw=5)\n",
    "ax.semilogx(H2O2_range,mod_B_benfig3_H2O2scan_plots[\"1SS_sulfi\"], 'b-',lw=3)\n",
    "ax.semilogx(H2O2_range,mod_B_benfig3_H2O2scan_plots[\"1SS_no_sulfi\"], 'r-')\n",
    "ax.semilogx(H2O2_range,mod_B_benfig3_H2O2scan_plots[\"0SS_sulfi\"], 'b--',lw=3)\n",
    "ax.semilogx(H2O2_range,mod_B_benfig3_H2O2scan_plots[\"0SS_no_sulfi\"],'r--')\n",
    "ax.set_ylabel('$f_{Dimers}$', fontsize = mpl_ylabel_fontsize)\n",
    "\n",
    "ax = axarr.flat[0]\n",
    "ax.semilogx(H2O2_range,mod_A_dec_nohyp_benfig3_H2O2scan_plots[\"2SS\"], 'r-',lw=5)\n",
    "ax.semilogx(H2O2_range,mod_A_dec_nohyp_benfig3_H2O2scan_plots[\"1SS_sulfi\"], 'b-',lw=3)\n",
    "ax.semilogx(H2O2_range,mod_A_dec_nohyp_benfig3_H2O2scan_plots[\"1SS_no_sulfi\"], 'r-')\n",
    "ax.semilogx(H2O2_range,mod_A_dec_nohyp_benfig3_H2O2scan_plots[\"0SS_sulfi\"], 'b--',lw=3)\n",
    "ax.semilogx(H2O2_range,mod_A_dec_nohyp_benfig3_H2O2scan_plots[\"0SS_no_sulfi\"],'r--')\n",
    "ax.set_ylabel('$f_{Dimers}$', fontsize = mpl_ylabel_fontsize)\n",
    "ax.set_xlabel(f'H$_2$O$_2$ ({mu}M)', fontsize = mpl_xlabel_fontsize)\n",
    "\n",
    "## Time simulations\n",
    "ax = axarr.flat[3]\n",
    "ax.plot(mod_A.data_sim.getTime()/60,mod_A_benfig3_timesim_plots[\"2SS\"], 'r-',lw=5)\n",
    "ax.plot(mod_A.data_sim.getTime()/60,mod_A_benfig3_timesim_plots[\"1SS_sulfi\"], 'b-',lw=3)\n",
    "ax.plot(mod_A.data_sim.getTime()/60,mod_A_benfig3_timesim_plots[\"1SS_no_sulfi\"], 'r-')\n",
    "ax.plot(mod_A.data_sim.getTime()/60,mod_A_benfig3_timesim_plots[\"0SS_sulfi\"], 'b--',lw=3)\n",
    "ax.plot(mod_A.data_sim.getTime()/60,mod_A_benfig3_timesim_plots[\"0SS_no_sulfi\"],'r--')\n",
    "\n",
    "ax = axarr.flat[5]\n",
    "ax.plot(mod_B.data_sim.getTime()/60,mod_B_benfig3_timesim_plots[\"2SS\"], 'r-',lw=5)\n",
    "ax.plot(mod_B.data_sim.getTime()/60,mod_B_benfig3_timesim_plots[\"1SS_sulfi\"], 'b-',lw=3)\n",
    "ax.plot(mod_B.data_sim.getTime()/60,mod_B_benfig3_timesim_plots[\"1SS_no_sulfi\"], 'r-')\n",
    "ax.plot(mod_B.data_sim.getTime()/60,mod_B_benfig3_timesim_plots[\"0SS_sulfi\"], 'b--',lw=3)\n",
    "ax.plot(mod_B.data_sim.getTime()/60,mod_B_benfig3_timesim_plots[\"0SS_no_sulfi\"],'r--')\n",
    "\n",
    "ax = axarr.flat[1]\n",
    "ax.plot(mod_A_dec_nohyp.data_sim.getTime()/60,mod_A_dec_nohyp_benfig3_timesim_plots[\"2SS\"], 'r-',lw=5)\n",
    "ax.plot(mod_A_dec_nohyp.data_sim.getTime()/60,mod_A_dec_nohyp_benfig3_timesim_plots[\"1SS_sulfi\"], 'b-',lw=3)\n",
    "ax.plot(mod_A_dec_nohyp.data_sim.getTime()/60,mod_A_dec_nohyp_benfig3_timesim_plots[\"1SS_no_sulfi\"], 'r-')\n",
    "ax.plot(mod_A_dec_nohyp.data_sim.getTime()/60,mod_A_dec_nohyp_benfig3_timesim_plots[\"0SS_sulfi\"], 'b--',lw=3)\n",
    "ax.plot(mod_A_dec_nohyp.data_sim.getTime()/60,mod_A_dec_nohyp_benfig3_timesim_plots[\"0SS_no_sulfi\"],'r--')\n",
    "ax.set_xlabel('Time (min)', fontsize = mpl_xlabel_fontsize)\n",
    "\n",
    "f.tight_layout()"
   ]
  },
  {
   "cell_type": "raw",
   "metadata": {},
   "source": [
    "rows = 1\n",
    "cols = 1\n",
    "f, axarr = plt.subplots(rows,cols)\n",
    "f.set_size_inches(w=cols*mpl_width, h=rows*mpl_height)\n",
    "\n",
    "axarr.semilogx(H2O2_range,mod_A_dec_nohyp_benfig3_H2O2scan_plots[\"2SS\"], 'r-',lw=5)\n",
    "axarr.semilogx(H2O2_range,mod_A_dec_nohyp_benfig3_H2O2scan_plots[\"1SS_sulfi\"], 'b-',lw=3)\n",
    "axarr.semilogx(H2O2_range,mod_A_dec_nohyp_benfig3_H2O2scan_plots[\"1SS_no_sulfi\"], 'r-')\n",
    "axarr.semilogx(H2O2_range,mod_A_dec_nohyp_benfig3_H2O2scan_plots[\"0SS_sulfi\"], 'b--',lw=3)\n",
    "axarr.semilogx(H2O2_range,mod_A_dec_nohyp_benfig3_H2O2scan_plots[\"0SS_no_sulfi\"],'r--')\n",
    "\n",
    "axarr.set_ylabel('$f_{Dimers}$', fontsize = mpl_ylabel_fontsize)\n",
    "axarr.set_xlabel(f'H$_2$O$_2$ ({mu}M)', fontsize = mpl_xlabel_fontsize)\n",
    "\n",
    "f.tight_layout()\n",
    "f.savefig(os.path.join(fig_dir,\"Prx_RBC_modA_decamer_species_vs_H2O2_5dsb.pdf\"),dpi= mpl_dpi)"
   ]
  },
  {
   "cell_type": "raw",
   "metadata": {},
   "source": [
    "rows = 1\n",
    "cols = 1\n",
    "f, axarr = plt.subplots(rows,cols)\n",
    "f.set_size_inches(w=cols*mpl_width, h=rows*mpl_height)\n",
    "\n",
    "axarr.plot(mod_A_dec_nohyp.data_sim.getTime()/60,mod_A_dec_nohyp_benfig3_timesim_plots[\"2SS\"], 'r-',lw=5)\n",
    "axarr.plot(mod_A_dec_nohyp.data_sim.getTime()/60,mod_A_dec_nohyp_benfig3_timesim_plots[\"1SS_sulfi\"], 'b-',lw=3)\n",
    "axarr.plot(mod_A_dec_nohyp.data_sim.getTime()/60,mod_A_dec_nohyp_benfig3_timesim_plots[\"1SS_no_sulfi\"], 'r-')\n",
    "axarr.plot(mod_A_dec_nohyp.data_sim.getTime()/60,mod_A_dec_nohyp_benfig3_timesim_plots[\"0SS_sulfi\"], 'b--',lw=3)\n",
    "axarr.plot(mod_A_dec_nohyp.data_sim.getTime()/60,mod_A_dec_nohyp_benfig3_timesim_plots[\"0SS_no_sulfi\"],'r--')\n",
    "axarr.set_ylabel('$f_{Dimers}$', fontsize = mpl_ylabel_fontsize)\n",
    "axarr.set_xlabel('Time (min)', fontsize = mpl_xlabel_fontsize)\n",
    "\n",
    "f.tight_layout()\n",
    "f.savefig(os.path.join(fig_dir,\"Prx_RBC_modA_decamer_species_vs_time_5dsb.pdf\"),dpi= mpl_dpi)"
   ]
  },
  {
   "cell_type": "code",
   "execution_count": null,
   "metadata": {},
   "outputs": [],
   "source": []
  }
 ],
 "metadata": {
  "kernelspec": {
   "display_name": "Python 3 (ipykernel)",
   "language": "python",
   "name": "python3"
  },
  "language_info": {
   "codemirror_mode": {
    "name": "ipython",
    "version": 3
   },
   "file_extension": ".py",
   "mimetype": "text/x-python",
   "name": "python",
   "nbconvert_exporter": "python",
   "pygments_lexer": "ipython3",
   "version": "3.9.16"
  },
  "scenes_data": {
   "active_scene": "Default Scene",
   "init_scene": "",
   "scenes": [
    "Default Scene"
   ]
  },
  "toc": {
   "base_numbering": 1,
   "nav_menu": {},
   "number_sections": true,
   "sideBar": true,
   "skip_h1_title": false,
   "title_cell": "Table of Contents",
   "title_sidebar": "Contents",
   "toc_cell": false,
   "toc_position": {
    "height": "calc(100% - 180px)",
    "left": "10px",
    "top": "150px",
    "width": "250.2px"
   },
   "toc_section_display": true,
   "toc_window_display": true
  }
 },
 "nbformat": 4,
 "nbformat_minor": 4
}
