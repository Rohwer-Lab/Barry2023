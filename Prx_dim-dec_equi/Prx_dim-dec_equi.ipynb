{
 "cells": [
  {
   "cell_type": "markdown",
   "id": "638f6d63",
   "metadata": {},
   "source": [
    "# Peroxiredoxin decamer association and dissociation  model"
   ]
  },
  {
   "cell_type": "markdown",
   "id": "cc4605f8",
   "metadata": {},
   "source": [
    "This notebook performs analyses described in the"
   ]
  },
  {
   "cell_type": "markdown",
   "id": "c12b0fb9",
   "metadata": {},
   "source": [
    "**Manuscript:**\n",
    "\n",
    "Modelling the decamerisation cycle of PRDX1 and the inhibition-like effect on its peroxidase activity"
   ]
  },
  {
   "cell_type": "markdown",
   "id": "8d0eec43",
   "metadata": {},
   "source": [
    "**Authors:**\n",
    "\n",
    "C. Barry, C. Pillay, J. Rohwer"
   ]
  },
  {
   "cell_type": "markdown",
   "id": "ccccad5a",
   "metadata": {},
   "source": [
    "**Purpose:**\n",
    "\n",
    "Analysis: Simulations with the Prx dimer-decamer model\n",
    "\n",
    "Plot:  Figure 2"
   ]
  },
  {
   "cell_type": "markdown",
   "id": "bf1ad863",
   "metadata": {},
   "source": [
    "**Requirements:**\n",
    "\n",
    "Python libraries (see **Imports** below)\n",
    "\n",
    "Model: Prx dimer-decamer equilibrium model (`Prx_dim-dec.psc`)"
   ]
  },
  {
   "cell_type": "markdown",
   "id": "d5889d89",
   "metadata": {},
   "source": [
    "##### Imports"
   ]
  },
  {
   "cell_type": "code",
   "execution_count": null,
   "id": "9d666328",
   "metadata": {
    "ExecuteTime": {
     "end_time": "2023-06-23T06:31:43.523393Z",
     "start_time": "2023-06-23T06:31:42.554356Z"
    }
   },
   "outputs": [],
   "source": [
    "import os\n",
    "\n",
    "import numpy as np\n",
    "from matplotlib import pyplot as plt\n",
    "import matplotlib\n",
    "\n",
    "import pysces\n"
   ]
  },
  {
   "cell_type": "markdown",
   "id": "3642952e",
   "metadata": {},
   "source": [
    "###### Get directory paths"
   ]
  },
  {
   "cell_type": "code",
   "execution_count": null,
   "id": "7d47b1a9",
   "metadata": {
    "ExecuteTime": {
     "end_time": "2023-06-23T06:31:43.530401Z",
     "start_time": "2023-06-23T06:31:43.526443Z"
    }
   },
   "outputs": [],
   "source": [
    "prev_dir = os.path.split(os.getcwd())[0]\n",
    "\n",
    "mod_dir = os.path.join(prev_dir,\"models\")\n",
    "if not os.path.isdir(mod_dir): os.mkdir(mod_dir) # ensure dir exists\n",
    "    \n",
    "fig_dir = os.path.join(os.getcwd(),\"Figures\")\n",
    "if not os.path.isdir(fig_dir): os.mkdir(fig_dir) # ensure dir exists\n"
   ]
  },
  {
   "cell_type": "markdown",
   "id": "cc31eec9",
   "metadata": {},
   "source": [
    "###### Matplotlib stuff"
   ]
  },
  {
   "cell_type": "code",
   "execution_count": null,
   "id": "2474e99b",
   "metadata": {
    "ExecuteTime": {
     "end_time": "2023-06-23T06:31:43.545613Z",
     "start_time": "2023-06-23T06:31:43.531691Z"
    }
   },
   "outputs": [],
   "source": [
    "%matplotlib inline\n",
    "\n",
    "multiplier = 1\n",
    "mpl_width = 4.5*multiplier\n",
    "mpl_height = 3.5*multiplier\n",
    "mpl_dpi = 600\n",
    "mpl_xlabel_fontsize = \"large\"\n",
    "mpl_ylabel_fontsize = \"large\"\n",
    "mu = \"\\u03bc\""
   ]
  },
  {
   "cell_type": "markdown",
   "id": "7a771e3e",
   "metadata": {},
   "source": [
    "###### Common variables"
   ]
  },
  {
   "cell_type": "code",
   "execution_count": null,
   "id": "6322eaf8",
   "metadata": {
    "ExecuteTime": {
     "end_time": "2023-06-23T06:31:43.549315Z",
     "start_time": "2023-06-23T06:31:43.546688Z"
    }
   },
   "outputs": [],
   "source": [
    "CTC = 0.8 # Critical transition threshold\n",
    "scan_range = np.linspace(0.1,10,100)"
   ]
  },
  {
   "cell_type": "code",
   "execution_count": null,
   "id": "305cc595",
   "metadata": {
    "ExecuteTime": {
     "end_time": "2023-06-23T06:31:43.556039Z",
     "start_time": "2023-06-23T06:31:43.551685Z"
    }
   },
   "outputs": [],
   "source": [
    "factors = {\"M2\":1,\n",
    "            \"M4\":2,\n",
    "            \"M6\":3,\n",
    "            \"M8\":4,\n",
    "            \"M10\":5,\n",
    "          \"dimers\":1,\n",
    "          \"decamers\":5}"
   ]
  },
  {
   "cell_type": "markdown",
   "id": "3832eb7e",
   "metadata": {},
   "source": [
    "## Prx dimer-decamer (figure 2)"
   ]
  },
  {
   "cell_type": "code",
   "execution_count": null,
   "id": "c7a92cea",
   "metadata": {
    "ExecuteTime": {
     "end_time": "2023-06-23T06:31:43.593223Z",
     "start_time": "2023-06-23T06:31:43.557694Z"
    }
   },
   "outputs": [],
   "source": [
    "# Load model\n",
    "mod_Prx_dim_dec = pysces.model(\"Prx_dim-dec\", dir=mod_dir)\n",
    "mod_Prx_dim_dec.showModel()\n"
   ]
  },
  {
   "cell_type": "code",
   "execution_count": null,
   "id": "749e9f31",
   "metadata": {
    "ExecuteTime": {
     "end_time": "2023-06-23T06:31:43.598998Z",
     "start_time": "2023-06-23T06:31:43.595820Z"
    }
   },
   "outputs": [],
   "source": [
    "# Adjust koff and kon\n",
    "Kd = 1.58\n",
    "kon = 1\n",
    "\n",
    "mod_Prx_dim_dec.kon = kon\n",
    "mod_Prx_dim_dec.koff = kon*Kd"
   ]
  },
  {
   "cell_type": "markdown",
   "id": "de6b9971",
   "metadata": {},
   "source": [
    "The model struggles when Kd and exponent are too high. They both need to be adjusted in order to maintain published steady-state behaviour. This combination reproduces published effects while still being computationally viable."
   ]
  },
  {
   "cell_type": "code",
   "execution_count": null,
   "id": "e264fe0b",
   "metadata": {
    "ExecuteTime": {
     "end_time": "2023-06-23T06:31:43.661788Z",
     "start_time": "2023-06-23T06:31:43.601125Z"
    }
   },
   "outputs": [],
   "source": [
    "# Do sim\n",
    "def mod_scan(model, scan_range):\n",
    "    \n",
    "    model.scan_in = \"dimers_init\"\n",
    "    model.scan_out = ['dimers', 'decamers']\n",
    "    model.Scan1(scan_range)\n",
    "    \n",
    "    return model.scan\n",
    "\n",
    "scan = mod_scan(mod_Prx_dim_dec, scan_range)"
   ]
  },
  {
   "cell_type": "code",
   "execution_count": null,
   "id": "8a418d3f",
   "metadata": {
    "ExecuteTime": {
     "end_time": "2023-06-23T06:31:44.187775Z",
     "start_time": "2023-06-23T06:31:43.662935Z"
    }
   },
   "outputs": [],
   "source": [
    "# Plot result\n",
    "f,axarr = plt.subplots(1,1)\n",
    "f.set_size_inches(w=mpl_width, h=mpl_height)\n",
    "\n",
    "ax =  axarr\n",
    "\n",
    "ax.plot(scan_range,scan.dimers_ss,label = \"dimers\")\n",
    "ax.plot(scan_range,scan.decamers_ss,label = \"decamers\")\n",
    "ax.plot([CTC,CTC],[0,max(max(scan.dimers_ss),max(scan.decamers_ss))],\"k--\", label = \"CTC\")\n",
    "\n",
    "ax.set_xlabel(f'Total Prx ({mu}M of dimers)',fontsize = mpl_xlabel_fontsize)\n",
    "ax.set_ylabel(f'Prx oligomer ({mu}M)',fontsize = mpl_ylabel_fontsize)\n",
    "\n",
    "f.tight_layout()\n",
    "f.savefig(os.path.join(fig_dir, \"SS_dim_dec_species_vs_Prx_init.pdf\"),dpi= mpl_dpi)"
   ]
  },
  {
   "cell_type": "code",
   "execution_count": null,
   "id": "20f0a02b",
   "metadata": {
    "ExecuteTime": {
     "end_time": "2023-06-23T06:31:44.334787Z",
     "start_time": "2023-06-23T06:31:44.189708Z"
    }
   },
   "outputs": [],
   "source": [
    "# Plot result\n",
    "f,axarr = plt.subplots(1,1)\n",
    "f.set_size_inches(w=mpl_width, h=mpl_height)\n",
    "\n",
    "for species in scan.dtype.names[1:]:\n",
    "    x_data = scan[\"dimers_init\"]*factors[\"dimers\"]\n",
    "    x_mol = scan[species]*factors[species.split(\"_\")[0]]/scan[\"dimers_init\"]\n",
    "    axarr.plot(x_data, x_mol, label = species)\n",
    "\n",
    "axarr.plot([CTC,CTC],[0,1],\"k--\", label = \"CTC\")\n",
    "\n",
    "axarr.set_xlabel(f'Initial [Peroxiredoxin] ({mu}M)',fontsize = mpl_xlabel_fontsize)\n",
    "axarr.set_ylabel(\"f mol\",fontsize = mpl_ylabel_fontsize)\n",
    "\n",
    "f.tight_layout()\n"
   ]
  },
  {
   "cell_type": "code",
   "execution_count": null,
   "id": "b7add27d",
   "metadata": {},
   "outputs": [],
   "source": []
  },
  {
   "cell_type": "code",
   "execution_count": null,
   "id": "caa52ae1",
   "metadata": {},
   "outputs": [],
   "source": []
  }
 ],
 "metadata": {
  "kernelspec": {
   "display_name": "Python 3 (ipykernel)",
   "language": "python",
   "name": "python3"
  },
  "language_info": {
   "codemirror_mode": {
    "name": "ipython",
    "version": 3
   },
   "file_extension": ".py",
   "mimetype": "text/x-python",
   "name": "python",
   "nbconvert_exporter": "python",
   "pygments_lexer": "ipython3",
   "version": "3.9.16"
  },
  "toc": {
   "base_numbering": "1",
   "nav_menu": {},
   "number_sections": true,
   "sideBar": true,
   "skip_h1_title": false,
   "title_cell": "Table of Contents",
   "title_sidebar": "Contents",
   "toc_cell": false,
   "toc_position": {
    "height": "calc(100% - 180px)",
    "left": "10px",
    "top": "150px",
    "width": "340.633px"
   },
   "toc_section_display": true,
   "toc_window_display": true
  }
 },
 "nbformat": 4,
 "nbformat_minor": 5
}
