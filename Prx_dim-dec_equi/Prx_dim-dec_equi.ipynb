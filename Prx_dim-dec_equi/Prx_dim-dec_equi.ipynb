{
 "cells": [
  {
   "cell_type": "markdown",
   "id": "638f6d63",
   "metadata": {},
   "source": [
    "# Peroxiredoxin decamer association and dissociation  model"
   ]
  },
  {
   "cell_type": "markdown",
   "id": "cc4605f8",
   "metadata": {},
   "source": [
    "This notebook performs analyses described in the"
   ]
  },
  {
   "cell_type": "markdown",
   "id": "c12b0fb9",
   "metadata": {},
   "source": [
    "**Manuscript:**\n",
    "\n",
    "Modelling the decamerisation cycle of PRDX1 and the inhibition-like effect on its peroxidase activity"
   ]
  },
  {
   "cell_type": "markdown",
   "id": "8d0eec43",
   "metadata": {},
   "source": [
    "**Authors:**\n",
    "\n",
    "C. Barry, C. Pillay, J. Rohwer"
   ]
  },
  {
   "cell_type": "markdown",
   "id": "ccccad5a",
   "metadata": {},
   "source": [
    "**Purpose:**\n",
    "\n",
    "Analysis: Simulations with the Prx dimer-decamer model\n",
    "\n",
    "Plot:  Figure 2"
   ]
  },
  {
   "cell_type": "markdown",
   "id": "bf1ad863",
   "metadata": {},
   "source": [
    "**Requirements:**\n",
    "\n",
    "Python libraries (see **Imports** below)\n",
    "\n",
    "Model: Prx dimer-decamer equilibrium model (`Prx_dim-dec.psc`)"
   ]
  },
  {
   "cell_type": "markdown",
   "id": "d5889d89",
   "metadata": {},
   "source": [
    "##### Imports"
   ]
  },
  {
   "cell_type": "code",
   "execution_count": 1,
   "id": "9d666328",
   "metadata": {
    "ExecuteTime": {
     "end_time": "2023-06-23T06:31:43.523393Z",
     "start_time": "2023-06-23T06:31:42.554356Z"
    }
   },
   "outputs": [
    {
     "name": "stdout",
     "output_type": "stream",
     "text": [
      "Matplotlib backend set to: \"nbAgg\"\n",
      "Matplotlib interface loaded (pysces.plt.m)\n",
      "Pitcon routines available\n",
      "NLEQ2 routines available\n",
      "SBML support available\n",
      "You are using NumPy (1.23.5) with SciPy (1.9.3)\n",
      "Assimulo CVode available\n",
      "RateChar is available\n",
      "Parallel scanner is available\n",
      "\n",
      "PySCeS environment\n",
      "******************\n",
      "pysces.model_dir = /home/chris/Pysces/psc\n",
      "pysces.output_dir = /home/chris/Pysces\n",
      "\n",
      "\n",
      "***********************************************************************\n",
      "* Welcome to PySCeS (1.1.0) - Python Simulator for Cellular Systems   *\n",
      "*                http://pysces.sourceforge.net                        *\n",
      "* Copyright(C) B.G. Olivier, J.M. Rohwer, J.-H.S. Hofmeyr, 2004-2023  *\n",
      "* Triple-J Group for Molecular Cell Physiology                        *\n",
      "* Stellenbosch University, ZA and VU University Amsterdam, NL         *\n",
      "* PySCeS is distributed under the PySCeS (BSD style) licence, see     *\n",
      "* LICENCE.txt (supplied with this release) for details                *\n",
      "* Please cite PySCeS with: doi:10.1093/bioinformatics/bti046          *\n",
      "***********************************************************************\n"
     ]
    }
   ],
   "source": [
    "import os\n",
    "\n",
    "import numpy as np\n",
    "from matplotlib import pyplot as plt\n",
    "import matplotlib\n",
    "\n",
    "import pysces\n"
   ]
  },
  {
   "cell_type": "markdown",
   "id": "3642952e",
   "metadata": {},
   "source": [
    "###### Get directory paths"
   ]
  },
  {
   "cell_type": "code",
   "execution_count": 2,
   "id": "7d47b1a9",
   "metadata": {
    "ExecuteTime": {
     "end_time": "2023-06-23T06:31:43.530401Z",
     "start_time": "2023-06-23T06:31:43.526443Z"
    }
   },
   "outputs": [],
   "source": [
    "prev_dir = os.path.split(os.getcwd())[0]\n",
    "\n",
    "mod_dir = os.path.join(prev_dir,\"models\")\n",
    "if not os.path.isdir(mod_dir): os.mkdir(mod_dir) # ensure dir exists\n",
    "    \n",
    "fig_dir = os.path.join(os.getcwd(),\"Figures\")\n",
    "if not os.path.isdir(fig_dir): os.mkdir(fig_dir) # ensure dir exists\n"
   ]
  },
  {
   "cell_type": "markdown",
   "id": "cc31eec9",
   "metadata": {},
   "source": [
    "###### Matplotlib stuff"
   ]
  },
  {
   "cell_type": "code",
   "execution_count": 3,
   "id": "2474e99b",
   "metadata": {
    "ExecuteTime": {
     "end_time": "2023-06-23T06:31:43.545613Z",
     "start_time": "2023-06-23T06:31:43.531691Z"
    }
   },
   "outputs": [],
   "source": [
    "%matplotlib inline\n",
    "\n",
    "multiplier = 1\n",
    "mpl_width = 4.5*multiplier\n",
    "mpl_height = 3.5*multiplier\n",
    "mpl_dpi = 600\n",
    "mpl_xlabel_fontsize = \"large\"\n",
    "mpl_ylabel_fontsize = \"large\"\n",
    "mu = \"\\u03bc\""
   ]
  },
  {
   "cell_type": "markdown",
   "id": "7a771e3e",
   "metadata": {},
   "source": [
    "###### Common variables"
   ]
  },
  {
   "cell_type": "code",
   "execution_count": 4,
   "id": "6322eaf8",
   "metadata": {
    "ExecuteTime": {
     "end_time": "2023-06-23T06:31:43.549315Z",
     "start_time": "2023-06-23T06:31:43.546688Z"
    }
   },
   "outputs": [],
   "source": [
    "CTC = 0.8 # Critical transition threshold\n",
    "scan_range = np.linspace(0.1,10,100)"
   ]
  },
  {
   "cell_type": "code",
   "execution_count": 5,
   "id": "305cc595",
   "metadata": {
    "ExecuteTime": {
     "end_time": "2023-06-23T06:31:43.556039Z",
     "start_time": "2023-06-23T06:31:43.551685Z"
    }
   },
   "outputs": [],
   "source": [
    "factors = {\"M2\":1,\n",
    "            \"M4\":2,\n",
    "            \"M6\":3,\n",
    "            \"M8\":4,\n",
    "            \"M10\":5,\n",
    "          \"dimers\":1,\n",
    "          \"decamers\":5}"
   ]
  },
  {
   "cell_type": "markdown",
   "id": "3832eb7e",
   "metadata": {},
   "source": [
    "## Prx dimer-decamer (figure 2)"
   ]
  },
  {
   "cell_type": "code",
   "execution_count": 6,
   "id": "c7a92cea",
   "metadata": {
    "ExecuteTime": {
     "end_time": "2023-06-23T06:31:43.593223Z",
     "start_time": "2023-06-23T06:31:43.557694Z"
    }
   },
   "outputs": [
    {
     "name": "stdout",
     "output_type": "stream",
     "text": [
      "Assuming extension is .psc\n",
      "Using model directory: /home/chris/Dropbox/Studies/6. PhD/Papers [Chris B]/Decamerisation_cycle_of_PRDX1/Data/models\n",
      "/home/chris/Dropbox/Studies/6. PhD/Papers [Chris B]/Decamerisation_cycle_of_PRDX1/Data/models/Prx_dim-dec.psc loading ..... \n",
      "Parsing file: /home/chris/Dropbox/Studies/6. PhD/Papers [Chris B]/Decamerisation_cycle_of_PRDX1/Data/models/Prx_dim-dec.psc\n",
      "Info: No reagents have been fixed\n",
      "Info: \"Prx_total_dimers\" has been initialised but does not occur in a rate equation\n",
      "Info: \"Kd_app\" has been initialised but does not occur in a rate equation\n",
      " \n",
      "Calculating L matrix . . . . . . .  done.\n",
      "Calculating K matrix . . . . . . . no flux conservation\n",
      " done.\n",
      " \n",
      "\n",
      "Fixed species\n",
      "<none>\n",
      " \n",
      "\n",
      "Reaction stoichiometry and rate equations\n",
      "disso:\n",
      "\tdecamers = {5.00000}dimers\n",
      "\tdecamers*koff-pow(dimers,exponent)*kon\n",
      "\n",
      "Species initial values\n",
      "decamers_init = 0.0000e+00\n",
      "dimers_init = 1.0000e+01\n",
      "\n",
      "Parameters\n",
      "Prx_total_dimers = 1.0000e+01\n",
      "koff = 1.0000e+00\n",
      "kon = 1.0000e+00\n",
      "Kd_app = 1.1000e+00\n",
      "exponent = 5.0000e+00\n"
     ]
    }
   ],
   "source": [
    "# Load model\n",
    "mod_Prx_dim_dec = pysces.model(\"Prx_dim-dec\", dir=mod_dir)\n",
    "mod_Prx_dim_dec.showModel()\n"
   ]
  },
  {
   "cell_type": "code",
   "execution_count": 7,
   "id": "749e9f31",
   "metadata": {
    "ExecuteTime": {
     "end_time": "2023-06-23T06:31:43.598998Z",
     "start_time": "2023-06-23T06:31:43.595820Z"
    }
   },
   "outputs": [],
   "source": [
    "# Adjust koff and kon\n",
    "Kd = 1.58\n",
    "kon = 1\n",
    "\n",
    "mod_Prx_dim_dec.kon = kon\n",
    "mod_Prx_dim_dec.koff = kon*Kd"
   ]
  },
  {
   "cell_type": "markdown",
   "id": "de6b9971",
   "metadata": {},
   "source": [
    "The model struggles when Kd and exponent are too high. They both need to be adjusted in order to maintain published steady-state behaviour. This combination reproduces published effects while still being computationally viable."
   ]
  },
  {
   "cell_type": "code",
   "execution_count": 8,
   "id": "e264fe0b",
   "metadata": {
    "ExecuteTime": {
     "end_time": "2023-06-23T06:31:43.661788Z",
     "start_time": "2023-06-23T06:31:43.601125Z"
    }
   },
   "outputs": [
    {
     "name": "stdout",
     "output_type": "stream",
     "text": [
      "(hybrd) The solution converged.\n",
      "INFO: using steady-state concentration for species (dimers --> dimers_ss)\n",
      "INFO: using steady-state concentration for species (decamers --> decamers_ss)\n",
      "\n",
      "Scanning ...\n",
      "100 (hybrd) The solution converged.\n",
      "(hybrd) The solution converged.\n",
      "(hybrd) The solution converged.\n",
      "(hybrd) The solution converged.\n",
      "(hybrd) The solution converged.\n",
      "(hybrd) The solution converged.\n",
      "(hybrd) The solution converged.\n",
      "(hybrd) The solution converged.\n",
      "(hybrd) The solution converged.\n",
      "(hybrd) The solution converged.\n",
      "(hybrd) The solution converged.\n",
      "(hybrd) The solution converged.\n",
      "(hybrd) The solution converged.\n",
      "(hybrd) The solution converged.\n",
      "(hybrd) The solution converged.\n",
      "(hybrd) The solution converged.\n",
      "(hybrd) The solution converged.\n",
      "(hybrd) The solution converged.\n",
      "(hybrd) The solution converged.\n",
      "(hybrd) The solution converged.\n",
      "80 (hybrd) The solution converged.\n",
      "(hybrd) The solution converged.\n",
      "(hybrd) The solution converged.\n",
      "(hybrd) The solution converged.\n",
      "(hybrd) The solution converged.\n",
      "(hybrd) The solution converged.\n",
      "(hybrd) The solution converged.\n",
      "(hybrd) The solution converged.\n",
      "(hybrd) The solution converged.\n",
      "(hybrd) The solution converged.\n",
      "(hybrd) The solution converged.\n",
      "(hybrd) The solution converged.\n",
      "(hybrd) The solution converged.\n",
      "(hybrd) The solution converged.\n",
      "(hybrd) The solution converged.\n",
      "(hybrd) The solution converged.\n",
      "(hybrd) The solution converged.\n",
      "(hybrd) The solution converged.\n",
      "(hybrd) The solution converged.\n",
      "(hybrd) The solution converged.\n",
      "\n",
      "WARNING: extremely small flux detected! proceed with caution:\n",
      "[2.22044605e-16]\n",
      "60 (hybrd) The solution converged.\n",
      "(hybrd) The solution converged.\n",
      "(hybrd) The solution converged.\n",
      "(hybrd) The solution converged.\n",
      "\n",
      "WARNING: extremely small flux detected! proceed with caution:\n",
      "[2.22044605e-16]\n",
      "(hybrd) The solution converged.\n",
      "(hybrd) The solution converged.\n",
      "(hybrd) The solution converged.\n",
      "(hybrd) The solution converged.\n",
      "(hybrd) The solution converged.\n",
      "(hybrd) The solution converged.\n",
      "(hybrd) The solution converged.\n",
      "(hybrd) The solution converged.\n",
      "(hybrd) The solution converged.\n",
      "(hybrd) The solution converged.\n",
      "(hybrd) The solution converged.\n",
      "(hybrd) The solution converged.\n",
      "(hybrd) The solution converged.\n",
      "(hybrd) The solution converged.\n",
      "\n",
      "WARNING: extremely small flux detected! proceed with caution:\n",
      "[2.22044605e-16]\n",
      "(hybrd) The solution converged.\n",
      "\n",
      "WARNING: extremely small flux detected! proceed with caution:\n",
      "[2.22044605e-16]\n",
      "(hybrd) The solution converged.\n",
      "40 (hybrd) The solution converged.\n",
      "(hybrd) The solution converged.\n",
      "(hybrd) The solution converged.\n",
      "(hybrd) The solution converged.\n",
      "(hybrd) The solution converged.\n",
      "\n",
      "WARNING: extremely small flux detected! proceed with caution:\n",
      "[2.22044605e-16]\n",
      "(hybrd) The solution converged.\n",
      "(hybrd) The solution converged.\n",
      "(hybrd) The solution converged.\n",
      "\n",
      "WARNING: extremely small flux detected! proceed with caution:\n",
      "[2.22044605e-16]\n",
      "(hybrd) The solution converged.\n",
      "(hybrd) The solution converged.\n",
      "(hybrd) The solution converged.\n",
      "(hybrd) The solution converged.\n",
      "(hybrd) The solution converged.\n",
      "(hybrd) The solution converged.\n",
      "(hybrd) The solution converged.\n",
      "(hybrd) The solution converged.\n",
      "(hybrd) The solution converged.\n",
      "(hybrd) The solution converged.\n",
      "(hybrd) The solution converged.\n",
      "(hybrd) The solution converged.\n",
      "20 (hybrd) The solution converged.\n",
      "(hybrd) The solution converged.\n",
      "(hybrd) The solution converged.\n",
      "(hybrd) The solution converged.\n",
      "(hybrd) The solution converged.\n",
      "(hybrd) The solution converged.\n",
      "(hybrd) The solution converged.\n",
      "(hybrd) The solution converged.\n",
      "(hybrd) The solution converged.\n",
      "(hybrd) The solution converged.\n",
      "(hybrd) The solution converged.\n",
      "(hybrd) The solution converged.\n",
      "(hybrd) The solution converged.\n",
      "(hybrd) The solution converged.\n",
      "(hybrd) The solution converged.\n",
      "(hybrd) The solution converged.\n",
      "(hybrd) The solution converged.\n",
      "(hybrd) The solution converged.\n",
      "(hybrd) The solution converged.\n",
      "(hybrd) The solution converged.\n",
      "0 \n",
      "done.\n",
      "\n"
     ]
    }
   ],
   "source": [
    "# Do sim\n",
    "def mod_scan(model, scan_range):\n",
    "    \n",
    "    model.scan_in = \"dimers_init\"\n",
    "    model.scan_out = ['dimers', 'decamers']\n",
    "    model.Scan1(scan_range)\n",
    "    \n",
    "    return model.scan\n",
    "\n",
    "scan = mod_scan(mod_Prx_dim_dec, scan_range)"
   ]
  },
  {
   "cell_type": "code",
   "execution_count": 9,
   "id": "8a418d3f",
   "metadata": {
    "ExecuteTime": {
     "end_time": "2023-06-23T06:31:44.187775Z",
     "start_time": "2023-06-23T06:31:43.662935Z"
    }
   },
   "outputs": [
    {
     "name": "stderr",
     "output_type": "stream",
     "text": [
      "/tmp/ipykernel_85275/1690028431.py:15: UserWarning: Matplotlib is currently using module://matplotlib_inline.backend_inline, which is a non-GUI backend, so cannot show the figure.\n",
      "  f.show()\n"
     ]
    },
    {
     "data": {
      "image/png": "[encoded data removed]",
      "text/plain": [
       "<Figure size 450x350 with 1 Axes>"
      ]
     },
     "metadata": {},
     "output_type": "display_data"
    }
   ],
   "source": [
    "# Plot result\n",
    "f,axarr = plt.subplots(1,1)\n",
    "f.set_size_inches(w=mpl_width, h=mpl_height)\n",
    "\n",
    "ax =  axarr\n",
    "\n",
    "ax.plot(scan_range,scan.dimers_ss,label = \"dimers\")\n",
    "ax.plot(scan_range,scan.decamers_ss,label = \"decamers\")\n",
    "ax.plot([CTC,CTC],[0,max(max(scan.dimers_ss),max(scan.decamers_ss))],\"k--\", label = \"CTC\")\n",
    "\n",
    "ax.set_xlabel(f'Total Prx ({mu}M of dimers)',fontsize = mpl_xlabel_fontsize)\n",
    "ax.set_ylabel(f'Prx oligomer ({mu}M)',fontsize = mpl_ylabel_fontsize)\n",
    "\n",
    "f.tight_layout()\n",
    "f.show()\n",
    "f.savefig(os.path.join(fig_dir, \"SS_dim_dec_species_vs_Prx_init.pdf\"),dpi= mpl_dpi)"
   ]
  },
  {
   "cell_type": "code",
   "execution_count": 10,
   "id": "20f0a02b",
   "metadata": {
    "ExecuteTime": {
     "end_time": "2023-06-23T06:31:44.334787Z",
     "start_time": "2023-06-23T06:31:44.189708Z"
    }
   },
   "outputs": [
    {
     "name": "stderr",
     "output_type": "stream",
     "text": [
      "/tmp/ipykernel_85275/3691071783.py:16: UserWarning: Matplotlib is currently using module://matplotlib_inline.backend_inline, which is a non-GUI backend, so cannot show the figure.\n",
      "  f.show()\n"
     ]
    },
    {
     "data": {
      "image/png": "[encoded data removed]",
      "text/plain": [
       "<Figure size 450x350 with 1 Axes>"
      ]
     },
     "metadata": {},
     "output_type": "display_data"
    }
   ],
   "source": [
    "# Plot result\n",
    "f,axarr = plt.subplots(1,1)\n",
    "f.set_size_inches(w=mpl_width, h=mpl_height)\n",
    "\n",
    "for species in scan.dtype.names[1:]:\n",
    "    x_data = scan[\"dimers_init\"]*factors[\"dimers\"]\n",
    "    x_mol = scan[species]*factors[species.split(\"_\")[0]]/scan[\"dimers_init\"]\n",
    "    axarr.plot(x_data, x_mol, label = species)\n",
    "\n",
    "axarr.plot([CTC,CTC],[0,1],\"k--\", label = \"CTC\")\n",
    "\n",
    "axarr.set_xlabel(f'Initial [Peroxiredoxin] ({mu}M)',fontsize = mpl_xlabel_fontsize)\n",
    "axarr.set_ylabel(\"f mol\",fontsize = mpl_ylabel_fontsize)\n",
    "\n",
    "f.tight_layout()\n",
    "f.show()\n"
   ]
  },
  {
   "cell_type": "code",
   "execution_count": null,
   "id": "b7add27d",
   "metadata": {},
   "outputs": [],
   "source": []
  }
 ],
 "metadata": {
  "kernelspec": {
   "display_name": "Python 3 (ipykernel)",
   "language": "python",
   "name": "python3"
  },
  "language_info": {
   "codemirror_mode": {
    "name": "ipython",
    "version": 3
   },
   "file_extension": ".py",
   "mimetype": "text/x-python",
   "name": "python",
   "nbconvert_exporter": "python",
   "pygments_lexer": "ipython3",
   "version": "3.9.16"
  },
  "toc": {
   "base_numbering": "1",
   "nav_menu": {},
   "number_sections": true,
   "sideBar": true,
   "skip_h1_title": false,
   "title_cell": "Table of Contents",
   "title_sidebar": "Contents",
   "toc_cell": false,
   "toc_position": {},
   "toc_section_display": true,
   "toc_window_display": true
  }
 },
 "nbformat": 4,
 "nbformat_minor": 5
}
